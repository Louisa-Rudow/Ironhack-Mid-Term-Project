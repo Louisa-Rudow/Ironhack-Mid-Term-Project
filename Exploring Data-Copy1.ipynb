{
 "cells": [
  {
   "cell_type": "markdown",
   "id": "72e3a826",
   "metadata": {},
   "source": [
    "# Importing modules"
   ]
  },
  {
   "cell_type": "code",
   "execution_count": 370,
   "id": "09a8e855",
   "metadata": {},
   "outputs": [],
   "source": [
    "import numpy as np\n",
    "import pandas as pd\n",
    "import matplotlib.pyplot as plt\n",
    "%matplotlib inline\n",
    "import seaborn as sns\n",
    "import statsmodels.api as sm\n",
    "from scipy.stats import boxcox\n",
    "\n",
    "pd.options.display.max_rows = 50\n",
    "\n",
    "from sklearn.preprocessing import StandardScaler\n",
    "from sklearn.preprocessing import QuantileTransformer\n",
    "from sklearn.preprocessing import minmax_scale\n",
    "from sklearn.preprocessing import OneHotEncoder  ##. better to use dummy from pandas \n",
    "from sklearn.preprocessing import PowerTransformer\n",
    "from sklearn.linear_model import LinearRegression\n",
    "from sklearn.model_selection import train_test_split\n",
    "from sklearn.model_selection import train_test_split\n",
    "from sklearn.metrics import r2_score\n",
    "from sklearn.metrics import mean_squared_error as mse\n",
    "from sklearn.metrics import mean_absolute_error as mae\n",
    "pd.options.display.max_rows = 50\n",
    "## Install xlrd package to load Excel files\n",
    "# conda install openpyxl\n",
    "## conda install xlrd"
   ]
  },
  {
   "cell_type": "markdown",
   "id": "3093f30c",
   "metadata": {},
   "source": [
    "## Data Cleaning"
   ]
  },
  {
   "cell_type": "markdown",
   "id": "17bcd4e1",
   "metadata": {},
   "source": [
    "### loading & exploring Data"
   ]
  },
  {
   "cell_type": "code",
   "execution_count": 371,
   "id": "2ab25fdc",
   "metadata": {},
   "outputs": [],
   "source": [
    "re_df = pd.read_excel('Data_MidTerm_Project_Real_State_Regression.xls')"
   ]
  },
  {
   "cell_type": "code",
   "execution_count": 372,
   "id": "2c047629",
   "metadata": {},
   "outputs": [
    {
     "data": {
      "text/plain": [
       "Index(['id', 'date', 'bedrooms', 'bathrooms', 'sqft_living', 'sqft_lot',\n",
       "       'floors', 'waterfront', 'view', 'condition', 'grade', 'sqft_above',\n",
       "       'sqft_basement', 'yr_built', 'yr_renovated', 'zipcode', 'lat', 'long',\n",
       "       'sqft_living15', 'sqft_lot15', 'price'],\n",
       "      dtype='object')"
      ]
     },
     "execution_count": 372,
     "metadata": {},
     "output_type": "execute_result"
    }
   ],
   "source": [
    "re_df.columns"
   ]
  },
  {
   "cell_type": "code",
   "execution_count": 373,
   "id": "b64b4cfb",
   "metadata": {},
   "outputs": [
    {
     "name": "stdout",
     "output_type": "stream",
     "text": [
      "<class 'pandas.core.frame.DataFrame'>\n",
      "RangeIndex: 21597 entries, 0 to 21596\n",
      "Data columns (total 21 columns):\n",
      " #   Column         Non-Null Count  Dtype         \n",
      "---  ------         --------------  -----         \n",
      " 0   id             21597 non-null  int64         \n",
      " 1   date           21597 non-null  datetime64[ns]\n",
      " 2   bedrooms       21597 non-null  int64         \n",
      " 3   bathrooms      21597 non-null  float64       \n",
      " 4   sqft_living    21597 non-null  int64         \n",
      " 5   sqft_lot       21597 non-null  int64         \n",
      " 6   floors         21597 non-null  float64       \n",
      " 7   waterfront     21597 non-null  int64         \n",
      " 8   view           21597 non-null  int64         \n",
      " 9   condition      21597 non-null  int64         \n",
      " 10  grade          21597 non-null  int64         \n",
      " 11  sqft_above     21597 non-null  int64         \n",
      " 12  sqft_basement  21597 non-null  int64         \n",
      " 13  yr_built       21597 non-null  int64         \n",
      " 14  yr_renovated   21597 non-null  int64         \n",
      " 15  zipcode        21597 non-null  int64         \n",
      " 16  lat            21597 non-null  float64       \n",
      " 17  long           21597 non-null  float64       \n",
      " 18  sqft_living15  21597 non-null  int64         \n",
      " 19  sqft_lot15     21597 non-null  int64         \n",
      " 20  price          21597 non-null  int64         \n",
      "dtypes: datetime64[ns](1), float64(4), int64(16)\n",
      "memory usage: 3.5 MB\n"
     ]
    }
   ],
   "source": [
    "re_df.info()"
   ]
  },
  {
   "cell_type": "markdown",
   "id": "806b5e62",
   "metadata": {},
   "source": [
    "numerical:\n",
    "'sqft_living', \n",
    "'sqft_lot',\n",
    "'sqft_living15'\n",
    "'sqft_lot15'\n",
    "'sqft_above',\n",
    "'sqft_basement'\n",
    "'price'\n",
    "\n",
    "categorical:\n",
    "bedrooms\n",
    "bathrooms\n",
    "floors in integer\n",
    "waterfront = categorical (yes/no)   = view?\n",
    "'condition'\n",
    "'grade'\n",
    "'yr_built'\n",
    "'yr_renovated'  = replace 0 with nan \n",
    "'zipcode'\n",
    "'lat'\n",
    "'long'\n"
   ]
  },
  {
   "cell_type": "markdown",
   "id": "4d59a642",
   "metadata": {},
   "source": [
    "### droping columns"
   ]
  },
  {
   "cell_type": "code",
   "execution_count": 374,
   "id": "d5bcebe2",
   "metadata": {},
   "outputs": [],
   "source": [
    "re_df.drop(['id'],axis=1, inplace=True)\n",
    "re_df.drop(['date'],axis=1, inplace=True)\n",
    "#re_df.drop(['view'],axis=1, inplace=True)\n",
    "re_df.drop(['yr_renovated'],axis=1, inplace=True)\n",
    "re_df.drop(['sqft_above'],axis=1, inplace=True)\n",
    "#re_df.drop(['zipcode'],axis=1, inplace=True)\n",
    "#re_df.drop(['sqft_basement'],axis=1, inplace=True)"
   ]
  },
  {
   "cell_type": "markdown",
   "id": "ce7e7354",
   "metadata": {},
   "source": [
    "### removing duplicates"
   ]
  },
  {
   "cell_type": "code",
   "execution_count": 375,
   "id": "15cfb69f",
   "metadata": {},
   "outputs": [],
   "source": [
    "re_df.drop_duplicates(inplace=True)"
   ]
  },
  {
   "cell_type": "markdown",
   "id": "a0ef108c",
   "metadata": {},
   "source": [
    "### Replacing null values with nan"
   ]
  },
  {
   "cell_type": "markdown",
   "id": "5b7a89c2",
   "metadata": {},
   "source": [
    "The yr_renovated column has more than 20.683 values=0. Does that make sense? ....."
   ]
  },
  {
   "cell_type": "code",
   "execution_count": 376,
   "id": "e8a4edc5",
   "metadata": {},
   "outputs": [],
   "source": [
    "#re_df[\"sqft_basement\"].replace(0, np.nan, inplace=True)\n",
    "\n",
    "#re_df[\"view\"].replace(0, np.nan, inplace=True)\n",
    "#re_df[\"view\"].value_counts()"
   ]
  },
  {
   "cell_type": "code",
   "execution_count": 377,
   "id": "f706d990",
   "metadata": {
    "scrolled": true
   },
   "outputs": [],
   "source": [
    "#re_df.view.hist()"
   ]
  },
  {
   "cell_type": "markdown",
   "id": "05038a15",
   "metadata": {},
   "source": [
    "### droping nan values"
   ]
  },
  {
   "cell_type": "code",
   "execution_count": 378,
   "id": "f05faecb",
   "metadata": {},
   "outputs": [],
   "source": [
    "#re_df.dropna(inplace=True)\n",
    "#re_df"
   ]
  },
  {
   "cell_type": "markdown",
   "id": "117d1394",
   "metadata": {},
   "source": [
    "### renaming waterfront column features"
   ]
  },
  {
   "cell_type": "code",
   "execution_count": 379,
   "id": "93c089a6",
   "metadata": {},
   "outputs": [],
   "source": [
    "def clean_waterfront(x):\n",
    "    if x == 0:\n",
    "        return 'no'\n",
    "    elif x == 1:\n",
    "        return 'yes'"
   ]
  },
  {
   "cell_type": "code",
   "execution_count": 380,
   "id": "2210c556",
   "metadata": {},
   "outputs": [],
   "source": [
    "re_df[\"waterfront\"] = list(map(clean_waterfront,re_df[\"waterfront\"])) "
   ]
  },
  {
   "cell_type": "markdown",
   "id": "d0cc1757",
   "metadata": {},
   "source": [
    "### changing year renovated"
   ]
  },
  {
   "cell_type": "markdown",
   "id": "3b0da51e",
   "metadata": {},
   "source": [
    "def yr_renovated(x):\n",
    "    if x == 0:\n",
    "        return 'no'\n",
    "    else:\n",
    "        return 'yes'"
   ]
  },
  {
   "cell_type": "code",
   "execution_count": 381,
   "id": "d3dd1171",
   "metadata": {},
   "outputs": [],
   "source": [
    "#re_df[\"yr_renovated\"] = list(map(yr_renovated,re_df[\"yr_renovated\"]))"
   ]
  },
  {
   "cell_type": "markdown",
   "id": "ffcc5967",
   "metadata": {},
   "source": [
    "### concatinate lat & long"
   ]
  },
  {
   "cell_type": "code",
   "execution_count": 382,
   "id": "ff0b8389",
   "metadata": {},
   "outputs": [],
   "source": [
    "#re_df['location'] = re_df['lat'].astype(str) + \"-\" + re_df['long'].astype(str)"
   ]
  },
  {
   "cell_type": "markdown",
   "id": "bc82f4cf",
   "metadata": {},
   "source": [
    "### removing outliers"
   ]
  },
  {
   "cell_type": "markdown",
   "id": "9c62993e",
   "metadata": {},
   "source": [
    "#### bedrooms"
   ]
  },
  {
   "cell_type": "code",
   "execution_count": 383,
   "id": "2a6374f4",
   "metadata": {},
   "outputs": [
    {
     "name": "stderr",
     "output_type": "stream",
     "text": [
      "/Users/louisarudow/opt/anaconda3/lib/python3.9/site-packages/seaborn/_decorators.py:36: FutureWarning: Pass the following variable as a keyword arg: x. From version 0.12, the only valid positional argument will be `data`, and passing other arguments without an explicit keyword will result in an error or misinterpretation.\n",
      "  warnings.warn(\n"
     ]
    },
    {
     "data": {
      "text/plain": [
       "<AxesSubplot:xlabel='bedrooms'>"
      ]
     },
     "execution_count": 383,
     "metadata": {},
     "output_type": "execute_result"
    },
    {
     "data": {
      "image/png": "[encoded data removed]",
      "text/plain": [
       "<Figure size 432x288 with 1 Axes>"
      ]
     },
     "metadata": {
      "needs_background": "light"
     },
     "output_type": "display_data"
    }
   ],
   "source": [
    "sns.boxplot(re_df['bedrooms'])"
   ]
  },
  {
   "cell_type": "markdown",
   "id": "44c512c2",
   "metadata": {},
   "source": [
    "Q1 = re_df['bedrooms'].quantile(0.25)\n",
    "Q3 = re_df['bedrooms'].quantile(0.75)\n",
    "IQR = Q3 - Q1    #IQR is interquartile range. \n",
    "\n",
    "filter = (re_df['bedrooms'] >= Q1 - 1.5 * IQR) & (re_df['bedrooms'] <= Q3 + 1.5 *IQR)\n",
    "re_df = re_df.loc[filter]"
   ]
  },
  {
   "cell_type": "code",
   "execution_count": 384,
   "id": "ec540781",
   "metadata": {},
   "outputs": [
    {
     "data": {
      "text/plain": [
       "33"
      ]
     },
     "execution_count": 384,
     "metadata": {},
     "output_type": "execute_result"
    }
   ],
   "source": [
    "max(re_df['bedrooms'])"
   ]
  },
  {
   "cell_type": "code",
   "execution_count": 385,
   "id": "6ca8161b",
   "metadata": {},
   "outputs": [],
   "source": [
    "re_df = re_df[re_df.bedrooms != max(re_df['bedrooms'])]\n",
    "#re_df = re_df[re_df.bedrooms != 11]"
   ]
  },
  {
   "cell_type": "code",
   "execution_count": 386,
   "id": "79c11587",
   "metadata": {},
   "outputs": [
    {
     "name": "stderr",
     "output_type": "stream",
     "text": [
      "/Users/louisarudow/opt/anaconda3/lib/python3.9/site-packages/seaborn/_decorators.py:36: FutureWarning: Pass the following variable as a keyword arg: x. From version 0.12, the only valid positional argument will be `data`, and passing other arguments without an explicit keyword will result in an error or misinterpretation.\n",
      "  warnings.warn(\n"
     ]
    },
    {
     "data": {
      "text/plain": [
       "<AxesSubplot:xlabel='bedrooms'>"
      ]
     },
     "execution_count": 386,
     "metadata": {},
     "output_type": "execute_result"
    },
    {
     "data": {
      "image/png": "[encoded data removed]",
      "text/plain": [
       "<Figure size 432x288 with 1 Axes>"
      ]
     },
     "metadata": {
      "needs_background": "light"
     },
     "output_type": "display_data"
    }
   ],
   "source": [
    "sns.boxplot(re_df['bedrooms'])"
   ]
  },
  {
   "cell_type": "code",
   "execution_count": 387,
   "id": "94cfa819",
   "metadata": {},
   "outputs": [
    {
     "data": {
      "text/plain": [
       "3     9821\n",
       "4     6881\n",
       "2     2759\n",
       "5     1601\n",
       "6      272\n",
       "1      196\n",
       "7       38\n",
       "8       13\n",
       "9        6\n",
       "10       3\n",
       "11       1\n",
       "Name: bedrooms, dtype: int64"
      ]
     },
     "execution_count": 387,
     "metadata": {},
     "output_type": "execute_result"
    }
   ],
   "source": [
    "re_df['bedrooms'].value_counts()"
   ]
  },
  {
   "cell_type": "markdown",
   "id": "74f1d803",
   "metadata": {},
   "source": [
    "530 rows removed"
   ]
  },
  {
   "cell_type": "markdown",
   "id": "8010b63b",
   "metadata": {},
   "source": [
    "#### bathrooms"
   ]
  },
  {
   "cell_type": "code",
   "execution_count": 388,
   "id": "7657e24e",
   "metadata": {},
   "outputs": [
    {
     "name": "stderr",
     "output_type": "stream",
     "text": [
      "/Users/louisarudow/opt/anaconda3/lib/python3.9/site-packages/seaborn/_decorators.py:36: FutureWarning: Pass the following variable as a keyword arg: x. From version 0.12, the only valid positional argument will be `data`, and passing other arguments without an explicit keyword will result in an error or misinterpretation.\n",
      "  warnings.warn(\n"
     ]
    },
    {
     "data": {
      "text/plain": [
       "<AxesSubplot:xlabel='bathrooms'>"
      ]
     },
     "execution_count": 388,
     "metadata": {},
     "output_type": "execute_result"
    },
    {
     "data": {
      "image/png": "[encoded data removed]",
      "text/plain": [
       "<Figure size 432x288 with 1 Axes>"
      ]
     },
     "metadata": {
      "needs_background": "light"
     },
     "output_type": "display_data"
    }
   ],
   "source": [
    "sns.boxplot(re_df['bathrooms'])"
   ]
  },
  {
   "cell_type": "markdown",
   "id": "6bae7e63",
   "metadata": {},
   "source": [
    "Q1 = re_df['bathrooms'].quantile(0.25)\n",
    "Q3 = re_df['bathrooms'].quantile(0.75)\n",
    "IQR = Q3 - Q1    #IQR is interquartile range. \n",
    "\n",
    "filter = (re_df['bathrooms'] >= Q1 - 1.5 * IQR) & (re_df['bathrooms'] <= Q3 + 1.5 *IQR)\n",
    "re_df = re_df.loc[filter]"
   ]
  },
  {
   "cell_type": "code",
   "execution_count": 389,
   "id": "0784ca91",
   "metadata": {},
   "outputs": [],
   "source": [
    "re_df['bathrooms'].value_counts()\n",
    "\n",
    "re_df = re_df[re_df.bathrooms != max(re_df['bathrooms'])]\n",
    "#re_df = re_df[re_df.bathrooms != 7.75]\n",
    "#re_df = re_df[re_df.bathrooms != 6.75]"
   ]
  },
  {
   "cell_type": "code",
   "execution_count": 390,
   "id": "83a3a1e9",
   "metadata": {},
   "outputs": [
    {
     "name": "stderr",
     "output_type": "stream",
     "text": [
      "/Users/louisarudow/opt/anaconda3/lib/python3.9/site-packages/seaborn/_decorators.py:36: FutureWarning: Pass the following variable as a keyword arg: x. From version 0.12, the only valid positional argument will be `data`, and passing other arguments without an explicit keyword will result in an error or misinterpretation.\n",
      "  warnings.warn(\n"
     ]
    },
    {
     "data": {
      "text/plain": [
       "<AxesSubplot:xlabel='bathrooms'>"
      ]
     },
     "execution_count": 390,
     "metadata": {},
     "output_type": "execute_result"
    },
    {
     "data": {
      "image/png": "[encoded data removed]",
      "text/plain": [
       "<Figure size 432x288 with 1 Axes>"
      ]
     },
     "metadata": {
      "needs_background": "light"
     },
     "output_type": "display_data"
    }
   ],
   "source": [
    "sns.boxplot(re_df['bathrooms'])"
   ]
  },
  {
   "cell_type": "code",
   "execution_count": 391,
   "id": "b3a4ee3c",
   "metadata": {},
   "outputs": [],
   "source": [
    "Q1 = re_df['sqft_lot'].quantile(0.25)\n",
    "Q3 = re_df['sqft_lot'].quantile(0.75)\n",
    "IQR = Q3 - Q1    #IQR is interquartile range. \n",
    "\n",
    "filter = (re_df['sqft_lot'] >= Q1 - 1.5 * IQR) & (re_df['sqft_lot'] <= Q3 + 1.5 *IQR)\n",
    "re_df = re_df.loc[filter]"
   ]
  },
  {
   "cell_type": "markdown",
   "id": "7af1bbb9",
   "metadata": {},
   "source": [
    "#### further exploration"
   ]
  },
  {
   "cell_type": "code",
   "execution_count": 392,
   "id": "07b1e21d",
   "metadata": {},
   "outputs": [],
   "source": [
    "#re_df = re_df[re_df.sqft_above != 7420]\n",
    "re_df[\"sqft_lot15\"].value_counts()\n",
    "\n",
    "Q1 = re_df[\"sqft_lot15\"].quantile(0.25)\n",
    "Q3 = re_df[\"sqft_lot15\"].quantile(0.75)\n",
    "IQR = Q3 - Q1    #IQR is interquartile range. \n",
    "\n",
    "filter = (re_df[\"sqft_lot15\"] >= Q1 - 1.5 * IQR) & (re_df[\"sqft_lot15\"] <= Q3 + 1.5 *IQR)\n",
    "re_df = re_df.loc[filter]"
   ]
  },
  {
   "cell_type": "code",
   "execution_count": 393,
   "id": "a487e55d",
   "metadata": {},
   "outputs": [],
   "source": [
    "#re_df = re_df[re_df.sqft_lot15 != 560617]\n"
   ]
  },
  {
   "cell_type": "markdown",
   "id": "ecf71e29",
   "metadata": {},
   "source": [
    "## Plot the Correlation Heatmap"
   ]
  },
  {
   "cell_type": "markdown",
   "id": "fdf4e7cf",
   "metadata": {},
   "source": [
    "re_num = re_df[['sqft_living','sqft_lot','sqft_living15','sqft_lot15','sqft_above','sqft_basement']]\n",
    "\n",
    "corr = re_num.corr()\n",
    "mask = np.zeros_like(corr)\n",
    "mask[np.triu_indices_from(mask)] = True\n",
    "with sns.axes_style(\"white\"):\n",
    "    f, ax = plt.subplots(figsize=(9, 7))\n",
    "    ax = sns.heatmap(corr, mask=mask,cmap='coolwarm', vmin=-1,vmax=1,annot=True, square=True)"
   ]
  },
  {
   "cell_type": "code",
   "execution_count": 394,
   "id": "ea41aae7",
   "metadata": {},
   "outputs": [
    {
     "data": {
      "text/plain": [
       "0        98178\n",
       "1        98125\n",
       "2        98028\n",
       "3        98136\n",
       "4        98074\n",
       "         ...  \n",
       "21592    98103\n",
       "21593    98146\n",
       "21594    98144\n",
       "21595    98027\n",
       "21596    98144\n",
       "Name: zipcode, Length: 18617, dtype: int64"
      ]
     },
     "execution_count": 394,
     "metadata": {},
     "output_type": "execute_result"
    }
   ],
   "source": [
    "(re_df['zipcode'])"
   ]
  },
  {
   "cell_type": "markdown",
   "id": "99058e19",
   "metadata": {},
   "source": [
    "## Split the Data "
   ]
  },
  {
   "cell_type": "code",
   "execution_count": 395,
   "id": "277d2667",
   "metadata": {},
   "outputs": [],
   "source": [
    "expensive_zipcodes= [98199, 98119, 98109, 98102, 98105, 98112, 98033, 98039, 98004, 98005, 98040, 98006, 98075]\n",
    "expensive_areas = re_df[re_df['zipcode'].isin(expensive_zipcodes)]"
   ]
  },
  {
   "cell_type": "code",
   "execution_count": 396,
   "id": "1f72f9f3",
   "metadata": {},
   "outputs": [
    {
     "data": {
      "text/plain": [
       "98006    408\n",
       "98033    398\n",
       "98199    314\n",
       "98112    267\n",
       "98075    236\n",
       "98004    229\n",
       "98105    225\n",
       "98040    201\n",
       "98119    184\n",
       "98109    109\n",
       "98005    108\n",
       "98102    102\n",
       "98039     17\n",
       "Name: zipcode, dtype: int64"
      ]
     },
     "execution_count": 396,
     "metadata": {},
     "output_type": "execute_result"
    }
   ],
   "source": [
    "expensive_areas['zipcode'].value_counts()"
   ]
  },
  {
   "cell_type": "code",
   "execution_count": 397,
   "id": "1c63130a",
   "metadata": {},
   "outputs": [],
   "source": [
    "affordable_areas = re_df[~re_df['zipcode'].isin(expensive_zipcodes)]"
   ]
  },
  {
   "cell_type": "code",
   "execution_count": 398,
   "id": "eba9ae64",
   "metadata": {},
   "outputs": [
    {
     "data": {
      "text/plain": [
       "98103    601\n",
       "98115    579\n",
       "98117    552\n",
       "98052    518\n",
       "98034    515\n",
       "        ... \n",
       "98010     41\n",
       "98077     34\n",
       "98014     32\n",
       "98024     22\n",
       "98070     17\n",
       "Name: zipcode, Length: 57, dtype: int64"
      ]
     },
     "execution_count": 398,
     "metadata": {},
     "output_type": "execute_result"
    }
   ],
   "source": [
    "affordable_areas['zipcode'].value_counts()"
   ]
  },
  {
   "cell_type": "markdown",
   "id": "5938960b",
   "metadata": {},
   "source": [
    "## X Y split"
   ]
  },
  {
   "cell_type": "code",
   "execution_count": 399,
   "id": "22079693",
   "metadata": {},
   "outputs": [],
   "source": [
    "X=expensive_areas.drop(\"price\", axis=1)\n",
    "y=expensive_areas[\"price\"]"
   ]
  },
  {
   "cell_type": "markdown",
   "id": "6e9a3efc",
   "metadata": {},
   "source": [
    "## Data Splitting"
   ]
  },
  {
   "cell_type": "code",
   "execution_count": 400,
   "id": "a3051d93",
   "metadata": {},
   "outputs": [],
   "source": [
    "X_train, X_test, y_train, y_test=train_test_split(X, y, test_size=.30,random_state=123)"
   ]
  },
  {
   "cell_type": "code",
   "execution_count": 401,
   "id": "c67cd0be",
   "metadata": {},
   "outputs": [],
   "source": [
    "y_train = y_train.reset_index(drop=True)\n",
    "y_test = y_test.reset_index(drop=True)"
   ]
  },
  {
   "cell_type": "markdown",
   "id": "489db419",
   "metadata": {},
   "source": [
    "## Data Transformation"
   ]
  },
  {
   "cell_type": "markdown",
   "id": "a03c2827",
   "metadata": {},
   "source": [
    "### Hot coding Categorical Variables"
   ]
  },
  {
   "cell_type": "code",
   "execution_count": 402,
   "id": "54cf7869",
   "metadata": {},
   "outputs": [
    {
     "data": {
      "text/html": [
       "<div>\n",
       "<style scoped>\n",
       "    .dataframe tbody tr th:only-of-type {\n",
       "        vertical-align: middle;\n",
       "    }\n",
       "\n",
       "    .dataframe tbody tr th {\n",
       "        vertical-align: top;\n",
       "    }\n",
       "\n",
       "    .dataframe thead th {\n",
       "        text-align: right;\n",
       "    }\n",
       "</style>\n",
       "<table border=\"1\" class=\"dataframe\">\n",
       "  <thead>\n",
       "    <tr style=\"text-align: right;\">\n",
       "      <th></th>\n",
       "      <th>bedrooms</th>\n",
       "      <th>bathrooms</th>\n",
       "      <th>view</th>\n",
       "      <th>floors</th>\n",
       "      <th>waterfront</th>\n",
       "      <th>condition</th>\n",
       "      <th>grade</th>\n",
       "      <th>yr_built</th>\n",
       "      <th>zipcode</th>\n",
       "      <th>lat</th>\n",
       "      <th>long</th>\n",
       "    </tr>\n",
       "  </thead>\n",
       "  <tbody>\n",
       "    <tr>\n",
       "      <th>16193</th>\n",
       "      <td>4</td>\n",
       "      <td>2.00</td>\n",
       "      <td>0</td>\n",
       "      <td>2.0</td>\n",
       "      <td>no</td>\n",
       "      <td>3</td>\n",
       "      <td>8</td>\n",
       "      <td>1901</td>\n",
       "      <td>98119</td>\n",
       "      <td>47.6513</td>\n",
       "      <td>-122.368</td>\n",
       "    </tr>\n",
       "    <tr>\n",
       "      <th>11152</th>\n",
       "      <td>3</td>\n",
       "      <td>2.25</td>\n",
       "      <td>0</td>\n",
       "      <td>1.5</td>\n",
       "      <td>no</td>\n",
       "      <td>4</td>\n",
       "      <td>7</td>\n",
       "      <td>1921</td>\n",
       "      <td>98105</td>\n",
       "      <td>47.6683</td>\n",
       "      <td>-122.286</td>\n",
       "    </tr>\n",
       "    <tr>\n",
       "      <th>7619</th>\n",
       "      <td>5</td>\n",
       "      <td>3.00</td>\n",
       "      <td>0</td>\n",
       "      <td>1.0</td>\n",
       "      <td>no</td>\n",
       "      <td>4</td>\n",
       "      <td>8</td>\n",
       "      <td>1971</td>\n",
       "      <td>98006</td>\n",
       "      <td>47.5696</td>\n",
       "      <td>-122.127</td>\n",
       "    </tr>\n",
       "    <tr>\n",
       "      <th>13421</th>\n",
       "      <td>3</td>\n",
       "      <td>1.00</td>\n",
       "      <td>0</td>\n",
       "      <td>2.0</td>\n",
       "      <td>no</td>\n",
       "      <td>3</td>\n",
       "      <td>8</td>\n",
       "      <td>1905</td>\n",
       "      <td>98102</td>\n",
       "      <td>47.6363</td>\n",
       "      <td>-122.320</td>\n",
       "    </tr>\n",
       "    <tr>\n",
       "      <th>1552</th>\n",
       "      <td>4</td>\n",
       "      <td>2.25</td>\n",
       "      <td>0</td>\n",
       "      <td>2.0</td>\n",
       "      <td>no</td>\n",
       "      <td>4</td>\n",
       "      <td>10</td>\n",
       "      <td>1968</td>\n",
       "      <td>98040</td>\n",
       "      <td>47.5318</td>\n",
       "      <td>-122.224</td>\n",
       "    </tr>\n",
       "    <tr>\n",
       "      <th>...</th>\n",
       "      <td>...</td>\n",
       "      <td>...</td>\n",
       "      <td>...</td>\n",
       "      <td>...</td>\n",
       "      <td>...</td>\n",
       "      <td>...</td>\n",
       "      <td>...</td>\n",
       "      <td>...</td>\n",
       "      <td>...</td>\n",
       "      <td>...</td>\n",
       "      <td>...</td>\n",
       "    </tr>\n",
       "    <tr>\n",
       "      <th>14000</th>\n",
       "      <td>4</td>\n",
       "      <td>2.25</td>\n",
       "      <td>0</td>\n",
       "      <td>2.0</td>\n",
       "      <td>no</td>\n",
       "      <td>4</td>\n",
       "      <td>9</td>\n",
       "      <td>1907</td>\n",
       "      <td>98112</td>\n",
       "      <td>47.6275</td>\n",
       "      <td>-122.308</td>\n",
       "    </tr>\n",
       "    <tr>\n",
       "      <th>19509</th>\n",
       "      <td>4</td>\n",
       "      <td>2.00</td>\n",
       "      <td>0</td>\n",
       "      <td>1.0</td>\n",
       "      <td>no</td>\n",
       "      <td>4</td>\n",
       "      <td>6</td>\n",
       "      <td>1949</td>\n",
       "      <td>98033</td>\n",
       "      <td>47.6859</td>\n",
       "      <td>-122.166</td>\n",
       "    </tr>\n",
       "    <tr>\n",
       "      <th>2207</th>\n",
       "      <td>5</td>\n",
       "      <td>2.25</td>\n",
       "      <td>2</td>\n",
       "      <td>1.0</td>\n",
       "      <td>no</td>\n",
       "      <td>5</td>\n",
       "      <td>8</td>\n",
       "      <td>1958</td>\n",
       "      <td>98199</td>\n",
       "      <td>47.6456</td>\n",
       "      <td>-122.389</td>\n",
       "    </tr>\n",
       "    <tr>\n",
       "      <th>15354</th>\n",
       "      <td>3</td>\n",
       "      <td>1.75</td>\n",
       "      <td>0</td>\n",
       "      <td>1.0</td>\n",
       "      <td>no</td>\n",
       "      <td>4</td>\n",
       "      <td>8</td>\n",
       "      <td>1958</td>\n",
       "      <td>98005</td>\n",
       "      <td>47.5857</td>\n",
       "      <td>-122.172</td>\n",
       "    </tr>\n",
       "    <tr>\n",
       "      <th>4671</th>\n",
       "      <td>4</td>\n",
       "      <td>2.75</td>\n",
       "      <td>0</td>\n",
       "      <td>1.0</td>\n",
       "      <td>no</td>\n",
       "      <td>4</td>\n",
       "      <td>7</td>\n",
       "      <td>1956</td>\n",
       "      <td>98033</td>\n",
       "      <td>47.6503</td>\n",
       "      <td>-122.197</td>\n",
       "    </tr>\n",
       "  </tbody>\n",
       "</table>\n",
       "<p>840 rows × 11 columns</p>\n",
       "</div>"
      ],
      "text/plain": [
       "       bedrooms  bathrooms  view  floors waterfront  condition  grade  \\\n",
       "16193         4       2.00     0     2.0         no          3      8   \n",
       "11152         3       2.25     0     1.5         no          4      7   \n",
       "7619          5       3.00     0     1.0         no          4      8   \n",
       "13421         3       1.00     0     2.0         no          3      8   \n",
       "1552          4       2.25     0     2.0         no          4     10   \n",
       "...         ...        ...   ...     ...        ...        ...    ...   \n",
       "14000         4       2.25     0     2.0         no          4      9   \n",
       "19509         4       2.00     0     1.0         no          4      6   \n",
       "2207          5       2.25     2     1.0         no          5      8   \n",
       "15354         3       1.75     0     1.0         no          4      8   \n",
       "4671          4       2.75     0     1.0         no          4      7   \n",
       "\n",
       "       yr_built  zipcode      lat     long  \n",
       "16193      1901    98119  47.6513 -122.368  \n",
       "11152      1921    98105  47.6683 -122.286  \n",
       "7619       1971    98006  47.5696 -122.127  \n",
       "13421      1905    98102  47.6363 -122.320  \n",
       "1552       1968    98040  47.5318 -122.224  \n",
       "...         ...      ...      ...      ...  \n",
       "14000      1907    98112  47.6275 -122.308  \n",
       "19509      1949    98033  47.6859 -122.166  \n",
       "2207       1958    98199  47.6456 -122.389  \n",
       "15354      1958    98005  47.5857 -122.172  \n",
       "4671       1956    98033  47.6503 -122.197  \n",
       "\n",
       "[840 rows x 11 columns]"
      ]
     },
     "execution_count": 402,
     "metadata": {},
     "output_type": "execute_result"
    }
   ],
   "source": [
    "X_train_cat=X_train[['bedrooms','bathrooms','view','floors','waterfront','condition','grade','yr_built','zipcode','lat','long']]\n",
    "X_train_cat\n",
    "\n",
    "X_test_cat=X_test[['bedrooms','bathrooms','view','floors','waterfront','condition','grade','yr_built','zipcode','lat','long']]\n",
    "X_test_cat"
   ]
  },
  {
   "cell_type": "code",
   "execution_count": 403,
   "id": "cf5e573d",
   "metadata": {},
   "outputs": [
    {
     "data": {
      "text/html": [
       "<div>\n",
       "<style scoped>\n",
       "    .dataframe tbody tr th:only-of-type {\n",
       "        vertical-align: middle;\n",
       "    }\n",
       "\n",
       "    .dataframe tbody tr th {\n",
       "        vertical-align: top;\n",
       "    }\n",
       "\n",
       "    .dataframe thead th {\n",
       "        text-align: right;\n",
       "    }\n",
       "</style>\n",
       "<table border=\"1\" class=\"dataframe\">\n",
       "  <thead>\n",
       "    <tr style=\"text-align: right;\">\n",
       "      <th></th>\n",
       "      <th>bedrooms_2</th>\n",
       "      <th>bedrooms_3</th>\n",
       "      <th>bedrooms_4</th>\n",
       "      <th>bedrooms_5</th>\n",
       "      <th>bedrooms_6</th>\n",
       "      <th>bedrooms_7</th>\n",
       "      <th>bedrooms_8</th>\n",
       "      <th>bedrooms_9</th>\n",
       "      <th>bedrooms_10</th>\n",
       "      <th>bathrooms_1.0</th>\n",
       "      <th>...</th>\n",
       "      <th>long_-121.982</th>\n",
       "      <th>long_-121.981</th>\n",
       "      <th>long_-121.98</th>\n",
       "      <th>long_-121.978</th>\n",
       "      <th>long_-121.976</th>\n",
       "      <th>long_-121.974</th>\n",
       "      <th>long_-121.973</th>\n",
       "      <th>long_-121.972</th>\n",
       "      <th>long_-121.97</th>\n",
       "      <th>waterfront_yes_1</th>\n",
       "    </tr>\n",
       "  </thead>\n",
       "  <tbody>\n",
       "    <tr>\n",
       "      <th>0</th>\n",
       "      <td>0.0</td>\n",
       "      <td>0.0</td>\n",
       "      <td>1.0</td>\n",
       "      <td>0.0</td>\n",
       "      <td>0.0</td>\n",
       "      <td>0.0</td>\n",
       "      <td>0.0</td>\n",
       "      <td>0.0</td>\n",
       "      <td>0.0</td>\n",
       "      <td>0.0</td>\n",
       "      <td>...</td>\n",
       "      <td>0.0</td>\n",
       "      <td>0.0</td>\n",
       "      <td>0.0</td>\n",
       "      <td>0.0</td>\n",
       "      <td>0.0</td>\n",
       "      <td>0.0</td>\n",
       "      <td>0.0</td>\n",
       "      <td>0.0</td>\n",
       "      <td>0.0</td>\n",
       "      <td>0.0</td>\n",
       "    </tr>\n",
       "    <tr>\n",
       "      <th>1</th>\n",
       "      <td>0.0</td>\n",
       "      <td>1.0</td>\n",
       "      <td>0.0</td>\n",
       "      <td>0.0</td>\n",
       "      <td>0.0</td>\n",
       "      <td>0.0</td>\n",
       "      <td>0.0</td>\n",
       "      <td>0.0</td>\n",
       "      <td>0.0</td>\n",
       "      <td>0.0</td>\n",
       "      <td>...</td>\n",
       "      <td>0.0</td>\n",
       "      <td>0.0</td>\n",
       "      <td>0.0</td>\n",
       "      <td>0.0</td>\n",
       "      <td>0.0</td>\n",
       "      <td>0.0</td>\n",
       "      <td>0.0</td>\n",
       "      <td>0.0</td>\n",
       "      <td>0.0</td>\n",
       "      <td>0.0</td>\n",
       "    </tr>\n",
       "    <tr>\n",
       "      <th>2</th>\n",
       "      <td>0.0</td>\n",
       "      <td>0.0</td>\n",
       "      <td>0.0</td>\n",
       "      <td>1.0</td>\n",
       "      <td>0.0</td>\n",
       "      <td>0.0</td>\n",
       "      <td>0.0</td>\n",
       "      <td>0.0</td>\n",
       "      <td>0.0</td>\n",
       "      <td>0.0</td>\n",
       "      <td>...</td>\n",
       "      <td>0.0</td>\n",
       "      <td>0.0</td>\n",
       "      <td>0.0</td>\n",
       "      <td>0.0</td>\n",
       "      <td>0.0</td>\n",
       "      <td>0.0</td>\n",
       "      <td>0.0</td>\n",
       "      <td>0.0</td>\n",
       "      <td>0.0</td>\n",
       "      <td>0.0</td>\n",
       "    </tr>\n",
       "    <tr>\n",
       "      <th>3</th>\n",
       "      <td>0.0</td>\n",
       "      <td>1.0</td>\n",
       "      <td>0.0</td>\n",
       "      <td>0.0</td>\n",
       "      <td>0.0</td>\n",
       "      <td>0.0</td>\n",
       "      <td>0.0</td>\n",
       "      <td>0.0</td>\n",
       "      <td>0.0</td>\n",
       "      <td>1.0</td>\n",
       "      <td>...</td>\n",
       "      <td>0.0</td>\n",
       "      <td>0.0</td>\n",
       "      <td>0.0</td>\n",
       "      <td>0.0</td>\n",
       "      <td>0.0</td>\n",
       "      <td>0.0</td>\n",
       "      <td>0.0</td>\n",
       "      <td>0.0</td>\n",
       "      <td>0.0</td>\n",
       "      <td>0.0</td>\n",
       "    </tr>\n",
       "    <tr>\n",
       "      <th>4</th>\n",
       "      <td>0.0</td>\n",
       "      <td>0.0</td>\n",
       "      <td>1.0</td>\n",
       "      <td>0.0</td>\n",
       "      <td>0.0</td>\n",
       "      <td>0.0</td>\n",
       "      <td>0.0</td>\n",
       "      <td>0.0</td>\n",
       "      <td>0.0</td>\n",
       "      <td>0.0</td>\n",
       "      <td>...</td>\n",
       "      <td>0.0</td>\n",
       "      <td>0.0</td>\n",
       "      <td>0.0</td>\n",
       "      <td>0.0</td>\n",
       "      <td>0.0</td>\n",
       "      <td>0.0</td>\n",
       "      <td>0.0</td>\n",
       "      <td>0.0</td>\n",
       "      <td>0.0</td>\n",
       "      <td>0.0</td>\n",
       "    </tr>\n",
       "    <tr>\n",
       "      <th>...</th>\n",
       "      <td>...</td>\n",
       "      <td>...</td>\n",
       "      <td>...</td>\n",
       "      <td>...</td>\n",
       "      <td>...</td>\n",
       "      <td>...</td>\n",
       "      <td>...</td>\n",
       "      <td>...</td>\n",
       "      <td>...</td>\n",
       "      <td>...</td>\n",
       "      <td>...</td>\n",
       "      <td>...</td>\n",
       "      <td>...</td>\n",
       "      <td>...</td>\n",
       "      <td>...</td>\n",
       "      <td>...</td>\n",
       "      <td>...</td>\n",
       "      <td>...</td>\n",
       "      <td>...</td>\n",
       "      <td>...</td>\n",
       "      <td>...</td>\n",
       "    </tr>\n",
       "    <tr>\n",
       "      <th>835</th>\n",
       "      <td>0.0</td>\n",
       "      <td>0.0</td>\n",
       "      <td>1.0</td>\n",
       "      <td>0.0</td>\n",
       "      <td>0.0</td>\n",
       "      <td>0.0</td>\n",
       "      <td>0.0</td>\n",
       "      <td>0.0</td>\n",
       "      <td>0.0</td>\n",
       "      <td>0.0</td>\n",
       "      <td>...</td>\n",
       "      <td>0.0</td>\n",
       "      <td>0.0</td>\n",
       "      <td>0.0</td>\n",
       "      <td>0.0</td>\n",
       "      <td>0.0</td>\n",
       "      <td>0.0</td>\n",
       "      <td>0.0</td>\n",
       "      <td>0.0</td>\n",
       "      <td>0.0</td>\n",
       "      <td>0.0</td>\n",
       "    </tr>\n",
       "    <tr>\n",
       "      <th>836</th>\n",
       "      <td>0.0</td>\n",
       "      <td>0.0</td>\n",
       "      <td>1.0</td>\n",
       "      <td>0.0</td>\n",
       "      <td>0.0</td>\n",
       "      <td>0.0</td>\n",
       "      <td>0.0</td>\n",
       "      <td>0.0</td>\n",
       "      <td>0.0</td>\n",
       "      <td>0.0</td>\n",
       "      <td>...</td>\n",
       "      <td>0.0</td>\n",
       "      <td>0.0</td>\n",
       "      <td>0.0</td>\n",
       "      <td>0.0</td>\n",
       "      <td>0.0</td>\n",
       "      <td>0.0</td>\n",
       "      <td>0.0</td>\n",
       "      <td>0.0</td>\n",
       "      <td>0.0</td>\n",
       "      <td>0.0</td>\n",
       "    </tr>\n",
       "    <tr>\n",
       "      <th>837</th>\n",
       "      <td>0.0</td>\n",
       "      <td>0.0</td>\n",
       "      <td>0.0</td>\n",
       "      <td>1.0</td>\n",
       "      <td>0.0</td>\n",
       "      <td>0.0</td>\n",
       "      <td>0.0</td>\n",
       "      <td>0.0</td>\n",
       "      <td>0.0</td>\n",
       "      <td>0.0</td>\n",
       "      <td>...</td>\n",
       "      <td>0.0</td>\n",
       "      <td>0.0</td>\n",
       "      <td>0.0</td>\n",
       "      <td>0.0</td>\n",
       "      <td>0.0</td>\n",
       "      <td>0.0</td>\n",
       "      <td>0.0</td>\n",
       "      <td>0.0</td>\n",
       "      <td>0.0</td>\n",
       "      <td>0.0</td>\n",
       "    </tr>\n",
       "    <tr>\n",
       "      <th>838</th>\n",
       "      <td>0.0</td>\n",
       "      <td>1.0</td>\n",
       "      <td>0.0</td>\n",
       "      <td>0.0</td>\n",
       "      <td>0.0</td>\n",
       "      <td>0.0</td>\n",
       "      <td>0.0</td>\n",
       "      <td>0.0</td>\n",
       "      <td>0.0</td>\n",
       "      <td>0.0</td>\n",
       "      <td>...</td>\n",
       "      <td>0.0</td>\n",
       "      <td>0.0</td>\n",
       "      <td>0.0</td>\n",
       "      <td>0.0</td>\n",
       "      <td>0.0</td>\n",
       "      <td>0.0</td>\n",
       "      <td>0.0</td>\n",
       "      <td>0.0</td>\n",
       "      <td>0.0</td>\n",
       "      <td>0.0</td>\n",
       "    </tr>\n",
       "    <tr>\n",
       "      <th>839</th>\n",
       "      <td>0.0</td>\n",
       "      <td>0.0</td>\n",
       "      <td>1.0</td>\n",
       "      <td>0.0</td>\n",
       "      <td>0.0</td>\n",
       "      <td>0.0</td>\n",
       "      <td>0.0</td>\n",
       "      <td>0.0</td>\n",
       "      <td>0.0</td>\n",
       "      <td>0.0</td>\n",
       "      <td>...</td>\n",
       "      <td>0.0</td>\n",
       "      <td>0.0</td>\n",
       "      <td>0.0</td>\n",
       "      <td>0.0</td>\n",
       "      <td>0.0</td>\n",
       "      <td>0.0</td>\n",
       "      <td>0.0</td>\n",
       "      <td>0.0</td>\n",
       "      <td>0.0</td>\n",
       "      <td>0.0</td>\n",
       "    </tr>\n",
       "  </tbody>\n",
       "</table>\n",
       "<p>840 rows × 1074 columns</p>\n",
       "</div>"
      ],
      "text/plain": [
       "     bedrooms_2  bedrooms_3  bedrooms_4  bedrooms_5  bedrooms_6  bedrooms_7  \\\n",
       "0           0.0         0.0         1.0         0.0         0.0         0.0   \n",
       "1           0.0         1.0         0.0         0.0         0.0         0.0   \n",
       "2           0.0         0.0         0.0         1.0         0.0         0.0   \n",
       "3           0.0         1.0         0.0         0.0         0.0         0.0   \n",
       "4           0.0         0.0         1.0         0.0         0.0         0.0   \n",
       "..          ...         ...         ...         ...         ...         ...   \n",
       "835         0.0         0.0         1.0         0.0         0.0         0.0   \n",
       "836         0.0         0.0         1.0         0.0         0.0         0.0   \n",
       "837         0.0         0.0         0.0         1.0         0.0         0.0   \n",
       "838         0.0         1.0         0.0         0.0         0.0         0.0   \n",
       "839         0.0         0.0         1.0         0.0         0.0         0.0   \n",
       "\n",
       "     bedrooms_8  bedrooms_9  bedrooms_10  bathrooms_1.0  ...  long_-121.982  \\\n",
       "0           0.0         0.0          0.0            0.0  ...            0.0   \n",
       "1           0.0         0.0          0.0            0.0  ...            0.0   \n",
       "2           0.0         0.0          0.0            0.0  ...            0.0   \n",
       "3           0.0         0.0          0.0            1.0  ...            0.0   \n",
       "4           0.0         0.0          0.0            0.0  ...            0.0   \n",
       "..          ...         ...          ...            ...  ...            ...   \n",
       "835         0.0         0.0          0.0            0.0  ...            0.0   \n",
       "836         0.0         0.0          0.0            0.0  ...            0.0   \n",
       "837         0.0         0.0          0.0            0.0  ...            0.0   \n",
       "838         0.0         0.0          0.0            0.0  ...            0.0   \n",
       "839         0.0         0.0          0.0            0.0  ...            0.0   \n",
       "\n",
       "     long_-121.981  long_-121.98  long_-121.978  long_-121.976  long_-121.974  \\\n",
       "0              0.0           0.0            0.0            0.0            0.0   \n",
       "1              0.0           0.0            0.0            0.0            0.0   \n",
       "2              0.0           0.0            0.0            0.0            0.0   \n",
       "3              0.0           0.0            0.0            0.0            0.0   \n",
       "4              0.0           0.0            0.0            0.0            0.0   \n",
       "..             ...           ...            ...            ...            ...   \n",
       "835            0.0           0.0            0.0            0.0            0.0   \n",
       "836            0.0           0.0            0.0            0.0            0.0   \n",
       "837            0.0           0.0            0.0            0.0            0.0   \n",
       "838            0.0           0.0            0.0            0.0            0.0   \n",
       "839            0.0           0.0            0.0            0.0            0.0   \n",
       "\n",
       "     long_-121.973  long_-121.972  long_-121.97  waterfront_yes_1  \n",
       "0              0.0            0.0           0.0               0.0  \n",
       "1              0.0            0.0           0.0               0.0  \n",
       "2              0.0            0.0           0.0               0.0  \n",
       "3              0.0            0.0           0.0               0.0  \n",
       "4              0.0            0.0           0.0               0.0  \n",
       "..             ...            ...           ...               ...  \n",
       "835            0.0            0.0           0.0               0.0  \n",
       "836            0.0            0.0           0.0               0.0  \n",
       "837            0.0            0.0           0.0               0.0  \n",
       "838            0.0            0.0           0.0               0.0  \n",
       "839            0.0            0.0           0.0               0.0  \n",
       "\n",
       "[840 rows x 1074 columns]"
      ]
     },
     "execution_count": 403,
     "metadata": {},
     "output_type": "execute_result"
    }
   ],
   "source": [
    "X_train_cat=pd.get_dummies(X_train_cat, drop_first=True)\n",
    "pd.DataFrame(OneHotEncoder(drop='first').fit_transform(X_train_cat).toarray(),\n",
    "columns=OneHotEncoder(drop='first').fit(X_train_cat).get_feature_names(input_features=X_train_cat.columns))\n",
    "\n",
    "X_test_cat=pd.get_dummies(X_test_cat, drop_first=True)\n",
    "pd.DataFrame(OneHotEncoder(drop='first').fit_transform(X_test_cat).toarray(),\n",
    "columns=OneHotEncoder(drop='first').fit(X_test_cat).get_feature_names(input_features=X_test_cat.columns))"
   ]
  },
  {
   "cell_type": "code",
   "execution_count": 404,
   "id": "707f5adf",
   "metadata": {},
   "outputs": [],
   "source": [
    "X_train_cat = X_train_cat.reset_index(drop=True)\n",
    "X_test_cat = X_test_cat.reset_index(drop=True)"
   ]
  },
  {
   "cell_type": "markdown",
   "id": "7006b949",
   "metadata": {},
   "source": [
    "### Standardize numerical"
   ]
  },
  {
   "cell_type": "code",
   "execution_count": 405,
   "id": "cf03f651",
   "metadata": {},
   "outputs": [
    {
     "data": {
      "text/html": [
       "<div>\n",
       "<style scoped>\n",
       "    .dataframe tbody tr th:only-of-type {\n",
       "        vertical-align: middle;\n",
       "    }\n",
       "\n",
       "    .dataframe tbody tr th {\n",
       "        vertical-align: top;\n",
       "    }\n",
       "\n",
       "    .dataframe thead th {\n",
       "        text-align: right;\n",
       "    }\n",
       "</style>\n",
       "<table border=\"1\" class=\"dataframe\">\n",
       "  <thead>\n",
       "    <tr style=\"text-align: right;\">\n",
       "      <th></th>\n",
       "      <th>sqft_living</th>\n",
       "      <th>sqft_lot</th>\n",
       "      <th>sqft_living15</th>\n",
       "      <th>sqft_lot15</th>\n",
       "      <th>sqft_basement</th>\n",
       "    </tr>\n",
       "  </thead>\n",
       "  <tbody>\n",
       "    <tr>\n",
       "      <th>16193</th>\n",
       "      <td>2750</td>\n",
       "      <td>5527</td>\n",
       "      <td>1290</td>\n",
       "      <td>1764</td>\n",
       "      <td>620</td>\n",
       "    </tr>\n",
       "    <tr>\n",
       "      <th>11152</th>\n",
       "      <td>1720</td>\n",
       "      <td>4000</td>\n",
       "      <td>1410</td>\n",
       "      <td>4000</td>\n",
       "      <td>270</td>\n",
       "    </tr>\n",
       "    <tr>\n",
       "      <th>7619</th>\n",
       "      <td>2500</td>\n",
       "      <td>11779</td>\n",
       "      <td>2580</td>\n",
       "      <td>12055</td>\n",
       "      <td>950</td>\n",
       "    </tr>\n",
       "    <tr>\n",
       "      <th>13421</th>\n",
       "      <td>1580</td>\n",
       "      <td>4000</td>\n",
       "      <td>2190</td>\n",
       "      <td>4000</td>\n",
       "      <td>0</td>\n",
       "    </tr>\n",
       "    <tr>\n",
       "      <th>1552</th>\n",
       "      <td>2360</td>\n",
       "      <td>11523</td>\n",
       "      <td>2850</td>\n",
       "      <td>11362</td>\n",
       "      <td>0</td>\n",
       "    </tr>\n",
       "    <tr>\n",
       "      <th>...</th>\n",
       "      <td>...</td>\n",
       "      <td>...</td>\n",
       "      <td>...</td>\n",
       "      <td>...</td>\n",
       "      <td>...</td>\n",
       "    </tr>\n",
       "    <tr>\n",
       "      <th>14000</th>\n",
       "      <td>3780</td>\n",
       "      <td>5160</td>\n",
       "      <td>2740</td>\n",
       "      <td>5160</td>\n",
       "      <td>1270</td>\n",
       "    </tr>\n",
       "    <tr>\n",
       "      <th>19509</th>\n",
       "      <td>2120</td>\n",
       "      <td>7806</td>\n",
       "      <td>1560</td>\n",
       "      <td>9920</td>\n",
       "      <td>350</td>\n",
       "    </tr>\n",
       "    <tr>\n",
       "      <th>2207</th>\n",
       "      <td>2960</td>\n",
       "      <td>7680</td>\n",
       "      <td>2860</td>\n",
       "      <td>7680</td>\n",
       "      <td>1410</td>\n",
       "    </tr>\n",
       "    <tr>\n",
       "      <th>15354</th>\n",
       "      <td>1690</td>\n",
       "      <td>8190</td>\n",
       "      <td>1840</td>\n",
       "      <td>8705</td>\n",
       "      <td>0</td>\n",
       "    </tr>\n",
       "    <tr>\n",
       "      <th>4671</th>\n",
       "      <td>2410</td>\n",
       "      <td>9549</td>\n",
       "      <td>2090</td>\n",
       "      <td>9549</td>\n",
       "      <td>630</td>\n",
       "    </tr>\n",
       "  </tbody>\n",
       "</table>\n",
       "<p>840 rows × 5 columns</p>\n",
       "</div>"
      ],
      "text/plain": [
       "       sqft_living  sqft_lot  sqft_living15  sqft_lot15  sqft_basement\n",
       "16193         2750      5527           1290        1764            620\n",
       "11152         1720      4000           1410        4000            270\n",
       "7619          2500     11779           2580       12055            950\n",
       "13421         1580      4000           2190        4000              0\n",
       "1552          2360     11523           2850       11362              0\n",
       "...            ...       ...            ...         ...            ...\n",
       "14000         3780      5160           2740        5160           1270\n",
       "19509         2120      7806           1560        9920            350\n",
       "2207          2960      7680           2860        7680           1410\n",
       "15354         1690      8190           1840        8705              0\n",
       "4671          2410      9549           2090        9549            630\n",
       "\n",
       "[840 rows x 5 columns]"
      ]
     },
     "execution_count": 405,
     "metadata": {},
     "output_type": "execute_result"
    }
   ],
   "source": [
    "X_train_num=X_train[['sqft_living','sqft_lot','sqft_living15','sqft_lot15','sqft_basement']]\n",
    "X_train_num\n",
    "\n",
    "X_test_num=X_test[['sqft_living','sqft_lot','sqft_living15','sqft_lot15','sqft_basement']]\n",
    "X_test_num"
   ]
  },
  {
   "cell_type": "code",
   "execution_count": 406,
   "id": "107a50d2",
   "metadata": {},
   "outputs": [],
   "source": [
    "std_scaler=StandardScaler().fit(X_train_num)   ## finding the parameters (mean, variance from the training set )\n",
    "\n",
    "X_train_scaled=std_scaler.transform(X_train_num)"
   ]
  },
  {
   "cell_type": "code",
   "execution_count": 407,
   "id": "8ba3086d",
   "metadata": {},
   "outputs": [],
   "source": [
    "X_test_scaled=std_scaler.transform(X_test_num)"
   ]
  },
  {
   "cell_type": "code",
   "execution_count": 408,
   "id": "f6d36497",
   "metadata": {},
   "outputs": [
    {
     "name": "stdout",
     "output_type": "stream",
     "text": [
      "[[-1.46566167 -0.08352838 -1.06927119 -0.41321926 -0.82803113]\n",
      " [ 0.6676496   0.86967578  1.40655092  0.76398424  1.50971437]\n",
      " [ 0.39364632 -1.38066416 -0.44677877 -1.74680617 -0.82803113]\n",
      " ...\n",
      " [ 0.1098572  -0.654154   -1.04097608 -0.70174953 -0.82803113]\n",
      " [-0.91765511  0.09881244 -1.11171385  0.69185168  0.18499192]\n",
      " [-0.31093355 -0.39477872 -1.05512364 -0.41321926  1.25645861]]\n",
      "--------\n",
      "[[ 0.28600217 -0.51746323 -1.43710762 -1.63543349  0.37980405]\n",
      " [-0.72193848 -0.91352928 -1.26733696 -0.9902798  -0.30203839]\n",
      " [ 0.04135638  1.10415104  0.38792697  1.33383153  1.02268406]\n",
      " ...\n",
      " [ 0.49150463  0.04097176  0.78405851  0.07151159  1.91881984]\n",
      " [-0.75129597  0.17325315 -0.6589921   0.36725512 -0.82803113]\n",
      " [-0.0467161   0.52574416 -0.30530322  0.61077467  0.39928526]]\n"
     ]
    }
   ],
   "source": [
    "print(X_train_scaled)\n",
    "print(\"--------\")\n",
    "print(X_test_scaled)"
   ]
  },
  {
   "cell_type": "code",
   "execution_count": 409,
   "id": "3a48500d",
   "metadata": {},
   "outputs": [],
   "source": [
    "X_train_scaled = pd.DataFrame(X_train_scaled, columns= X_train_num.columns)\n",
    "X_test_scaled = pd.DataFrame(X_test_scaled, columns= X_test_num.columns)"
   ]
  },
  {
   "cell_type": "code",
   "execution_count": 410,
   "id": "1255675e",
   "metadata": {},
   "outputs": [],
   "source": [
    "X_train_scaled = X_train_scaled.reset_index(drop=True)\n",
    "X_test_scaled = X_test_scaled.reset_index(drop=True)"
   ]
  },
  {
   "cell_type": "markdown",
   "id": "f56baef0",
   "metadata": {},
   "source": [
    "### Quantile Transformer"
   ]
  },
  {
   "cell_type": "markdown",
   "id": "68155b50",
   "metadata": {},
   "source": [
    "qt = QuantileTransformer(output_distribution=\"normal\").fit(X_train_scaled['sqft_living15'].to_numpy().reshape(-1,1))\n",
    "X_train_scaled['sqft_living15'] = qt.transform(X_train_scaled['sqft_living15'].to_numpy().reshape(-1,1))\n",
    "X_test_scaled['sqft_living15'] = qt.transform(X_test_scaled['sqft_living15'].to_numpy().reshape(-1,1))\n",
    "sns.displot(sqft_living15)"
   ]
  },
  {
   "cell_type": "markdown",
   "id": "aa483eb2",
   "metadata": {},
   "source": [
    "qt = QuantileTransformer(output_distribution=\"normal\").fit(X_train_scaled['sqft_lot15'].to_numpy().reshape(-1,1))\n",
    "X_train_scaled['sqft_lot15'] = qt.transform(X_train_scaled['sqft_lot15'].to_numpy().reshape(-1,1))\n",
    "X_test_scaled['sqft_lot15'] = qt.transform(X_test_scaled['sqft_lot15'].to_numpy().reshape(-1,1))\n",
    "sns.displot(sqft_lot15)"
   ]
  },
  {
   "cell_type": "markdown",
   "id": "dbb0105a",
   "metadata": {},
   "source": [
    "qt = QuantileTransformer(output_distribution=\"normal\").fit(X_train_scaled['sqft_above'].to_numpy().reshape(-1,1))\n",
    "X_train_scaled['sqft_above'] = qt.transform(X_train_scaled['sqft_above'].to_numpy().reshape(-1,1))\n",
    "X_test_scaled['sqft_above'] = qt.transform(X_test_scaled['sqft_above'].to_numpy().reshape(-1,1))\n",
    "sns.displot(sqft_above)"
   ]
  },
  {
   "cell_type": "markdown",
   "id": "17d03c54",
   "metadata": {},
   "source": [
    "## Concatination "
   ]
  },
  {
   "cell_type": "code",
   "execution_count": 411,
   "id": "96f435cc",
   "metadata": {},
   "outputs": [],
   "source": [
    "X_train_con=pd.concat([X_train_scaled,X_train_cat],axis=1)\n",
    "X_test_con=pd.concat([X_test_scaled,X_test_cat],axis=1)"
   ]
  },
  {
   "cell_type": "code",
   "execution_count": 412,
   "id": "4d7cf84b",
   "metadata": {},
   "outputs": [
    {
     "data": {
      "text/html": [
       "<div>\n",
       "<style scoped>\n",
       "    .dataframe tbody tr th:only-of-type {\n",
       "        vertical-align: middle;\n",
       "    }\n",
       "\n",
       "    .dataframe tbody tr th {\n",
       "        vertical-align: top;\n",
       "    }\n",
       "\n",
       "    .dataframe thead th {\n",
       "        text-align: right;\n",
       "    }\n",
       "</style>\n",
       "<table border=\"1\" class=\"dataframe\">\n",
       "  <thead>\n",
       "    <tr style=\"text-align: right;\">\n",
       "      <th></th>\n",
       "      <th>sqft_living</th>\n",
       "      <th>sqft_lot</th>\n",
       "      <th>sqft_living15</th>\n",
       "      <th>sqft_lot15</th>\n",
       "      <th>sqft_basement</th>\n",
       "      <th>bedrooms</th>\n",
       "      <th>bathrooms</th>\n",
       "      <th>view</th>\n",
       "      <th>floors</th>\n",
       "      <th>condition</th>\n",
       "      <th>grade</th>\n",
       "      <th>yr_built</th>\n",
       "      <th>zipcode</th>\n",
       "      <th>lat</th>\n",
       "      <th>long</th>\n",
       "      <th>waterfront_yes</th>\n",
       "    </tr>\n",
       "  </thead>\n",
       "  <tbody>\n",
       "    <tr>\n",
       "      <th>0</th>\n",
       "      <td>-1.465662</td>\n",
       "      <td>-0.083528</td>\n",
       "      <td>-1.069271</td>\n",
       "      <td>-0.413219</td>\n",
       "      <td>-0.828031</td>\n",
       "      <td>2</td>\n",
       "      <td>1.50</td>\n",
       "      <td>0</td>\n",
       "      <td>1.0</td>\n",
       "      <td>3</td>\n",
       "      <td>7</td>\n",
       "      <td>1910</td>\n",
       "      <td>98199</td>\n",
       "      <td>47.6490</td>\n",
       "      <td>-122.403</td>\n",
       "      <td>0</td>\n",
       "    </tr>\n",
       "    <tr>\n",
       "      <th>1</th>\n",
       "      <td>0.667650</td>\n",
       "      <td>0.869676</td>\n",
       "      <td>1.406551</td>\n",
       "      <td>0.763984</td>\n",
       "      <td>1.509714</td>\n",
       "      <td>4</td>\n",
       "      <td>2.00</td>\n",
       "      <td>1</td>\n",
       "      <td>1.0</td>\n",
       "      <td>3</td>\n",
       "      <td>7</td>\n",
       "      <td>1939</td>\n",
       "      <td>98199</td>\n",
       "      <td>47.6656</td>\n",
       "      <td>-122.406</td>\n",
       "      <td>0</td>\n",
       "    </tr>\n",
       "    <tr>\n",
       "      <th>2</th>\n",
       "      <td>0.393646</td>\n",
       "      <td>-1.380664</td>\n",
       "      <td>-0.446779</td>\n",
       "      <td>-1.746806</td>\n",
       "      <td>-0.828031</td>\n",
       "      <td>4</td>\n",
       "      <td>3.50</td>\n",
       "      <td>0</td>\n",
       "      <td>3.0</td>\n",
       "      <td>3</td>\n",
       "      <td>10</td>\n",
       "      <td>2013</td>\n",
       "      <td>98102</td>\n",
       "      <td>47.6262</td>\n",
       "      <td>-122.323</td>\n",
       "      <td>0</td>\n",
       "    </tr>\n",
       "    <tr>\n",
       "      <th>3</th>\n",
       "      <td>-0.330505</td>\n",
       "      <td>-0.550404</td>\n",
       "      <td>-0.359064</td>\n",
       "      <td>-0.413219</td>\n",
       "      <td>1.236977</td>\n",
       "      <td>4</td>\n",
       "      <td>1.75</td>\n",
       "      <td>0</td>\n",
       "      <td>1.0</td>\n",
       "      <td>4</td>\n",
       "      <td>8</td>\n",
       "      <td>1941</td>\n",
       "      <td>98199</td>\n",
       "      <td>47.6501</td>\n",
       "      <td>-122.395</td>\n",
       "      <td>0</td>\n",
       "    </tr>\n",
       "    <tr>\n",
       "      <th>4</th>\n",
       "      <td>1.881093</td>\n",
       "      <td>1.920146</td>\n",
       "      <td>2.835454</td>\n",
       "      <td>2.077663</td>\n",
       "      <td>-0.828031</td>\n",
       "      <td>5</td>\n",
       "      <td>3.50</td>\n",
       "      <td>0</td>\n",
       "      <td>2.0</td>\n",
       "      <td>3</td>\n",
       "      <td>11</td>\n",
       "      <td>2003</td>\n",
       "      <td>98075</td>\n",
       "      <td>47.5848</td>\n",
       "      <td>-121.969</td>\n",
       "      <td>0</td>\n",
       "    </tr>\n",
       "    <tr>\n",
       "      <th>...</th>\n",
       "      <td>...</td>\n",
       "      <td>...</td>\n",
       "      <td>...</td>\n",
       "      <td>...</td>\n",
       "      <td>...</td>\n",
       "      <td>...</td>\n",
       "      <td>...</td>\n",
       "      <td>...</td>\n",
       "      <td>...</td>\n",
       "      <td>...</td>\n",
       "      <td>...</td>\n",
       "      <td>...</td>\n",
       "      <td>...</td>\n",
       "      <td>...</td>\n",
       "      <td>...</td>\n",
       "      <td>...</td>\n",
       "    </tr>\n",
       "    <tr>\n",
       "      <th>1953</th>\n",
       "      <td>0.197930</td>\n",
       "      <td>0.315131</td>\n",
       "      <td>1.378256</td>\n",
       "      <td>0.389760</td>\n",
       "      <td>1.490233</td>\n",
       "      <td>5</td>\n",
       "      <td>2.75</td>\n",
       "      <td>4</td>\n",
       "      <td>1.0</td>\n",
       "      <td>5</td>\n",
       "      <td>8</td>\n",
       "      <td>1969</td>\n",
       "      <td>98006</td>\n",
       "      <td>47.5667</td>\n",
       "      <td>-122.155</td>\n",
       "      <td>0</td>\n",
       "    </tr>\n",
       "    <tr>\n",
       "      <th>1954</th>\n",
       "      <td>-0.066288</td>\n",
       "      <td>0.091550</td>\n",
       "      <td>2.000748</td>\n",
       "      <td>0.474011</td>\n",
       "      <td>-0.029301</td>\n",
       "      <td>3</td>\n",
       "      <td>2.25</td>\n",
       "      <td>1</td>\n",
       "      <td>1.0</td>\n",
       "      <td>3</td>\n",
       "      <td>10</td>\n",
       "      <td>1948</td>\n",
       "      <td>98105</td>\n",
       "      <td>47.6515</td>\n",
       "      <td>-122.278</td>\n",
       "      <td>0</td>\n",
       "    </tr>\n",
       "    <tr>\n",
       "      <th>1955</th>\n",
       "      <td>0.109857</td>\n",
       "      <td>-0.654154</td>\n",
       "      <td>-1.040976</td>\n",
       "      <td>-0.701750</td>\n",
       "      <td>-0.828031</td>\n",
       "      <td>3</td>\n",
       "      <td>2.50</td>\n",
       "      <td>0</td>\n",
       "      <td>2.0</td>\n",
       "      <td>3</td>\n",
       "      <td>11</td>\n",
       "      <td>1984</td>\n",
       "      <td>98102</td>\n",
       "      <td>47.6295</td>\n",
       "      <td>-122.320</td>\n",
       "      <td>0</td>\n",
       "    </tr>\n",
       "    <tr>\n",
       "      <th>1956</th>\n",
       "      <td>-0.917655</td>\n",
       "      <td>0.098812</td>\n",
       "      <td>-1.111714</td>\n",
       "      <td>0.691852</td>\n",
       "      <td>0.184992</td>\n",
       "      <td>3</td>\n",
       "      <td>1.50</td>\n",
       "      <td>0</td>\n",
       "      <td>1.0</td>\n",
       "      <td>4</td>\n",
       "      <td>7</td>\n",
       "      <td>1955</td>\n",
       "      <td>98006</td>\n",
       "      <td>47.5659</td>\n",
       "      <td>-122.141</td>\n",
       "      <td>0</td>\n",
       "    </tr>\n",
       "    <tr>\n",
       "      <th>1957</th>\n",
       "      <td>-0.310934</td>\n",
       "      <td>-0.394779</td>\n",
       "      <td>-1.055124</td>\n",
       "      <td>-0.413219</td>\n",
       "      <td>1.256459</td>\n",
       "      <td>2</td>\n",
       "      <td>1.00</td>\n",
       "      <td>0</td>\n",
       "      <td>1.0</td>\n",
       "      <td>4</td>\n",
       "      <td>7</td>\n",
       "      <td>1946</td>\n",
       "      <td>98199</td>\n",
       "      <td>47.6510</td>\n",
       "      <td>-122.399</td>\n",
       "      <td>0</td>\n",
       "    </tr>\n",
       "  </tbody>\n",
       "</table>\n",
       "<p>1958 rows × 16 columns</p>\n",
       "</div>"
      ],
      "text/plain": [
       "      sqft_living  sqft_lot  sqft_living15  sqft_lot15  sqft_basement  \\\n",
       "0       -1.465662 -0.083528      -1.069271   -0.413219      -0.828031   \n",
       "1        0.667650  0.869676       1.406551    0.763984       1.509714   \n",
       "2        0.393646 -1.380664      -0.446779   -1.746806      -0.828031   \n",
       "3       -0.330505 -0.550404      -0.359064   -0.413219       1.236977   \n",
       "4        1.881093  1.920146       2.835454    2.077663      -0.828031   \n",
       "...           ...       ...            ...         ...            ...   \n",
       "1953     0.197930  0.315131       1.378256    0.389760       1.490233   \n",
       "1954    -0.066288  0.091550       2.000748    0.474011      -0.029301   \n",
       "1955     0.109857 -0.654154      -1.040976   -0.701750      -0.828031   \n",
       "1956    -0.917655  0.098812      -1.111714    0.691852       0.184992   \n",
       "1957    -0.310934 -0.394779      -1.055124   -0.413219       1.256459   \n",
       "\n",
       "      bedrooms  bathrooms  view  floors  condition  grade  yr_built  zipcode  \\\n",
       "0            2       1.50     0     1.0          3      7      1910    98199   \n",
       "1            4       2.00     1     1.0          3      7      1939    98199   \n",
       "2            4       3.50     0     3.0          3     10      2013    98102   \n",
       "3            4       1.75     0     1.0          4      8      1941    98199   \n",
       "4            5       3.50     0     2.0          3     11      2003    98075   \n",
       "...        ...        ...   ...     ...        ...    ...       ...      ...   \n",
       "1953         5       2.75     4     1.0          5      8      1969    98006   \n",
       "1954         3       2.25     1     1.0          3     10      1948    98105   \n",
       "1955         3       2.50     0     2.0          3     11      1984    98102   \n",
       "1956         3       1.50     0     1.0          4      7      1955    98006   \n",
       "1957         2       1.00     0     1.0          4      7      1946    98199   \n",
       "\n",
       "          lat     long  waterfront_yes  \n",
       "0     47.6490 -122.403               0  \n",
       "1     47.6656 -122.406               0  \n",
       "2     47.6262 -122.323               0  \n",
       "3     47.6501 -122.395               0  \n",
       "4     47.5848 -121.969               0  \n",
       "...       ...      ...             ...  \n",
       "1953  47.5667 -122.155               0  \n",
       "1954  47.6515 -122.278               0  \n",
       "1955  47.6295 -122.320               0  \n",
       "1956  47.5659 -122.141               0  \n",
       "1957  47.6510 -122.399               0  \n",
       "\n",
       "[1958 rows x 16 columns]"
      ]
     },
     "execution_count": 412,
     "metadata": {},
     "output_type": "execute_result"
    }
   ],
   "source": [
    "X_train_con"
   ]
  },
  {
   "cell_type": "markdown",
   "id": "b4fe6b40",
   "metadata": {},
   "source": [
    "##  Apply Linear Regression"
   ]
  },
  {
   "cell_type": "markdown",
   "id": "78f0ec16",
   "metadata": {},
   "source": [
    "### Modelling using Statsmodels"
   ]
  },
  {
   "cell_type": "code",
   "execution_count": 413,
   "id": "6ef14eb7",
   "metadata": {},
   "outputs": [
    {
     "name": "stdout",
     "output_type": "stream",
     "text": [
      "                            OLS Regression Results                            \n",
      "==============================================================================\n",
      "Dep. Variable:                  price   R-squared:                       0.752\n",
      "Model:                            OLS   Adj. R-squared:                  0.750\n",
      "Method:                 Least Squares   F-statistic:                     367.0\n",
      "Date:                Tue, 08 Feb 2022   Prob (F-statistic):               0.00\n",
      "Time:                        15:01:21   Log-Likelihood:                -26811.\n",
      "No. Observations:                1958   AIC:                         5.366e+04\n",
      "Df Residuals:                    1941   BIC:                         5.375e+04\n",
      "Df Model:                          16                                         \n",
      "Covariance Type:            nonrobust                                         \n",
      "==================================================================================\n",
      "                     coef    std err          t      P>|t|      [0.025      0.975]\n",
      "----------------------------------------------------------------------------------\n",
      "const          -8.106e+07   1.19e+07     -6.799      0.000   -1.04e+08   -5.77e+07\n",
      "sqft_living     3.006e+05   1.29e+04     23.317      0.000    2.75e+05    3.26e+05\n",
      "sqft_lot        1.015e+04   1.17e+04      0.868      0.385   -1.28e+04    3.31e+04\n",
      "sqft_living15   4.452e+04   8182.272      5.442      0.000    2.85e+04    6.06e+04\n",
      "sqft_lot15     -1145.5139   1.24e+04     -0.093      0.926   -2.54e+04    2.31e+04\n",
      "sqft_basement  -7.306e+04   7378.689     -9.902      0.000   -8.75e+04   -5.86e+04\n",
      "bedrooms       -3.988e+04   6664.472     -5.984      0.000   -5.29e+04   -2.68e+04\n",
      "bathrooms       5.074e+04   1.09e+04      4.655      0.000    2.94e+04    7.21e+04\n",
      "view            3.309e+04   6657.870      4.971      0.000       2e+04    4.62e+04\n",
      "floors         -4.711e+04   1.46e+04     -3.218      0.001   -7.58e+04   -1.84e+04\n",
      "condition        2.87e+04   7704.748      3.725      0.000    1.36e+04    4.38e+04\n",
      "grade           7.595e+04   7548.424     10.061      0.000    6.11e+04    9.07e+04\n",
      "yr_built       -1692.6539    219.055     -7.727      0.000   -2122.261   -1263.047\n",
      "zipcode        -1720.4565    130.776    -13.156      0.000   -1976.932   -1463.981\n",
      "lat               8.8e+05   1.36e+05      6.487      0.000    6.14e+05    1.15e+06\n",
      "long            -1.73e+06   8.18e+04    -21.142      0.000   -1.89e+06   -1.57e+06\n",
      "waterfront_yes  8.071e+05   7.21e+04     11.190      0.000    6.66e+05    9.49e+05\n",
      "==============================================================================\n",
      "Omnibus:                      516.315   Durbin-Watson:                   1.965\n",
      "Prob(Omnibus):                  0.000   Jarque-Bera (JB):             3621.976\n",
      "Skew:                           1.052   Prob(JB):                         0.00\n",
      "Kurtosis:                       9.322   Cond. No.                     2.41e+08\n",
      "==============================================================================\n",
      "\n",
      "Notes:\n",
      "[1] Standard Errors assume that the covariance matrix of the errors is correctly specified.\n",
      "[2] The condition number is large, 2.41e+08. This might indicate that there are\n",
      "strong multicollinearity or other numerical problems.\n"
     ]
    },
    {
     "name": "stderr",
     "output_type": "stream",
     "text": [
      "/Users/louisarudow/opt/anaconda3/lib/python3.9/site-packages/statsmodels/tsa/tsatools.py:142: FutureWarning: In a future version of pandas all arguments of concat except for the argument 'objs' will be keyword-only\n",
      "  x = pd.concat(x[::order], 1)\n"
     ]
    }
   ],
   "source": [
    "X_train_const_scaled = sm.add_constant(X_train_con) # adding a constant\n",
    "\n",
    "model = sm.OLS(y_train, X_train_const_scaled).fit()\n",
    "predictions_train = model.predict(X_train_const_scaled) \n",
    "\n",
    "X_test_const_scaled = sm.add_constant(X_test_con) # adding a constant\n",
    "predictions_test = model.predict(X_test_const_scaled) \n",
    "print_model = model.summary()\n",
    "print(print_model)"
   ]
  },
  {
   "cell_type": "code",
   "execution_count": 414,
   "id": "fcb1c09d",
   "metadata": {},
   "outputs": [
    {
     "data": {
      "text/plain": [
       "0      1.041485e+06\n",
       "1      6.833018e+05\n",
       "2      6.891116e+05\n",
       "3      7.528358e+05\n",
       "4      9.874115e+05\n",
       "           ...     \n",
       "835    1.335734e+06\n",
       "836    5.865466e+05\n",
       "837    1.034128e+06\n",
       "838    6.631347e+05\n",
       "839    7.945552e+05\n",
       "Length: 840, dtype: float64"
      ]
     },
     "execution_count": 414,
     "metadata": {},
     "output_type": "execute_result"
    }
   ],
   "source": [
    "predictions_test"
   ]
  },
  {
   "cell_type": "code",
   "execution_count": 415,
   "id": "6e0e6767",
   "metadata": {},
   "outputs": [
    {
     "name": "stdout",
     "output_type": "stream",
     "text": [
      "0.749528417276174\n"
     ]
    }
   ],
   "source": [
    "#display adjusted R-squared\n",
    "print(model.rsquared_adj)"
   ]
  },
  {
   "cell_type": "markdown",
   "id": "844f986e",
   "metadata": {},
   "source": [
    "### Modeling using Scikit Learn"
   ]
  },
  {
   "cell_type": "code",
   "execution_count": 416,
   "id": "f126289e",
   "metadata": {},
   "outputs": [
    {
     "data": {
      "text/plain": [
       "LinearRegression()"
      ]
     },
     "execution_count": 416,
     "metadata": {},
     "output_type": "execute_result"
    }
   ],
   "source": [
    "model=LinearRegression()    # model\n",
    "model.fit(X_train_con, y_train)   # model train"
   ]
  },
  {
   "cell_type": "code",
   "execution_count": 417,
   "id": "78776cce",
   "metadata": {},
   "outputs": [
    {
     "data": {
      "text/plain": [
       "array([ 3.00641025e+05,  1.01461771e+04,  4.45243302e+04, -1.14551389e+03,\n",
       "       -7.30631475e+04, -3.98774073e+04,  5.07418302e+04,  3.30933608e+04,\n",
       "       -4.71123481e+04,  2.87002311e+04,  7.59457139e+04, -1.69265391e+03,\n",
       "       -1.72045650e+03,  8.79968964e+05, -1.72975844e+06,  8.07069471e+05])"
      ]
     },
     "execution_count": 417,
     "metadata": {},
     "output_type": "execute_result"
    }
   ],
   "source": [
    "model.coef_"
   ]
  },
  {
   "cell_type": "code",
   "execution_count": 418,
   "id": "1310d0fe",
   "metadata": {},
   "outputs": [
    {
     "data": {
      "text/plain": [
       "-81062341.6293295"
      ]
     },
     "execution_count": 418,
     "metadata": {},
     "output_type": "execute_result"
    }
   ],
   "source": [
    "model.intercept_"
   ]
  },
  {
   "cell_type": "markdown",
   "id": "4c27d4b4",
   "metadata": {},
   "source": [
    "Making prediction"
   ]
  },
  {
   "cell_type": "code",
   "execution_count": 419,
   "id": "47431280",
   "metadata": {},
   "outputs": [],
   "source": [
    "y_pred=model.predict(X_test_con)   # model prediction\n",
    "##y_pred_train=model.predict(X_train_scaled)"
   ]
  },
  {
   "cell_type": "code",
   "execution_count": 420,
   "id": "871a3611",
   "metadata": {},
   "outputs": [
    {
     "data": {
      "text/plain": [
       "0       865000\n",
       "1       620000\n",
       "2       730000\n",
       "3       690000\n",
       "4       957500\n",
       "        ...   \n",
       "835    1400000\n",
       "836     500000\n",
       "837    1050000\n",
       "838     530000\n",
       "839     758000\n",
       "Name: price, Length: 840, dtype: int64"
      ]
     },
     "execution_count": 420,
     "metadata": {},
     "output_type": "execute_result"
    }
   ],
   "source": [
    "y_test"
   ]
  },
  {
   "cell_type": "code",
   "execution_count": 421,
   "id": "d31d5ce1",
   "metadata": {},
   "outputs": [
    {
     "data": {
      "text/plain": [
       "array([1041485.10263756,  683301.8328051 ,  689111.56262934,\n",
       "        752835.84888342,  987411.54395902,  628742.30160595,\n",
       "        959092.53433201,  587086.98826849, 1171999.20873562,\n",
       "       1637774.47739154,  844952.87675661,  490402.96831444,\n",
       "        711651.92582306,  689964.15199491,  853587.54773894,\n",
       "        573903.58407599,  840671.95359972, 1230846.17266804,\n",
       "        964167.51360059,  841747.20361277,  921318.19503766,\n",
       "        434242.19219053,  905465.71939737,  783144.1839821 ,\n",
       "       1747656.62236983,  490502.71234968, 1011068.41019072,\n",
       "        589744.81915614,  874633.35282192,  530339.08896902,\n",
       "       1660155.73057219,  629029.30049351,  601312.9093312 ,\n",
       "        863407.86822891,  621836.63884169,  978071.28832978,\n",
       "        454267.61122264, 1108796.28740963,  656961.13894913,\n",
       "       1362816.99823394,  645722.47753882,  421125.96735755,\n",
       "       1004441.18680881, 1081938.72702098,  642419.72090331,\n",
       "        437356.10349672,  852806.61925535,  525108.982859  ,\n",
       "       1268832.38068306,  705765.53020051, 1112238.41595605,\n",
       "        848878.09764078,  518444.20396718,  878238.2228961 ,\n",
       "        925674.41318448, 1255414.71394466,  314354.56590244,\n",
       "       1213538.85410582,  674961.85982534,  656776.85588589,\n",
       "       1081838.26368555,  989529.67849512, 1067819.80466273,\n",
       "        461611.27494992, 1483484.69275549,  678970.36718011,\n",
       "        809207.9335233 ,  998737.69999588,  933211.37936115,\n",
       "        666696.05565512, 1425820.08009714,  592432.18196031,\n",
       "       1015194.05994061, 1128201.47602743, 1172090.45821083,\n",
       "        750316.77541676,  633770.38064387,  663575.24546841,\n",
       "       1050875.98031986, 1102521.84350723, 1229595.68105999,\n",
       "        707500.70546961,  714562.37048927, 1032138.80961543,\n",
       "        710033.66691913,  272975.70462245,  399722.94301483,\n",
       "        553009.45951508,  989622.01899332,  545991.94095924,\n",
       "        634320.70645154, 1300683.66341217,  952455.78484586,\n",
       "        864153.95621766, 1005710.18097462,  823587.14227435,\n",
       "        533716.5574441 ,  408141.92229511,  778051.63459176,\n",
       "       1233822.08749589,  834667.08091801,  752183.68239458,\n",
       "        460818.41577601,  598948.10080662, 1252292.3295162 ,\n",
       "       1638192.20067558,  565595.28303179, 1311676.64497267,\n",
       "        977765.93920478,  399543.08621252, 2347497.5787144 ,\n",
       "        572707.89594288,  462829.80341974,  535168.39969206,\n",
       "       1226099.54929441, 1416765.50068207,  656492.13036342,\n",
       "        916269.51919843,  538951.49557224, 1575493.61468306,\n",
       "        721619.24755701,  597607.50841963, 1376260.36636007,\n",
       "        761665.3982667 ,  695988.01342267,  518358.52217907,\n",
       "       1401392.23193386,  844585.537479  ,  477896.62909126,\n",
       "        965547.61201356,  767565.58407345, 1497365.24740943,\n",
       "        490353.33456011,  508159.36272337,  474127.23084931,\n",
       "       1217234.70797613,  763022.33081822,  515641.22812298,\n",
       "        674398.06172103,  669941.90552513,  724302.8733386 ,\n",
       "       1078927.72108527,  574587.61559823,  426073.71282643,\n",
       "        541201.72543371, 1353301.494315  ,  371881.14820646,\n",
       "        709569.46826784,  564480.28494461,  752161.17611167,\n",
       "        276829.65638548,  657310.57012422,  785612.09442693,\n",
       "       1134275.8830623 , 1419091.81600836,  594981.30292113,\n",
       "        861688.77042109, 1158671.48224376, 1455367.47396153,\n",
       "        989936.86495848, 2101574.71692175, 1108705.3943654 ,\n",
       "        466537.32290342,  672408.78191683,  371201.02385165,\n",
       "        749747.89706707, 1211723.37389085,  909408.48259851,\n",
       "        991194.03481779, 1296933.34651206, 1011462.28429222,\n",
       "        678477.03911336, 1005069.61761278, 1784181.47749078,\n",
       "        594642.10371104, 1629177.76888987,  490325.5380846 ,\n",
       "        730140.92548269, 1096839.83235204, 1029423.25389332,\n",
       "        793062.65269402,  995584.34689377,  850216.19357079,\n",
       "       1237566.73954174, 1130065.70009853, 1011265.40586144,\n",
       "       1017590.93136236, 1528710.96794969,  719456.09239231,\n",
       "        652247.2606584 ,  649805.44679639,  424505.11575541,\n",
       "        465361.99352941,  423014.08304638,  842186.2975589 ,\n",
       "       1778109.81288525, 1250911.55744502, 1462812.34984131,\n",
       "        143601.30527638,  664390.25120774,  783050.15672666,\n",
       "        707583.56391297,  421139.37700358,  817998.07323444,\n",
       "        774955.70510215,  801799.20143731,  735065.61016071,\n",
       "        610554.92575774, 2021773.20709372,  656380.64094967,\n",
       "        668742.9343418 ,  321823.38864842,  823001.37534645,\n",
       "       1113206.8482095 , 1227656.07152154,  655030.27714229,\n",
       "        905964.23985133,  611819.07760255, 1108802.79777268,\n",
       "       1310003.7975035 ,  357216.51937348,  491654.03130156,\n",
       "       1041583.3290447 ,  931139.77330801,  514743.75296482,\n",
       "        659569.0155037 , 1235651.7033264 , 1645309.97173518,\n",
       "        786463.39062229,  954630.04726392, 1101352.16141503,\n",
       "        796063.79174072,  675257.76166594,  864828.62480801,\n",
       "        883345.39928031,  561981.62889877,  484974.33623758,\n",
       "       1062978.33102459, 1485828.06326023, 1913753.68865536,\n",
       "        763054.44371769,  563366.233634  ,  562564.49609971,\n",
       "        851215.99197339, 1136753.3696008 ,  467886.16679618,\n",
       "        522036.01416746, 1069228.37539539,  689712.74223913,\n",
       "        956385.68234625, 1303680.65891889,  773639.00492522,\n",
       "        502334.71769327,  942321.33249274,  761855.89068112,\n",
       "        958647.51048854,  658176.55559734, 1364463.81173992,\n",
       "       1198019.58348225,  512978.64438036, 1205806.04660696,\n",
       "        803278.36467689,  509407.77666324,  994217.26891342,\n",
       "        974181.72035912,  675472.14223263,  481708.33126932,\n",
       "        913961.34268858,  753245.02345899, 1499391.28532842,\n",
       "        891894.88168716,  534511.56472746, 1073715.46117508,\n",
       "        480896.50851108, 1332902.00055523,  772622.25093819,\n",
       "        676787.40922737,  767418.08208844,  830832.44686301,\n",
       "       1151947.97691885,  598641.21085548, 1389900.58316502,\n",
       "       1227694.23260862,  879695.35033333,  735499.17267215,\n",
       "       1099535.96345335,  655585.30935594,  761060.69822878,\n",
       "       1878456.84947318,  602889.69120038,  581651.16556686,\n",
       "        669694.28925857, 2060842.16156033,  760679.26449972,\n",
       "        722013.98814054, 1148986.19710669, 1389520.2346544 ,\n",
       "        787827.09770992,  383397.72131477,  808674.90772812,\n",
       "        664235.45530641,  948640.66576816, 1293562.90763703,\n",
       "       1177265.14771235,  909434.77608445,  386991.2597087 ,\n",
       "        703141.60219394,  953625.34133822,  852441.99087134,\n",
       "       1010521.0504815 , 1146253.74529491, 1427454.52776626,\n",
       "       1023325.8677877 ,  567285.2983878 ,  831621.18297179,\n",
       "       1220160.98723128,  986103.61138731,  363464.75482328,\n",
       "        736858.54491134,  590370.67982522,  568975.69951037,\n",
       "       1360105.50779721,  976081.88603728,  589397.66691777,\n",
       "        419467.21402317,  597196.95538491, 1141634.26805967,\n",
       "       1295178.90723029,  517031.77550027,  882130.47939125,\n",
       "       1137023.16998215,  668271.02555731, 1499313.42228086,\n",
       "        351137.40799224, 1578866.8734201 , 1877949.81081942,\n",
       "        711451.43669873,  524573.02318895,  568987.6205633 ,\n",
       "       1570310.90166837,  340896.75461581,  669424.15676436,\n",
       "       1852540.98965755,  405703.78638458,  678458.28897071,\n",
       "        601157.16784623, 1017109.11954877,  527205.91513449,\n",
       "        348019.31423929, 1057012.5151529 ,  412571.80850841,\n",
       "       1066281.54085439,  695509.98958661,  741352.40005931,\n",
       "       1182628.78277272,  386912.63761505,  442734.71692108,\n",
       "        946648.2930854 , 1013661.00449099, 1627820.25355338,\n",
       "        793160.97638291,  542257.0570645 ,  524466.90217003,\n",
       "       1212683.59592691,  624230.64645307,  565015.97574198,\n",
       "        813326.85357279, 1059583.90834209,  151045.57671283,\n",
       "       1110709.54593334,  900761.90690002,  497248.58614919,\n",
       "        464429.06862792,  766548.93589601, 1007570.80042018,\n",
       "        563989.94828832,  859463.93651357,  659978.50604519,\n",
       "        724244.06794298,  747514.078145  ,  716118.50006083,\n",
       "        834763.80849674, 1407041.68230286, 1283977.6313971 ,\n",
       "        756219.3477997 ,  724669.09849292, 1108320.97879703,\n",
       "        762120.21986139, 1424062.60068791,  345799.24129096,\n",
       "        879569.34822857,  660129.31120931,  334777.67424649,\n",
       "        832115.31206408,  619357.6918225 ,  641063.74248636,\n",
       "        951344.02488747,  483539.13315567, 1057568.57243794,\n",
       "        682386.22963059,  446285.4060145 ,  368091.43969312,\n",
       "        810539.35124582, 1347396.64657548, 1204525.86423829,\n",
       "        808861.5396685 , 1290058.47608963,  623862.40885201,\n",
       "        736072.90240121,  689946.1839194 ,  986998.92117652,\n",
       "       1561305.56711286,  578717.34156322,  725639.06504351,\n",
       "        706842.15300564,  867225.46398756,  715172.04842687,\n",
       "        998599.71262804,  655914.28072603, 1029412.650497  ,\n",
       "       1465807.65325038, 1235382.66215651,  982337.48281497,\n",
       "       1296754.67072305,  920839.19917047, 1141788.36477065,\n",
       "       1662914.82266958, 1541505.39675312,  434268.12354586,\n",
       "        712137.22044384,  841357.30158122,  774935.17732298,\n",
       "        644350.71457911,  693645.5545826 , 1187251.34914055,\n",
       "        808203.12837037,  612934.7866967 ,  738462.50455087,\n",
       "        903310.06934433, 1319629.11664671,  704058.77824065,\n",
       "        297009.74968699, 1388086.52145836,  751937.44399431,\n",
       "       1333205.45579368, 1115226.64660999,  374464.97958073,\n",
       "       1136810.19122176, 1528212.9455065 ,  698652.40149331,\n",
       "        720405.31676477,  932640.86191434, 1095260.05606705,\n",
       "        632184.5334886 ,  432412.9158303 ,  434144.85067427,\n",
       "        930422.25558668, 1209662.68036607,  778075.955836  ,\n",
       "        610733.81644148, 1199217.92998677, 1052541.54046804,\n",
       "        872227.92009193, 1265300.66105081,  715221.0242137 ,\n",
       "       1854392.93612114,  913957.08610746,  581231.7877097 ,\n",
       "        650826.11096251,  962256.5283567 ,  932581.81201324,\n",
       "        959448.69920343,  956280.10499907,  590283.8944768 ,\n",
       "        921664.24973786,  903345.05399925,  819974.57495755,\n",
       "        548472.21572162, 1597461.30935712, 1151719.52059579,\n",
       "        664305.21708597, 1039221.03708622, 1660198.36029963,\n",
       "        348110.63106802, 1204157.16506496,  990434.38899922,\n",
       "        452692.59239198,  691255.50696543,  659656.22519338,\n",
       "       1110263.04442386,  499184.68852866,  559810.90683165,\n",
       "       1534883.46106395,  569909.52826227,  660065.22037816,\n",
       "       1050418.40036017,  811714.78451355,  765449.91755867,\n",
       "        837921.3387574 ,  682849.97532043,  721590.22483978,\n",
       "        752113.60681596,  795294.40299633, 1371274.33892897,\n",
       "        411403.65832524, 1213350.92906365,  697711.28734452,\n",
       "       1853193.25962117,  953716.04196298,  684186.53764662,\n",
       "        768620.42141496,  383590.71995658,  680412.10020649,\n",
       "        621516.15201063,  684534.98699279, 1280431.48787135,\n",
       "        440184.1386103 ,  621850.68933332, 1290059.95589685,\n",
       "       1482157.75308457, 1451707.99507312,  847410.94354329,\n",
       "        905269.56376362, 1051281.1055592 , 1608622.64019008,\n",
       "        987487.95153114, 1141356.58592734, 1819643.91586176,\n",
       "        987646.00998926, 1652401.89055781,  597167.97111951,\n",
       "       1253756.52889493, 1633238.18680555,  808232.70193458,\n",
       "        288469.60548756,  893336.13700131,  559482.1100249 ,\n",
       "        851794.66842623, 1213208.31689686, 1429144.13894391,\n",
       "       1150267.76234856,  984825.64798826,  401173.70067737,\n",
       "        813506.10292181,  781255.11227764,  822181.66365033,\n",
       "        852466.62359467,  845544.37629874, 1714235.87048036,\n",
       "       1075175.3087925 ,  957924.34564498,  425424.28066051,\n",
       "        762723.88386065,  751675.69431934,  352093.04117915,\n",
       "        890712.11709419,  925752.89054766, 1743659.86863117,\n",
       "       1320585.4710656 , 1575256.24899155, 1356414.58251739,\n",
       "        515448.8174271 ,  911802.90614036, 1588789.31500892,\n",
       "        509597.04123574,  578463.71073183,  289722.69695294,\n",
       "       1038464.824944  , 1653885.39124756,  753812.54604892,\n",
       "        630074.15394509,  893343.42513774,  888030.49892539,\n",
       "        623460.4331428 ,  735163.18589588,  874862.78352998,\n",
       "        350808.99771145,  530732.20595589,  613933.89569265,\n",
       "        601157.16784623,  875115.80233148,  516578.68552458,\n",
       "        356814.47956404, 1062448.55743299,  955290.31657839,\n",
       "        607135.49571449,  998568.41433424, 1386479.19481458,\n",
       "        733253.4207755 , 1177896.32487631,  737179.5475409 ,\n",
       "        834866.16070327, 1228107.91884361,  552442.95590079,\n",
       "        749850.24064049,  826464.5660587 ,  909913.34342992,\n",
       "       1709147.33738613,  641836.69009513,  571901.74435353,\n",
       "        619673.18836996,  660846.72633961, 1153989.85402042,\n",
       "       1427680.57879582, 1015347.56754443,  645685.93521941,\n",
       "        337345.95332932,  573994.9421079 ,  765624.31013814,\n",
       "        822554.30369651, 1448971.5414581 , 1309859.7313621 ,\n",
       "        624606.57200402,  482895.9478969 , 1834567.0439344 ,\n",
       "        209702.81570366,  901132.79376401, 1191924.59631497,\n",
       "        499703.67623526,  647907.51187748,  629883.22181267,\n",
       "       1230132.62809508,  661023.24195012,  776053.00116122,\n",
       "        666053.1609402 ,  580610.70103061,  552055.83291095,\n",
       "        680452.28188539,  556420.56011844,  726623.19214505,\n",
       "        630575.97984725,  613622.90786573,  418473.30031754,\n",
       "        779629.5913868 ,  764657.36410996,  714318.04957311,\n",
       "        631722.60945606, 1118490.09653908,  941731.31764725,\n",
       "       1318695.41101269, 1173447.23735054, 1516707.78875798,\n",
       "        561172.87373775,  604787.96305779, 1190141.4261907 ,\n",
       "       1314612.89722186,  894920.35800141,  720190.89481086,\n",
       "        634468.87273601,  994446.481768  ,  647985.28459117,\n",
       "        626011.56826594,  904940.30010441,  575613.38117157,\n",
       "        778645.7857061 ,  657258.01473618,  554427.0053224 ,\n",
       "       1095156.39709628, 1418356.61901924, 1252438.22046363,\n",
       "        570963.72527184,  686605.17191915,  802783.30705073,\n",
       "        527648.45473938, 1137092.08465979,  785782.96226224,\n",
       "        990231.85718596,  803048.72077553,  878480.30529031,\n",
       "        632128.29413846,  739641.27827437,  438551.03649372,\n",
       "       1733923.31273004,  656364.71545665,  496580.01671308,\n",
       "        219455.04943766,  354559.23452973,  406720.75628766,\n",
       "        676967.51000011, 1301944.41524214,  629000.88880323,\n",
       "        458403.88966346,  473021.56605506,  697274.7523338 ,\n",
       "       1355118.24975587,  821742.71370688,  710306.5380246 ,\n",
       "        498376.42281482,  761842.0634689 ,  721553.85760757,\n",
       "        987541.46686326,  894492.23779891, 1437628.57580692,\n",
       "        676189.64849959,  356242.60234359,  934244.87235248,\n",
       "       1340703.02939449,  698888.95109171,  152868.57989858,\n",
       "        512237.90309581,  507515.09745605, 1084639.40376091,\n",
       "       1739679.20753221, 1355740.37902194,  525350.93263251,\n",
       "        410139.88037211,  495261.09156039, 1012230.03612885,\n",
       "        846584.3770847 ,  855638.32587212,  721567.94967705,\n",
       "       1334896.38409626,  801752.60841815,  589232.83455399,\n",
       "        763548.82612127,  629391.99715856,  814836.61021657,\n",
       "        847511.06782827, 1168085.33525746,  705842.75990079,\n",
       "        686621.91162419,  964538.30399518,  557519.38209537,\n",
       "        676951.65519255, 1224054.30323721, 1705301.38398972,\n",
       "       1395274.06456837,  782651.88469779,  875462.25315148,\n",
       "        641935.0608978 , 1133365.12419944,  865794.9903982 ,\n",
       "        684887.2563453 , 1069938.23398435,  539535.7649719 ,\n",
       "        595842.46450508,  982773.57585509, 1885066.45053862,\n",
       "       1073390.33106744,  959811.00161697,  618620.38297567,\n",
       "       1005570.7452555 ,  776631.22977   ,  462965.36516237,\n",
       "       1142660.94176041,  436314.41068639,  613876.90351614,\n",
       "        548550.28018612,  969203.30427721,  659361.81039798,\n",
       "        656797.18598449,  541705.58651319,  527329.99421315,\n",
       "        556020.7282012 ,  779549.78393015,  541936.47205779,\n",
       "        448621.67441872,  515784.09073445, 1447217.70381571,\n",
       "        888467.88090673,  532671.90818495,  671326.48396762,\n",
       "        658001.25297725,  779796.41008568,  632475.71162349,\n",
       "        579563.37144691,  731561.37305191,  928549.86841807,\n",
       "        505497.73748827,  767770.58281714,  977682.5738163 ,\n",
       "       1089314.57722837,  729790.67495871,  482555.03798209,\n",
       "        419724.92231612,  753947.41010143,  739792.36385894,\n",
       "        275002.25291589,  718367.16283929, 1025825.79054877,\n",
       "        587758.29275209, 1321475.29355016,  330610.97793254,\n",
       "       1515988.47954044,  985864.39119411,  985000.10469401,\n",
       "        739390.86769868, 1135402.08965096,  777016.45998825,\n",
       "        714703.77389038,  817584.38691853,  538423.84151834,\n",
       "        460919.08057588,  480300.71639606,  485277.07824871,\n",
       "        544454.12643394,  479970.81143302,  984788.70444453,\n",
       "        986128.94584528,  689541.52742334,  632354.93891531,\n",
       "        691027.80420475,  689577.87243885,  791745.92707196,\n",
       "       1222189.54214752,  848675.1826154 ,  858327.37886366,\n",
       "       2590929.52680489, 1061771.13452964,  784423.10533285,\n",
       "       1268934.86213112, 1428923.21851361, 1431365.4435931 ,\n",
       "       1247900.01069435,  598089.99761772,  402659.4487929 ,\n",
       "        948679.07928345,  479426.02198111,  578139.71752036,\n",
       "        425768.23103905,  632586.60643169,  742874.18553706,\n",
       "        307215.96945417, 1286777.56322137,  608658.34105477,\n",
       "        924040.15231723, 1566570.75989646,  897740.62547776,\n",
       "        978944.03836571,  749791.20228958,  594425.32763806,\n",
       "        620544.3894145 ,  583952.1619678 ,  672340.22023794,\n",
       "       1124531.57893096, 1335733.75985852,  586546.58607611,\n",
       "       1034127.71436691,  663134.73929343,  794555.18774191])"
      ]
     },
     "execution_count": 421,
     "metadata": {},
     "output_type": "execute_result"
    }
   ],
   "source": [
    "y_pred"
   ]
  },
  {
   "cell_type": "code",
   "execution_count": 422,
   "id": "70d05f89",
   "metadata": {},
   "outputs": [
    {
     "data": {
      "text/html": [
       "<div>\n",
       "<style scoped>\n",
       "    .dataframe tbody tr th:only-of-type {\n",
       "        vertical-align: middle;\n",
       "    }\n",
       "\n",
       "    .dataframe tbody tr th {\n",
       "        vertical-align: top;\n",
       "    }\n",
       "\n",
       "    .dataframe thead th {\n",
       "        text-align: right;\n",
       "    }\n",
       "</style>\n",
       "<table border=\"1\" class=\"dataframe\">\n",
       "  <thead>\n",
       "    <tr style=\"text-align: right;\">\n",
       "      <th></th>\n",
       "      <th>y_test</th>\n",
       "      <th>y_pred</th>\n",
       "    </tr>\n",
       "  </thead>\n",
       "  <tbody>\n",
       "    <tr>\n",
       "      <th>0</th>\n",
       "      <td>865000</td>\n",
       "      <td>1.041485e+06</td>\n",
       "    </tr>\n",
       "    <tr>\n",
       "      <th>1</th>\n",
       "      <td>620000</td>\n",
       "      <td>6.833018e+05</td>\n",
       "    </tr>\n",
       "    <tr>\n",
       "      <th>2</th>\n",
       "      <td>730000</td>\n",
       "      <td>6.891116e+05</td>\n",
       "    </tr>\n",
       "    <tr>\n",
       "      <th>3</th>\n",
       "      <td>690000</td>\n",
       "      <td>7.528358e+05</td>\n",
       "    </tr>\n",
       "    <tr>\n",
       "      <th>4</th>\n",
       "      <td>957500</td>\n",
       "      <td>9.874115e+05</td>\n",
       "    </tr>\n",
       "    <tr>\n",
       "      <th>...</th>\n",
       "      <td>...</td>\n",
       "      <td>...</td>\n",
       "    </tr>\n",
       "    <tr>\n",
       "      <th>835</th>\n",
       "      <td>1400000</td>\n",
       "      <td>1.335734e+06</td>\n",
       "    </tr>\n",
       "    <tr>\n",
       "      <th>836</th>\n",
       "      <td>500000</td>\n",
       "      <td>5.865466e+05</td>\n",
       "    </tr>\n",
       "    <tr>\n",
       "      <th>837</th>\n",
       "      <td>1050000</td>\n",
       "      <td>1.034128e+06</td>\n",
       "    </tr>\n",
       "    <tr>\n",
       "      <th>838</th>\n",
       "      <td>530000</td>\n",
       "      <td>6.631347e+05</td>\n",
       "    </tr>\n",
       "    <tr>\n",
       "      <th>839</th>\n",
       "      <td>758000</td>\n",
       "      <td>7.945552e+05</td>\n",
       "    </tr>\n",
       "  </tbody>\n",
       "</table>\n",
       "<p>840 rows × 2 columns</p>\n",
       "</div>"
      ],
      "text/plain": [
       "      y_test        y_pred\n",
       "0     865000  1.041485e+06\n",
       "1     620000  6.833018e+05\n",
       "2     730000  6.891116e+05\n",
       "3     690000  7.528358e+05\n",
       "4     957500  9.874115e+05\n",
       "..       ...           ...\n",
       "835  1400000  1.335734e+06\n",
       "836   500000  5.865466e+05\n",
       "837  1050000  1.034128e+06\n",
       "838   530000  6.631347e+05\n",
       "839   758000  7.945552e+05\n",
       "\n",
       "[840 rows x 2 columns]"
      ]
     },
     "execution_count": 422,
     "metadata": {},
     "output_type": "execute_result"
    }
   ],
   "source": [
    "result=pd.DataFrame({\"y_test\":y_test,\"y_pred\":y_pred})\n",
    "result"
   ]
  },
  {
   "cell_type": "markdown",
   "id": "0ed86b8f",
   "metadata": {},
   "source": [
    "Linear Regression Train-test split. Standardize the data (after the data split). Apply linear regression. Model Interpretation. Model Validation Model Evaluation: MSE. RMSE. MAE. R2. Adjusted R2. Feature Importance."
   ]
  },
  {
   "cell_type": "code",
   "execution_count": 423,
   "id": "c38841e0",
   "metadata": {},
   "outputs": [
    {
     "data": {
      "text/plain": [
       "[<matplotlib.lines.Line2D at 0x7f8972973340>]"
      ]
     },
     "execution_count": 423,
     "metadata": {},
     "output_type": "execute_result"
    },
    {
     "data": {
      "image/png": "[encoded data removed]",
      "text/plain": [
       "<Figure size 1008x288 with 3 Axes>"
      ]
     },
     "metadata": {
      "needs_background": "light"
     },
     "output_type": "display_data"
    }
   ],
   "source": [
    "# Make an scatter plot y_pred vs y\n",
    "# What kind of plot you will get if all the all the predictions are ok?\n",
    "# A stright line\n",
    "\n",
    "fig, ax = plt.subplots(1,3,figsize=(14,4))\n",
    "ax[0].plot(y_pred, y_test, 'o')\n",
    "ax[0].set_xlabel(\"y_test\")\n",
    "ax[0].set_ylabel(\"y_pred\")\n",
    "ax[0].set_title(\"Test Set -Predicted vs real\")\n",
    "\n",
    "# Get a histogram of the residuals ie: y - y_pred.  Homoscdasticity\n",
    "# It resembles a normal distribution?\n",
    "ax[1].hist(y_test - y_pred)\n",
    "ax[1].set_xlabel(\"Test y-y_pred\")\n",
    "ax[1].set_title(\"Test Set Residual histogram\")\n",
    "\n",
    "ax[2].plot(y_pred,y_test - y_pred,\"o\")\n",
    "ax[2].set_xlabel(\"predited\")\n",
    "ax[2].set_ylabel(\"residuals\")\n",
    "ax[2].set_title(\"Residuals by Predicted\")\n",
    "ax[2].plot(y_pred,np.zeros(len(y_pred)),linestyle='dashed')"
   ]
  },
  {
   "cell_type": "markdown",
   "id": "cce873a1",
   "metadata": {},
   "source": [
    "#### Error metrics"
   ]
  },
  {
   "cell_type": "code",
   "execution_count": 424,
   "id": "3ac64b1f",
   "metadata": {},
   "outputs": [
    {
     "name": "stdout",
     "output_type": "stream",
     "text": [
      "58218473365.24667\n",
      "162141.82052303856\n"
     ]
    }
   ],
   "source": [
    "print(mse(y_test,y_pred))\n",
    "print(mae(y_test,y_pred))"
   ]
  },
  {
   "cell_type": "code",
   "execution_count": 425,
   "id": "3039b5aa",
   "metadata": {},
   "outputs": [
    {
     "data": {
      "text/plain": [
       "0.7097667253185571"
      ]
     },
     "execution_count": 425,
     "metadata": {},
     "output_type": "execute_result"
    }
   ],
   "source": [
    "R2=r2_score(y_test,y_pred)\n",
    "R2"
   ]
  },
  {
   "cell_type": "code",
   "execution_count": 426,
   "id": "d471f49d",
   "metadata": {},
   "outputs": [
    {
     "data": {
      "text/plain": [
       "16"
      ]
     },
     "execution_count": 426,
     "metadata": {},
     "output_type": "execute_result"
    }
   ],
   "source": [
    "X_test.shape[1]"
   ]
  },
  {
   "cell_type": "code",
   "execution_count": 427,
   "id": "993ed017",
   "metadata": {},
   "outputs": [
    {
     "data": {
      "text/plain": [
       "0.7041242801242642"
      ]
     },
     "execution_count": 427,
     "metadata": {},
     "output_type": "execute_result"
    }
   ],
   "source": [
    "Adj_R2= 1 - (1-R2)*(len(y_test)-1)/(len(y_test)-X_test.shape[1]-1)\n",
    "Adj_R2"
   ]
  },
  {
   "cell_type": "markdown",
   "id": "cb2bb8b2",
   "metadata": {},
   "source": [
    "#### Feature Importance"
   ]
  },
  {
   "cell_type": "code",
   "execution_count": 428,
   "id": "1e7d9bb0",
   "metadata": {},
   "outputs": [],
   "source": [
    "features_importances = pd.DataFrame(data={\n",
    "    'Attribute': X_train_con.columns,\n",
    "    'Importance': abs(model.coef_)\n",
    "})\n",
    "features_importances = features_importances.sort_values(by='Importance')"
   ]
  },
  {
   "cell_type": "code",
   "execution_count": 429,
   "id": "b08adec0",
   "metadata": {},
   "outputs": [
    {
     "data": {
      "text/html": [
       "<div>\n",
       "<style scoped>\n",
       "    .dataframe tbody tr th:only-of-type {\n",
       "        vertical-align: middle;\n",
       "    }\n",
       "\n",
       "    .dataframe tbody tr th {\n",
       "        vertical-align: top;\n",
       "    }\n",
       "\n",
       "    .dataframe thead th {\n",
       "        text-align: right;\n",
       "    }\n",
       "</style>\n",
       "<table border=\"1\" class=\"dataframe\">\n",
       "  <thead>\n",
       "    <tr style=\"text-align: right;\">\n",
       "      <th></th>\n",
       "      <th>Attribute</th>\n",
       "      <th>Importance</th>\n",
       "    </tr>\n",
       "  </thead>\n",
       "  <tbody>\n",
       "    <tr>\n",
       "      <th>3</th>\n",
       "      <td>sqft_lot15</td>\n",
       "      <td>1.145514e+03</td>\n",
       "    </tr>\n",
       "    <tr>\n",
       "      <th>11</th>\n",
       "      <td>yr_built</td>\n",
       "      <td>1.692654e+03</td>\n",
       "    </tr>\n",
       "    <tr>\n",
       "      <th>12</th>\n",
       "      <td>zipcode</td>\n",
       "      <td>1.720456e+03</td>\n",
       "    </tr>\n",
       "    <tr>\n",
       "      <th>1</th>\n",
       "      <td>sqft_lot</td>\n",
       "      <td>1.014618e+04</td>\n",
       "    </tr>\n",
       "    <tr>\n",
       "      <th>9</th>\n",
       "      <td>condition</td>\n",
       "      <td>2.870023e+04</td>\n",
       "    </tr>\n",
       "    <tr>\n",
       "      <th>7</th>\n",
       "      <td>view</td>\n",
       "      <td>3.309336e+04</td>\n",
       "    </tr>\n",
       "    <tr>\n",
       "      <th>5</th>\n",
       "      <td>bedrooms</td>\n",
       "      <td>3.987741e+04</td>\n",
       "    </tr>\n",
       "    <tr>\n",
       "      <th>2</th>\n",
       "      <td>sqft_living15</td>\n",
       "      <td>4.452433e+04</td>\n",
       "    </tr>\n",
       "    <tr>\n",
       "      <th>8</th>\n",
       "      <td>floors</td>\n",
       "      <td>4.711235e+04</td>\n",
       "    </tr>\n",
       "    <tr>\n",
       "      <th>6</th>\n",
       "      <td>bathrooms</td>\n",
       "      <td>5.074183e+04</td>\n",
       "    </tr>\n",
       "    <tr>\n",
       "      <th>4</th>\n",
       "      <td>sqft_basement</td>\n",
       "      <td>7.306315e+04</td>\n",
       "    </tr>\n",
       "    <tr>\n",
       "      <th>10</th>\n",
       "      <td>grade</td>\n",
       "      <td>7.594571e+04</td>\n",
       "    </tr>\n",
       "    <tr>\n",
       "      <th>0</th>\n",
       "      <td>sqft_living</td>\n",
       "      <td>3.006410e+05</td>\n",
       "    </tr>\n",
       "    <tr>\n",
       "      <th>15</th>\n",
       "      <td>waterfront_yes</td>\n",
       "      <td>8.070695e+05</td>\n",
       "    </tr>\n",
       "    <tr>\n",
       "      <th>13</th>\n",
       "      <td>lat</td>\n",
       "      <td>8.799690e+05</td>\n",
       "    </tr>\n",
       "    <tr>\n",
       "      <th>14</th>\n",
       "      <td>long</td>\n",
       "      <td>1.729758e+06</td>\n",
       "    </tr>\n",
       "  </tbody>\n",
       "</table>\n",
       "</div>"
      ],
      "text/plain": [
       "         Attribute    Importance\n",
       "3       sqft_lot15  1.145514e+03\n",
       "11        yr_built  1.692654e+03\n",
       "12         zipcode  1.720456e+03\n",
       "1         sqft_lot  1.014618e+04\n",
       "9        condition  2.870023e+04\n",
       "7             view  3.309336e+04\n",
       "5         bedrooms  3.987741e+04\n",
       "2    sqft_living15  4.452433e+04\n",
       "8           floors  4.711235e+04\n",
       "6        bathrooms  5.074183e+04\n",
       "4    sqft_basement  7.306315e+04\n",
       "10           grade  7.594571e+04\n",
       "0      sqft_living  3.006410e+05\n",
       "15  waterfront_yes  8.070695e+05\n",
       "13             lat  8.799690e+05\n",
       "14            long  1.729758e+06"
      ]
     },
     "execution_count": 429,
     "metadata": {},
     "output_type": "execute_result"
    }
   ],
   "source": [
    "features_importances"
   ]
  },
  {
   "cell_type": "code",
   "execution_count": 430,
   "id": "803e4d70",
   "metadata": {},
   "outputs": [
    {
     "data": {
      "image/png": "[encoded data removed]",
      "text/plain": [
       "<Figure size 432x288 with 1 Axes>"
      ]
     },
     "metadata": {
      "needs_background": "light"
     },
     "output_type": "display_data"
    }
   ],
   "source": [
    "plt.bar(x=features_importances['Attribute'], height=features_importances['Importance'], color='#087E8B')\n",
    "plt.title('Feature importances obtained from coefficients', size=20)\n",
    "plt.xticks(rotation='vertical')\n",
    "plt.show()"
   ]
  },
  {
   "cell_type": "markdown",
   "id": "7d7157ec",
   "metadata": {},
   "source": [
    "#### Evaluating predictions"
   ]
  },
  {
   "cell_type": "code",
   "execution_count": 431,
   "id": "2ab9917f",
   "metadata": {},
   "outputs": [
    {
     "data": {
      "text/plain": [
       "162141.8205230385"
      ]
     },
     "execution_count": 431,
     "metadata": {},
     "output_type": "execute_result"
    }
   ],
   "source": [
    "# MAE: mean absolute error\n",
    "MAE = np.mean( np.abs( y_test - y_pred ) )\n",
    "MAE"
   ]
  },
  {
   "cell_type": "code",
   "execution_count": 432,
   "id": "94cc093d",
   "metadata": {},
   "outputs": [
    {
     "data": {
      "text/plain": [
       "58218473365.24661"
      ]
     },
     "execution_count": 432,
     "metadata": {},
     "output_type": "execute_result"
    }
   ],
   "source": [
    "# MSE: mean squared error\n",
    "MSE = np.mean( np.power( y_test - y_pred , 2 ) )\n",
    "MSE"
   ]
  },
  {
   "cell_type": "code",
   "execution_count": 433,
   "id": "8cde11fc",
   "metadata": {},
   "outputs": [
    {
     "data": {
      "text/plain": [
       "241285.04587986096"
      ]
     },
     "execution_count": 433,
     "metadata": {},
     "output_type": "execute_result"
    }
   ],
   "source": [
    "# RMSE: root mean squared error\n",
    "RMSE = np.sqrt(MSE)\n",
    "RMSE"
   ]
  },
  {
   "cell_type": "code",
   "execution_count": 434,
   "id": "ea376ca3",
   "metadata": {
    "scrolled": true
   },
   "outputs": [
    {
     "data": {
      "text/plain": [
       "array([[<AxesSubplot:title={'center':'bedrooms'}>,\n",
       "        <AxesSubplot:title={'center':'bathrooms'}>,\n",
       "        <AxesSubplot:title={'center':'sqft_living'}>,\n",
       "        <AxesSubplot:title={'center':'sqft_lot'}>],\n",
       "       [<AxesSubplot:title={'center':'floors'}>,\n",
       "        <AxesSubplot:title={'center':'view'}>,\n",
       "        <AxesSubplot:title={'center':'condition'}>,\n",
       "        <AxesSubplot:title={'center':'grade'}>],\n",
       "       [<AxesSubplot:title={'center':'sqft_basement'}>,\n",
       "        <AxesSubplot:title={'center':'yr_built'}>,\n",
       "        <AxesSubplot:title={'center':'zipcode'}>,\n",
       "        <AxesSubplot:title={'center':'lat'}>],\n",
       "       [<AxesSubplot:title={'center':'long'}>,\n",
       "        <AxesSubplot:title={'center':'sqft_living15'}>,\n",
       "        <AxesSubplot:title={'center':'sqft_lot15'}>, <AxesSubplot:>]],\n",
       "      dtype=object)"
      ]
     },
     "execution_count": 434,
     "metadata": {},
     "output_type": "execute_result"
    },
    {
     "data": {
      "image/png": "[encoded data removed]",
      "text/plain": [
       "<Figure size 864x864 with 16 Axes>"
      ]
     },
     "metadata": {
      "needs_background": "light"
     },
     "output_type": "display_data"
    }
   ],
   "source": [
    "X.hist(figsize=(12,12))"
   ]
  },
  {
   "cell_type": "code",
   "execution_count": null,
   "id": "ce9ecaef",
   "metadata": {},
   "outputs": [],
   "source": []
  }
 ],
 "metadata": {
  "kernelspec": {
   "display_name": "Python 3.9.7 64-bit ('base': conda)",
   "language": "python",
   "name": "python397jvsc74a57bd0fd728cfbfdf309c58cb1716ce92887498871f2fbed01fb0dfdf39b6c2f09a82b"
  },
  "language_info": {
   "codemirror_mode": {
    "name": "ipython",
    "version": 3
   },
   "file_extension": ".py",
   "mimetype": "text/x-python",
   "name": "python",
   "nbconvert_exporter": "python",
   "pygments_lexer": "ipython3",
   "version": "3.9.7"
  },
  "toc": {
   "base_numbering": 1,
   "nav_menu": {},
   "number_sections": true,
   "sideBar": true,
   "skip_h1_title": true,
   "title_cell": "Table of Contents",
   "title_sidebar": "Contents",
   "toc_cell": false,
   "toc_position": {},
   "toc_section_display": true,
   "toc_window_display": false
  },
  "varInspector": {
   "cols": {
    "lenName": 16,
    "lenType": 16,
    "lenVar": 40
   },
   "kernels_config": {
    "python": {
     "delete_cmd_postfix": "",
     "delete_cmd_prefix": "del ",
     "library": "var_list.py",
     "varRefreshCmd": "print(var_dic_list())"
    },
    "r": {
     "delete_cmd_postfix": ") ",
     "delete_cmd_prefix": "rm(",
     "library": "var_list.r",
     "varRefreshCmd": "cat(var_dic_list()) "
    }
   },
   "types_to_exclude": [
    "module",
    "function",
    "builtin_function_or_method",
    "instance",
    "_Feature"
   ],
   "window_display": false
  }
 },
 "nbformat": 4,
 "nbformat_minor": 5
}
