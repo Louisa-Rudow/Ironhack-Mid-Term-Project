{
 "cells": [
  {
   "cell_type": "markdown",
   "id": "34e6a5b1",
   "metadata": {},
   "source": [
    "# Importing modules"
   ]
  },
  {
   "cell_type": "code",
   "execution_count": 511,
   "id": "8c48d080",
   "metadata": {},
   "outputs": [],
   "source": [
    "import numpy as np\n",
    "import pandas as pd\n",
    "import matplotlib.pyplot as plt\n",
    "%matplotlib inline\n",
    "import seaborn as sns\n",
    "import statsmodels.api as sm\n",
    "from scipy.stats import boxcox\n",
    "\n",
    "pd.options.display.max_rows = 50\n",
    "\n",
    "from sklearn.preprocessing import StandardScaler\n",
    "from sklearn.preprocessing import QuantileTransformer\n",
    "from sklearn.preprocessing import minmax_scale\n",
    "from sklearn.preprocessing import OneHotEncoder  ##. better to use dummy from pandas \n",
    "from sklearn.preprocessing import PowerTransformer\n",
    "from sklearn.linear_model import LinearRegression\n",
    "from sklearn.model_selection import train_test_split\n",
    "from sklearn.model_selection import train_test_split\n",
    "from sklearn.metrics import r2_score\n",
    "from sklearn.metrics import mean_squared_error as mse\n",
    "from sklearn.metrics import mean_absolute_error as mae\n",
    "pd.options.display.max_rows = 50\n",
    "## Install xlrd package to load Excel files\n",
    "# conda install openpyxl\n",
    "## conda install xlrd"
   ]
  },
  {
   "cell_type": "markdown",
   "id": "6b6e6b9b",
   "metadata": {},
   "source": [
    "## Data Cleaning"
   ]
  },
  {
   "cell_type": "markdown",
   "id": "731d327f",
   "metadata": {},
   "source": [
    "### loading & exploring Data"
   ]
  },
  {
   "cell_type": "code",
   "execution_count": 512,
   "id": "7c55a086",
   "metadata": {},
   "outputs": [],
   "source": [
    "re_df = pd.read_excel('Data_MidTerm_Project_Real_State_Regression.xls')"
   ]
  },
  {
   "cell_type": "code",
   "execution_count": 513,
   "id": "ab3a1d6d",
   "metadata": {},
   "outputs": [
    {
     "data": {
      "text/plain": [
       "Index(['id', 'date', 'bedrooms', 'bathrooms', 'sqft_living', 'sqft_lot',\n",
       "       'floors', 'waterfront', 'view', 'condition', 'grade', 'sqft_above',\n",
       "       'sqft_basement', 'yr_built', 'yr_renovated', 'zipcode', 'lat', 'long',\n",
       "       'sqft_living15', 'sqft_lot15', 'price'],\n",
       "      dtype='object')"
      ]
     },
     "execution_count": 513,
     "metadata": {},
     "output_type": "execute_result"
    }
   ],
   "source": [
    "re_df.columns"
   ]
  },
  {
   "cell_type": "code",
   "execution_count": 514,
   "id": "5f5d1160",
   "metadata": {},
   "outputs": [
    {
     "data": {
      "text/plain": [
       "id                        int64\n",
       "date             datetime64[ns]\n",
       "bedrooms                  int64\n",
       "bathrooms               float64\n",
       "sqft_living               int64\n",
       "sqft_lot                  int64\n",
       "floors                  float64\n",
       "waterfront                int64\n",
       "view                      int64\n",
       "condition                 int64\n",
       "grade                     int64\n",
       "sqft_above                int64\n",
       "sqft_basement             int64\n",
       "yr_built                  int64\n",
       "yr_renovated              int64\n",
       "zipcode                   int64\n",
       "lat                     float64\n",
       "long                    float64\n",
       "sqft_living15             int64\n",
       "sqft_lot15                int64\n",
       "price                     int64\n",
       "dtype: object"
      ]
     },
     "execution_count": 514,
     "metadata": {},
     "output_type": "execute_result"
    }
   ],
   "source": [
    "re_df.dtypes"
   ]
  },
  {
   "cell_type": "markdown",
   "id": "94404bb4",
   "metadata": {},
   "source": [
    "numerical:\n",
    "'sqft_living', \n",
    "'sqft_lot',\n",
    "'sqft_living15'\n",
    "'sqft_lot15'\n",
    "'sqft_above',\n",
    "'sqft_basement'\n",
    "'price'\n",
    "\n",
    "categorical:\n",
    "bedrooms\n",
    "bathrooms\n",
    "floors in integer\n",
    "waterfront = categorical (yes/no)   = view?\n",
    "'condition'\n",
    "'grade'\n",
    "'yr_built'\n",
    "'yr_renovated'  = replace 0 with nan \n",
    "'zipcode'\n",
    "'lat'\n",
    "'long'\n"
   ]
  },
  {
   "cell_type": "markdown",
   "id": "67f5bbf2",
   "metadata": {},
   "source": [
    "### dropping columns"
   ]
  },
  {
   "cell_type": "code",
   "execution_count": 515,
   "id": "a7afd9eb",
   "metadata": {},
   "outputs": [],
   "source": [
    "re_df.drop(['id'],axis=1, inplace=True)\n",
    "#re_df.drop(['date'],axis=1, inplace=True)\n",
    "#re_df.drop(['sqft_lot'],axis=1, inplace=True)\n",
    "#re_df.drop(['lat'],axis=1, inplace=True)\n",
    "#re_df.drop(['long'],axis=1, inplace=True)"
   ]
  },
  {
   "cell_type": "markdown",
   "id": "69de9a82",
   "metadata": {},
   "source": [
    "### correcting data types"
   ]
  },
  {
   "cell_type": "code",
   "execution_count": 516,
   "id": "14785b26",
   "metadata": {},
   "outputs": [
    {
     "name": "stdout",
     "output_type": "stream",
     "text": [
      "<class 'pandas.core.frame.DataFrame'>\n",
      "RangeIndex: 21597 entries, 0 to 21596\n",
      "Data columns (total 20 columns):\n",
      " #   Column         Non-Null Count  Dtype         \n",
      "---  ------         --------------  -----         \n",
      " 0   date           21597 non-null  datetime64[ns]\n",
      " 1   bedrooms       21597 non-null  int64         \n",
      " 2   bathrooms      21597 non-null  float64       \n",
      " 3   sqft_living    21597 non-null  int64         \n",
      " 4   sqft_lot       21597 non-null  int64         \n",
      " 5   floors         21597 non-null  float64       \n",
      " 6   waterfront     21597 non-null  int64         \n",
      " 7   view           21597 non-null  int64         \n",
      " 8   condition      21597 non-null  int64         \n",
      " 9   grade          21597 non-null  int64         \n",
      " 10  sqft_above     21597 non-null  int64         \n",
      " 11  sqft_basement  21597 non-null  int64         \n",
      " 12  yr_built       21597 non-null  int64         \n",
      " 13  yr_renovated   21597 non-null  int64         \n",
      " 14  zipcode        21597 non-null  int64         \n",
      " 15  lat            21597 non-null  float64       \n",
      " 16  long           21597 non-null  float64       \n",
      " 17  sqft_living15  21597 non-null  int64         \n",
      " 18  sqft_lot15     21597 non-null  int64         \n",
      " 19  price          21597 non-null  int64         \n",
      "dtypes: datetime64[ns](1), float64(4), int64(15)\n",
      "memory usage: 3.3 MB\n"
     ]
    }
   ],
   "source": [
    "re_df.info()"
   ]
  },
  {
   "cell_type": "code",
   "execution_count": 517,
   "id": "889a7627",
   "metadata": {},
   "outputs": [],
   "source": [
    "re_df[\"floors\"] = re_df[\"floors\"].astype(int)"
   ]
  },
  {
   "cell_type": "markdown",
   "id": "98247312",
   "metadata": {},
   "source": [
    "### droping nan values"
   ]
  },
  {
   "cell_type": "code",
   "execution_count": 518,
   "id": "3c3fc3bf",
   "metadata": {},
   "outputs": [],
   "source": [
    "#re_df.dropna(inplace=True)"
   ]
  },
  {
   "cell_type": "markdown",
   "id": "e383f60b",
   "metadata": {},
   "source": [
    "### removing duplicates"
   ]
  },
  {
   "cell_type": "code",
   "execution_count": 519,
   "id": "1405f80d",
   "metadata": {},
   "outputs": [],
   "source": [
    "#re_df.drop_duplicates(inplace=True)"
   ]
  },
  {
   "cell_type": "markdown",
   "id": "b8977a15",
   "metadata": {},
   "source": [
    "### Replacing null values with nan"
   ]
  },
  {
   "cell_type": "markdown",
   "id": "3093ec26",
   "metadata": {},
   "source": [
    "#### years renovated"
   ]
  },
  {
   "cell_type": "markdown",
   "id": "ca2f7e3e",
   "metadata": {},
   "source": [
    "The yr_renovated column has more than 20.683 values=0. Does that make sense? ....."
   ]
  },
  {
   "cell_type": "code",
   "execution_count": 520,
   "id": "01f8ddbd",
   "metadata": {},
   "outputs": [],
   "source": [
    "#re_df.yr_renovated.hist()"
   ]
  },
  {
   "cell_type": "code",
   "execution_count": 521,
   "id": "b3c62da1",
   "metadata": {},
   "outputs": [],
   "source": [
    "#re_df[\"yr_renovated\"].replace(0, np.nan, inplace=True)\n",
    "\n",
    "#re_df[\"view\"].replace(0, np.nan, inplace=True)"
   ]
  },
  {
   "cell_type": "code",
   "execution_count": 522,
   "id": "a928cb12",
   "metadata": {},
   "outputs": [],
   "source": [
    "#re_df.yr_renovated.hist()"
   ]
  },
  {
   "cell_type": "markdown",
   "id": "cc5a71b4",
   "metadata": {},
   "source": [
    "#### square feet basement"
   ]
  },
  {
   "cell_type": "code",
   "execution_count": 523,
   "id": "9d2cd2bb",
   "metadata": {},
   "outputs": [
    {
     "data": {
      "text/plain": [
       "<AxesSubplot:>"
      ]
     },
     "execution_count": 523,
     "metadata": {},
     "output_type": "execute_result"
    },
    {
     "data": {
      "image/png": "[encoded data removed]",
      "text/plain": [
       "<Figure size 432x288 with 1 Axes>"
      ]
     },
     "metadata": {
      "needs_background": "light"
     },
     "output_type": "display_data"
    }
   ],
   "source": [
    "re_df.sqft_basement.hist()"
   ]
  },
  {
   "cell_type": "code",
   "execution_count": 524,
   "id": "e2897516",
   "metadata": {},
   "outputs": [
    {
     "data": {
      "text/plain": [
       "<AxesSubplot:>"
      ]
     },
     "execution_count": 524,
     "metadata": {},
     "output_type": "execute_result"
    },
    {
     "data": {
      "image/png": "[encoded data removed]",
      "text/plain": [
       "<Figure size 432x288 with 1 Axes>"
      ]
     },
     "metadata": {
      "needs_background": "light"
     },
     "output_type": "display_data"
    }
   ],
   "source": [
    "#re_df[\"sqft_basement\"].replace(0, np.nan, inplace=True)\n",
    "re_df.sqft_basement.hist()"
   ]
  },
  {
   "cell_type": "markdown",
   "id": "ce403c12",
   "metadata": {},
   "source": [
    "### renaming waterfront column features"
   ]
  },
  {
   "cell_type": "code",
   "execution_count": 525,
   "id": "50ed9273",
   "metadata": {},
   "outputs": [],
   "source": [
    "def clean_waterfront(x):\n",
    "    if x == 0:\n",
    "        return 'no'\n",
    "    elif x == 1:\n",
    "        return 'yes'"
   ]
  },
  {
   "cell_type": "code",
   "execution_count": 526,
   "id": "1b6a6ef1",
   "metadata": {},
   "outputs": [],
   "source": [
    "re_df[\"waterfront\"] = list(map(clean_waterfront,re_df[\"waterfront\"])) "
   ]
  },
  {
   "cell_type": "code",
   "execution_count": 527,
   "id": "e14584f1",
   "metadata": {},
   "outputs": [
    {
     "data": {
      "text/plain": [
       "0        0\n",
       "1        0\n",
       "2        0\n",
       "3        0\n",
       "4        0\n",
       "        ..\n",
       "21592    0\n",
       "21593    0\n",
       "21594    0\n",
       "21595    0\n",
       "21596    0\n",
       "Name: view, Length: 21597, dtype: int64"
      ]
     },
     "execution_count": 527,
     "metadata": {},
     "output_type": "execute_result"
    }
   ],
   "source": [
    "re_df[\"view\"]"
   ]
  },
  {
   "cell_type": "code",
   "execution_count": 528,
   "id": "58d32932",
   "metadata": {},
   "outputs": [],
   "source": [
    "def view(x):\n",
    "    if x == 0:\n",
    "        return 'bad view'\n",
    "    elif x == 1:\n",
    "        return 'ok view'\n",
    "    elif x == 2:\n",
    "        return 'good view'\n",
    "    elif x == 3:\n",
    "        return 'very good view'\n",
    "    elif x == 4:\n",
    "        return 'great view'"
   ]
  },
  {
   "cell_type": "code",
   "execution_count": 529,
   "id": "3a4cb0f3",
   "metadata": {},
   "outputs": [
    {
     "data": {
      "text/html": [
       "<div>\n",
       "<style scoped>\n",
       "    .dataframe tbody tr th:only-of-type {\n",
       "        vertical-align: middle;\n",
       "    }\n",
       "\n",
       "    .dataframe tbody tr th {\n",
       "        vertical-align: top;\n",
       "    }\n",
       "\n",
       "    .dataframe thead th {\n",
       "        text-align: right;\n",
       "    }\n",
       "</style>\n",
       "<table border=\"1\" class=\"dataframe\">\n",
       "  <thead>\n",
       "    <tr style=\"text-align: right;\">\n",
       "      <th></th>\n",
       "      <th>date</th>\n",
       "      <th>bedrooms</th>\n",
       "      <th>bathrooms</th>\n",
       "      <th>sqft_living</th>\n",
       "      <th>sqft_lot</th>\n",
       "      <th>floors</th>\n",
       "      <th>waterfront</th>\n",
       "      <th>view</th>\n",
       "      <th>condition</th>\n",
       "      <th>grade</th>\n",
       "      <th>sqft_above</th>\n",
       "      <th>sqft_basement</th>\n",
       "      <th>yr_built</th>\n",
       "      <th>yr_renovated</th>\n",
       "      <th>zipcode</th>\n",
       "      <th>lat</th>\n",
       "      <th>long</th>\n",
       "      <th>sqft_living15</th>\n",
       "      <th>sqft_lot15</th>\n",
       "      <th>price</th>\n",
       "    </tr>\n",
       "  </thead>\n",
       "  <tbody>\n",
       "    <tr>\n",
       "      <th>0</th>\n",
       "      <td>2014-10-13</td>\n",
       "      <td>3</td>\n",
       "      <td>1.00</td>\n",
       "      <td>1180</td>\n",
       "      <td>5650</td>\n",
       "      <td>1</td>\n",
       "      <td>no</td>\n",
       "      <td>bad view</td>\n",
       "      <td>3</td>\n",
       "      <td>7</td>\n",
       "      <td>1180</td>\n",
       "      <td>0</td>\n",
       "      <td>1955</td>\n",
       "      <td>0</td>\n",
       "      <td>98178</td>\n",
       "      <td>47.5112</td>\n",
       "      <td>-122.257</td>\n",
       "      <td>1340</td>\n",
       "      <td>5650</td>\n",
       "      <td>221900</td>\n",
       "    </tr>\n",
       "    <tr>\n",
       "      <th>1</th>\n",
       "      <td>2014-12-09</td>\n",
       "      <td>3</td>\n",
       "      <td>2.25</td>\n",
       "      <td>2570</td>\n",
       "      <td>7242</td>\n",
       "      <td>2</td>\n",
       "      <td>no</td>\n",
       "      <td>bad view</td>\n",
       "      <td>3</td>\n",
       "      <td>7</td>\n",
       "      <td>2170</td>\n",
       "      <td>400</td>\n",
       "      <td>1951</td>\n",
       "      <td>1991</td>\n",
       "      <td>98125</td>\n",
       "      <td>47.7210</td>\n",
       "      <td>-122.319</td>\n",
       "      <td>1690</td>\n",
       "      <td>7639</td>\n",
       "      <td>538000</td>\n",
       "    </tr>\n",
       "    <tr>\n",
       "      <th>2</th>\n",
       "      <td>2015-02-25</td>\n",
       "      <td>2</td>\n",
       "      <td>1.00</td>\n",
       "      <td>770</td>\n",
       "      <td>10000</td>\n",
       "      <td>1</td>\n",
       "      <td>no</td>\n",
       "      <td>bad view</td>\n",
       "      <td>3</td>\n",
       "      <td>6</td>\n",
       "      <td>770</td>\n",
       "      <td>0</td>\n",
       "      <td>1933</td>\n",
       "      <td>0</td>\n",
       "      <td>98028</td>\n",
       "      <td>47.7379</td>\n",
       "      <td>-122.233</td>\n",
       "      <td>2720</td>\n",
       "      <td>8062</td>\n",
       "      <td>180000</td>\n",
       "    </tr>\n",
       "    <tr>\n",
       "      <th>3</th>\n",
       "      <td>2014-12-09</td>\n",
       "      <td>4</td>\n",
       "      <td>3.00</td>\n",
       "      <td>1960</td>\n",
       "      <td>5000</td>\n",
       "      <td>1</td>\n",
       "      <td>no</td>\n",
       "      <td>bad view</td>\n",
       "      <td>5</td>\n",
       "      <td>7</td>\n",
       "      <td>1050</td>\n",
       "      <td>910</td>\n",
       "      <td>1965</td>\n",
       "      <td>0</td>\n",
       "      <td>98136</td>\n",
       "      <td>47.5208</td>\n",
       "      <td>-122.393</td>\n",
       "      <td>1360</td>\n",
       "      <td>5000</td>\n",
       "      <td>604000</td>\n",
       "    </tr>\n",
       "    <tr>\n",
       "      <th>4</th>\n",
       "      <td>2015-02-18</td>\n",
       "      <td>3</td>\n",
       "      <td>2.00</td>\n",
       "      <td>1680</td>\n",
       "      <td>8080</td>\n",
       "      <td>1</td>\n",
       "      <td>no</td>\n",
       "      <td>bad view</td>\n",
       "      <td>3</td>\n",
       "      <td>8</td>\n",
       "      <td>1680</td>\n",
       "      <td>0</td>\n",
       "      <td>1987</td>\n",
       "      <td>0</td>\n",
       "      <td>98074</td>\n",
       "      <td>47.6168</td>\n",
       "      <td>-122.045</td>\n",
       "      <td>1800</td>\n",
       "      <td>7503</td>\n",
       "      <td>510000</td>\n",
       "    </tr>\n",
       "    <tr>\n",
       "      <th>...</th>\n",
       "      <td>...</td>\n",
       "      <td>...</td>\n",
       "      <td>...</td>\n",
       "      <td>...</td>\n",
       "      <td>...</td>\n",
       "      <td>...</td>\n",
       "      <td>...</td>\n",
       "      <td>...</td>\n",
       "      <td>...</td>\n",
       "      <td>...</td>\n",
       "      <td>...</td>\n",
       "      <td>...</td>\n",
       "      <td>...</td>\n",
       "      <td>...</td>\n",
       "      <td>...</td>\n",
       "      <td>...</td>\n",
       "      <td>...</td>\n",
       "      <td>...</td>\n",
       "      <td>...</td>\n",
       "      <td>...</td>\n",
       "    </tr>\n",
       "    <tr>\n",
       "      <th>21592</th>\n",
       "      <td>2014-05-21</td>\n",
       "      <td>3</td>\n",
       "      <td>2.50</td>\n",
       "      <td>1530</td>\n",
       "      <td>1131</td>\n",
       "      <td>3</td>\n",
       "      <td>no</td>\n",
       "      <td>bad view</td>\n",
       "      <td>3</td>\n",
       "      <td>8</td>\n",
       "      <td>1530</td>\n",
       "      <td>0</td>\n",
       "      <td>2009</td>\n",
       "      <td>0</td>\n",
       "      <td>98103</td>\n",
       "      <td>47.6993</td>\n",
       "      <td>-122.346</td>\n",
       "      <td>1530</td>\n",
       "      <td>1509</td>\n",
       "      <td>360000</td>\n",
       "    </tr>\n",
       "    <tr>\n",
       "      <th>21593</th>\n",
       "      <td>2015-02-23</td>\n",
       "      <td>4</td>\n",
       "      <td>2.50</td>\n",
       "      <td>2310</td>\n",
       "      <td>5813</td>\n",
       "      <td>2</td>\n",
       "      <td>no</td>\n",
       "      <td>bad view</td>\n",
       "      <td>3</td>\n",
       "      <td>8</td>\n",
       "      <td>2310</td>\n",
       "      <td>0</td>\n",
       "      <td>2014</td>\n",
       "      <td>0</td>\n",
       "      <td>98146</td>\n",
       "      <td>47.5107</td>\n",
       "      <td>-122.362</td>\n",
       "      <td>1830</td>\n",
       "      <td>7200</td>\n",
       "      <td>400000</td>\n",
       "    </tr>\n",
       "    <tr>\n",
       "      <th>21594</th>\n",
       "      <td>2014-06-23</td>\n",
       "      <td>2</td>\n",
       "      <td>0.75</td>\n",
       "      <td>1020</td>\n",
       "      <td>1350</td>\n",
       "      <td>2</td>\n",
       "      <td>no</td>\n",
       "      <td>bad view</td>\n",
       "      <td>3</td>\n",
       "      <td>7</td>\n",
       "      <td>1020</td>\n",
       "      <td>0</td>\n",
       "      <td>2009</td>\n",
       "      <td>0</td>\n",
       "      <td>98144</td>\n",
       "      <td>47.5944</td>\n",
       "      <td>-122.299</td>\n",
       "      <td>1020</td>\n",
       "      <td>2007</td>\n",
       "      <td>402101</td>\n",
       "    </tr>\n",
       "    <tr>\n",
       "      <th>21595</th>\n",
       "      <td>2015-01-16</td>\n",
       "      <td>3</td>\n",
       "      <td>2.50</td>\n",
       "      <td>1600</td>\n",
       "      <td>2388</td>\n",
       "      <td>2</td>\n",
       "      <td>no</td>\n",
       "      <td>bad view</td>\n",
       "      <td>3</td>\n",
       "      <td>8</td>\n",
       "      <td>1600</td>\n",
       "      <td>0</td>\n",
       "      <td>2004</td>\n",
       "      <td>0</td>\n",
       "      <td>98027</td>\n",
       "      <td>47.5345</td>\n",
       "      <td>-122.069</td>\n",
       "      <td>1410</td>\n",
       "      <td>1287</td>\n",
       "      <td>400000</td>\n",
       "    </tr>\n",
       "    <tr>\n",
       "      <th>21596</th>\n",
       "      <td>2014-10-15</td>\n",
       "      <td>2</td>\n",
       "      <td>0.75</td>\n",
       "      <td>1020</td>\n",
       "      <td>1076</td>\n",
       "      <td>2</td>\n",
       "      <td>no</td>\n",
       "      <td>bad view</td>\n",
       "      <td>3</td>\n",
       "      <td>7</td>\n",
       "      <td>1020</td>\n",
       "      <td>0</td>\n",
       "      <td>2008</td>\n",
       "      <td>0</td>\n",
       "      <td>98144</td>\n",
       "      <td>47.5941</td>\n",
       "      <td>-122.299</td>\n",
       "      <td>1020</td>\n",
       "      <td>1357</td>\n",
       "      <td>325000</td>\n",
       "    </tr>\n",
       "  </tbody>\n",
       "</table>\n",
       "<p>21597 rows × 20 columns</p>\n",
       "</div>"
      ],
      "text/plain": [
       "            date  bedrooms  bathrooms  sqft_living  sqft_lot  floors  \\\n",
       "0     2014-10-13         3       1.00         1180      5650       1   \n",
       "1     2014-12-09         3       2.25         2570      7242       2   \n",
       "2     2015-02-25         2       1.00          770     10000       1   \n",
       "3     2014-12-09         4       3.00         1960      5000       1   \n",
       "4     2015-02-18         3       2.00         1680      8080       1   \n",
       "...          ...       ...        ...          ...       ...     ...   \n",
       "21592 2014-05-21         3       2.50         1530      1131       3   \n",
       "21593 2015-02-23         4       2.50         2310      5813       2   \n",
       "21594 2014-06-23         2       0.75         1020      1350       2   \n",
       "21595 2015-01-16         3       2.50         1600      2388       2   \n",
       "21596 2014-10-15         2       0.75         1020      1076       2   \n",
       "\n",
       "      waterfront      view  condition  grade  sqft_above  sqft_basement  \\\n",
       "0             no  bad view          3      7        1180              0   \n",
       "1             no  bad view          3      7        2170            400   \n",
       "2             no  bad view          3      6         770              0   \n",
       "3             no  bad view          5      7        1050            910   \n",
       "4             no  bad view          3      8        1680              0   \n",
       "...          ...       ...        ...    ...         ...            ...   \n",
       "21592         no  bad view          3      8        1530              0   \n",
       "21593         no  bad view          3      8        2310              0   \n",
       "21594         no  bad view          3      7        1020              0   \n",
       "21595         no  bad view          3      8        1600              0   \n",
       "21596         no  bad view          3      7        1020              0   \n",
       "\n",
       "       yr_built  yr_renovated  zipcode      lat     long  sqft_living15  \\\n",
       "0          1955             0    98178  47.5112 -122.257           1340   \n",
       "1          1951          1991    98125  47.7210 -122.319           1690   \n",
       "2          1933             0    98028  47.7379 -122.233           2720   \n",
       "3          1965             0    98136  47.5208 -122.393           1360   \n",
       "4          1987             0    98074  47.6168 -122.045           1800   \n",
       "...         ...           ...      ...      ...      ...            ...   \n",
       "21592      2009             0    98103  47.6993 -122.346           1530   \n",
       "21593      2014             0    98146  47.5107 -122.362           1830   \n",
       "21594      2009             0    98144  47.5944 -122.299           1020   \n",
       "21595      2004             0    98027  47.5345 -122.069           1410   \n",
       "21596      2008             0    98144  47.5941 -122.299           1020   \n",
       "\n",
       "       sqft_lot15   price  \n",
       "0            5650  221900  \n",
       "1            7639  538000  \n",
       "2            8062  180000  \n",
       "3            5000  604000  \n",
       "4            7503  510000  \n",
       "...           ...     ...  \n",
       "21592        1509  360000  \n",
       "21593        7200  400000  \n",
       "21594        2007  402101  \n",
       "21595        1287  400000  \n",
       "21596        1357  325000  \n",
       "\n",
       "[21597 rows x 20 columns]"
      ]
     },
     "execution_count": 529,
     "metadata": {},
     "output_type": "execute_result"
    }
   ],
   "source": [
    "re_df[\"view\"] = list(map(view,re_df[\"view\"])) \n",
    "re_df"
   ]
  },
  {
   "cell_type": "markdown",
   "id": "f6dec1c5",
   "metadata": {},
   "source": [
    "### concatinate lat & long"
   ]
  },
  {
   "cell_type": "code",
   "execution_count": 530,
   "id": "c90aa7e3",
   "metadata": {},
   "outputs": [],
   "source": [
    "#re_df['location'] = re_df[['long', 'lat']].apply(tuple, axis=1)\n",
    "#re_df.drop(['lat'],axis=1, inplace=True)\n",
    "#re_df.drop(['long'],axis=1, inplace=True)\n"
   ]
  },
  {
   "cell_type": "markdown",
   "id": "5d3373bc",
   "metadata": {},
   "source": [
    "### removing outliers"
   ]
  },
  {
   "cell_type": "markdown",
   "id": "de62036e",
   "metadata": {},
   "source": [
    "#### bedrooms"
   ]
  },
  {
   "cell_type": "code",
   "execution_count": 531,
   "id": "fa73f753",
   "metadata": {},
   "outputs": [
    {
     "name": "stderr",
     "output_type": "stream",
     "text": [
      "/opt/anaconda3/envs/DA_ENV/lib/python3.9/site-packages/seaborn/_decorators.py:36: FutureWarning: Pass the following variable as a keyword arg: x. From version 0.12, the only valid positional argument will be `data`, and passing other arguments without an explicit keyword will result in an error or misinterpretation.\n",
      "  warnings.warn(\n"
     ]
    },
    {
     "data": {
      "text/plain": [
       "<AxesSubplot:xlabel='bedrooms'>"
      ]
     },
     "execution_count": 531,
     "metadata": {},
     "output_type": "execute_result"
    },
    {
     "data": {
      "image/png": "[encoded data removed]",
      "text/plain": [
       "<Figure size 432x288 with 1 Axes>"
      ]
     },
     "metadata": {
      "needs_background": "light"
     },
     "output_type": "display_data"
    }
   ],
   "source": [
    "sns.boxplot(re_df['bedrooms'])"
   ]
  },
  {
   "cell_type": "code",
   "execution_count": 532,
   "id": "f16ac897",
   "metadata": {},
   "outputs": [],
   "source": [
    "Q1 = re_df['bedrooms'].quantile(0.25)\n",
    "Q3 = re_df['bedrooms'].quantile(0.75)\n",
    "IQR = Q3 - Q1    #IQR is interquartile range. \n",
    "\n",
    "filter = (re_df['bedrooms'] >= Q1 - 1.5 * IQR) & (re_df['bedrooms'] <= Q3 + 1.5 *IQR)\n",
    "re_df = re_df.loc[filter]"
   ]
  },
  {
   "cell_type": "code",
   "execution_count": 533,
   "id": "bfcbdc22",
   "metadata": {},
   "outputs": [
    {
     "name": "stderr",
     "output_type": "stream",
     "text": [
      "/opt/anaconda3/envs/DA_ENV/lib/python3.9/site-packages/seaborn/_decorators.py:36: FutureWarning: Pass the following variable as a keyword arg: x. From version 0.12, the only valid positional argument will be `data`, and passing other arguments without an explicit keyword will result in an error or misinterpretation.\n",
      "  warnings.warn(\n"
     ]
    },
    {
     "data": {
      "text/plain": [
       "<AxesSubplot:xlabel='bedrooms'>"
      ]
     },
     "execution_count": 533,
     "metadata": {},
     "output_type": "execute_result"
    },
    {
     "data": {
      "image/png": "[encoded data removed]",
      "text/plain": [
       "<Figure size 432x288 with 1 Axes>"
      ]
     },
     "metadata": {
      "needs_background": "light"
     },
     "output_type": "display_data"
    }
   ],
   "source": [
    "sns.boxplot(re_df['bedrooms'])"
   ]
  },
  {
   "cell_type": "markdown",
   "id": "8661ab34",
   "metadata": {},
   "source": [
    "530 rows removed"
   ]
  },
  {
   "cell_type": "markdown",
   "id": "4a39edf3",
   "metadata": {},
   "source": [
    "#### bathrooms"
   ]
  },
  {
   "cell_type": "code",
   "execution_count": 534,
   "id": "1c357919",
   "metadata": {},
   "outputs": [
    {
     "name": "stderr",
     "output_type": "stream",
     "text": [
      "/opt/anaconda3/envs/DA_ENV/lib/python3.9/site-packages/seaborn/_decorators.py:36: FutureWarning: Pass the following variable as a keyword arg: x. From version 0.12, the only valid positional argument will be `data`, and passing other arguments without an explicit keyword will result in an error or misinterpretation.\n",
      "  warnings.warn(\n"
     ]
    },
    {
     "data": {
      "text/plain": [
       "<AxesSubplot:xlabel='bathrooms'>"
      ]
     },
     "execution_count": 534,
     "metadata": {},
     "output_type": "execute_result"
    },
    {
     "data": {
      "image/png": "[encoded data removed]",
      "text/plain": [
       "<Figure size 432x288 with 1 Axes>"
      ]
     },
     "metadata": {
      "needs_background": "light"
     },
     "output_type": "display_data"
    }
   ],
   "source": [
    "sns.boxplot(re_df['bathrooms'])"
   ]
  },
  {
   "cell_type": "code",
   "execution_count": 535,
   "id": "a5249567",
   "metadata": {},
   "outputs": [],
   "source": [
    "Q1 = re_df['bathrooms'].quantile(0.25)\n",
    "Q3 = re_df['bathrooms'].quantile(0.75)\n",
    "IQR = Q3 - Q1    #IQR is interquartile range. \n",
    "\n",
    "filter = (re_df['bathrooms'] >= Q1 - 1.5 * IQR) & (re_df['bathrooms'] <= Q3 + 1.5 *IQR)\n",
    "re_df = re_df.loc[filter]"
   ]
  },
  {
   "cell_type": "code",
   "execution_count": 536,
   "id": "aed29664",
   "metadata": {},
   "outputs": [
    {
     "name": "stderr",
     "output_type": "stream",
     "text": [
      "/opt/anaconda3/envs/DA_ENV/lib/python3.9/site-packages/seaborn/_decorators.py:36: FutureWarning: Pass the following variable as a keyword arg: x. From version 0.12, the only valid positional argument will be `data`, and passing other arguments without an explicit keyword will result in an error or misinterpretation.\n",
      "  warnings.warn(\n"
     ]
    },
    {
     "data": {
      "text/plain": [
       "<AxesSubplot:xlabel='bathrooms'>"
      ]
     },
     "execution_count": 536,
     "metadata": {},
     "output_type": "execute_result"
    },
    {
     "data": {
      "image/png": "[encoded data removed]",
      "text/plain": [
       "<Figure size 432x288 with 1 Axes>"
      ]
     },
     "metadata": {
      "needs_background": "light"
     },
     "output_type": "display_data"
    }
   ],
   "source": [
    "sns.boxplot(re_df['bathrooms'])"
   ]
  },
  {
   "cell_type": "markdown",
   "id": "78dba586",
   "metadata": {},
   "source": [
    "461 rows removed"
   ]
  },
  {
   "cell_type": "markdown",
   "id": "19adef04",
   "metadata": {},
   "source": [
    "#### further exploration"
   ]
  },
  {
   "cell_type": "code",
   "execution_count": 537,
   "id": "32d95625",
   "metadata": {},
   "outputs": [],
   "source": [
    "#re_df = re_df[re_df.sqft_above != 7420]"
   ]
  },
  {
   "cell_type": "code",
   "execution_count": 538,
   "id": "3347b1bb",
   "metadata": {},
   "outputs": [],
   "source": [
    "#re_df = re_df[re_df.sqft_lot15 != 560617]"
   ]
  },
  {
   "cell_type": "markdown",
   "id": "18989a26",
   "metadata": {},
   "source": [
    "## Plot the Correlation Heatmap"
   ]
  },
  {
   "cell_type": "code",
   "execution_count": 539,
   "id": "3f4e6281",
   "metadata": {},
   "outputs": [],
   "source": [
    "#g = sns.PairGrid(re_df)\n",
    "#g.map(sns.scatterplot)"
   ]
  },
  {
   "cell_type": "markdown",
   "id": "8b34487f",
   "metadata": {},
   "source": [
    "## X Y split"
   ]
  },
  {
   "cell_type": "code",
   "execution_count": 540,
   "id": "39f87870",
   "metadata": {},
   "outputs": [],
   "source": [
    "X=re_df.drop(\"price\", axis=1)\n",
    "y=re_df[\"price\"]"
   ]
  },
  {
   "cell_type": "markdown",
   "id": "47c67da2",
   "metadata": {},
   "source": [
    "## Data Splitting"
   ]
  },
  {
   "cell_type": "code",
   "execution_count": 541,
   "id": "9cb15f2a",
   "metadata": {},
   "outputs": [],
   "source": [
    "X_train, X_test, y_train, y_test=train_test_split(X, y, test_size=.30,random_state=123)"
   ]
  },
  {
   "cell_type": "code",
   "execution_count": 542,
   "id": "a2814da4",
   "metadata": {},
   "outputs": [],
   "source": [
    "y_train =y_train.reset_index(drop=True)\n",
    "y_test = y_test.reset_index(drop=True)"
   ]
  },
  {
   "cell_type": "markdown",
   "id": "441a602a",
   "metadata": {},
   "source": [
    "## Data Transformation"
   ]
  },
  {
   "cell_type": "markdown",
   "id": "04942238",
   "metadata": {},
   "source": [
    "### Hot coding Categorical Variables"
   ]
  },
  {
   "cell_type": "code",
   "execution_count": 543,
   "id": "3eeef522",
   "metadata": {},
   "outputs": [
    {
     "data": {
      "text/html": [
       "<div>\n",
       "<style scoped>\n",
       "    .dataframe tbody tr th:only-of-type {\n",
       "        vertical-align: middle;\n",
       "    }\n",
       "\n",
       "    .dataframe tbody tr th {\n",
       "        vertical-align: top;\n",
       "    }\n",
       "\n",
       "    .dataframe thead th {\n",
       "        text-align: right;\n",
       "    }\n",
       "</style>\n",
       "<table border=\"1\" class=\"dataframe\">\n",
       "  <thead>\n",
       "    <tr style=\"text-align: right;\">\n",
       "      <th></th>\n",
       "      <th>bedrooms</th>\n",
       "      <th>bathrooms</th>\n",
       "      <th>floors</th>\n",
       "      <th>view</th>\n",
       "      <th>waterfront</th>\n",
       "      <th>condition</th>\n",
       "      <th>grade</th>\n",
       "      <th>yr_built</th>\n",
       "      <th>zipcode</th>\n",
       "      <th>lat</th>\n",
       "      <th>long</th>\n",
       "    </tr>\n",
       "  </thead>\n",
       "  <tbody>\n",
       "    <tr>\n",
       "      <th>4997</th>\n",
       "      <td>3</td>\n",
       "      <td>1.00</td>\n",
       "      <td>1</td>\n",
       "      <td>bad view</td>\n",
       "      <td>no</td>\n",
       "      <td>4</td>\n",
       "      <td>7</td>\n",
       "      <td>1955</td>\n",
       "      <td>98106</td>\n",
       "      <td>47.5334</td>\n",
       "      <td>-122.365</td>\n",
       "    </tr>\n",
       "    <tr>\n",
       "      <th>14870</th>\n",
       "      <td>2</td>\n",
       "      <td>2.00</td>\n",
       "      <td>2</td>\n",
       "      <td>bad view</td>\n",
       "      <td>no</td>\n",
       "      <td>3</td>\n",
       "      <td>8</td>\n",
       "      <td>1934</td>\n",
       "      <td>98034</td>\n",
       "      <td>47.7162</td>\n",
       "      <td>-122.246</td>\n",
       "    </tr>\n",
       "    <tr>\n",
       "      <th>3276</th>\n",
       "      <td>3</td>\n",
       "      <td>1.00</td>\n",
       "      <td>1</td>\n",
       "      <td>bad view</td>\n",
       "      <td>no</td>\n",
       "      <td>3</td>\n",
       "      <td>7</td>\n",
       "      <td>1925</td>\n",
       "      <td>98103</td>\n",
       "      <td>47.6670</td>\n",
       "      <td>-122.333</td>\n",
       "    </tr>\n",
       "    <tr>\n",
       "      <th>18361</th>\n",
       "      <td>4</td>\n",
       "      <td>1.50</td>\n",
       "      <td>2</td>\n",
       "      <td>bad view</td>\n",
       "      <td>no</td>\n",
       "      <td>4</td>\n",
       "      <td>10</td>\n",
       "      <td>1910</td>\n",
       "      <td>98112</td>\n",
       "      <td>47.6360</td>\n",
       "      <td>-122.301</td>\n",
       "    </tr>\n",
       "    <tr>\n",
       "      <th>20776</th>\n",
       "      <td>2</td>\n",
       "      <td>2.00</td>\n",
       "      <td>2</td>\n",
       "      <td>bad view</td>\n",
       "      <td>no</td>\n",
       "      <td>3</td>\n",
       "      <td>8</td>\n",
       "      <td>2014</td>\n",
       "      <td>98112</td>\n",
       "      <td>47.6205</td>\n",
       "      <td>-122.299</td>\n",
       "    </tr>\n",
       "    <tr>\n",
       "      <th>...</th>\n",
       "      <td>...</td>\n",
       "      <td>...</td>\n",
       "      <td>...</td>\n",
       "      <td>...</td>\n",
       "      <td>...</td>\n",
       "      <td>...</td>\n",
       "      <td>...</td>\n",
       "      <td>...</td>\n",
       "      <td>...</td>\n",
       "      <td>...</td>\n",
       "      <td>...</td>\n",
       "    </tr>\n",
       "    <tr>\n",
       "      <th>15332</th>\n",
       "      <td>3</td>\n",
       "      <td>2.50</td>\n",
       "      <td>2</td>\n",
       "      <td>bad view</td>\n",
       "      <td>no</td>\n",
       "      <td>3</td>\n",
       "      <td>8</td>\n",
       "      <td>2005</td>\n",
       "      <td>98029</td>\n",
       "      <td>47.5478</td>\n",
       "      <td>-122.000</td>\n",
       "    </tr>\n",
       "    <tr>\n",
       "      <th>7987</th>\n",
       "      <td>4</td>\n",
       "      <td>2.50</td>\n",
       "      <td>2</td>\n",
       "      <td>bad view</td>\n",
       "      <td>no</td>\n",
       "      <td>3</td>\n",
       "      <td>7</td>\n",
       "      <td>2007</td>\n",
       "      <td>98042</td>\n",
       "      <td>47.3349</td>\n",
       "      <td>-122.059</td>\n",
       "    </tr>\n",
       "    <tr>\n",
       "      <th>12205</th>\n",
       "      <td>4</td>\n",
       "      <td>3.50</td>\n",
       "      <td>2</td>\n",
       "      <td>bad view</td>\n",
       "      <td>no</td>\n",
       "      <td>3</td>\n",
       "      <td>10</td>\n",
       "      <td>2008</td>\n",
       "      <td>98004</td>\n",
       "      <td>47.5885</td>\n",
       "      <td>-122.199</td>\n",
       "    </tr>\n",
       "    <tr>\n",
       "      <th>10163</th>\n",
       "      <td>3</td>\n",
       "      <td>1.00</td>\n",
       "      <td>1</td>\n",
       "      <td>bad view</td>\n",
       "      <td>no</td>\n",
       "      <td>4</td>\n",
       "      <td>7</td>\n",
       "      <td>1958</td>\n",
       "      <td>98002</td>\n",
       "      <td>47.2850</td>\n",
       "      <td>-122.206</td>\n",
       "    </tr>\n",
       "    <tr>\n",
       "      <th>16983</th>\n",
       "      <td>4</td>\n",
       "      <td>2.75</td>\n",
       "      <td>1</td>\n",
       "      <td>bad view</td>\n",
       "      <td>no</td>\n",
       "      <td>4</td>\n",
       "      <td>7</td>\n",
       "      <td>1988</td>\n",
       "      <td>98056</td>\n",
       "      <td>47.5204</td>\n",
       "      <td>-122.205</td>\n",
       "    </tr>\n",
       "  </tbody>\n",
       "</table>\n",
       "<p>6182 rows × 11 columns</p>\n",
       "</div>"
      ],
      "text/plain": [
       "       bedrooms  bathrooms  floors      view waterfront  condition  grade  \\\n",
       "4997          3       1.00       1  bad view         no          4      7   \n",
       "14870         2       2.00       2  bad view         no          3      8   \n",
       "3276          3       1.00       1  bad view         no          3      7   \n",
       "18361         4       1.50       2  bad view         no          4     10   \n",
       "20776         2       2.00       2  bad view         no          3      8   \n",
       "...         ...        ...     ...       ...        ...        ...    ...   \n",
       "15332         3       2.50       2  bad view         no          3      8   \n",
       "7987          4       2.50       2  bad view         no          3      7   \n",
       "12205         4       3.50       2  bad view         no          3     10   \n",
       "10163         3       1.00       1  bad view         no          4      7   \n",
       "16983         4       2.75       1  bad view         no          4      7   \n",
       "\n",
       "       yr_built  zipcode      lat     long  \n",
       "4997       1955    98106  47.5334 -122.365  \n",
       "14870      1934    98034  47.7162 -122.246  \n",
       "3276       1925    98103  47.6670 -122.333  \n",
       "18361      1910    98112  47.6360 -122.301  \n",
       "20776      2014    98112  47.6205 -122.299  \n",
       "...         ...      ...      ...      ...  \n",
       "15332      2005    98029  47.5478 -122.000  \n",
       "7987       2007    98042  47.3349 -122.059  \n",
       "12205      2008    98004  47.5885 -122.199  \n",
       "10163      1958    98002  47.2850 -122.206  \n",
       "16983      1988    98056  47.5204 -122.205  \n",
       "\n",
       "[6182 rows x 11 columns]"
      ]
     },
     "execution_count": 543,
     "metadata": {},
     "output_type": "execute_result"
    }
   ],
   "source": [
    "X_train_cat=X_train[['bedrooms','bathrooms','floors', 'view', 'waterfront','condition','grade','yr_built','zipcode', 'lat', 'long']]\n",
    "X_train_cat\n",
    "\n",
    "X_test_cat=X_test[['bedrooms','bathrooms','floors','view','waterfront','condition','grade','yr_built','zipcode','lat', 'long']]\n",
    "X_test_cat"
   ]
  },
  {
   "cell_type": "code",
   "execution_count": 544,
   "id": "0e61e9a6",
   "metadata": {},
   "outputs": [
    {
     "name": "stderr",
     "output_type": "stream",
     "text": [
      "/opt/anaconda3/envs/DA_ENV/lib/python3.9/site-packages/sklearn/utils/deprecation.py:87: FutureWarning: Function get_feature_names is deprecated; get_feature_names is deprecated in 1.0 and will be removed in 1.2. Please use get_feature_names_out instead.\n",
      "  warnings.warn(msg, category=FutureWarning)\n",
      "/opt/anaconda3/envs/DA_ENV/lib/python3.9/site-packages/sklearn/utils/deprecation.py:87: FutureWarning: Function get_feature_names is deprecated; get_feature_names is deprecated in 1.0 and will be removed in 1.2. Please use get_feature_names_out instead.\n",
      "  warnings.warn(msg, category=FutureWarning)\n"
     ]
    },
    {
     "data": {
      "text/html": [
       "<div>\n",
       "<style scoped>\n",
       "    .dataframe tbody tr th:only-of-type {\n",
       "        vertical-align: middle;\n",
       "    }\n",
       "\n",
       "    .dataframe tbody tr th {\n",
       "        vertical-align: top;\n",
       "    }\n",
       "\n",
       "    .dataframe thead th {\n",
       "        text-align: right;\n",
       "    }\n",
       "</style>\n",
       "<table border=\"1\" class=\"dataframe\">\n",
       "  <thead>\n",
       "    <tr style=\"text-align: right;\">\n",
       "      <th></th>\n",
       "      <th>bedrooms_3</th>\n",
       "      <th>bedrooms_4</th>\n",
       "      <th>bedrooms_5</th>\n",
       "      <th>bathrooms_1.0</th>\n",
       "      <th>bathrooms_1.25</th>\n",
       "      <th>bathrooms_1.5</th>\n",
       "      <th>bathrooms_1.75</th>\n",
       "      <th>bathrooms_2.0</th>\n",
       "      <th>bathrooms_2.25</th>\n",
       "      <th>bathrooms_2.5</th>\n",
       "      <th>...</th>\n",
       "      <th>long_-121.417</th>\n",
       "      <th>long_-121.364</th>\n",
       "      <th>long_-121.352</th>\n",
       "      <th>long_-121.321</th>\n",
       "      <th>long_-121.319</th>\n",
       "      <th>view_good view_1</th>\n",
       "      <th>view_great view_1</th>\n",
       "      <th>view_ok view_1</th>\n",
       "      <th>view_very good view_1</th>\n",
       "      <th>waterfront_yes_1</th>\n",
       "    </tr>\n",
       "  </thead>\n",
       "  <tbody>\n",
       "    <tr>\n",
       "      <th>0</th>\n",
       "      <td>1.0</td>\n",
       "      <td>0.0</td>\n",
       "      <td>0.0</td>\n",
       "      <td>1.0</td>\n",
       "      <td>0.0</td>\n",
       "      <td>0.0</td>\n",
       "      <td>0.0</td>\n",
       "      <td>0.0</td>\n",
       "      <td>0.0</td>\n",
       "      <td>0.0</td>\n",
       "      <td>...</td>\n",
       "      <td>0.0</td>\n",
       "      <td>0.0</td>\n",
       "      <td>0.0</td>\n",
       "      <td>0.0</td>\n",
       "      <td>0.0</td>\n",
       "      <td>0.0</td>\n",
       "      <td>0.0</td>\n",
       "      <td>0.0</td>\n",
       "      <td>0.0</td>\n",
       "      <td>0.0</td>\n",
       "    </tr>\n",
       "    <tr>\n",
       "      <th>1</th>\n",
       "      <td>0.0</td>\n",
       "      <td>0.0</td>\n",
       "      <td>0.0</td>\n",
       "      <td>0.0</td>\n",
       "      <td>0.0</td>\n",
       "      <td>0.0</td>\n",
       "      <td>0.0</td>\n",
       "      <td>1.0</td>\n",
       "      <td>0.0</td>\n",
       "      <td>0.0</td>\n",
       "      <td>...</td>\n",
       "      <td>0.0</td>\n",
       "      <td>0.0</td>\n",
       "      <td>0.0</td>\n",
       "      <td>0.0</td>\n",
       "      <td>0.0</td>\n",
       "      <td>0.0</td>\n",
       "      <td>0.0</td>\n",
       "      <td>0.0</td>\n",
       "      <td>0.0</td>\n",
       "      <td>0.0</td>\n",
       "    </tr>\n",
       "    <tr>\n",
       "      <th>2</th>\n",
       "      <td>1.0</td>\n",
       "      <td>0.0</td>\n",
       "      <td>0.0</td>\n",
       "      <td>1.0</td>\n",
       "      <td>0.0</td>\n",
       "      <td>0.0</td>\n",
       "      <td>0.0</td>\n",
       "      <td>0.0</td>\n",
       "      <td>0.0</td>\n",
       "      <td>0.0</td>\n",
       "      <td>...</td>\n",
       "      <td>0.0</td>\n",
       "      <td>0.0</td>\n",
       "      <td>0.0</td>\n",
       "      <td>0.0</td>\n",
       "      <td>0.0</td>\n",
       "      <td>0.0</td>\n",
       "      <td>0.0</td>\n",
       "      <td>0.0</td>\n",
       "      <td>0.0</td>\n",
       "      <td>0.0</td>\n",
       "    </tr>\n",
       "    <tr>\n",
       "      <th>3</th>\n",
       "      <td>0.0</td>\n",
       "      <td>1.0</td>\n",
       "      <td>0.0</td>\n",
       "      <td>0.0</td>\n",
       "      <td>0.0</td>\n",
       "      <td>1.0</td>\n",
       "      <td>0.0</td>\n",
       "      <td>0.0</td>\n",
       "      <td>0.0</td>\n",
       "      <td>0.0</td>\n",
       "      <td>...</td>\n",
       "      <td>0.0</td>\n",
       "      <td>0.0</td>\n",
       "      <td>0.0</td>\n",
       "      <td>0.0</td>\n",
       "      <td>0.0</td>\n",
       "      <td>0.0</td>\n",
       "      <td>0.0</td>\n",
       "      <td>0.0</td>\n",
       "      <td>0.0</td>\n",
       "      <td>0.0</td>\n",
       "    </tr>\n",
       "    <tr>\n",
       "      <th>4</th>\n",
       "      <td>0.0</td>\n",
       "      <td>0.0</td>\n",
       "      <td>0.0</td>\n",
       "      <td>0.0</td>\n",
       "      <td>0.0</td>\n",
       "      <td>0.0</td>\n",
       "      <td>0.0</td>\n",
       "      <td>1.0</td>\n",
       "      <td>0.0</td>\n",
       "      <td>0.0</td>\n",
       "      <td>...</td>\n",
       "      <td>0.0</td>\n",
       "      <td>0.0</td>\n",
       "      <td>0.0</td>\n",
       "      <td>0.0</td>\n",
       "      <td>0.0</td>\n",
       "      <td>0.0</td>\n",
       "      <td>0.0</td>\n",
       "      <td>0.0</td>\n",
       "      <td>0.0</td>\n",
       "      <td>0.0</td>\n",
       "    </tr>\n",
       "    <tr>\n",
       "      <th>...</th>\n",
       "      <td>...</td>\n",
       "      <td>...</td>\n",
       "      <td>...</td>\n",
       "      <td>...</td>\n",
       "      <td>...</td>\n",
       "      <td>...</td>\n",
       "      <td>...</td>\n",
       "      <td>...</td>\n",
       "      <td>...</td>\n",
       "      <td>...</td>\n",
       "      <td>...</td>\n",
       "      <td>...</td>\n",
       "      <td>...</td>\n",
       "      <td>...</td>\n",
       "      <td>...</td>\n",
       "      <td>...</td>\n",
       "      <td>...</td>\n",
       "      <td>...</td>\n",
       "      <td>...</td>\n",
       "      <td>...</td>\n",
       "      <td>...</td>\n",
       "    </tr>\n",
       "    <tr>\n",
       "      <th>6177</th>\n",
       "      <td>1.0</td>\n",
       "      <td>0.0</td>\n",
       "      <td>0.0</td>\n",
       "      <td>0.0</td>\n",
       "      <td>0.0</td>\n",
       "      <td>0.0</td>\n",
       "      <td>0.0</td>\n",
       "      <td>0.0</td>\n",
       "      <td>0.0</td>\n",
       "      <td>1.0</td>\n",
       "      <td>...</td>\n",
       "      <td>0.0</td>\n",
       "      <td>0.0</td>\n",
       "      <td>0.0</td>\n",
       "      <td>0.0</td>\n",
       "      <td>0.0</td>\n",
       "      <td>0.0</td>\n",
       "      <td>0.0</td>\n",
       "      <td>0.0</td>\n",
       "      <td>0.0</td>\n",
       "      <td>0.0</td>\n",
       "    </tr>\n",
       "    <tr>\n",
       "      <th>6178</th>\n",
       "      <td>0.0</td>\n",
       "      <td>1.0</td>\n",
       "      <td>0.0</td>\n",
       "      <td>0.0</td>\n",
       "      <td>0.0</td>\n",
       "      <td>0.0</td>\n",
       "      <td>0.0</td>\n",
       "      <td>0.0</td>\n",
       "      <td>0.0</td>\n",
       "      <td>1.0</td>\n",
       "      <td>...</td>\n",
       "      <td>0.0</td>\n",
       "      <td>0.0</td>\n",
       "      <td>0.0</td>\n",
       "      <td>0.0</td>\n",
       "      <td>0.0</td>\n",
       "      <td>0.0</td>\n",
       "      <td>0.0</td>\n",
       "      <td>0.0</td>\n",
       "      <td>0.0</td>\n",
       "      <td>0.0</td>\n",
       "    </tr>\n",
       "    <tr>\n",
       "      <th>6179</th>\n",
       "      <td>0.0</td>\n",
       "      <td>1.0</td>\n",
       "      <td>0.0</td>\n",
       "      <td>0.0</td>\n",
       "      <td>0.0</td>\n",
       "      <td>0.0</td>\n",
       "      <td>0.0</td>\n",
       "      <td>0.0</td>\n",
       "      <td>0.0</td>\n",
       "      <td>0.0</td>\n",
       "      <td>...</td>\n",
       "      <td>0.0</td>\n",
       "      <td>0.0</td>\n",
       "      <td>0.0</td>\n",
       "      <td>0.0</td>\n",
       "      <td>0.0</td>\n",
       "      <td>0.0</td>\n",
       "      <td>0.0</td>\n",
       "      <td>0.0</td>\n",
       "      <td>0.0</td>\n",
       "      <td>0.0</td>\n",
       "    </tr>\n",
       "    <tr>\n",
       "      <th>6180</th>\n",
       "      <td>1.0</td>\n",
       "      <td>0.0</td>\n",
       "      <td>0.0</td>\n",
       "      <td>1.0</td>\n",
       "      <td>0.0</td>\n",
       "      <td>0.0</td>\n",
       "      <td>0.0</td>\n",
       "      <td>0.0</td>\n",
       "      <td>0.0</td>\n",
       "      <td>0.0</td>\n",
       "      <td>...</td>\n",
       "      <td>0.0</td>\n",
       "      <td>0.0</td>\n",
       "      <td>0.0</td>\n",
       "      <td>0.0</td>\n",
       "      <td>0.0</td>\n",
       "      <td>0.0</td>\n",
       "      <td>0.0</td>\n",
       "      <td>0.0</td>\n",
       "      <td>0.0</td>\n",
       "      <td>0.0</td>\n",
       "    </tr>\n",
       "    <tr>\n",
       "      <th>6181</th>\n",
       "      <td>0.0</td>\n",
       "      <td>1.0</td>\n",
       "      <td>0.0</td>\n",
       "      <td>0.0</td>\n",
       "      <td>0.0</td>\n",
       "      <td>0.0</td>\n",
       "      <td>0.0</td>\n",
       "      <td>0.0</td>\n",
       "      <td>0.0</td>\n",
       "      <td>0.0</td>\n",
       "      <td>...</td>\n",
       "      <td>0.0</td>\n",
       "      <td>0.0</td>\n",
       "      <td>0.0</td>\n",
       "      <td>0.0</td>\n",
       "      <td>0.0</td>\n",
       "      <td>0.0</td>\n",
       "      <td>0.0</td>\n",
       "      <td>0.0</td>\n",
       "      <td>0.0</td>\n",
       "      <td>0.0</td>\n",
       "    </tr>\n",
       "  </tbody>\n",
       "</table>\n",
       "<p>6182 rows × 4198 columns</p>\n",
       "</div>"
      ],
      "text/plain": [
       "      bedrooms_3  bedrooms_4  bedrooms_5  bathrooms_1.0  bathrooms_1.25  \\\n",
       "0            1.0         0.0         0.0            1.0             0.0   \n",
       "1            0.0         0.0         0.0            0.0             0.0   \n",
       "2            1.0         0.0         0.0            1.0             0.0   \n",
       "3            0.0         1.0         0.0            0.0             0.0   \n",
       "4            0.0         0.0         0.0            0.0             0.0   \n",
       "...          ...         ...         ...            ...             ...   \n",
       "6177         1.0         0.0         0.0            0.0             0.0   \n",
       "6178         0.0         1.0         0.0            0.0             0.0   \n",
       "6179         0.0         1.0         0.0            0.0             0.0   \n",
       "6180         1.0         0.0         0.0            1.0             0.0   \n",
       "6181         0.0         1.0         0.0            0.0             0.0   \n",
       "\n",
       "      bathrooms_1.5  bathrooms_1.75  bathrooms_2.0  bathrooms_2.25  \\\n",
       "0               0.0             0.0            0.0             0.0   \n",
       "1               0.0             0.0            1.0             0.0   \n",
       "2               0.0             0.0            0.0             0.0   \n",
       "3               1.0             0.0            0.0             0.0   \n",
       "4               0.0             0.0            1.0             0.0   \n",
       "...             ...             ...            ...             ...   \n",
       "6177            0.0             0.0            0.0             0.0   \n",
       "6178            0.0             0.0            0.0             0.0   \n",
       "6179            0.0             0.0            0.0             0.0   \n",
       "6180            0.0             0.0            0.0             0.0   \n",
       "6181            0.0             0.0            0.0             0.0   \n",
       "\n",
       "      bathrooms_2.5  ...  long_-121.417  long_-121.364  long_-121.352  \\\n",
       "0               0.0  ...            0.0            0.0            0.0   \n",
       "1               0.0  ...            0.0            0.0            0.0   \n",
       "2               0.0  ...            0.0            0.0            0.0   \n",
       "3               0.0  ...            0.0            0.0            0.0   \n",
       "4               0.0  ...            0.0            0.0            0.0   \n",
       "...             ...  ...            ...            ...            ...   \n",
       "6177            1.0  ...            0.0            0.0            0.0   \n",
       "6178            1.0  ...            0.0            0.0            0.0   \n",
       "6179            0.0  ...            0.0            0.0            0.0   \n",
       "6180            0.0  ...            0.0            0.0            0.0   \n",
       "6181            0.0  ...            0.0            0.0            0.0   \n",
       "\n",
       "      long_-121.321  long_-121.319  view_good view_1  view_great view_1  \\\n",
       "0               0.0            0.0               0.0                0.0   \n",
       "1               0.0            0.0               0.0                0.0   \n",
       "2               0.0            0.0               0.0                0.0   \n",
       "3               0.0            0.0               0.0                0.0   \n",
       "4               0.0            0.0               0.0                0.0   \n",
       "...             ...            ...               ...                ...   \n",
       "6177            0.0            0.0               0.0                0.0   \n",
       "6178            0.0            0.0               0.0                0.0   \n",
       "6179            0.0            0.0               0.0                0.0   \n",
       "6180            0.0            0.0               0.0                0.0   \n",
       "6181            0.0            0.0               0.0                0.0   \n",
       "\n",
       "      view_ok view_1  view_very good view_1  waterfront_yes_1  \n",
       "0                0.0                    0.0               0.0  \n",
       "1                0.0                    0.0               0.0  \n",
       "2                0.0                    0.0               0.0  \n",
       "3                0.0                    0.0               0.0  \n",
       "4                0.0                    0.0               0.0  \n",
       "...              ...                    ...               ...  \n",
       "6177             0.0                    0.0               0.0  \n",
       "6178             0.0                    0.0               0.0  \n",
       "6179             0.0                    0.0               0.0  \n",
       "6180             0.0                    0.0               0.0  \n",
       "6181             0.0                    0.0               0.0  \n",
       "\n",
       "[6182 rows x 4198 columns]"
      ]
     },
     "execution_count": 544,
     "metadata": {},
     "output_type": "execute_result"
    }
   ],
   "source": [
    "X_train_cat=pd.get_dummies(X_train_cat, drop_first=True)\n",
    "pd.DataFrame(OneHotEncoder(drop='first').fit_transform(X_train_cat).toarray(),\n",
    "columns=OneHotEncoder(drop='first').fit(X_train_cat).get_feature_names(input_features=X_train_cat.columns))\n",
    "\n",
    "X_test_cat=pd.get_dummies(X_test_cat, drop_first=True)\n",
    "pd.DataFrame(OneHotEncoder(drop='first').fit_transform(X_test_cat).toarray(),\n",
    "columns=OneHotEncoder(drop='first').fit(X_test_cat).get_feature_names(input_features=X_test_cat.columns))"
   ]
  },
  {
   "cell_type": "code",
   "execution_count": 545,
   "id": "bc50a252",
   "metadata": {},
   "outputs": [],
   "source": [
    "X_train_cat = X_train_cat.reset_index(drop=True)\n",
    "X_test_cat = X_test_cat.reset_index(drop=True)"
   ]
  },
  {
   "cell_type": "markdown",
   "id": "60b6afba",
   "metadata": {},
   "source": [
    "### Standardize numerical"
   ]
  },
  {
   "cell_type": "code",
   "execution_count": 546,
   "id": "e95557f6",
   "metadata": {},
   "outputs": [
    {
     "data": {
      "text/html": [
       "<div>\n",
       "<style scoped>\n",
       "    .dataframe tbody tr th:only-of-type {\n",
       "        vertical-align: middle;\n",
       "    }\n",
       "\n",
       "    .dataframe tbody tr th {\n",
       "        vertical-align: top;\n",
       "    }\n",
       "\n",
       "    .dataframe thead th {\n",
       "        text-align: right;\n",
       "    }\n",
       "</style>\n",
       "<table border=\"1\" class=\"dataframe\">\n",
       "  <thead>\n",
       "    <tr style=\"text-align: right;\">\n",
       "      <th></th>\n",
       "      <th>sqft_living15</th>\n",
       "      <th>sqft_lot15</th>\n",
       "      <th>sqft_above</th>\n",
       "      <th>sqft_basement</th>\n",
       "    </tr>\n",
       "  </thead>\n",
       "  <tbody>\n",
       "    <tr>\n",
       "      <th>4997</th>\n",
       "      <td>1340</td>\n",
       "      <td>6435</td>\n",
       "      <td>1090</td>\n",
       "      <td>0</td>\n",
       "    </tr>\n",
       "    <tr>\n",
       "      <th>14870</th>\n",
       "      <td>2890</td>\n",
       "      <td>22000</td>\n",
       "      <td>2180</td>\n",
       "      <td>0</td>\n",
       "    </tr>\n",
       "    <tr>\n",
       "      <th>3276</th>\n",
       "      <td>2060</td>\n",
       "      <td>4080</td>\n",
       "      <td>1240</td>\n",
       "      <td>0</td>\n",
       "    </tr>\n",
       "    <tr>\n",
       "      <th>18361</th>\n",
       "      <td>1970</td>\n",
       "      <td>4431</td>\n",
       "      <td>2550</td>\n",
       "      <td>0</td>\n",
       "    </tr>\n",
       "    <tr>\n",
       "      <th>20776</th>\n",
       "      <td>1580</td>\n",
       "      <td>1202</td>\n",
       "      <td>950</td>\n",
       "      <td>510</td>\n",
       "    </tr>\n",
       "    <tr>\n",
       "      <th>...</th>\n",
       "      <td>...</td>\n",
       "      <td>...</td>\n",
       "      <td>...</td>\n",
       "      <td>...</td>\n",
       "    </tr>\n",
       "    <tr>\n",
       "      <th>15332</th>\n",
       "      <td>1400</td>\n",
       "      <td>1138</td>\n",
       "      <td>1480</td>\n",
       "      <td>0</td>\n",
       "    </tr>\n",
       "    <tr>\n",
       "      <th>7987</th>\n",
       "      <td>2230</td>\n",
       "      <td>5750</td>\n",
       "      <td>2320</td>\n",
       "      <td>0</td>\n",
       "    </tr>\n",
       "    <tr>\n",
       "      <th>12205</th>\n",
       "      <td>2080</td>\n",
       "      <td>9676</td>\n",
       "      <td>2880</td>\n",
       "      <td>840</td>\n",
       "    </tr>\n",
       "    <tr>\n",
       "      <th>10163</th>\n",
       "      <td>990</td>\n",
       "      <td>8000</td>\n",
       "      <td>1864</td>\n",
       "      <td>0</td>\n",
       "    </tr>\n",
       "    <tr>\n",
       "      <th>16983</th>\n",
       "      <td>1630</td>\n",
       "      <td>5400</td>\n",
       "      <td>1220</td>\n",
       "      <td>600</td>\n",
       "    </tr>\n",
       "  </tbody>\n",
       "</table>\n",
       "<p>6182 rows × 4 columns</p>\n",
       "</div>"
      ],
      "text/plain": [
       "       sqft_living15  sqft_lot15  sqft_above  sqft_basement\n",
       "4997            1340        6435        1090              0\n",
       "14870           2890       22000        2180              0\n",
       "3276            2060        4080        1240              0\n",
       "18361           1970        4431        2550              0\n",
       "20776           1580        1202         950            510\n",
       "...              ...         ...         ...            ...\n",
       "15332           1400        1138        1480              0\n",
       "7987            2230        5750        2320              0\n",
       "12205           2080        9676        2880            840\n",
       "10163            990        8000        1864              0\n",
       "16983           1630        5400        1220            600\n",
       "\n",
       "[6182 rows x 4 columns]"
      ]
     },
     "execution_count": 546,
     "metadata": {},
     "output_type": "execute_result"
    }
   ],
   "source": [
    "X_train_num=X_train[['sqft_living15','sqft_lot15','sqft_above','sqft_basement']]\n",
    "X_train_num\n",
    "\n",
    "X_test_num=X_test[['sqft_living15','sqft_lot15','sqft_above','sqft_basement']]\n",
    "X_test_num"
   ]
  },
  {
   "cell_type": "code",
   "execution_count": 547,
   "id": "70ec40f9",
   "metadata": {},
   "outputs": [],
   "source": [
    "std_scaler=StandardScaler().fit(X_train_num)   ## finding the parameters (mean, variance from the training set )\n",
    "\n",
    "X_train_scaled=std_scaler.transform(X_train_num)"
   ]
  },
  {
   "cell_type": "code",
   "execution_count": 548,
   "id": "dd581d2b",
   "metadata": {},
   "outputs": [],
   "source": [
    "X_test_scaled=std_scaler.transform(X_test_num)"
   ]
  },
  {
   "cell_type": "code",
   "execution_count": 549,
   "id": "5aac86e7",
   "metadata": {},
   "outputs": [
    {
     "name": "stdout",
     "output_type": "stream",
     "text": [
      "[[ 0.03939982 -0.30010814 -0.49842372  2.60866442]\n",
      " [-0.73050607 -0.27271824 -0.83135298 -0.65372417]\n",
      " [ 2.10274758  0.29112246  0.89987917 -0.65372417]\n",
      " ...\n",
      " [ 1.56381346 -0.09550557  1.69890939 -0.65372417]\n",
      " [-0.69970983 -0.28116998 -1.05774488  0.91793748]\n",
      " [ 0.22417723 -0.33008052 -0.17881163 -0.65372417]]\n",
      "--------\n",
      "[[-0.96147783 -0.23613315 -0.8713045  -0.65372417]\n",
      " [ 1.42523041  0.37290088  0.58026708 -0.65372417]\n",
      " [ 0.14718664 -0.32828061 -0.67154694 -0.65372417]\n",
      " ...\n",
      " [ 0.17798288 -0.10931791  1.51246901  1.34657248]\n",
      " [-1.50041195 -0.17489716  0.15944449 -0.65372417]\n",
      " [-0.51493242 -0.27663108 -0.69818128  0.77505915]]\n"
     ]
    }
   ],
   "source": [
    "print(X_train_scaled)\n",
    "print(\"--------\")\n",
    "print(X_test_scaled)"
   ]
  },
  {
   "cell_type": "code",
   "execution_count": 550,
   "id": "25eb3a91",
   "metadata": {},
   "outputs": [],
   "source": [
    "\n",
    "X_train_scaled = pd.DataFrame(X_train_scaled, columns= X_train_num.columns)\n",
    "X_test_scaled = pd.DataFrame(X_test_scaled, columns= X_test_num.columns)"
   ]
  },
  {
   "cell_type": "code",
   "execution_count": 551,
   "id": "4c1a56f0",
   "metadata": {},
   "outputs": [],
   "source": [
    "X_train_scaled = X_train_scaled.reset_index(drop=True)\n",
    "X_test_scaled = X_test_scaled.reset_index(drop=True)"
   ]
  },
  {
   "cell_type": "markdown",
   "id": "1549438f",
   "metadata": {},
   "source": [
    "### Quantile Transformer\n",
    "- sqft_living15\n",
    "- sqft_lot15\n",
    "- sqft_above\n"
   ]
  },
  {
   "cell_type": "code",
   "execution_count": 552,
   "id": "8249400f",
   "metadata": {},
   "outputs": [
    {
     "data": {
      "text/plain": [
       "<seaborn.axisgrid.FacetGrid at 0x7f8d04b7c6d0>"
      ]
     },
     "execution_count": 552,
     "metadata": {},
     "output_type": "execute_result"
    },
    {
     "data": {
      "image/png": "[encoded data removed]",
      "text/plain": [
       "<Figure size 402.375x360 with 1 Axes>"
      ]
     },
     "metadata": {
      "needs_background": "light"
     },
     "output_type": "display_data"
    }
   ],
   "source": [
    "qt = QuantileTransformer(output_distribution=\"normal\")\n",
    "sqft_living15=qt.fit_transform(re_df['sqft_living15'].to_numpy().reshape(-1,1))\n",
    "sns.displot(sqft_living15)"
   ]
  },
  {
   "cell_type": "code",
   "execution_count": 553,
   "id": "1e2c301a",
   "metadata": {},
   "outputs": [
    {
     "data": {
      "text/plain": [
       "<seaborn.axisgrid.FacetGrid at 0x7f8cd27a3970>"
      ]
     },
     "execution_count": 553,
     "metadata": {},
     "output_type": "execute_result"
    },
    {
     "data": {
      "image/png": "[encoded data removed]",
      "text/plain": [
       "<Figure size 402.375x360 with 1 Axes>"
      ]
     },
     "metadata": {
      "needs_background": "light"
     },
     "output_type": "display_data"
    }
   ],
   "source": [
    "qt = QuantileTransformer(output_distribution=\"normal\")\n",
    "sqft_lot15=qt.fit_transform(re_df['sqft_lot15'].to_numpy().reshape(-1,1))\n",
    "sns.displot(sqft_lot15)"
   ]
  },
  {
   "cell_type": "code",
   "execution_count": 554,
   "id": "109c7fad",
   "metadata": {},
   "outputs": [
    {
     "data": {
      "text/plain": [
       "<seaborn.axisgrid.FacetGrid at 0x7f8cd2d6fdf0>"
      ]
     },
     "execution_count": 554,
     "metadata": {},
     "output_type": "execute_result"
    },
    {
     "data": {
      "image/png": "[encoded data removed]",
      "text/plain": [
       "<Figure size 402.375x360 with 1 Axes>"
      ]
     },
     "metadata": {
      "needs_background": "light"
     },
     "output_type": "display_data"
    }
   ],
   "source": [
    "qt = QuantileTransformer(output_distribution=\"normal\")\n",
    "sqft_above=qt.fit_transform(re_df['sqft_above'].to_numpy().reshape(-1,1))\n",
    "sns.displot(sqft_above)"
   ]
  },
  {
   "cell_type": "markdown",
   "id": "2af98522",
   "metadata": {},
   "source": [
    "### Power Transformer"
   ]
  },
  {
   "cell_type": "markdown",
   "id": "6fe5439b",
   "metadata": {},
   "source": [
    "## Concatination "
   ]
  },
  {
   "cell_type": "code",
   "execution_count": 555,
   "id": "6ece393c",
   "metadata": {},
   "outputs": [],
   "source": [
    "X_train_con=pd.concat([X_train_scaled,X_train_cat],axis=1)\n",
    "X_test_con=pd.concat([X_test_scaled,X_test_cat],axis=1)"
   ]
  },
  {
   "cell_type": "code",
   "execution_count": 556,
   "id": "86564b42",
   "metadata": {},
   "outputs": [
    {
     "data": {
      "text/html": [
       "<div>\n",
       "<style scoped>\n",
       "    .dataframe tbody tr th:only-of-type {\n",
       "        vertical-align: middle;\n",
       "    }\n",
       "\n",
       "    .dataframe tbody tr th {\n",
       "        vertical-align: top;\n",
       "    }\n",
       "\n",
       "    .dataframe thead th {\n",
       "        text-align: right;\n",
       "    }\n",
       "</style>\n",
       "<table border=\"1\" class=\"dataframe\">\n",
       "  <thead>\n",
       "    <tr style=\"text-align: right;\">\n",
       "      <th></th>\n",
       "      <th>sqft_living15</th>\n",
       "      <th>sqft_lot15</th>\n",
       "      <th>sqft_above</th>\n",
       "      <th>sqft_basement</th>\n",
       "      <th>bedrooms</th>\n",
       "      <th>bathrooms</th>\n",
       "      <th>floors</th>\n",
       "      <th>condition</th>\n",
       "      <th>grade</th>\n",
       "      <th>yr_built</th>\n",
       "      <th>zipcode</th>\n",
       "      <th>lat</th>\n",
       "      <th>long</th>\n",
       "      <th>view_good view</th>\n",
       "      <th>view_great view</th>\n",
       "      <th>view_ok view</th>\n",
       "      <th>view_very good view</th>\n",
       "      <th>waterfront_yes</th>\n",
       "    </tr>\n",
       "  </thead>\n",
       "  <tbody>\n",
       "    <tr>\n",
       "      <th>0</th>\n",
       "      <td>0.039400</td>\n",
       "      <td>-0.300108</td>\n",
       "      <td>-0.498424</td>\n",
       "      <td>2.608664</td>\n",
       "      <td>5</td>\n",
       "      <td>1.75</td>\n",
       "      <td>1</td>\n",
       "      <td>4</td>\n",
       "      <td>7</td>\n",
       "      <td>1945</td>\n",
       "      <td>98144</td>\n",
       "      <td>47.5738</td>\n",
       "      <td>-122.315</td>\n",
       "      <td>0</td>\n",
       "      <td>0</td>\n",
       "      <td>0</td>\n",
       "      <td>0</td>\n",
       "      <td>0</td>\n",
       "    </tr>\n",
       "    <tr>\n",
       "      <th>1</th>\n",
       "      <td>-0.730506</td>\n",
       "      <td>-0.272718</td>\n",
       "      <td>-0.831353</td>\n",
       "      <td>-0.653724</td>\n",
       "      <td>3</td>\n",
       "      <td>1.75</td>\n",
       "      <td>1</td>\n",
       "      <td>4</td>\n",
       "      <td>7</td>\n",
       "      <td>1925</td>\n",
       "      <td>98136</td>\n",
       "      <td>47.5445</td>\n",
       "      <td>-122.391</td>\n",
       "      <td>0</td>\n",
       "      <td>0</td>\n",
       "      <td>0</td>\n",
       "      <td>0</td>\n",
       "      <td>0</td>\n",
       "    </tr>\n",
       "    <tr>\n",
       "      <th>2</th>\n",
       "      <td>2.102748</td>\n",
       "      <td>0.291122</td>\n",
       "      <td>0.899879</td>\n",
       "      <td>-0.653724</td>\n",
       "      <td>4</td>\n",
       "      <td>2.50</td>\n",
       "      <td>1</td>\n",
       "      <td>4</td>\n",
       "      <td>9</td>\n",
       "      <td>1967</td>\n",
       "      <td>98004</td>\n",
       "      <td>47.6214</td>\n",
       "      <td>-122.227</td>\n",
       "      <td>0</td>\n",
       "      <td>0</td>\n",
       "      <td>0</td>\n",
       "      <td>0</td>\n",
       "      <td>0</td>\n",
       "    </tr>\n",
       "    <tr>\n",
       "      <th>3</th>\n",
       "      <td>1.594610</td>\n",
       "      <td>-0.292282</td>\n",
       "      <td>0.580267</td>\n",
       "      <td>1.822834</td>\n",
       "      <td>4</td>\n",
       "      <td>2.50</td>\n",
       "      <td>2</td>\n",
       "      <td>3</td>\n",
       "      <td>9</td>\n",
       "      <td>1937</td>\n",
       "      <td>98199</td>\n",
       "      <td>47.6325</td>\n",
       "      <td>-122.394</td>\n",
       "      <td>1</td>\n",
       "      <td>0</td>\n",
       "      <td>0</td>\n",
       "      <td>0</td>\n",
       "      <td>0</td>\n",
       "    </tr>\n",
       "    <tr>\n",
       "      <th>4</th>\n",
       "      <td>0.655325</td>\n",
       "      <td>1.134105</td>\n",
       "      <td>1.099637</td>\n",
       "      <td>-0.653724</td>\n",
       "      <td>4</td>\n",
       "      <td>2.25</td>\n",
       "      <td>2</td>\n",
       "      <td>4</td>\n",
       "      <td>8</td>\n",
       "      <td>1980</td>\n",
       "      <td>98053</td>\n",
       "      <td>47.6555</td>\n",
       "      <td>-122.042</td>\n",
       "      <td>0</td>\n",
       "      <td>0</td>\n",
       "      <td>0</td>\n",
       "      <td>0</td>\n",
       "      <td>0</td>\n",
       "    </tr>\n",
       "    <tr>\n",
       "      <th>...</th>\n",
       "      <td>...</td>\n",
       "      <td>...</td>\n",
       "      <td>...</td>\n",
       "      <td>...</td>\n",
       "      <td>...</td>\n",
       "      <td>...</td>\n",
       "      <td>...</td>\n",
       "      <td>...</td>\n",
       "      <td>...</td>\n",
       "      <td>...</td>\n",
       "      <td>...</td>\n",
       "      <td>...</td>\n",
       "      <td>...</td>\n",
       "      <td>...</td>\n",
       "      <td>...</td>\n",
       "      <td>...</td>\n",
       "      <td>...</td>\n",
       "      <td>...</td>\n",
       "    </tr>\n",
       "    <tr>\n",
       "      <th>14419</th>\n",
       "      <td>1.594610</td>\n",
       "      <td>0.384718</td>\n",
       "      <td>1.805447</td>\n",
       "      <td>-0.653724</td>\n",
       "      <td>3</td>\n",
       "      <td>2.50</td>\n",
       "      <td>1</td>\n",
       "      <td>3</td>\n",
       "      <td>10</td>\n",
       "      <td>1954</td>\n",
       "      <td>98177</td>\n",
       "      <td>47.7635</td>\n",
       "      <td>-122.377</td>\n",
       "      <td>0</td>\n",
       "      <td>0</td>\n",
       "      <td>0</td>\n",
       "      <td>0</td>\n",
       "      <td>0</td>\n",
       "    </tr>\n",
       "    <tr>\n",
       "      <th>14420</th>\n",
       "      <td>-1.007672</td>\n",
       "      <td>-0.407359</td>\n",
       "      <td>0.060897</td>\n",
       "      <td>1.656142</td>\n",
       "      <td>4</td>\n",
       "      <td>2.25</td>\n",
       "      <td>2</td>\n",
       "      <td>3</td>\n",
       "      <td>7</td>\n",
       "      <td>1910</td>\n",
       "      <td>98144</td>\n",
       "      <td>47.5890</td>\n",
       "      <td>-122.313</td>\n",
       "      <td>0</td>\n",
       "      <td>0</td>\n",
       "      <td>0</td>\n",
       "      <td>0</td>\n",
       "      <td>0</td>\n",
       "    </tr>\n",
       "    <tr>\n",
       "      <th>14421</th>\n",
       "      <td>1.563813</td>\n",
       "      <td>-0.095506</td>\n",
       "      <td>1.698909</td>\n",
       "      <td>-0.653724</td>\n",
       "      <td>3</td>\n",
       "      <td>2.50</td>\n",
       "      <td>2</td>\n",
       "      <td>3</td>\n",
       "      <td>8</td>\n",
       "      <td>2003</td>\n",
       "      <td>98019</td>\n",
       "      <td>47.7440</td>\n",
       "      <td>-121.976</td>\n",
       "      <td>0</td>\n",
       "      <td>0</td>\n",
       "      <td>0</td>\n",
       "      <td>0</td>\n",
       "      <td>0</td>\n",
       "    </tr>\n",
       "    <tr>\n",
       "      <th>14422</th>\n",
       "      <td>-0.699710</td>\n",
       "      <td>-0.281170</td>\n",
       "      <td>-1.057745</td>\n",
       "      <td>0.917937</td>\n",
       "      <td>2</td>\n",
       "      <td>1.75</td>\n",
       "      <td>1</td>\n",
       "      <td>3</td>\n",
       "      <td>7</td>\n",
       "      <td>1996</td>\n",
       "      <td>98118</td>\n",
       "      <td>47.5565</td>\n",
       "      <td>-122.275</td>\n",
       "      <td>0</td>\n",
       "      <td>0</td>\n",
       "      <td>0</td>\n",
       "      <td>0</td>\n",
       "      <td>0</td>\n",
       "    </tr>\n",
       "    <tr>\n",
       "      <th>14423</th>\n",
       "      <td>0.224177</td>\n",
       "      <td>-0.330081</td>\n",
       "      <td>-0.178812</td>\n",
       "      <td>-0.653724</td>\n",
       "      <td>4</td>\n",
       "      <td>2.50</td>\n",
       "      <td>2</td>\n",
       "      <td>3</td>\n",
       "      <td>7</td>\n",
       "      <td>2013</td>\n",
       "      <td>98042</td>\n",
       "      <td>47.3603</td>\n",
       "      <td>-122.081</td>\n",
       "      <td>0</td>\n",
       "      <td>0</td>\n",
       "      <td>0</td>\n",
       "      <td>0</td>\n",
       "      <td>0</td>\n",
       "    </tr>\n",
       "  </tbody>\n",
       "</table>\n",
       "<p>14424 rows × 18 columns</p>\n",
       "</div>"
      ],
      "text/plain": [
       "       sqft_living15  sqft_lot15  sqft_above  sqft_basement  bedrooms  \\\n",
       "0           0.039400   -0.300108   -0.498424       2.608664         5   \n",
       "1          -0.730506   -0.272718   -0.831353      -0.653724         3   \n",
       "2           2.102748    0.291122    0.899879      -0.653724         4   \n",
       "3           1.594610   -0.292282    0.580267       1.822834         4   \n",
       "4           0.655325    1.134105    1.099637      -0.653724         4   \n",
       "...              ...         ...         ...            ...       ...   \n",
       "14419       1.594610    0.384718    1.805447      -0.653724         3   \n",
       "14420      -1.007672   -0.407359    0.060897       1.656142         4   \n",
       "14421       1.563813   -0.095506    1.698909      -0.653724         3   \n",
       "14422      -0.699710   -0.281170   -1.057745       0.917937         2   \n",
       "14423       0.224177   -0.330081   -0.178812      -0.653724         4   \n",
       "\n",
       "       bathrooms  floors  condition  grade  yr_built  zipcode      lat  \\\n",
       "0           1.75       1          4      7      1945    98144  47.5738   \n",
       "1           1.75       1          4      7      1925    98136  47.5445   \n",
       "2           2.50       1          4      9      1967    98004  47.6214   \n",
       "3           2.50       2          3      9      1937    98199  47.6325   \n",
       "4           2.25       2          4      8      1980    98053  47.6555   \n",
       "...          ...     ...        ...    ...       ...      ...      ...   \n",
       "14419       2.50       1          3     10      1954    98177  47.7635   \n",
       "14420       2.25       2          3      7      1910    98144  47.5890   \n",
       "14421       2.50       2          3      8      2003    98019  47.7440   \n",
       "14422       1.75       1          3      7      1996    98118  47.5565   \n",
       "14423       2.50       2          3      7      2013    98042  47.3603   \n",
       "\n",
       "          long  view_good view  view_great view  view_ok view  \\\n",
       "0     -122.315               0                0             0   \n",
       "1     -122.391               0                0             0   \n",
       "2     -122.227               0                0             0   \n",
       "3     -122.394               1                0             0   \n",
       "4     -122.042               0                0             0   \n",
       "...        ...             ...              ...           ...   \n",
       "14419 -122.377               0                0             0   \n",
       "14420 -122.313               0                0             0   \n",
       "14421 -121.976               0                0             0   \n",
       "14422 -122.275               0                0             0   \n",
       "14423 -122.081               0                0             0   \n",
       "\n",
       "       view_very good view  waterfront_yes  \n",
       "0                        0               0  \n",
       "1                        0               0  \n",
       "2                        0               0  \n",
       "3                        0               0  \n",
       "4                        0               0  \n",
       "...                    ...             ...  \n",
       "14419                    0               0  \n",
       "14420                    0               0  \n",
       "14421                    0               0  \n",
       "14422                    0               0  \n",
       "14423                    0               0  \n",
       "\n",
       "[14424 rows x 18 columns]"
      ]
     },
     "execution_count": 556,
     "metadata": {},
     "output_type": "execute_result"
    }
   ],
   "source": [
    "X_train_con"
   ]
  },
  {
   "cell_type": "markdown",
   "id": "aa69fc24",
   "metadata": {},
   "source": [
    "##  Apply Linear Regression"
   ]
  },
  {
   "cell_type": "markdown",
   "id": "35770bed",
   "metadata": {},
   "source": [
    "### Modelling using Statsmodels"
   ]
  },
  {
   "cell_type": "code",
   "execution_count": 557,
   "id": "bd3837e6",
   "metadata": {},
   "outputs": [
    {
     "name": "stdout",
     "output_type": "stream",
     "text": [
      "                            OLS Regression Results                            \n",
      "==============================================================================\n",
      "Dep. Variable:                  price   R-squared:                       0.693\n",
      "Model:                            OLS   Adj. R-squared:                  0.692\n",
      "Method:                 Least Squares   F-statistic:                     1805.\n",
      "Date:                Mon, 07 Feb 2022   Prob (F-statistic):               0.00\n",
      "Time:                        17:20:22   Log-Likelihood:            -1.9412e+05\n",
      "No. Observations:               14424   AIC:                         3.883e+05\n",
      "Df Residuals:                   14405   BIC:                         3.884e+05\n",
      "Df Model:                          18                                         \n",
      "Covariance Type:            nonrobust                                         \n",
      "=======================================================================================\n",
      "                          coef    std err          t      P>|t|      [0.025      0.975]\n",
      "---------------------------------------------------------------------------------------\n",
      "const                4.374e+06   3.02e+06      1.448      0.148   -1.55e+06    1.03e+07\n",
      "sqft_living15        3.014e+04   2437.474     12.365      0.000    2.54e+04    3.49e+04\n",
      "sqft_lot15           -511.3942   1495.078     -0.342      0.732   -3441.940    2419.152\n",
      "sqft_above           9.299e+04   3055.966     30.430      0.000     8.7e+04     9.9e+04\n",
      "sqft_basement        4.831e+04   1989.752     24.281      0.000    4.44e+04    5.22e+04\n",
      "bedrooms            -2.568e+04   2305.168    -11.142      0.000   -3.02e+04   -2.12e+04\n",
      "bathrooms            2.346e+04   3593.494      6.528      0.000    1.64e+04    3.05e+04\n",
      "floors               2.048e+04   3840.939      5.331      0.000    1.29e+04     2.8e+04\n",
      "condition            2.952e+04   2399.610     12.302      0.000    2.48e+04    3.42e+04\n",
      "grade                1.019e+05   2278.192     44.736      0.000    9.75e+04    1.06e+05\n",
      "yr_built            -2510.4132     75.161    -33.401      0.000   -2657.738   -2363.089\n",
      "zipcode              -447.2077     34.011    -13.149      0.000    -513.874    -380.542\n",
      "lat                    5.8e+05    1.1e+04     52.946      0.000    5.59e+05    6.01e+05\n",
      "long                -1.349e+05   1.34e+04    -10.039      0.000   -1.61e+05   -1.09e+05\n",
      "view_good view       7.112e+04   7294.685      9.749      0.000    5.68e+04    8.54e+04\n",
      "view_great view      3.255e+05    1.7e+04     19.156      0.000    2.92e+05    3.59e+05\n",
      "view_ok view         9.668e+04   1.15e+04      8.395      0.000    7.41e+04    1.19e+05\n",
      "view_very good view  1.493e+05   1.03e+04     14.437      0.000    1.29e+05     1.7e+05\n",
      "waterfront_yes       3.835e+05   2.27e+04     16.859      0.000    3.39e+05    4.28e+05\n",
      "==============================================================================\n",
      "Omnibus:                     8865.310   Durbin-Watson:                   2.001\n",
      "Prob(Omnibus):                  0.000   Jarque-Bera (JB):           268250.974\n",
      "Skew:                           2.450   Prob(JB):                         0.00\n",
      "Kurtosis:                      23.551   Cond. No.                     2.10e+08\n",
      "==============================================================================\n",
      "\n",
      "Notes:\n",
      "[1] Standard Errors assume that the covariance matrix of the errors is correctly specified.\n",
      "[2] The condition number is large, 2.1e+08. This might indicate that there are\n",
      "strong multicollinearity or other numerical problems.\n"
     ]
    }
   ],
   "source": [
    "X_train_const_scaled = sm.add_constant(X_train_con) # adding a constant\n",
    "\n",
    "model = sm.OLS(y_train, X_train_const_scaled).fit()\n",
    "predictions_train = model.predict(X_train_const_scaled) \n",
    "\n",
    "X_test_const_scaled = sm.add_constant(X_test_con) # adding a constant\n",
    "predictions_test = model.predict(X_test_const_scaled) \n",
    "print_model = model.summary()\n",
    "print(print_model)"
   ]
  },
  {
   "cell_type": "code",
   "execution_count": 558,
   "id": "e9a68696",
   "metadata": {},
   "outputs": [
    {
     "data": {
      "text/plain": [
       "0       3.232130e+05\n",
       "1       8.467194e+05\n",
       "2       4.955529e+05\n",
       "3       1.006728e+06\n",
       "4       4.086229e+05\n",
       "            ...     \n",
       "6177    3.704938e+05\n",
       "6178    2.589919e+05\n",
       "6179    9.276003e+05\n",
       "6180    2.762563e+05\n",
       "6181    3.475811e+05\n",
       "Length: 6182, dtype: float64"
      ]
     },
     "execution_count": 558,
     "metadata": {},
     "output_type": "execute_result"
    }
   ],
   "source": [
    "predictions_test"
   ]
  },
  {
   "cell_type": "code",
   "execution_count": 559,
   "id": "ecbbc736",
   "metadata": {},
   "outputs": [
    {
     "name": "stdout",
     "output_type": "stream",
     "text": [
      "0.6923849878594397\n"
     ]
    }
   ],
   "source": [
    "#display adjusted R-squared\n",
    "print(model.rsquared_adj)"
   ]
  },
  {
   "cell_type": "markdown",
   "id": "45e9c6bc",
   "metadata": {},
   "source": [
    "### Modeling using Scikit Learn"
   ]
  },
  {
   "cell_type": "code",
   "execution_count": 560,
   "id": "6193c992",
   "metadata": {},
   "outputs": [
    {
     "data": {
      "text/plain": [
       "LinearRegression()"
      ]
     },
     "execution_count": 560,
     "metadata": {},
     "output_type": "execute_result"
    }
   ],
   "source": [
    "model=LinearRegression()    # model\n",
    "model.fit(X_train_con, y_train)   # model train"
   ]
  },
  {
   "cell_type": "code",
   "execution_count": 561,
   "id": "b4751cb5",
   "metadata": {},
   "outputs": [
    {
     "data": {
      "text/plain": [
       "array([ 3.01388170e+04, -5.11394191e+02,  9.29920679e+04,  4.83123586e+04,\n",
       "       -2.56830450e+04,  2.34571298e+04,  2.04766348e+04,  2.95189710e+04,\n",
       "        1.01917714e+05, -2.51041317e+03, -4.47207687e+02,  5.79973004e+05,\n",
       "       -1.34887673e+05,  7.11178052e+04,  3.25546609e+05,  9.66849980e+04,\n",
       "        1.49329295e+05,  3.83530429e+05])"
      ]
     },
     "execution_count": 561,
     "metadata": {},
     "output_type": "execute_result"
    }
   ],
   "source": [
    "model.coef_"
   ]
  },
  {
   "cell_type": "code",
   "execution_count": 562,
   "id": "603f9c95",
   "metadata": {},
   "outputs": [
    {
     "data": {
      "text/plain": [
       "4374289.086702205"
      ]
     },
     "execution_count": 562,
     "metadata": {},
     "output_type": "execute_result"
    }
   ],
   "source": [
    "model.intercept_"
   ]
  },
  {
   "cell_type": "markdown",
   "id": "d076a1ac",
   "metadata": {},
   "source": [
    "Making prediction"
   ]
  },
  {
   "cell_type": "code",
   "execution_count": 563,
   "id": "3efae06c",
   "metadata": {},
   "outputs": [],
   "source": [
    "y_pred=model.predict(X_test_con)   # model prediction\n",
    "##y_pred_train=model.predict(X_train_scaled)"
   ]
  },
  {
   "cell_type": "code",
   "execution_count": 564,
   "id": "fb6c6cd1",
   "metadata": {},
   "outputs": [
    {
     "data": {
      "text/plain": [
       "0        365000\n",
       "1        750000\n",
       "2        625000\n",
       "3        952500\n",
       "4        699999\n",
       "         ...   \n",
       "6177     450000\n",
       "6178     305000\n",
       "6179    1450000\n",
       "6180     235000\n",
       "6181     430000\n",
       "Name: price, Length: 6182, dtype: int64"
      ]
     },
     "execution_count": 564,
     "metadata": {},
     "output_type": "execute_result"
    }
   ],
   "source": [
    "y_test"
   ]
  },
  {
   "cell_type": "code",
   "execution_count": 565,
   "id": "03c451ec",
   "metadata": {},
   "outputs": [
    {
     "data": {
      "text/plain": [
       "array([323213.03369525, 846719.39740916, 495552.89628057, ...,\n",
       "       927600.28596466, 276256.28687518, 347581.07764053])"
      ]
     },
     "execution_count": 565,
     "metadata": {},
     "output_type": "execute_result"
    }
   ],
   "source": [
    "y_pred"
   ]
  },
  {
   "cell_type": "code",
   "execution_count": 566,
   "id": "3b46462e",
   "metadata": {},
   "outputs": [
    {
     "data": {
      "text/html": [
       "<div>\n",
       "<style scoped>\n",
       "    .dataframe tbody tr th:only-of-type {\n",
       "        vertical-align: middle;\n",
       "    }\n",
       "\n",
       "    .dataframe tbody tr th {\n",
       "        vertical-align: top;\n",
       "    }\n",
       "\n",
       "    .dataframe thead th {\n",
       "        text-align: right;\n",
       "    }\n",
       "</style>\n",
       "<table border=\"1\" class=\"dataframe\">\n",
       "  <thead>\n",
       "    <tr style=\"text-align: right;\">\n",
       "      <th></th>\n",
       "      <th>y_test</th>\n",
       "      <th>y_pred</th>\n",
       "    </tr>\n",
       "  </thead>\n",
       "  <tbody>\n",
       "    <tr>\n",
       "      <th>0</th>\n",
       "      <td>365000</td>\n",
       "      <td>3.232130e+05</td>\n",
       "    </tr>\n",
       "    <tr>\n",
       "      <th>1</th>\n",
       "      <td>750000</td>\n",
       "      <td>8.467194e+05</td>\n",
       "    </tr>\n",
       "    <tr>\n",
       "      <th>2</th>\n",
       "      <td>625000</td>\n",
       "      <td>4.955529e+05</td>\n",
       "    </tr>\n",
       "    <tr>\n",
       "      <th>3</th>\n",
       "      <td>952500</td>\n",
       "      <td>1.006728e+06</td>\n",
       "    </tr>\n",
       "    <tr>\n",
       "      <th>4</th>\n",
       "      <td>699999</td>\n",
       "      <td>4.086229e+05</td>\n",
       "    </tr>\n",
       "    <tr>\n",
       "      <th>...</th>\n",
       "      <td>...</td>\n",
       "      <td>...</td>\n",
       "    </tr>\n",
       "    <tr>\n",
       "      <th>6177</th>\n",
       "      <td>450000</td>\n",
       "      <td>3.704938e+05</td>\n",
       "    </tr>\n",
       "    <tr>\n",
       "      <th>6178</th>\n",
       "      <td>305000</td>\n",
       "      <td>2.589919e+05</td>\n",
       "    </tr>\n",
       "    <tr>\n",
       "      <th>6179</th>\n",
       "      <td>1450000</td>\n",
       "      <td>9.276003e+05</td>\n",
       "    </tr>\n",
       "    <tr>\n",
       "      <th>6180</th>\n",
       "      <td>235000</td>\n",
       "      <td>2.762563e+05</td>\n",
       "    </tr>\n",
       "    <tr>\n",
       "      <th>6181</th>\n",
       "      <td>430000</td>\n",
       "      <td>3.475811e+05</td>\n",
       "    </tr>\n",
       "  </tbody>\n",
       "</table>\n",
       "<p>6182 rows × 2 columns</p>\n",
       "</div>"
      ],
      "text/plain": [
       "       y_test        y_pred\n",
       "0      365000  3.232130e+05\n",
       "1      750000  8.467194e+05\n",
       "2      625000  4.955529e+05\n",
       "3      952500  1.006728e+06\n",
       "4      699999  4.086229e+05\n",
       "...       ...           ...\n",
       "6177   450000  3.704938e+05\n",
       "6178   305000  2.589919e+05\n",
       "6179  1450000  9.276003e+05\n",
       "6180   235000  2.762563e+05\n",
       "6181   430000  3.475811e+05\n",
       "\n",
       "[6182 rows x 2 columns]"
      ]
     },
     "execution_count": 566,
     "metadata": {},
     "output_type": "execute_result"
    }
   ],
   "source": [
    "result=pd.DataFrame({\"y_test\":y_test,\"y_pred\":y_pred})\n",
    "result"
   ]
  },
  {
   "cell_type": "markdown",
   "id": "5c16dca3",
   "metadata": {},
   "source": [
    "Linear Regression Train-test split. Standardize the data (after the data split). Apply linear regression. Model Interpretation. Model Validation Model Evaluation: MSE. RMSE. MAE. R2. Adjusted R2. Feature Importance."
   ]
  },
  {
   "cell_type": "code",
   "execution_count": 567,
   "id": "416ba774",
   "metadata": {},
   "outputs": [
    {
     "data": {
      "text/plain": [
       "[<matplotlib.lines.Line2D at 0x7f8cd2f7d7f0>]"
      ]
     },
     "execution_count": 567,
     "metadata": {},
     "output_type": "execute_result"
    },
    {
     "data": {
      "image/png": "[encoded data removed]",
      "text/plain": [
       "<Figure size 1008x288 with 3 Axes>"
      ]
     },
     "metadata": {
      "needs_background": "light"
     },
     "output_type": "display_data"
    }
   ],
   "source": [
    "# Make an scatter plot y_pred vs y\n",
    "# What kind of plot you will get if all the all the predictions are ok?\n",
    "# A stright line\n",
    "\n",
    "fig, ax = plt.subplots(1,3,figsize=(14,4))\n",
    "ax[0].plot(y_pred, y_test, 'o')\n",
    "ax[0].set_xlabel(\"y_test\")\n",
    "ax[0].set_ylabel(\"y_pred\")\n",
    "ax[0].set_title(\"Test Set -Predicted vs real\")\n",
    "\n",
    "# Get a histogram of the residuals ie: y - y_pred  Homoescdasticity\n",
    "# It resembles a normal distribution?\n",
    "ax[1].hist(y_test - y_pred)\n",
    "ax[1].set_xlabel(\"Test y-y_pred\")\n",
    "ax[1].set_title(\"Test Set Residual histogram\")\n",
    "\n",
    "ax[2].plot(y_pred,y_test - y_pred,\"o\")\n",
    "ax[2].set_xlabel(\"predited\")\n",
    "ax[2].set_ylabel(\"residuals\")\n",
    "ax[2].set_title(\"Residuals by Predicted\")\n",
    "ax[2].plot(y_pred,np.zeros(len(y_pred)),linestyle='dashed')"
   ]
  },
  {
   "cell_type": "markdown",
   "id": "13b21917",
   "metadata": {},
   "source": [
    "#### Error metrics"
   ]
  },
  {
   "cell_type": "code",
   "execution_count": 568,
   "id": "241300dc",
   "metadata": {},
   "outputs": [
    {
     "name": "stdout",
     "output_type": "stream",
     "text": [
      "28064413001.030167\n",
      "112796.16448218122\n"
     ]
    }
   ],
   "source": [
    "print(mse(y_test,y_pred))\n",
    "print(mae(y_test,y_pred))"
   ]
  },
  {
   "cell_type": "code",
   "execution_count": 569,
   "id": "e38a8178",
   "metadata": {},
   "outputs": [
    {
     "data": {
      "text/plain": [
       "0.6899227673735282"
      ]
     },
     "execution_count": 569,
     "metadata": {},
     "output_type": "execute_result"
    }
   ],
   "source": [
    "R2=r2_score(y_test,y_pred)\n",
    "R2"
   ]
  },
  {
   "cell_type": "code",
   "execution_count": 570,
   "id": "80e7955e",
   "metadata": {},
   "outputs": [
    {
     "data": {
      "text/plain": [
       "19"
      ]
     },
     "execution_count": 570,
     "metadata": {},
     "output_type": "execute_result"
    }
   ],
   "source": [
    "X_test.shape[1]"
   ]
  },
  {
   "cell_type": "code",
   "execution_count": 571,
   "id": "6b22a1d2",
   "metadata": {},
   "outputs": [
    {
     "data": {
      "text/plain": [
       "0.6889666707458257"
      ]
     },
     "execution_count": 571,
     "metadata": {},
     "output_type": "execute_result"
    }
   ],
   "source": [
    "Adj_R2= 1 - (1-R2)*(len(y_test)-1)/(len(y_test)-X_test.shape[1]-1)\n",
    "Adj_R2"
   ]
  },
  {
   "cell_type": "markdown",
   "id": "13cad6e6",
   "metadata": {},
   "source": [
    "#### Feature Importance"
   ]
  },
  {
   "cell_type": "code",
   "execution_count": 572,
   "id": "3753cb72",
   "metadata": {},
   "outputs": [],
   "source": [
    "features_importances = pd.DataFrame(data={\n",
    "    'Attribute': X_train_con.columns,\n",
    "    'Importance': abs(model.coef_)\n",
    "})\n",
    "features_importances = features_importances.sort_values(by='Importance')"
   ]
  },
  {
   "cell_type": "code",
   "execution_count": 573,
   "id": "7f163b2e",
   "metadata": {},
   "outputs": [
    {
     "data": {
      "text/html": [
       "<div>\n",
       "<style scoped>\n",
       "    .dataframe tbody tr th:only-of-type {\n",
       "        vertical-align: middle;\n",
       "    }\n",
       "\n",
       "    .dataframe tbody tr th {\n",
       "        vertical-align: top;\n",
       "    }\n",
       "\n",
       "    .dataframe thead th {\n",
       "        text-align: right;\n",
       "    }\n",
       "</style>\n",
       "<table border=\"1\" class=\"dataframe\">\n",
       "  <thead>\n",
       "    <tr style=\"text-align: right;\">\n",
       "      <th></th>\n",
       "      <th>Attribute</th>\n",
       "      <th>Importance</th>\n",
       "    </tr>\n",
       "  </thead>\n",
       "  <tbody>\n",
       "    <tr>\n",
       "      <th>10</th>\n",
       "      <td>zipcode</td>\n",
       "      <td>447.207687</td>\n",
       "    </tr>\n",
       "    <tr>\n",
       "      <th>1</th>\n",
       "      <td>sqft_lot15</td>\n",
       "      <td>511.394191</td>\n",
       "    </tr>\n",
       "    <tr>\n",
       "      <th>9</th>\n",
       "      <td>yr_built</td>\n",
       "      <td>2510.413174</td>\n",
       "    </tr>\n",
       "    <tr>\n",
       "      <th>6</th>\n",
       "      <td>floors</td>\n",
       "      <td>20476.634850</td>\n",
       "    </tr>\n",
       "    <tr>\n",
       "      <th>5</th>\n",
       "      <td>bathrooms</td>\n",
       "      <td>23457.129828</td>\n",
       "    </tr>\n",
       "    <tr>\n",
       "      <th>4</th>\n",
       "      <td>bedrooms</td>\n",
       "      <td>25683.045031</td>\n",
       "    </tr>\n",
       "    <tr>\n",
       "      <th>7</th>\n",
       "      <td>condition</td>\n",
       "      <td>29518.971007</td>\n",
       "    </tr>\n",
       "    <tr>\n",
       "      <th>0</th>\n",
       "      <td>sqft_living15</td>\n",
       "      <td>30138.816964</td>\n",
       "    </tr>\n",
       "    <tr>\n",
       "      <th>3</th>\n",
       "      <td>sqft_basement</td>\n",
       "      <td>48312.358625</td>\n",
       "    </tr>\n",
       "    <tr>\n",
       "      <th>13</th>\n",
       "      <td>view_good view</td>\n",
       "      <td>71117.805195</td>\n",
       "    </tr>\n",
       "    <tr>\n",
       "      <th>2</th>\n",
       "      <td>sqft_above</td>\n",
       "      <td>92992.067884</td>\n",
       "    </tr>\n",
       "    <tr>\n",
       "      <th>15</th>\n",
       "      <td>view_ok view</td>\n",
       "      <td>96684.998041</td>\n",
       "    </tr>\n",
       "    <tr>\n",
       "      <th>8</th>\n",
       "      <td>grade</td>\n",
       "      <td>101917.714155</td>\n",
       "    </tr>\n",
       "    <tr>\n",
       "      <th>12</th>\n",
       "      <td>long</td>\n",
       "      <td>134887.673133</td>\n",
       "    </tr>\n",
       "    <tr>\n",
       "      <th>16</th>\n",
       "      <td>view_very good view</td>\n",
       "      <td>149329.294672</td>\n",
       "    </tr>\n",
       "    <tr>\n",
       "      <th>14</th>\n",
       "      <td>view_great view</td>\n",
       "      <td>325546.608543</td>\n",
       "    </tr>\n",
       "    <tr>\n",
       "      <th>17</th>\n",
       "      <td>waterfront_yes</td>\n",
       "      <td>383530.429096</td>\n",
       "    </tr>\n",
       "    <tr>\n",
       "      <th>11</th>\n",
       "      <td>lat</td>\n",
       "      <td>579973.004311</td>\n",
       "    </tr>\n",
       "  </tbody>\n",
       "</table>\n",
       "</div>"
      ],
      "text/plain": [
       "              Attribute     Importance\n",
       "10              zipcode     447.207687\n",
       "1            sqft_lot15     511.394191\n",
       "9              yr_built    2510.413174\n",
       "6                floors   20476.634850\n",
       "5             bathrooms   23457.129828\n",
       "4              bedrooms   25683.045031\n",
       "7             condition   29518.971007\n",
       "0         sqft_living15   30138.816964\n",
       "3         sqft_basement   48312.358625\n",
       "13       view_good view   71117.805195\n",
       "2            sqft_above   92992.067884\n",
       "15         view_ok view   96684.998041\n",
       "8                 grade  101917.714155\n",
       "12                 long  134887.673133\n",
       "16  view_very good view  149329.294672\n",
       "14      view_great view  325546.608543\n",
       "17       waterfront_yes  383530.429096\n",
       "11                  lat  579973.004311"
      ]
     },
     "execution_count": 573,
     "metadata": {},
     "output_type": "execute_result"
    }
   ],
   "source": [
    "features_importances"
   ]
  },
  {
   "cell_type": "code",
   "execution_count": 574,
   "id": "66669f07",
   "metadata": {},
   "outputs": [
    {
     "data": {
      "image/png": "[encoded data removed]",
      "text/plain": [
       "<Figure size 432x288 with 1 Axes>"
      ]
     },
     "metadata": {
      "needs_background": "light"
     },
     "output_type": "display_data"
    }
   ],
   "source": [
    "plt.bar(x=features_importances['Attribute'], height=features_importances['Importance'], color='#087E8B')\n",
    "plt.title('Feature importances obtained from coefficients', size=20)\n",
    "plt.xticks(rotation='vertical')\n",
    "plt.show()"
   ]
  },
  {
   "cell_type": "markdown",
   "id": "aa837dc8",
   "metadata": {},
   "source": [
    "#### Evaluating predictions"
   ]
  },
  {
   "cell_type": "code",
   "execution_count": 575,
   "id": "7dd1644c",
   "metadata": {},
   "outputs": [
    {
     "data": {
      "text/plain": [
       "112796.16448218124"
      ]
     },
     "execution_count": 575,
     "metadata": {},
     "output_type": "execute_result"
    }
   ],
   "source": [
    "# MAE: mean absolute error\n",
    "MAE = np.mean( np.abs( y_test - y_pred ) )\n",
    "MAE"
   ]
  },
  {
   "cell_type": "code",
   "execution_count": 576,
   "id": "8cffd282",
   "metadata": {},
   "outputs": [
    {
     "data": {
      "text/plain": [
       "28064413001.03026"
      ]
     },
     "execution_count": 576,
     "metadata": {},
     "output_type": "execute_result"
    }
   ],
   "source": [
    "# MSE: mean squared error\n",
    "MSE = np.mean( np.power( y_test - y_pred , 2 ) )\n",
    "MSE"
   ]
  },
  {
   "cell_type": "code",
   "execution_count": 577,
   "id": "a8d1c8c9",
   "metadata": {},
   "outputs": [
    {
     "data": {
      "text/plain": [
       "167524.36539509785"
      ]
     },
     "execution_count": 577,
     "metadata": {},
     "output_type": "execute_result"
    }
   ],
   "source": [
    "# RMSE: root mean squared error\n",
    "RMSE = np.sqrt(MSE)\n",
    "RMSE"
   ]
  },
  {
   "cell_type": "code",
   "execution_count": 578,
   "id": "f3701756",
   "metadata": {},
   "outputs": [
    {
     "data": {
      "text/plain": [
       "array([[<AxesSubplot:title={'center':'date'}>,\n",
       "        <AxesSubplot:title={'center':'bedrooms'}>,\n",
       "        <AxesSubplot:title={'center':'bathrooms'}>,\n",
       "        <AxesSubplot:title={'center':'sqft_living'}>],\n",
       "       [<AxesSubplot:title={'center':'sqft_lot'}>,\n",
       "        <AxesSubplot:title={'center':'floors'}>,\n",
       "        <AxesSubplot:title={'center':'condition'}>,\n",
       "        <AxesSubplot:title={'center':'grade'}>],\n",
       "       [<AxesSubplot:title={'center':'sqft_above'}>,\n",
       "        <AxesSubplot:title={'center':'sqft_basement'}>,\n",
       "        <AxesSubplot:title={'center':'yr_built'}>,\n",
       "        <AxesSubplot:title={'center':'yr_renovated'}>],\n",
       "       [<AxesSubplot:title={'center':'zipcode'}>,\n",
       "        <AxesSubplot:title={'center':'lat'}>,\n",
       "        <AxesSubplot:title={'center':'long'}>,\n",
       "        <AxesSubplot:title={'center':'sqft_living15'}>],\n",
       "       [<AxesSubplot:title={'center':'sqft_lot15'}>, <AxesSubplot:>,\n",
       "        <AxesSubplot:>, <AxesSubplot:>]], dtype=object)"
      ]
     },
     "execution_count": 578,
     "metadata": {},
     "output_type": "execute_result"
    },
    {
     "data": {
      "image/png": "[encoded data removed]",
      "text/plain": [
       "<Figure size 720x720 with 20 Axes>"
      ]
     },
     "metadata": {
      "needs_background": "light"
     },
     "output_type": "display_data"
    }
   ],
   "source": [
    "X.hist(figsize=(10,10))"
   ]
  },
  {
   "cell_type": "code",
   "execution_count": null,
   "id": "123462cb",
   "metadata": {},
   "outputs": [],
   "source": []
  },
  {
   "cell_type": "code",
   "execution_count": null,
   "id": "36cd297f",
   "metadata": {},
   "outputs": [],
   "source": []
  },
  {
   "cell_type": "code",
   "execution_count": null,
   "id": "7be3df0a",
   "metadata": {},
   "outputs": [],
   "source": []
  },
  {
   "cell_type": "code",
   "execution_count": null,
   "id": "3b9ac28b",
   "metadata": {},
   "outputs": [],
   "source": []
  },
  {
   "cell_type": "code",
   "execution_count": null,
   "id": "fef98172",
   "metadata": {},
   "outputs": [],
   "source": []
  }
 ],
 "metadata": {
  "kernelspec": {
   "display_name": "Python 3 (ipykernel)",
   "language": "python",
   "name": "python3"
  },
  "language_info": {
   "codemirror_mode": {
    "name": "ipython",
    "version": 3
   },
   "file_extension": ".py",
   "mimetype": "text/x-python",
   "name": "python",
   "nbconvert_exporter": "python",
   "pygments_lexer": "ipython3",
   "version": "3.9.7"
  },
  "toc": {
   "base_numbering": 1,
   "nav_menu": {},
   "number_sections": true,
   "sideBar": true,
   "skip_h1_title": true,
   "title_cell": "Table of Contents",
   "title_sidebar": "Contents",
   "toc_cell": false,
   "toc_position": {},
   "toc_section_display": true,
   "toc_window_display": false
  },
  "varInspector": {
   "cols": {
    "lenName": 16,
    "lenType": 16,
    "lenVar": 40
   },
   "kernels_config": {
    "python": {
     "delete_cmd_postfix": "",
     "delete_cmd_prefix": "del ",
     "library": "var_list.py",
     "varRefreshCmd": "print(var_dic_list())"
    },
    "r": {
     "delete_cmd_postfix": ") ",
     "delete_cmd_prefix": "rm(",
     "library": "var_list.r",
     "varRefreshCmd": "cat(var_dic_list()) "
    }
   },
   "types_to_exclude": [
    "module",
    "function",
    "builtin_function_or_method",
    "instance",
    "_Feature"
   ],
   "window_display": false
  }
 },
 "nbformat": 4,
 "nbformat_minor": 5
}
