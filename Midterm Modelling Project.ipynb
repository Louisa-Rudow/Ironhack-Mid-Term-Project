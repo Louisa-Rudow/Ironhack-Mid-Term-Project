{
 "cells": [
  {
   "cell_type": "markdown",
   "id": "72e3a826",
   "metadata": {},
   "source": [
    "# Importing modules"
   ]
  },
  {
   "cell_type": "code",
   "execution_count": 1,
   "id": "09a8e855",
   "metadata": {},
   "outputs": [],
   "source": [
    "import numpy as np\n",
    "import pandas as pd\n",
    "import matplotlib.pyplot as plt\n",
    "%matplotlib inline\n",
    "import seaborn as sns\n",
    "import statsmodels.api as sm\n",
    "from scipy.stats import boxcox\n",
    "\n",
    "pd.options.display.max_rows = 50\n",
    "\n",
    "from sklearn.preprocessing import StandardScaler\n",
    "from sklearn.preprocessing import QuantileTransformer\n",
    "from sklearn.preprocessing import minmax_scale\n",
    "from sklearn.preprocessing import OneHotEncoder  ##. better to use dummy from pandas \n",
    "from sklearn.preprocessing import PowerTransformer\n",
    "from sklearn.linear_model import LinearRegression\n",
    "from sklearn.model_selection import train_test_split\n",
    "from sklearn.model_selection import train_test_split\n",
    "from sklearn.metrics import r2_score\n",
    "from sklearn.metrics import mean_squared_error as mse\n",
    "from sklearn.metrics import mean_absolute_error as mae\n",
    "pd.options.display.max_rows = 50\n",
    "## Install xlrd package to load Excel files\n",
    "# conda install openpyxl\n",
    "## conda install xlrd"
   ]
  },
  {
   "cell_type": "markdown",
   "id": "3093f30c",
   "metadata": {},
   "source": [
    "## Data Cleaning"
   ]
  },
  {
   "cell_type": "markdown",
   "id": "17bcd4e1",
   "metadata": {},
   "source": [
    "### loading & exploring Data"
   ]
  },
  {
   "cell_type": "code",
   "execution_count": 2,
   "id": "2ab25fdc",
   "metadata": {},
   "outputs": [],
   "source": [
    "re_df = pd.read_excel('Data_MidTerm_Project_Real_State_Regression.xls')"
   ]
  },
  {
   "cell_type": "code",
   "execution_count": 3,
   "id": "2c047629",
   "metadata": {},
   "outputs": [
    {
     "data": {
      "text/plain": [
       "Index(['id', 'date', 'bedrooms', 'bathrooms', 'sqft_living', 'sqft_lot',\n",
       "       'floors', 'waterfront', 'view', 'condition', 'grade', 'sqft_above',\n",
       "       'sqft_basement', 'yr_built', 'yr_renovated', 'zipcode', 'lat', 'long',\n",
       "       'sqft_living15', 'sqft_lot15', 'price'],\n",
       "      dtype='object')"
      ]
     },
     "execution_count": 3,
     "metadata": {},
     "output_type": "execute_result"
    }
   ],
   "source": [
    "re_df.columns"
   ]
  },
  {
   "cell_type": "code",
   "execution_count": 4,
   "id": "b64b4cfb",
   "metadata": {},
   "outputs": [
    {
     "name": "stdout",
     "output_type": "stream",
     "text": [
      "<class 'pandas.core.frame.DataFrame'>\n",
      "RangeIndex: 21597 entries, 0 to 21596\n",
      "Data columns (total 21 columns):\n",
      " #   Column         Non-Null Count  Dtype         \n",
      "---  ------         --------------  -----         \n",
      " 0   id             21597 non-null  int64         \n",
      " 1   date           21597 non-null  datetime64[ns]\n",
      " 2   bedrooms       21597 non-null  int64         \n",
      " 3   bathrooms      21597 non-null  float64       \n",
      " 4   sqft_living    21597 non-null  int64         \n",
      " 5   sqft_lot       21597 non-null  int64         \n",
      " 6   floors         21597 non-null  float64       \n",
      " 7   waterfront     21597 non-null  int64         \n",
      " 8   view           21597 non-null  int64         \n",
      " 9   condition      21597 non-null  int64         \n",
      " 10  grade          21597 non-null  int64         \n",
      " 11  sqft_above     21597 non-null  int64         \n",
      " 12  sqft_basement  21597 non-null  int64         \n",
      " 13  yr_built       21597 non-null  int64         \n",
      " 14  yr_renovated   21597 non-null  int64         \n",
      " 15  zipcode        21597 non-null  int64         \n",
      " 16  lat            21597 non-null  float64       \n",
      " 17  long           21597 non-null  float64       \n",
      " 18  sqft_living15  21597 non-null  int64         \n",
      " 19  sqft_lot15     21597 non-null  int64         \n",
      " 20  price          21597 non-null  int64         \n",
      "dtypes: datetime64[ns](1), float64(4), int64(16)\n",
      "memory usage: 3.5 MB\n"
     ]
    }
   ],
   "source": [
    "re_df.info()"
   ]
  },
  {
   "cell_type": "markdown",
   "id": "f464d7c5",
   "metadata": {},
   "source": [
    "### converting date column"
   ]
  },
  {
   "cell_type": "code",
   "execution_count": 5,
   "id": "f93ffa29",
   "metadata": {},
   "outputs": [],
   "source": [
    "re_df['date'] = re_df['date'].dt.to_period('M')"
   ]
  },
  {
   "cell_type": "code",
   "execution_count": 6,
   "id": "20f8530f",
   "metadata": {},
   "outputs": [],
   "source": [
    "re_df['date'] = re_df['date'].dt.strftime('%m/%Y')"
   ]
  },
  {
   "cell_type": "code",
   "execution_count": 7,
   "id": "48eaff56",
   "metadata": {},
   "outputs": [
    {
     "data": {
      "text/plain": [
       "04/2015    2229\n",
       "07/2014    2211\n",
       "06/2014    2178\n",
       "08/2014    1939\n",
       "10/2014    1876\n",
       "03/2015    1875\n",
       "09/2014    1771\n",
       "05/2014    1768\n",
       "12/2014    1470\n",
       "11/2014    1409\n",
       "02/2015    1247\n",
       "01/2015     978\n",
       "05/2015     646\n",
       "Name: date, dtype: int64"
      ]
     },
     "execution_count": 7,
     "metadata": {},
     "output_type": "execute_result"
    }
   ],
   "source": [
    "re_df['date'].value_counts()"
   ]
  },
  {
   "cell_type": "code",
   "execution_count": 8,
   "id": "3e93d810",
   "metadata": {},
   "outputs": [],
   "source": [
    "#re_df = re_df[re_df.date != \"05/2015\"]\n",
    "#re_df = re_df[re_df.date != \"01/2015\"]"
   ]
  },
  {
   "cell_type": "markdown",
   "id": "4d59a642",
   "metadata": {},
   "source": [
    "### dropping columns"
   ]
  },
  {
   "cell_type": "code",
   "execution_count": 9,
   "id": "bd4141f6",
   "metadata": {},
   "outputs": [],
   "source": [
    "re_df.drop(['id'],axis=1, inplace=True)\n",
    "re_df.drop(['yr_renovated'],axis=1, inplace=True)\n",
    "#re_df.drop(['yr_built'],axis=1, inplace=True)\n",
    "re_df.drop(['sqft_above'],axis=1, inplace=True)\n",
    "re_df.drop(['sqft_lot'],axis=1, inplace=True)"
   ]
  },
  {
   "cell_type": "markdown",
   "id": "8d37b44e",
   "metadata": {},
   "source": [
    "### creating a new column \"area\""
   ]
  },
  {
   "cell_type": "markdown",
   "id": "4d6bee0f",
   "metadata": {},
   "source": [
    "area = []\n",
    "\n",
    "for row in re_df['price']:\n",
    "    if row < 300000:\n",
    "        area.append('affordable area')\n",
    "    elif row >= 300000 and row < 600000:\n",
    "        area.append('medium priced area')\n",
    "    elif row >= 600000 and row < 900000:\n",
    "        area.append('expensive area')\n",
    "    elif row >= 900000:  \n",
    "        area.append('very expensive area')\n",
    "    else:         \n",
    "        area.append('Not_Rated')\n",
    "        \n",
    "re_df['area'] = area"
   ]
  },
  {
   "cell_type": "markdown",
   "id": "70b5e776",
   "metadata": {},
   "source": [
    "area = []\n",
    "\n",
    "for row in re_df['price']:\n",
    "    if row < 250000:\n",
    "        area.append('very affordable area')\n",
    "    elif row >= 250000 and row < 500000:\n",
    "        area.append('affordable area')\n",
    "    elif row >= 500000 and row < 750000:\n",
    "        area.append('medium priced area')\n",
    "    elif row >= 750000 and row < 1000000:\n",
    "        area.append('expensive area')\n",
    "    elif row >= 1000000:  \n",
    "        area.append('very expensive area')\n",
    "    else:         \n",
    "        area.append('not rated')\n",
    "        \n",
    "re_df['area'] = area"
   ]
  },
  {
   "cell_type": "markdown",
   "id": "db795388",
   "metadata": {},
   "source": [
    "### Grouping Zipcodes by average price"
   ]
  },
  {
   "cell_type": "code",
   "execution_count": 10,
   "id": "a1f63deb",
   "metadata": {},
   "outputs": [],
   "source": [
    "#step 1: zipcodes gruppieren und avg price ausgeben lassen\n",
    "#step 2: gruppen sortieren nach avg price\n",
    "    \n",
    "grouped_zipcodes = re_df.groupby(\"zipcode\")[[\"price\"]].mean().sort_values(by=\"price\", ascending=False)\n",
    "\n",
    "#step 3: schwellwerte festlegen\n",
    "\n",
    "very_affordable_area =list(grouped_zipcodes[grouped_zipcodes[\"price\"]< 250000].index)\n",
    "affordable_area = list(grouped_zipcodes[(grouped_zipcodes[\"price\"]>= 250000) & (grouped_zipcodes[\"price\"] < 500000)].index)\n",
    "medium_priced_area = list(grouped_zipcodes[(grouped_zipcodes[\"price\"]>= 500000) & (grouped_zipcodes[\"price\"]< 750000)].index)\n",
    "expensive_area = list(grouped_zipcodes[(grouped_zipcodes[\"price\"]>= 750000) & (grouped_zipcodes[\"price\"]< 1000000)].index)\n",
    "very_expensive_area =list(grouped_zipcodes[grouped_zipcodes[\"price\"]>=1000000].index)\n",
    "\n",
    "\n",
    "#step 4: neue column erstellen mit zip code gruppen\n",
    "\n",
    "area = []\n",
    "\n",
    "for row in re_df['zipcode']:\n",
    "    if row in very_affordable_area:\n",
    "        area.append('very_affordable area')\n",
    "    elif row in affordable_area:\n",
    "        area.append('affordable area')\n",
    "    elif row in medium_priced_area:\n",
    "        area.append('medium priced area')\n",
    "    elif row in expensive_area:\n",
    "        area.append('expensive area')\n",
    "    elif row in very_expensive_area:\n",
    "        area.append('very expensive area')\n",
    "\n",
    "re_df['area'] = area \n"
   ]
  },
  {
   "cell_type": "markdown",
   "id": "8388c266",
   "metadata": {},
   "source": [
    "#step 1: zipcodes gruppieren und avg price ausgeben lassen\n",
    "#step 2: gruppen sortieren nach avg price\n",
    "    \n",
    "grouped_zipcodes = re_df.groupby(\"zipcode\")[[\"grade\"]].mean().sort_values(by=\"grade\", ascending=False)\n",
    "\n",
    "#step 3: schwellwerte festlegen\n",
    "\n",
    "very_affordable_area =list(grouped_zipcodes[grouped_zipcodes[\"grade\"]< 3].index)\n",
    "affordable_area = list(grouped_zipcodes[(grouped_zipcodes[\"grade\"]>= 3) & (grouped_zipcodes[\"grade\"] < 6)].index)\n",
    "medium_priced_area = list(grouped_zipcodes[(grouped_zipcodes[\"grade\"]>= 6) & (grouped_zipcodes[\"grade\"]< 9)].index)\n",
    "expensive_area = list(grouped_zipcodes[(grouped_zipcodes[\"grade\"]>= 9) & (grouped_zipcodes[\"grade\"]< 12)].index)\n",
    "very_expensive_area =list(grouped_zipcodes[grouped_zipcodes[\"grade\"]>=12].index)\n",
    "\n",
    "\n",
    "#step 4: neue column erstellen mit zip code gruppen\n",
    "\n",
    "area2 = []\n",
    "\n",
    "for row in re_df['zipcode']:\n",
    "    if row in very_affordable_area:\n",
    "        area2.append('very_affordable area')\n",
    "    elif row in affordable_area:\n",
    "        area2.append('affordable area')\n",
    "    elif row in medium_priced_area:\n",
    "        area2.append('medium priced area')\n",
    "    elif row in expensive_area:\n",
    "        area2.append('expensive area')\n",
    "    elif row in very_expensive_area:\n",
    "        area2.append('very expensive area')\n",
    "\n",
    "re_df['area2'] = area2\n"
   ]
  },
  {
   "cell_type": "markdown",
   "id": "ce7e7354",
   "metadata": {},
   "source": [
    "### removing duplicates"
   ]
  },
  {
   "cell_type": "code",
   "execution_count": 11,
   "id": "15cfb69f",
   "metadata": {},
   "outputs": [],
   "source": [
    "re_df.drop_duplicates(inplace=True)"
   ]
  },
  {
   "cell_type": "markdown",
   "id": "05038a15",
   "metadata": {},
   "source": [
    "### dropping nan values"
   ]
  },
  {
   "cell_type": "code",
   "execution_count": 12,
   "id": "f05faecb",
   "metadata": {},
   "outputs": [],
   "source": [
    "#re_df.view.hist()\n",
    "#re_df.dropna(inplace=True)\n",
    "#re_df"
   ]
  },
  {
   "cell_type": "markdown",
   "id": "117d1394",
   "metadata": {},
   "source": [
    "### renaming \"waterfront\" column features "
   ]
  },
  {
   "cell_type": "code",
   "execution_count": 13,
   "id": "93c089a6",
   "metadata": {},
   "outputs": [],
   "source": [
    "def clean_waterfront(x):\n",
    "    if x == 0:\n",
    "        return 'no'\n",
    "    elif x == 1:\n",
    "        return 'yes'"
   ]
  },
  {
   "cell_type": "code",
   "execution_count": 14,
   "id": "2210c556",
   "metadata": {},
   "outputs": [],
   "source": [
    "re_df[\"waterfront\"] = list(map(clean_waterfront,re_df[\"waterfront\"])) "
   ]
  },
  {
   "cell_type": "markdown",
   "id": "bc82f4cf",
   "metadata": {},
   "source": [
    "### removing outliers"
   ]
  },
  {
   "cell_type": "markdown",
   "id": "9c62993e",
   "metadata": {},
   "source": [
    "#### bedrooms"
   ]
  },
  {
   "cell_type": "code",
   "execution_count": 15,
   "id": "2a6374f4",
   "metadata": {},
   "outputs": [
    {
     "name": "stderr",
     "output_type": "stream",
     "text": [
      "/opt/anaconda3/envs/DA_ENV/lib/python3.9/site-packages/seaborn/_decorators.py:36: FutureWarning: Pass the following variable as a keyword arg: x. From version 0.12, the only valid positional argument will be `data`, and passing other arguments without an explicit keyword will result in an error or misinterpretation.\n",
      "  warnings.warn(\n"
     ]
    },
    {
     "data": {
      "text/plain": [
       "<AxesSubplot:xlabel='bedrooms'>"
      ]
     },
     "execution_count": 15,
     "metadata": {},
     "output_type": "execute_result"
    },
    {
     "data": {
      "image/png": "[encoded data removed]",
      "text/plain": [
       "<Figure size 432x288 with 1 Axes>"
      ]
     },
     "metadata": {
      "needs_background": "light"
     },
     "output_type": "display_data"
    }
   ],
   "source": [
    "sns.boxplot(re_df['bedrooms'])"
   ]
  },
  {
   "cell_type": "code",
   "execution_count": 16,
   "id": "ec540781",
   "metadata": {},
   "outputs": [
    {
     "data": {
      "text/plain": [
       "33"
      ]
     },
     "execution_count": 16,
     "metadata": {},
     "output_type": "execute_result"
    }
   ],
   "source": [
    "max(re_df['bedrooms'])"
   ]
  },
  {
   "cell_type": "code",
   "execution_count": 17,
   "id": "6ca8161b",
   "metadata": {},
   "outputs": [
    {
     "data": {
      "text/html": [
       "<div>\n",
       "<style scoped>\n",
       "    .dataframe tbody tr th:only-of-type {\n",
       "        vertical-align: middle;\n",
       "    }\n",
       "\n",
       "    .dataframe tbody tr th {\n",
       "        vertical-align: top;\n",
       "    }\n",
       "\n",
       "    .dataframe thead th {\n",
       "        text-align: right;\n",
       "    }\n",
       "</style>\n",
       "<table border=\"1\" class=\"dataframe\">\n",
       "  <thead>\n",
       "    <tr style=\"text-align: right;\">\n",
       "      <th></th>\n",
       "      <th>date</th>\n",
       "      <th>bedrooms</th>\n",
       "      <th>bathrooms</th>\n",
       "      <th>sqft_living</th>\n",
       "      <th>floors</th>\n",
       "      <th>waterfront</th>\n",
       "      <th>view</th>\n",
       "      <th>condition</th>\n",
       "      <th>grade</th>\n",
       "      <th>sqft_basement</th>\n",
       "      <th>yr_built</th>\n",
       "      <th>zipcode</th>\n",
       "      <th>lat</th>\n",
       "      <th>long</th>\n",
       "      <th>sqft_living15</th>\n",
       "      <th>sqft_lot15</th>\n",
       "      <th>price</th>\n",
       "      <th>area</th>\n",
       "    </tr>\n",
       "  </thead>\n",
       "  <tbody>\n",
       "    <tr>\n",
       "      <th>15856</th>\n",
       "      <td>06/2014</td>\n",
       "      <td>33</td>\n",
       "      <td>1.75</td>\n",
       "      <td>1620</td>\n",
       "      <td>1.0</td>\n",
       "      <td>no</td>\n",
       "      <td>0</td>\n",
       "      <td>5</td>\n",
       "      <td>7</td>\n",
       "      <td>580</td>\n",
       "      <td>1947</td>\n",
       "      <td>98103</td>\n",
       "      <td>47.6878</td>\n",
       "      <td>-122.331</td>\n",
       "      <td>1330</td>\n",
       "      <td>4700</td>\n",
       "      <td>640000</td>\n",
       "      <td>medium priced area</td>\n",
       "    </tr>\n",
       "  </tbody>\n",
       "</table>\n",
       "</div>"
      ],
      "text/plain": [
       "          date  bedrooms  bathrooms  sqft_living  floors waterfront  view  \\\n",
       "15856  06/2014        33       1.75         1620     1.0         no     0   \n",
       "\n",
       "       condition  grade  sqft_basement  yr_built  zipcode      lat     long  \\\n",
       "15856          5      7            580      1947    98103  47.6878 -122.331   \n",
       "\n",
       "       sqft_living15  sqft_lot15   price                area  \n",
       "15856           1330        4700  640000  medium priced area  "
      ]
     },
     "execution_count": 17,
     "metadata": {},
     "output_type": "execute_result"
    }
   ],
   "source": [
    "#re_df = re_df[re_df.bedrooms != max(re_df['bedrooms'])]\n",
    "\n",
    "re_df.loc[re_df['bedrooms'] == 33]"
   ]
  },
  {
   "cell_type": "markdown",
   "id": "74f1d803",
   "metadata": {},
   "source": [
    "Based on the sqft_living we asume that there is typing error"
   ]
  },
  {
   "cell_type": "code",
   "execution_count": 18,
   "id": "66a70c77",
   "metadata": {},
   "outputs": [],
   "source": [
    "re_df.at[15856,'bedrooms'] = 3"
   ]
  },
  {
   "cell_type": "markdown",
   "id": "8010b63b",
   "metadata": {},
   "source": [
    "#### bathrooms"
   ]
  },
  {
   "cell_type": "code",
   "execution_count": 19,
   "id": "7657e24e",
   "metadata": {},
   "outputs": [
    {
     "name": "stderr",
     "output_type": "stream",
     "text": [
      "/opt/anaconda3/envs/DA_ENV/lib/python3.9/site-packages/seaborn/_decorators.py:36: FutureWarning: Pass the following variable as a keyword arg: x. From version 0.12, the only valid positional argument will be `data`, and passing other arguments without an explicit keyword will result in an error or misinterpretation.\n",
      "  warnings.warn(\n"
     ]
    },
    {
     "data": {
      "text/plain": [
       "<AxesSubplot:xlabel='bathrooms'>"
      ]
     },
     "execution_count": 19,
     "metadata": {},
     "output_type": "execute_result"
    },
    {
     "data": {
      "image/png": "[encoded data removed]",
      "text/plain": [
       "<Figure size 432x288 with 1 Axes>"
      ]
     },
     "metadata": {
      "needs_background": "light"
     },
     "output_type": "display_data"
    }
   ],
   "source": [
    "sns.boxplot(re_df['bathrooms'])"
   ]
  },
  {
   "cell_type": "code",
   "execution_count": 20,
   "id": "0784ca91",
   "metadata": {},
   "outputs": [
    {
     "data": {
      "text/plain": [
       "2.50    5376\n",
       "1.00    3849\n",
       "1.75    3048\n",
       "2.25    2046\n",
       "2.00    1929\n",
       "1.50    1445\n",
       "2.75    1185\n",
       "3.00     753\n",
       "3.50     731\n",
       "3.25     589\n",
       "3.75     155\n",
       "4.00     136\n",
       "4.50     100\n",
       "4.25      79\n",
       "0.75      71\n",
       "4.75      23\n",
       "5.00      21\n",
       "5.25      13\n",
       "5.50      10\n",
       "1.25       9\n",
       "6.00       6\n",
       "0.50       4\n",
       "5.75       4\n",
       "6.75       2\n",
       "8.00       2\n",
       "6.25       2\n",
       "6.50       2\n",
       "7.50       1\n",
       "7.75       1\n",
       "Name: bathrooms, dtype: int64"
      ]
     },
     "execution_count": 20,
     "metadata": {},
     "output_type": "execute_result"
    }
   ],
   "source": [
    "re_df['bathrooms'].value_counts()\n",
    "\n",
    "#re_df = re_df[re_df.bathrooms != max(re_df['bathrooms'])]\n",
    "#re_df = re_df[re_df.bathrooms != 7.75]"
   ]
  },
  {
   "cell_type": "markdown",
   "id": "7af1bbb9",
   "metadata": {},
   "source": [
    "#### sqft_lot"
   ]
  },
  {
   "cell_type": "markdown",
   "id": "116d557e",
   "metadata": {},
   "source": [
    "sns.boxplot(re_df['sqft_lot'])"
   ]
  },
  {
   "cell_type": "markdown",
   "id": "c97d6de8",
   "metadata": {},
   "source": [
    "max(re_df['sqft_lot'])"
   ]
  },
  {
   "cell_type": "markdown",
   "id": "3bf610c8",
   "metadata": {},
   "source": [
    "re_df.loc[re_df['sqft_lot'] == 1651359]"
   ]
  },
  {
   "cell_type": "markdown",
   "id": "b6c262cb",
   "metadata": {},
   "source": [
    "re_df.at[1717,'sqft_lot'] = 16513.59"
   ]
  },
  {
   "cell_type": "markdown",
   "id": "a0f74d62",
   "metadata": {},
   "source": [
    "#### price"
   ]
  },
  {
   "cell_type": "code",
   "execution_count": 21,
   "id": "a487e55d",
   "metadata": {},
   "outputs": [],
   "source": [
    "re_df = re_df[re_df['price'] < 4000000]"
   ]
  },
  {
   "cell_type": "code",
   "execution_count": 22,
   "id": "e393d381",
   "metadata": {},
   "outputs": [],
   "source": [
    "re_df.to_excel(r'cleaned_dataframe.xlsx', index = False)"
   ]
  },
  {
   "cell_type": "markdown",
   "id": "ecf71e29",
   "metadata": {},
   "source": [
    "## Plot the Correlation Heatmap"
   ]
  },
  {
   "cell_type": "code",
   "execution_count": 23,
   "id": "780a3f17",
   "metadata": {},
   "outputs": [
    {
     "data": {
      "image/png": "[encoded data removed]",
      "text/plain": [
       "<Figure size 648x504 with 2 Axes>"
      ]
     },
     "metadata": {},
     "output_type": "display_data"
    }
   ],
   "source": [
    "re_num = re_df[['sqft_living','sqft_living15','sqft_lot15','sqft_basement','price']]\n",
    "\n",
    "corr = re_num.corr()\n",
    "mask = np.zeros_like(corr)\n",
    "mask[np.triu_indices_from(mask)] = True\n",
    "with sns.axes_style(\"white\"):\n",
    "    f, ax = plt.subplots(figsize=(9, 7))\n",
    "    ax = sns.heatmap(corr, mask=mask,cmap='coolwarm', vmin=-1,vmax=1,annot=True, square=True)"
   ]
  },
  {
   "cell_type": "markdown",
   "id": "4ce3234f",
   "metadata": {},
   "source": [
    "## Split Data into groups"
   ]
  },
  {
   "cell_type": "code",
   "execution_count": 24,
   "id": "ff1c3942",
   "metadata": {},
   "outputs": [],
   "source": [
    "expensive_zipcodes= [98199, 98119, 98109, 98102, 98105, 98112, 98033, 98039, 98004, 98005, 98040, 98006, 98075]\n",
    "expensive_areas = re_df[re_df['zipcode'].isin(expensive_zipcodes)]"
   ]
  },
  {
   "cell_type": "code",
   "execution_count": 25,
   "id": "d54cbae4",
   "metadata": {},
   "outputs": [],
   "source": [
    "affordable_areas = re_df[~re_df['zipcode'].isin(expensive_zipcodes)]"
   ]
  },
  {
   "cell_type": "markdown",
   "id": "5938960b",
   "metadata": {},
   "source": [
    "## X Y split"
   ]
  },
  {
   "cell_type": "code",
   "execution_count": 26,
   "id": "22079693",
   "metadata": {},
   "outputs": [],
   "source": [
    "X=re_df.drop(\"price\", axis=1)\n",
    "y=re_df[\"price\"]"
   ]
  },
  {
   "cell_type": "markdown",
   "id": "6e9a3efc",
   "metadata": {},
   "source": [
    "## Data Splitting"
   ]
  },
  {
   "cell_type": "code",
   "execution_count": 27,
   "id": "a3051d93",
   "metadata": {},
   "outputs": [],
   "source": [
    "X_train, X_test, y_train, y_test=train_test_split(X, y, test_size=.30,random_state=123)"
   ]
  },
  {
   "cell_type": "markdown",
   "id": "e984ce93",
   "metadata": {},
   "source": [
    "y_train = y_train.reset_index(drop=True)\n",
    "y_test = y_test.reset_index(drop=True)"
   ]
  },
  {
   "cell_type": "markdown",
   "id": "489db419",
   "metadata": {},
   "source": [
    "## Data Transformation"
   ]
  },
  {
   "cell_type": "markdown",
   "id": "a03c2827",
   "metadata": {},
   "source": [
    "### Hot coding Categorical Variables"
   ]
  },
  {
   "cell_type": "code",
   "execution_count": 28,
   "id": "54cf7869",
   "metadata": {},
   "outputs": [
    {
     "data": {
      "text/html": [
       "<div>\n",
       "<style scoped>\n",
       "    .dataframe tbody tr th:only-of-type {\n",
       "        vertical-align: middle;\n",
       "    }\n",
       "\n",
       "    .dataframe tbody tr th {\n",
       "        vertical-align: top;\n",
       "    }\n",
       "\n",
       "    .dataframe thead th {\n",
       "        text-align: right;\n",
       "    }\n",
       "</style>\n",
       "<table border=\"1\" class=\"dataframe\">\n",
       "  <thead>\n",
       "    <tr style=\"text-align: right;\">\n",
       "      <th></th>\n",
       "      <th>date</th>\n",
       "      <th>bedrooms</th>\n",
       "      <th>bathrooms</th>\n",
       "      <th>view</th>\n",
       "      <th>floors</th>\n",
       "      <th>waterfront</th>\n",
       "      <th>condition</th>\n",
       "      <th>grade</th>\n",
       "      <th>yr_built</th>\n",
       "      <th>zipcode</th>\n",
       "      <th>lat</th>\n",
       "      <th>long</th>\n",
       "      <th>area</th>\n",
       "    </tr>\n",
       "  </thead>\n",
       "  <tbody>\n",
       "    <tr>\n",
       "      <th>19459</th>\n",
       "      <td>07/2014</td>\n",
       "      <td>5</td>\n",
       "      <td>1.75</td>\n",
       "      <td>0</td>\n",
       "      <td>1.0</td>\n",
       "      <td>no</td>\n",
       "      <td>3</td>\n",
       "      <td>7</td>\n",
       "      <td>1966</td>\n",
       "      <td>98034</td>\n",
       "      <td>47.7203</td>\n",
       "      <td>-122.229</td>\n",
       "      <td>medium priced area</td>\n",
       "    </tr>\n",
       "    <tr>\n",
       "      <th>7292</th>\n",
       "      <td>06/2014</td>\n",
       "      <td>3</td>\n",
       "      <td>1.00</td>\n",
       "      <td>0</td>\n",
       "      <td>1.5</td>\n",
       "      <td>no</td>\n",
       "      <td>3</td>\n",
       "      <td>7</td>\n",
       "      <td>1901</td>\n",
       "      <td>98117</td>\n",
       "      <td>47.6865</td>\n",
       "      <td>-122.397</td>\n",
       "      <td>medium priced area</td>\n",
       "    </tr>\n",
       "    <tr>\n",
       "      <th>21143</th>\n",
       "      <td>04/2015</td>\n",
       "      <td>3</td>\n",
       "      <td>2.50</td>\n",
       "      <td>0</td>\n",
       "      <td>2.0</td>\n",
       "      <td>no</td>\n",
       "      <td>3</td>\n",
       "      <td>7</td>\n",
       "      <td>2008</td>\n",
       "      <td>98126</td>\n",
       "      <td>47.5730</td>\n",
       "      <td>-122.372</td>\n",
       "      <td>affordable area</td>\n",
       "    </tr>\n",
       "    <tr>\n",
       "      <th>4224</th>\n",
       "      <td>11/2014</td>\n",
       "      <td>2</td>\n",
       "      <td>2.50</td>\n",
       "      <td>0</td>\n",
       "      <td>2.0</td>\n",
       "      <td>no</td>\n",
       "      <td>3</td>\n",
       "      <td>8</td>\n",
       "      <td>1994</td>\n",
       "      <td>98199</td>\n",
       "      <td>47.6375</td>\n",
       "      <td>-122.387</td>\n",
       "      <td>expensive area</td>\n",
       "    </tr>\n",
       "    <tr>\n",
       "      <th>5067</th>\n",
       "      <td>07/2014</td>\n",
       "      <td>3</td>\n",
       "      <td>2.50</td>\n",
       "      <td>0</td>\n",
       "      <td>1.0</td>\n",
       "      <td>no</td>\n",
       "      <td>3</td>\n",
       "      <td>8</td>\n",
       "      <td>1953</td>\n",
       "      <td>98136</td>\n",
       "      <td>47.5245</td>\n",
       "      <td>-122.384</td>\n",
       "      <td>medium priced area</td>\n",
       "    </tr>\n",
       "    <tr>\n",
       "      <th>...</th>\n",
       "      <td>...</td>\n",
       "      <td>...</td>\n",
       "      <td>...</td>\n",
       "      <td>...</td>\n",
       "      <td>...</td>\n",
       "      <td>...</td>\n",
       "      <td>...</td>\n",
       "      <td>...</td>\n",
       "      <td>...</td>\n",
       "      <td>...</td>\n",
       "      <td>...</td>\n",
       "      <td>...</td>\n",
       "      <td>...</td>\n",
       "    </tr>\n",
       "    <tr>\n",
       "      <th>1658</th>\n",
       "      <td>12/2014</td>\n",
       "      <td>8</td>\n",
       "      <td>5.00</td>\n",
       "      <td>0</td>\n",
       "      <td>2.0</td>\n",
       "      <td>no</td>\n",
       "      <td>3</td>\n",
       "      <td>8</td>\n",
       "      <td>1997</td>\n",
       "      <td>98122</td>\n",
       "      <td>47.6086</td>\n",
       "      <td>-122.303</td>\n",
       "      <td>medium priced area</td>\n",
       "    </tr>\n",
       "    <tr>\n",
       "      <th>18441</th>\n",
       "      <td>09/2014</td>\n",
       "      <td>3</td>\n",
       "      <td>1.50</td>\n",
       "      <td>0</td>\n",
       "      <td>1.0</td>\n",
       "      <td>no</td>\n",
       "      <td>5</td>\n",
       "      <td>7</td>\n",
       "      <td>1957</td>\n",
       "      <td>98022</td>\n",
       "      <td>47.2012</td>\n",
       "      <td>-122.000</td>\n",
       "      <td>affordable area</td>\n",
       "    </tr>\n",
       "    <tr>\n",
       "      <th>5714</th>\n",
       "      <td>09/2014</td>\n",
       "      <td>3</td>\n",
       "      <td>3.00</td>\n",
       "      <td>0</td>\n",
       "      <td>1.0</td>\n",
       "      <td>no</td>\n",
       "      <td>4</td>\n",
       "      <td>10</td>\n",
       "      <td>1979</td>\n",
       "      <td>98092</td>\n",
       "      <td>47.3080</td>\n",
       "      <td>-122.087</td>\n",
       "      <td>affordable area</td>\n",
       "    </tr>\n",
       "    <tr>\n",
       "      <th>10233</th>\n",
       "      <td>06/2014</td>\n",
       "      <td>3</td>\n",
       "      <td>1.50</td>\n",
       "      <td>2</td>\n",
       "      <td>2.0</td>\n",
       "      <td>no</td>\n",
       "      <td>5</td>\n",
       "      <td>8</td>\n",
       "      <td>1913</td>\n",
       "      <td>98109</td>\n",
       "      <td>47.6333</td>\n",
       "      <td>-122.347</td>\n",
       "      <td>expensive area</td>\n",
       "    </tr>\n",
       "    <tr>\n",
       "      <th>5862</th>\n",
       "      <td>02/2015</td>\n",
       "      <td>3</td>\n",
       "      <td>2.50</td>\n",
       "      <td>2</td>\n",
       "      <td>1.0</td>\n",
       "      <td>no</td>\n",
       "      <td>4</td>\n",
       "      <td>9</td>\n",
       "      <td>1989</td>\n",
       "      <td>98023</td>\n",
       "      <td>47.3384</td>\n",
       "      <td>-122.340</td>\n",
       "      <td>affordable area</td>\n",
       "    </tr>\n",
       "  </tbody>\n",
       "</table>\n",
       "<p>6474 rows × 13 columns</p>\n",
       "</div>"
      ],
      "text/plain": [
       "          date  bedrooms  bathrooms  view  floors waterfront  condition  \\\n",
       "19459  07/2014         5       1.75     0     1.0         no          3   \n",
       "7292   06/2014         3       1.00     0     1.5         no          3   \n",
       "21143  04/2015         3       2.50     0     2.0         no          3   \n",
       "4224   11/2014         2       2.50     0     2.0         no          3   \n",
       "5067   07/2014         3       2.50     0     1.0         no          3   \n",
       "...        ...       ...        ...   ...     ...        ...        ...   \n",
       "1658   12/2014         8       5.00     0     2.0         no          3   \n",
       "18441  09/2014         3       1.50     0     1.0         no          5   \n",
       "5714   09/2014         3       3.00     0     1.0         no          4   \n",
       "10233  06/2014         3       1.50     2     2.0         no          5   \n",
       "5862   02/2015         3       2.50     2     1.0         no          4   \n",
       "\n",
       "       grade  yr_built  zipcode      lat     long                area  \n",
       "19459      7      1966    98034  47.7203 -122.229  medium priced area  \n",
       "7292       7      1901    98117  47.6865 -122.397  medium priced area  \n",
       "21143      7      2008    98126  47.5730 -122.372     affordable area  \n",
       "4224       8      1994    98199  47.6375 -122.387      expensive area  \n",
       "5067       8      1953    98136  47.5245 -122.384  medium priced area  \n",
       "...      ...       ...      ...      ...      ...                 ...  \n",
       "1658       8      1997    98122  47.6086 -122.303  medium priced area  \n",
       "18441      7      1957    98022  47.2012 -122.000     affordable area  \n",
       "5714      10      1979    98092  47.3080 -122.087     affordable area  \n",
       "10233      8      1913    98109  47.6333 -122.347      expensive area  \n",
       "5862       9      1989    98023  47.3384 -122.340     affordable area  \n",
       "\n",
       "[6474 rows x 13 columns]"
      ]
     },
     "execution_count": 28,
     "metadata": {},
     "output_type": "execute_result"
    }
   ],
   "source": [
    "X_train_cat=X_train[['date','bedrooms','bathrooms','view','floors','waterfront','condition','grade','yr_built','zipcode','lat','long','area']]\n",
    "X_train_cat\n",
    "\n",
    "X_test_cat=X_test[['date','bedrooms','bathrooms','view','floors','waterfront','condition','grade','yr_built','zipcode','lat','long','area']]\n",
    "X_test_cat"
   ]
  },
  {
   "cell_type": "code",
   "execution_count": 29,
   "id": "cf5e573d",
   "metadata": {},
   "outputs": [
    {
     "name": "stderr",
     "output_type": "stream",
     "text": [
      "/opt/anaconda3/envs/DA_ENV/lib/python3.9/site-packages/sklearn/utils/deprecation.py:87: FutureWarning: Function get_feature_names is deprecated; get_feature_names is deprecated in 1.0 and will be removed in 1.2. Please use get_feature_names_out instead.\n",
      "  warnings.warn(msg, category=FutureWarning)\n",
      "/opt/anaconda3/envs/DA_ENV/lib/python3.9/site-packages/sklearn/utils/deprecation.py:87: FutureWarning: Function get_feature_names is deprecated; get_feature_names is deprecated in 1.0 and will be removed in 1.2. Please use get_feature_names_out instead.\n",
      "  warnings.warn(msg, category=FutureWarning)\n"
     ]
    },
    {
     "data": {
      "text/html": [
       "<div>\n",
       "<style scoped>\n",
       "    .dataframe tbody tr th:only-of-type {\n",
       "        vertical-align: middle;\n",
       "    }\n",
       "\n",
       "    .dataframe tbody tr th {\n",
       "        vertical-align: top;\n",
       "    }\n",
       "\n",
       "    .dataframe thead th {\n",
       "        text-align: right;\n",
       "    }\n",
       "</style>\n",
       "<table border=\"1\" class=\"dataframe\">\n",
       "  <thead>\n",
       "    <tr style=\"text-align: right;\">\n",
       "      <th></th>\n",
       "      <th>bedrooms_2</th>\n",
       "      <th>bedrooms_3</th>\n",
       "      <th>bedrooms_4</th>\n",
       "      <th>bedrooms_5</th>\n",
       "      <th>bedrooms_6</th>\n",
       "      <th>bedrooms_7</th>\n",
       "      <th>bedrooms_8</th>\n",
       "      <th>bedrooms_9</th>\n",
       "      <th>bedrooms_10</th>\n",
       "      <th>bathrooms_0.75</th>\n",
       "      <th>...</th>\n",
       "      <th>date_08/2014_1</th>\n",
       "      <th>date_09/2014_1</th>\n",
       "      <th>date_10/2014_1</th>\n",
       "      <th>date_11/2014_1</th>\n",
       "      <th>date_12/2014_1</th>\n",
       "      <th>waterfront_yes_1</th>\n",
       "      <th>area_expensive area_1</th>\n",
       "      <th>area_medium priced area_1</th>\n",
       "      <th>area_very expensive area_1</th>\n",
       "      <th>area_very_affordable area_1</th>\n",
       "    </tr>\n",
       "  </thead>\n",
       "  <tbody>\n",
       "    <tr>\n",
       "      <th>0</th>\n",
       "      <td>0.0</td>\n",
       "      <td>0.0</td>\n",
       "      <td>0.0</td>\n",
       "      <td>1.0</td>\n",
       "      <td>0.0</td>\n",
       "      <td>0.0</td>\n",
       "      <td>0.0</td>\n",
       "      <td>0.0</td>\n",
       "      <td>0.0</td>\n",
       "      <td>0.0</td>\n",
       "      <td>...</td>\n",
       "      <td>0.0</td>\n",
       "      <td>0.0</td>\n",
       "      <td>0.0</td>\n",
       "      <td>0.0</td>\n",
       "      <td>0.0</td>\n",
       "      <td>0.0</td>\n",
       "      <td>0.0</td>\n",
       "      <td>1.0</td>\n",
       "      <td>0.0</td>\n",
       "      <td>0.0</td>\n",
       "    </tr>\n",
       "    <tr>\n",
       "      <th>1</th>\n",
       "      <td>0.0</td>\n",
       "      <td>1.0</td>\n",
       "      <td>0.0</td>\n",
       "      <td>0.0</td>\n",
       "      <td>0.0</td>\n",
       "      <td>0.0</td>\n",
       "      <td>0.0</td>\n",
       "      <td>0.0</td>\n",
       "      <td>0.0</td>\n",
       "      <td>0.0</td>\n",
       "      <td>...</td>\n",
       "      <td>0.0</td>\n",
       "      <td>0.0</td>\n",
       "      <td>0.0</td>\n",
       "      <td>0.0</td>\n",
       "      <td>0.0</td>\n",
       "      <td>0.0</td>\n",
       "      <td>0.0</td>\n",
       "      <td>1.0</td>\n",
       "      <td>0.0</td>\n",
       "      <td>0.0</td>\n",
       "    </tr>\n",
       "    <tr>\n",
       "      <th>2</th>\n",
       "      <td>0.0</td>\n",
       "      <td>1.0</td>\n",
       "      <td>0.0</td>\n",
       "      <td>0.0</td>\n",
       "      <td>0.0</td>\n",
       "      <td>0.0</td>\n",
       "      <td>0.0</td>\n",
       "      <td>0.0</td>\n",
       "      <td>0.0</td>\n",
       "      <td>0.0</td>\n",
       "      <td>...</td>\n",
       "      <td>0.0</td>\n",
       "      <td>0.0</td>\n",
       "      <td>0.0</td>\n",
       "      <td>0.0</td>\n",
       "      <td>0.0</td>\n",
       "      <td>0.0</td>\n",
       "      <td>0.0</td>\n",
       "      <td>0.0</td>\n",
       "      <td>0.0</td>\n",
       "      <td>0.0</td>\n",
       "    </tr>\n",
       "    <tr>\n",
       "      <th>3</th>\n",
       "      <td>1.0</td>\n",
       "      <td>0.0</td>\n",
       "      <td>0.0</td>\n",
       "      <td>0.0</td>\n",
       "      <td>0.0</td>\n",
       "      <td>0.0</td>\n",
       "      <td>0.0</td>\n",
       "      <td>0.0</td>\n",
       "      <td>0.0</td>\n",
       "      <td>0.0</td>\n",
       "      <td>...</td>\n",
       "      <td>0.0</td>\n",
       "      <td>0.0</td>\n",
       "      <td>0.0</td>\n",
       "      <td>1.0</td>\n",
       "      <td>0.0</td>\n",
       "      <td>0.0</td>\n",
       "      <td>1.0</td>\n",
       "      <td>0.0</td>\n",
       "      <td>0.0</td>\n",
       "      <td>0.0</td>\n",
       "    </tr>\n",
       "    <tr>\n",
       "      <th>4</th>\n",
       "      <td>0.0</td>\n",
       "      <td>1.0</td>\n",
       "      <td>0.0</td>\n",
       "      <td>0.0</td>\n",
       "      <td>0.0</td>\n",
       "      <td>0.0</td>\n",
       "      <td>0.0</td>\n",
       "      <td>0.0</td>\n",
       "      <td>0.0</td>\n",
       "      <td>0.0</td>\n",
       "      <td>...</td>\n",
       "      <td>0.0</td>\n",
       "      <td>0.0</td>\n",
       "      <td>0.0</td>\n",
       "      <td>0.0</td>\n",
       "      <td>0.0</td>\n",
       "      <td>0.0</td>\n",
       "      <td>0.0</td>\n",
       "      <td>1.0</td>\n",
       "      <td>0.0</td>\n",
       "      <td>0.0</td>\n",
       "    </tr>\n",
       "    <tr>\n",
       "      <th>...</th>\n",
       "      <td>...</td>\n",
       "      <td>...</td>\n",
       "      <td>...</td>\n",
       "      <td>...</td>\n",
       "      <td>...</td>\n",
       "      <td>...</td>\n",
       "      <td>...</td>\n",
       "      <td>...</td>\n",
       "      <td>...</td>\n",
       "      <td>...</td>\n",
       "      <td>...</td>\n",
       "      <td>...</td>\n",
       "      <td>...</td>\n",
       "      <td>...</td>\n",
       "      <td>...</td>\n",
       "      <td>...</td>\n",
       "      <td>...</td>\n",
       "      <td>...</td>\n",
       "      <td>...</td>\n",
       "      <td>...</td>\n",
       "      <td>...</td>\n",
       "    </tr>\n",
       "    <tr>\n",
       "      <th>6469</th>\n",
       "      <td>0.0</td>\n",
       "      <td>0.0</td>\n",
       "      <td>0.0</td>\n",
       "      <td>0.0</td>\n",
       "      <td>0.0</td>\n",
       "      <td>0.0</td>\n",
       "      <td>1.0</td>\n",
       "      <td>0.0</td>\n",
       "      <td>0.0</td>\n",
       "      <td>0.0</td>\n",
       "      <td>...</td>\n",
       "      <td>0.0</td>\n",
       "      <td>0.0</td>\n",
       "      <td>0.0</td>\n",
       "      <td>0.0</td>\n",
       "      <td>1.0</td>\n",
       "      <td>0.0</td>\n",
       "      <td>0.0</td>\n",
       "      <td>1.0</td>\n",
       "      <td>0.0</td>\n",
       "      <td>0.0</td>\n",
       "    </tr>\n",
       "    <tr>\n",
       "      <th>6470</th>\n",
       "      <td>0.0</td>\n",
       "      <td>1.0</td>\n",
       "      <td>0.0</td>\n",
       "      <td>0.0</td>\n",
       "      <td>0.0</td>\n",
       "      <td>0.0</td>\n",
       "      <td>0.0</td>\n",
       "      <td>0.0</td>\n",
       "      <td>0.0</td>\n",
       "      <td>0.0</td>\n",
       "      <td>...</td>\n",
       "      <td>0.0</td>\n",
       "      <td>1.0</td>\n",
       "      <td>0.0</td>\n",
       "      <td>0.0</td>\n",
       "      <td>0.0</td>\n",
       "      <td>0.0</td>\n",
       "      <td>0.0</td>\n",
       "      <td>0.0</td>\n",
       "      <td>0.0</td>\n",
       "      <td>0.0</td>\n",
       "    </tr>\n",
       "    <tr>\n",
       "      <th>6471</th>\n",
       "      <td>0.0</td>\n",
       "      <td>1.0</td>\n",
       "      <td>0.0</td>\n",
       "      <td>0.0</td>\n",
       "      <td>0.0</td>\n",
       "      <td>0.0</td>\n",
       "      <td>0.0</td>\n",
       "      <td>0.0</td>\n",
       "      <td>0.0</td>\n",
       "      <td>0.0</td>\n",
       "      <td>...</td>\n",
       "      <td>0.0</td>\n",
       "      <td>1.0</td>\n",
       "      <td>0.0</td>\n",
       "      <td>0.0</td>\n",
       "      <td>0.0</td>\n",
       "      <td>0.0</td>\n",
       "      <td>0.0</td>\n",
       "      <td>0.0</td>\n",
       "      <td>0.0</td>\n",
       "      <td>0.0</td>\n",
       "    </tr>\n",
       "    <tr>\n",
       "      <th>6472</th>\n",
       "      <td>0.0</td>\n",
       "      <td>1.0</td>\n",
       "      <td>0.0</td>\n",
       "      <td>0.0</td>\n",
       "      <td>0.0</td>\n",
       "      <td>0.0</td>\n",
       "      <td>0.0</td>\n",
       "      <td>0.0</td>\n",
       "      <td>0.0</td>\n",
       "      <td>0.0</td>\n",
       "      <td>...</td>\n",
       "      <td>0.0</td>\n",
       "      <td>0.0</td>\n",
       "      <td>0.0</td>\n",
       "      <td>0.0</td>\n",
       "      <td>0.0</td>\n",
       "      <td>0.0</td>\n",
       "      <td>1.0</td>\n",
       "      <td>0.0</td>\n",
       "      <td>0.0</td>\n",
       "      <td>0.0</td>\n",
       "    </tr>\n",
       "    <tr>\n",
       "      <th>6473</th>\n",
       "      <td>0.0</td>\n",
       "      <td>1.0</td>\n",
       "      <td>0.0</td>\n",
       "      <td>0.0</td>\n",
       "      <td>0.0</td>\n",
       "      <td>0.0</td>\n",
       "      <td>0.0</td>\n",
       "      <td>0.0</td>\n",
       "      <td>0.0</td>\n",
       "      <td>0.0</td>\n",
       "      <td>...</td>\n",
       "      <td>0.0</td>\n",
       "      <td>0.0</td>\n",
       "      <td>0.0</td>\n",
       "      <td>0.0</td>\n",
       "      <td>0.0</td>\n",
       "      <td>0.0</td>\n",
       "      <td>0.0</td>\n",
       "      <td>0.0</td>\n",
       "      <td>0.0</td>\n",
       "      <td>0.0</td>\n",
       "    </tr>\n",
       "  </tbody>\n",
       "</table>\n",
       "<p>6474 rows × 4372 columns</p>\n",
       "</div>"
      ],
      "text/plain": [
       "      bedrooms_2  bedrooms_3  bedrooms_4  bedrooms_5  bedrooms_6  bedrooms_7  \\\n",
       "0            0.0         0.0         0.0         1.0         0.0         0.0   \n",
       "1            0.0         1.0         0.0         0.0         0.0         0.0   \n",
       "2            0.0         1.0         0.0         0.0         0.0         0.0   \n",
       "3            1.0         0.0         0.0         0.0         0.0         0.0   \n",
       "4            0.0         1.0         0.0         0.0         0.0         0.0   \n",
       "...          ...         ...         ...         ...         ...         ...   \n",
       "6469         0.0         0.0         0.0         0.0         0.0         0.0   \n",
       "6470         0.0         1.0         0.0         0.0         0.0         0.0   \n",
       "6471         0.0         1.0         0.0         0.0         0.0         0.0   \n",
       "6472         0.0         1.0         0.0         0.0         0.0         0.0   \n",
       "6473         0.0         1.0         0.0         0.0         0.0         0.0   \n",
       "\n",
       "      bedrooms_8  bedrooms_9  bedrooms_10  bathrooms_0.75  ...  \\\n",
       "0            0.0         0.0          0.0             0.0  ...   \n",
       "1            0.0         0.0          0.0             0.0  ...   \n",
       "2            0.0         0.0          0.0             0.0  ...   \n",
       "3            0.0         0.0          0.0             0.0  ...   \n",
       "4            0.0         0.0          0.0             0.0  ...   \n",
       "...          ...         ...          ...             ...  ...   \n",
       "6469         1.0         0.0          0.0             0.0  ...   \n",
       "6470         0.0         0.0          0.0             0.0  ...   \n",
       "6471         0.0         0.0          0.0             0.0  ...   \n",
       "6472         0.0         0.0          0.0             0.0  ...   \n",
       "6473         0.0         0.0          0.0             0.0  ...   \n",
       "\n",
       "      date_08/2014_1  date_09/2014_1  date_10/2014_1  date_11/2014_1  \\\n",
       "0                0.0             0.0             0.0             0.0   \n",
       "1                0.0             0.0             0.0             0.0   \n",
       "2                0.0             0.0             0.0             0.0   \n",
       "3                0.0             0.0             0.0             1.0   \n",
       "4                0.0             0.0             0.0             0.0   \n",
       "...              ...             ...             ...             ...   \n",
       "6469             0.0             0.0             0.0             0.0   \n",
       "6470             0.0             1.0             0.0             0.0   \n",
       "6471             0.0             1.0             0.0             0.0   \n",
       "6472             0.0             0.0             0.0             0.0   \n",
       "6473             0.0             0.0             0.0             0.0   \n",
       "\n",
       "      date_12/2014_1  waterfront_yes_1  area_expensive area_1  \\\n",
       "0                0.0               0.0                    0.0   \n",
       "1                0.0               0.0                    0.0   \n",
       "2                0.0               0.0                    0.0   \n",
       "3                0.0               0.0                    1.0   \n",
       "4                0.0               0.0                    0.0   \n",
       "...              ...               ...                    ...   \n",
       "6469             1.0               0.0                    0.0   \n",
       "6470             0.0               0.0                    0.0   \n",
       "6471             0.0               0.0                    0.0   \n",
       "6472             0.0               0.0                    1.0   \n",
       "6473             0.0               0.0                    0.0   \n",
       "\n",
       "      area_medium priced area_1  area_very expensive area_1  \\\n",
       "0                           1.0                         0.0   \n",
       "1                           1.0                         0.0   \n",
       "2                           0.0                         0.0   \n",
       "3                           0.0                         0.0   \n",
       "4                           1.0                         0.0   \n",
       "...                         ...                         ...   \n",
       "6469                        1.0                         0.0   \n",
       "6470                        0.0                         0.0   \n",
       "6471                        0.0                         0.0   \n",
       "6472                        0.0                         0.0   \n",
       "6473                        0.0                         0.0   \n",
       "\n",
       "      area_very_affordable area_1  \n",
       "0                             0.0  \n",
       "1                             0.0  \n",
       "2                             0.0  \n",
       "3                             0.0  \n",
       "4                             0.0  \n",
       "...                           ...  \n",
       "6469                          0.0  \n",
       "6470                          0.0  \n",
       "6471                          0.0  \n",
       "6472                          0.0  \n",
       "6473                          0.0  \n",
       "\n",
       "[6474 rows x 4372 columns]"
      ]
     },
     "execution_count": 29,
     "metadata": {},
     "output_type": "execute_result"
    }
   ],
   "source": [
    "X_train_cat=pd.get_dummies(X_train_cat, drop_first=True)\n",
    "pd.DataFrame(OneHotEncoder(drop='first').fit_transform(X_train_cat).toarray(),\n",
    "columns=OneHotEncoder(drop='first').fit(X_train_cat).get_feature_names(input_features=X_train_cat.columns))\n",
    "\n",
    "X_test_cat=pd.get_dummies(X_test_cat, drop_first=True)\n",
    "pd.DataFrame(OneHotEncoder(drop='first').fit_transform(X_test_cat).toarray(),\n",
    "columns=OneHotEncoder(drop='first').fit(X_test_cat).get_feature_names(input_features=X_test_cat.columns))"
   ]
  },
  {
   "cell_type": "code",
   "execution_count": 30,
   "id": "707f5adf",
   "metadata": {},
   "outputs": [],
   "source": [
    "X_train_cat = X_train_cat.reset_index(drop=True)\n",
    "X_test_cat = X_test_cat.reset_index(drop=True)"
   ]
  },
  {
   "cell_type": "markdown",
   "id": "7006b949",
   "metadata": {},
   "source": [
    "### Standardize numerical"
   ]
  },
  {
   "cell_type": "code",
   "execution_count": 31,
   "id": "cf03f651",
   "metadata": {},
   "outputs": [
    {
     "data": {
      "text/html": [
       "<div>\n",
       "<style scoped>\n",
       "    .dataframe tbody tr th:only-of-type {\n",
       "        vertical-align: middle;\n",
       "    }\n",
       "\n",
       "    .dataframe tbody tr th {\n",
       "        vertical-align: top;\n",
       "    }\n",
       "\n",
       "    .dataframe thead th {\n",
       "        text-align: right;\n",
       "    }\n",
       "</style>\n",
       "<table border=\"1\" class=\"dataframe\">\n",
       "  <thead>\n",
       "    <tr style=\"text-align: right;\">\n",
       "      <th></th>\n",
       "      <th>sqft_living</th>\n",
       "      <th>sqft_living15</th>\n",
       "      <th>sqft_lot15</th>\n",
       "      <th>sqft_basement</th>\n",
       "    </tr>\n",
       "  </thead>\n",
       "  <tbody>\n",
       "    <tr>\n",
       "      <th>19459</th>\n",
       "      <td>1360</td>\n",
       "      <td>1490</td>\n",
       "      <td>9935</td>\n",
       "      <td>300</td>\n",
       "    </tr>\n",
       "    <tr>\n",
       "      <th>7292</th>\n",
       "      <td>1210</td>\n",
       "      <td>1450</td>\n",
       "      <td>5264</td>\n",
       "      <td>0</td>\n",
       "    </tr>\n",
       "    <tr>\n",
       "      <th>21143</th>\n",
       "      <td>2040</td>\n",
       "      <td>1410</td>\n",
       "      <td>2500</td>\n",
       "      <td>570</td>\n",
       "    </tr>\n",
       "    <tr>\n",
       "      <th>4224</th>\n",
       "      <td>1590</td>\n",
       "      <td>1880</td>\n",
       "      <td>3675</td>\n",
       "      <td>290</td>\n",
       "    </tr>\n",
       "    <tr>\n",
       "      <th>5067</th>\n",
       "      <td>2060</td>\n",
       "      <td>1990</td>\n",
       "      <td>7560</td>\n",
       "      <td>900</td>\n",
       "    </tr>\n",
       "    <tr>\n",
       "      <th>...</th>\n",
       "      <td>...</td>\n",
       "      <td>...</td>\n",
       "      <td>...</td>\n",
       "      <td>...</td>\n",
       "    </tr>\n",
       "    <tr>\n",
       "      <th>1658</th>\n",
       "      <td>2800</td>\n",
       "      <td>1800</td>\n",
       "      <td>2580</td>\n",
       "      <td>920</td>\n",
       "    </tr>\n",
       "    <tr>\n",
       "      <th>18441</th>\n",
       "      <td>1550</td>\n",
       "      <td>1450</td>\n",
       "      <td>9282</td>\n",
       "      <td>0</td>\n",
       "    </tr>\n",
       "    <tr>\n",
       "      <th>5714</th>\n",
       "      <td>3760</td>\n",
       "      <td>2820</td>\n",
       "      <td>50543</td>\n",
       "      <td>1120</td>\n",
       "    </tr>\n",
       "    <tr>\n",
       "      <th>10233</th>\n",
       "      <td>2680</td>\n",
       "      <td>2280</td>\n",
       "      <td>5947</td>\n",
       "      <td>800</td>\n",
       "    </tr>\n",
       "    <tr>\n",
       "      <th>5862</th>\n",
       "      <td>2410</td>\n",
       "      <td>3090</td>\n",
       "      <td>11902</td>\n",
       "      <td>810</td>\n",
       "    </tr>\n",
       "  </tbody>\n",
       "</table>\n",
       "<p>6474 rows × 4 columns</p>\n",
       "</div>"
      ],
      "text/plain": [
       "       sqft_living  sqft_living15  sqft_lot15  sqft_basement\n",
       "19459         1360           1490        9935            300\n",
       "7292          1210           1450        5264              0\n",
       "21143         2040           1410        2500            570\n",
       "4224          1590           1880        3675            290\n",
       "5067          2060           1990        7560            900\n",
       "...            ...            ...         ...            ...\n",
       "1658          2800           1800        2580            920\n",
       "18441         1550           1450        9282              0\n",
       "5714          3760           2820       50543           1120\n",
       "10233         2680           2280        5947            800\n",
       "5862          2410           3090       11902            810\n",
       "\n",
       "[6474 rows x 4 columns]"
      ]
     },
     "execution_count": 31,
     "metadata": {},
     "output_type": "execute_result"
    }
   ],
   "source": [
    "X_train_num=X_train[['sqft_living','sqft_living15','sqft_lot15','sqft_basement']]\n",
    "X_train_num\n",
    "\n",
    "X_test_num=X_test[['sqft_living','sqft_living15','sqft_lot15','sqft_basement']]\n",
    "X_test_num"
   ]
  },
  {
   "cell_type": "code",
   "execution_count": 32,
   "id": "107a50d2",
   "metadata": {},
   "outputs": [],
   "source": [
    "std_scaler=StandardScaler().fit(X_train_num)   ## finding the parameters (mean, variance from the training set )\n",
    "\n",
    "X_train_scaled=std_scaler.transform(X_train_num)"
   ]
  },
  {
   "cell_type": "code",
   "execution_count": 33,
   "id": "8ba3086d",
   "metadata": {},
   "outputs": [],
   "source": [
    "X_test_scaled=std_scaler.transform(X_test_num)"
   ]
  },
  {
   "cell_type": "code",
   "execution_count": 34,
   "id": "f6d36497",
   "metadata": {},
   "outputs": [
    {
     "name": "stdout",
     "output_type": "stream",
     "text": [
      "[[-0.37619609 -1.25475748 -0.39712138  0.20163432]\n",
      " [-0.6082163  -0.6404919   0.02846981  0.13365339]\n",
      " [-1.32637411 -0.90374858 -0.27290151 -0.65945752]\n",
      " ...\n",
      " [-0.3099046  -0.07010244 -0.19131204  1.17602773]\n",
      " [ 0.22042732 -0.09935319 -0.16047985 -0.65945752]\n",
      " [-0.53087623 -0.55566475 -0.30180891 -0.65945752]]\n",
      "--------\n",
      "[[-0.79604219 -0.72824413 -0.10095411  0.02035183]\n",
      " [-0.96177092 -0.78674561 -0.26744795 -0.65945752]\n",
      " [-0.04473864 -0.84524709 -0.36596839  0.63218025]\n",
      " ...\n",
      " [ 1.85561741  1.21693018  1.34648367  1.87849739]\n",
      " [ 0.66237059  0.42716016 -0.24310299  1.15336742]\n",
      " [ 0.36405888  1.61181519 -0.03084206  1.17602773]]\n"
     ]
    }
   ],
   "source": [
    "print(X_train_scaled)\n",
    "print(\"--------\")\n",
    "print(X_test_scaled)"
   ]
  },
  {
   "cell_type": "code",
   "execution_count": 35,
   "id": "3a48500d",
   "metadata": {},
   "outputs": [],
   "source": [
    "X_train_scaled = pd.DataFrame(X_train_scaled, columns= X_train_num.columns)\n",
    "X_test_scaled = pd.DataFrame(X_test_scaled, columns= X_test_num.columns)"
   ]
  },
  {
   "cell_type": "code",
   "execution_count": 36,
   "id": "1255675e",
   "metadata": {},
   "outputs": [],
   "source": [
    "X_train_scaled = X_train_scaled.reset_index(drop=True)\n",
    "X_test_scaled = X_test_scaled.reset_index(drop=True)"
   ]
  },
  {
   "cell_type": "markdown",
   "id": "f56baef0",
   "metadata": {},
   "source": [
    "### Quantile Transformer"
   ]
  },
  {
   "cell_type": "code",
   "execution_count": 37,
   "id": "34dbf28e",
   "metadata": {},
   "outputs": [],
   "source": [
    "qt = QuantileTransformer(output_distribution=\"normal\").fit(X_train_scaled['sqft_living15'].to_numpy().reshape(-1,1))\n",
    "X_train_scaled['sqft_living15'] = qt.transform(X_train_scaled['sqft_living15'].to_numpy().reshape(-1,1))\n",
    "X_test_scaled['sqft_living15'] = qt.transform(X_test_scaled['sqft_living15'].to_numpy().reshape(-1,1))"
   ]
  },
  {
   "cell_type": "code",
   "execution_count": 38,
   "id": "30b5d8e4",
   "metadata": {},
   "outputs": [],
   "source": [
    "qt = QuantileTransformer(output_distribution=\"normal\").fit(X_train_scaled['sqft_lot15'].to_numpy().reshape(-1,1))\n",
    "X_train_scaled['sqft_lot15'] = qt.transform(X_train_scaled['sqft_lot15'].to_numpy().reshape(-1,1))\n",
    "X_test_scaled['sqft_lot15'] = qt.transform(X_test_scaled['sqft_lot15'].to_numpy().reshape(-1,1))"
   ]
  },
  {
   "cell_type": "code",
   "execution_count": 39,
   "id": "436abfdb",
   "metadata": {},
   "outputs": [
    {
     "name": "stderr",
     "output_type": "stream",
     "text": [
      "/opt/anaconda3/envs/DA_ENV/lib/python3.9/site-packages/sklearn/preprocessing/_data.py:3253: RuntimeWarning: divide by zero encountered in log\n",
      "  loglike = -n_samples / 2 * np.log(x_trans.var())\n"
     ]
    }
   ],
   "source": [
    "pt = PowerTransformer().fit(y_train.to_numpy().reshape(-1,1))\n",
    "y_train = pt.transform(y_train.to_numpy().reshape(-1,1))\n",
    "y_test = pt.transform(y_test.to_numpy().reshape(-1,1))"
   ]
  },
  {
   "cell_type": "markdown",
   "id": "17d03c54",
   "metadata": {},
   "source": [
    "## Concatination"
   ]
  },
  {
   "cell_type": "code",
   "execution_count": 40,
   "id": "96f435cc",
   "metadata": {},
   "outputs": [],
   "source": [
    "X_train_con=pd.concat([X_train_scaled,X_train_cat],axis=1)\n",
    "X_test_con=pd.concat([X_test_scaled,X_test_cat],axis=1)"
   ]
  },
  {
   "cell_type": "code",
   "execution_count": 41,
   "id": "4d7cf84b",
   "metadata": {},
   "outputs": [
    {
     "data": {
      "text/html": [
       "<div>\n",
       "<style scoped>\n",
       "    .dataframe tbody tr th:only-of-type {\n",
       "        vertical-align: middle;\n",
       "    }\n",
       "\n",
       "    .dataframe tbody tr th {\n",
       "        vertical-align: top;\n",
       "    }\n",
       "\n",
       "    .dataframe thead th {\n",
       "        text-align: right;\n",
       "    }\n",
       "</style>\n",
       "<table border=\"1\" class=\"dataframe\">\n",
       "  <thead>\n",
       "    <tr style=\"text-align: right;\">\n",
       "      <th></th>\n",
       "      <th>sqft_living</th>\n",
       "      <th>sqft_living15</th>\n",
       "      <th>sqft_lot15</th>\n",
       "      <th>sqft_basement</th>\n",
       "      <th>bedrooms</th>\n",
       "      <th>bathrooms</th>\n",
       "      <th>view</th>\n",
       "      <th>floors</th>\n",
       "      <th>condition</th>\n",
       "      <th>grade</th>\n",
       "      <th>...</th>\n",
       "      <th>date_08/2014</th>\n",
       "      <th>date_09/2014</th>\n",
       "      <th>date_10/2014</th>\n",
       "      <th>date_11/2014</th>\n",
       "      <th>date_12/2014</th>\n",
       "      <th>waterfront_yes</th>\n",
       "      <th>area_expensive area</th>\n",
       "      <th>area_medium priced area</th>\n",
       "      <th>area_very expensive area</th>\n",
       "      <th>area_very_affordable area</th>\n",
       "    </tr>\n",
       "  </thead>\n",
       "  <tbody>\n",
       "    <tr>\n",
       "      <th>0</th>\n",
       "      <td>-0.376196</td>\n",
       "      <td>-1.674186</td>\n",
       "      <td>-1.773922</td>\n",
       "      <td>0.201634</td>\n",
       "      <td>3</td>\n",
       "      <td>3.25</td>\n",
       "      <td>0</td>\n",
       "      <td>2.0</td>\n",
       "      <td>3</td>\n",
       "      <td>8</td>\n",
       "      <td>...</td>\n",
       "      <td>0</td>\n",
       "      <td>0</td>\n",
       "      <td>0</td>\n",
       "      <td>0</td>\n",
       "      <td>0</td>\n",
       "      <td>0</td>\n",
       "      <td>0</td>\n",
       "      <td>1</td>\n",
       "      <td>0</td>\n",
       "      <td>0</td>\n",
       "    </tr>\n",
       "    <tr>\n",
       "      <th>1</th>\n",
       "      <td>-0.608216</td>\n",
       "      <td>-0.530745</td>\n",
       "      <td>1.070745</td>\n",
       "      <td>0.133653</td>\n",
       "      <td>3</td>\n",
       "      <td>1.75</td>\n",
       "      <td>0</td>\n",
       "      <td>1.0</td>\n",
       "      <td>3</td>\n",
       "      <td>7</td>\n",
       "      <td>...</td>\n",
       "      <td>0</td>\n",
       "      <td>0</td>\n",
       "      <td>0</td>\n",
       "      <td>1</td>\n",
       "      <td>0</td>\n",
       "      <td>0</td>\n",
       "      <td>0</td>\n",
       "      <td>1</td>\n",
       "      <td>0</td>\n",
       "      <td>0</td>\n",
       "    </tr>\n",
       "    <tr>\n",
       "      <th>2</th>\n",
       "      <td>-1.326374</td>\n",
       "      <td>-0.959440</td>\n",
       "      <td>-0.660719</td>\n",
       "      <td>-0.659458</td>\n",
       "      <td>2</td>\n",
       "      <td>1.00</td>\n",
       "      <td>0</td>\n",
       "      <td>1.0</td>\n",
       "      <td>3</td>\n",
       "      <td>6</td>\n",
       "      <td>...</td>\n",
       "      <td>0</td>\n",
       "      <td>0</td>\n",
       "      <td>0</td>\n",
       "      <td>0</td>\n",
       "      <td>1</td>\n",
       "      <td>0</td>\n",
       "      <td>0</td>\n",
       "      <td>1</td>\n",
       "      <td>0</td>\n",
       "      <td>0</td>\n",
       "    </tr>\n",
       "    <tr>\n",
       "      <th>3</th>\n",
       "      <td>-0.652411</td>\n",
       "      <td>-0.840906</td>\n",
       "      <td>-0.101796</td>\n",
       "      <td>0.246955</td>\n",
       "      <td>3</td>\n",
       "      <td>1.50</td>\n",
       "      <td>0</td>\n",
       "      <td>1.0</td>\n",
       "      <td>3</td>\n",
       "      <td>7</td>\n",
       "      <td>...</td>\n",
       "      <td>0</td>\n",
       "      <td>0</td>\n",
       "      <td>0</td>\n",
       "      <td>0</td>\n",
       "      <td>1</td>\n",
       "      <td>0</td>\n",
       "      <td>0</td>\n",
       "      <td>1</td>\n",
       "      <td>0</td>\n",
       "      <td>0</td>\n",
       "    </tr>\n",
       "    <tr>\n",
       "      <th>4</th>\n",
       "      <td>-0.884431</td>\n",
       "      <td>-0.364191</td>\n",
       "      <td>-0.739737</td>\n",
       "      <td>-0.659458</td>\n",
       "      <td>3</td>\n",
       "      <td>1.00</td>\n",
       "      <td>0</td>\n",
       "      <td>1.0</td>\n",
       "      <td>3</td>\n",
       "      <td>6</td>\n",
       "      <td>...</td>\n",
       "      <td>0</td>\n",
       "      <td>0</td>\n",
       "      <td>0</td>\n",
       "      <td>0</td>\n",
       "      <td>1</td>\n",
       "      <td>0</td>\n",
       "      <td>0</td>\n",
       "      <td>1</td>\n",
       "      <td>0</td>\n",
       "      <td>0</td>\n",
       "    </tr>\n",
       "    <tr>\n",
       "      <th>...</th>\n",
       "      <td>...</td>\n",
       "      <td>...</td>\n",
       "      <td>...</td>\n",
       "      <td>...</td>\n",
       "      <td>...</td>\n",
       "      <td>...</td>\n",
       "      <td>...</td>\n",
       "      <td>...</td>\n",
       "      <td>...</td>\n",
       "      <td>...</td>\n",
       "      <td>...</td>\n",
       "      <td>...</td>\n",
       "      <td>...</td>\n",
       "      <td>...</td>\n",
       "      <td>...</td>\n",
       "      <td>...</td>\n",
       "      <td>...</td>\n",
       "      <td>...</td>\n",
       "      <td>...</td>\n",
       "      <td>...</td>\n",
       "      <td>...</td>\n",
       "    </tr>\n",
       "    <tr>\n",
       "      <th>15101</th>\n",
       "      <td>1.192703</td>\n",
       "      <td>2.268169</td>\n",
       "      <td>0.939454</td>\n",
       "      <td>1.606574</td>\n",
       "      <td>3</td>\n",
       "      <td>2.50</td>\n",
       "      <td>3</td>\n",
       "      <td>1.0</td>\n",
       "      <td>3</td>\n",
       "      <td>11</td>\n",
       "      <td>...</td>\n",
       "      <td>0</td>\n",
       "      <td>1</td>\n",
       "      <td>0</td>\n",
       "      <td>0</td>\n",
       "      <td>0</td>\n",
       "      <td>0</td>\n",
       "      <td>1</td>\n",
       "      <td>0</td>\n",
       "      <td>0</td>\n",
       "      <td>0</td>\n",
       "    </tr>\n",
       "    <tr>\n",
       "      <th>15102</th>\n",
       "      <td>1.491014</td>\n",
       "      <td>1.460531</td>\n",
       "      <td>0.366928</td>\n",
       "      <td>-0.659458</td>\n",
       "      <td>4</td>\n",
       "      <td>2.50</td>\n",
       "      <td>0</td>\n",
       "      <td>2.0</td>\n",
       "      <td>3</td>\n",
       "      <td>10</td>\n",
       "      <td>...</td>\n",
       "      <td>0</td>\n",
       "      <td>0</td>\n",
       "      <td>1</td>\n",
       "      <td>0</td>\n",
       "      <td>0</td>\n",
       "      <td>0</td>\n",
       "      <td>0</td>\n",
       "      <td>1</td>\n",
       "      <td>0</td>\n",
       "      <td>0</td>\n",
       "    </tr>\n",
       "    <tr>\n",
       "      <th>15103</th>\n",
       "      <td>-0.309905</td>\n",
       "      <td>0.144780</td>\n",
       "      <td>-0.076604</td>\n",
       "      <td>1.176028</td>\n",
       "      <td>2</td>\n",
       "      <td>1.75</td>\n",
       "      <td>3</td>\n",
       "      <td>1.0</td>\n",
       "      <td>4</td>\n",
       "      <td>7</td>\n",
       "      <td>...</td>\n",
       "      <td>0</td>\n",
       "      <td>0</td>\n",
       "      <td>0</td>\n",
       "      <td>0</td>\n",
       "      <td>0</td>\n",
       "      <td>0</td>\n",
       "      <td>0</td>\n",
       "      <td>0</td>\n",
       "      <td>0</td>\n",
       "      <td>0</td>\n",
       "    </tr>\n",
       "    <tr>\n",
       "      <th>15104</th>\n",
       "      <td>0.220427</td>\n",
       "      <td>0.115678</td>\n",
       "      <td>0.232562</td>\n",
       "      <td>-0.659458</td>\n",
       "      <td>3</td>\n",
       "      <td>2.25</td>\n",
       "      <td>0</td>\n",
       "      <td>2.0</td>\n",
       "      <td>3</td>\n",
       "      <td>8</td>\n",
       "      <td>...</td>\n",
       "      <td>0</td>\n",
       "      <td>1</td>\n",
       "      <td>0</td>\n",
       "      <td>0</td>\n",
       "      <td>0</td>\n",
       "      <td>0</td>\n",
       "      <td>0</td>\n",
       "      <td>0</td>\n",
       "      <td>0</td>\n",
       "      <td>0</td>\n",
       "    </tr>\n",
       "    <tr>\n",
       "      <th>15105</th>\n",
       "      <td>-0.530876</td>\n",
       "      <td>-0.414814</td>\n",
       "      <td>-0.983485</td>\n",
       "      <td>-0.659458</td>\n",
       "      <td>3</td>\n",
       "      <td>2.50</td>\n",
       "      <td>0</td>\n",
       "      <td>2.0</td>\n",
       "      <td>3</td>\n",
       "      <td>8</td>\n",
       "      <td>...</td>\n",
       "      <td>0</td>\n",
       "      <td>0</td>\n",
       "      <td>0</td>\n",
       "      <td>1</td>\n",
       "      <td>0</td>\n",
       "      <td>0</td>\n",
       "      <td>0</td>\n",
       "      <td>0</td>\n",
       "      <td>0</td>\n",
       "      <td>0</td>\n",
       "    </tr>\n",
       "  </tbody>\n",
       "</table>\n",
       "<p>15106 rows × 31 columns</p>\n",
       "</div>"
      ],
      "text/plain": [
       "       sqft_living  sqft_living15  sqft_lot15  sqft_basement  bedrooms  \\\n",
       "0        -0.376196      -1.674186   -1.773922       0.201634         3   \n",
       "1        -0.608216      -0.530745    1.070745       0.133653         3   \n",
       "2        -1.326374      -0.959440   -0.660719      -0.659458         2   \n",
       "3        -0.652411      -0.840906   -0.101796       0.246955         3   \n",
       "4        -0.884431      -0.364191   -0.739737      -0.659458         3   \n",
       "...            ...            ...         ...            ...       ...   \n",
       "15101     1.192703       2.268169    0.939454       1.606574         3   \n",
       "15102     1.491014       1.460531    0.366928      -0.659458         4   \n",
       "15103    -0.309905       0.144780   -0.076604       1.176028         2   \n",
       "15104     0.220427       0.115678    0.232562      -0.659458         3   \n",
       "15105    -0.530876      -0.414814   -0.983485      -0.659458         3   \n",
       "\n",
       "       bathrooms  view  floors  condition  grade  ...  date_08/2014  \\\n",
       "0           3.25     0     2.0          3      8  ...             0   \n",
       "1           1.75     0     1.0          3      7  ...             0   \n",
       "2           1.00     0     1.0          3      6  ...             0   \n",
       "3           1.50     0     1.0          3      7  ...             0   \n",
       "4           1.00     0     1.0          3      6  ...             0   \n",
       "...          ...   ...     ...        ...    ...  ...           ...   \n",
       "15101       2.50     3     1.0          3     11  ...             0   \n",
       "15102       2.50     0     2.0          3     10  ...             0   \n",
       "15103       1.75     3     1.0          4      7  ...             0   \n",
       "15104       2.25     0     2.0          3      8  ...             0   \n",
       "15105       2.50     0     2.0          3      8  ...             0   \n",
       "\n",
       "       date_09/2014  date_10/2014  date_11/2014  date_12/2014  waterfront_yes  \\\n",
       "0                 0             0             0             0               0   \n",
       "1                 0             0             1             0               0   \n",
       "2                 0             0             0             1               0   \n",
       "3                 0             0             0             1               0   \n",
       "4                 0             0             0             1               0   \n",
       "...             ...           ...           ...           ...             ...   \n",
       "15101             1             0             0             0               0   \n",
       "15102             0             1             0             0               0   \n",
       "15103             0             0             0             0               0   \n",
       "15104             1             0             0             0               0   \n",
       "15105             0             0             1             0               0   \n",
       "\n",
       "       area_expensive area  area_medium priced area  area_very expensive area  \\\n",
       "0                        0                        1                         0   \n",
       "1                        0                        1                         0   \n",
       "2                        0                        1                         0   \n",
       "3                        0                        1                         0   \n",
       "4                        0                        1                         0   \n",
       "...                    ...                      ...                       ...   \n",
       "15101                    1                        0                         0   \n",
       "15102                    0                        1                         0   \n",
       "15103                    0                        0                         0   \n",
       "15104                    0                        0                         0   \n",
       "15105                    0                        0                         0   \n",
       "\n",
       "       area_very_affordable area  \n",
       "0                              0  \n",
       "1                              0  \n",
       "2                              0  \n",
       "3                              0  \n",
       "4                              0  \n",
       "...                          ...  \n",
       "15101                          0  \n",
       "15102                          0  \n",
       "15103                          0  \n",
       "15104                          0  \n",
       "15105                          0  \n",
       "\n",
       "[15106 rows x 31 columns]"
      ]
     },
     "execution_count": 41,
     "metadata": {},
     "output_type": "execute_result"
    }
   ],
   "source": [
    "X_train_con"
   ]
  },
  {
   "cell_type": "markdown",
   "id": "b4fe6b40",
   "metadata": {},
   "source": [
    "##  Apply Linear Regression"
   ]
  },
  {
   "cell_type": "markdown",
   "id": "78f0ec16",
   "metadata": {},
   "source": [
    "### Modelling using Statsmodels"
   ]
  },
  {
   "cell_type": "code",
   "execution_count": 42,
   "id": "6ef14eb7",
   "metadata": {},
   "outputs": [
    {
     "name": "stdout",
     "output_type": "stream",
     "text": [
      "                            OLS Regression Results                            \n",
      "==============================================================================\n",
      "Dep. Variable:                      y   R-squared:                         nan\n",
      "Model:                            OLS   Adj. R-squared:                    nan\n",
      "Method:                 Least Squares   F-statistic:                       nan\n",
      "Date:                Thu, 10 Feb 2022   Prob (F-statistic):                nan\n",
      "Time:                        08:46:36   Log-Likelihood:                    inf\n",
      "No. Observations:               15106   AIC:                              -inf\n",
      "Df Residuals:                   15074   BIC:                              -inf\n",
      "Df Model:                          31                                         \n",
      "Covariance Type:            nonrobust                                         \n",
      "=============================================================================================\n",
      "                                coef    std err          t      P>|t|      [0.025      0.975]\n",
      "---------------------------------------------------------------------------------------------\n",
      "const                              0          0        nan        nan           0           0\n",
      "sqft_living                        0          0        nan        nan           0           0\n",
      "sqft_living15                      0          0        nan        nan           0           0\n",
      "sqft_lot15                         0          0        nan        nan           0           0\n",
      "sqft_basement                      0          0        nan        nan           0           0\n",
      "bedrooms                           0          0        nan        nan           0           0\n",
      "bathrooms                          0          0        nan        nan           0           0\n",
      "view                               0          0        nan        nan           0           0\n",
      "floors                             0          0        nan        nan           0           0\n",
      "condition                          0          0        nan        nan           0           0\n",
      "grade                              0          0        nan        nan           0           0\n",
      "yr_built                           0          0        nan        nan           0           0\n",
      "zipcode                            0          0        nan        nan           0           0\n",
      "lat                                0          0        nan        nan           0           0\n",
      "long                               0          0        nan        nan           0           0\n",
      "date_02/2015                       0          0        nan        nan           0           0\n",
      "date_03/2015                       0          0        nan        nan           0           0\n",
      "date_04/2015                       0          0        nan        nan           0           0\n",
      "date_05/2014                       0          0        nan        nan           0           0\n",
      "date_05/2015                       0          0        nan        nan           0           0\n",
      "date_06/2014                       0          0        nan        nan           0           0\n",
      "date_07/2014                       0          0        nan        nan           0           0\n",
      "date_08/2014                       0          0        nan        nan           0           0\n",
      "date_09/2014                       0          0        nan        nan           0           0\n",
      "date_10/2014                       0          0        nan        nan           0           0\n",
      "date_11/2014                       0          0        nan        nan           0           0\n",
      "date_12/2014                       0          0        nan        nan           0           0\n",
      "waterfront_yes                     0          0        nan        nan           0           0\n",
      "area_expensive area                0          0        nan        nan           0           0\n",
      "area_medium priced area            0          0        nan        nan           0           0\n",
      "area_very expensive area           0          0        nan        nan           0           0\n",
      "area_very_affordable area          0          0        nan        nan           0           0\n",
      "==============================================================================\n",
      "Omnibus:                    37671.394   Durbin-Watson:                     nan\n",
      "Prob(Omnibus):                  0.000   Jarque-Bera (JB):             5664.750\n",
      "Skew:                           0.000   Prob(JB):                         0.00\n",
      "Kurtosis:                       0.000   Cond. No.                     2.19e+08\n",
      "==============================================================================\n",
      "\n",
      "Notes:\n",
      "[1] Standard Errors assume that the covariance matrix of the errors is correctly specified.\n",
      "[2] The condition number is large, 2.19e+08. This might indicate that there are\n",
      "strong multicollinearity or other numerical problems.\n"
     ]
    },
    {
     "name": "stderr",
     "output_type": "stream",
     "text": [
      "/opt/anaconda3/envs/DA_ENV/lib/python3.9/site-packages/statsmodels/regression/linear_model.py:1738: RuntimeWarning: invalid value encountered in double_scalars\n",
      "  return 1 - self.ssr/self.centered_tss\n",
      "/opt/anaconda3/envs/DA_ENV/lib/python3.9/site-packages/statsmodels/regression/linear_model.py:1827: RuntimeWarning: invalid value encountered in double_scalars\n",
      "  return self.mse_model/self.mse_resid\n",
      "/opt/anaconda3/envs/DA_ENV/lib/python3.9/site-packages/statsmodels/regression/linear_model.py:926: RuntimeWarning: divide by zero encountered in log\n",
      "  llf = -nobs2*np.log(2*np.pi) - nobs2*np.log(ssr / nobs) - nobs2\n",
      "/opt/anaconda3/envs/DA_ENV/lib/python3.9/site-packages/statsmodels/stats/stattools.py:50: RuntimeWarning: invalid value encountered in double_scalars\n",
      "  dw = np.sum(diff_resids**2, axis=axis) / np.sum(resids**2, axis=axis)\n"
     ]
    }
   ],
   "source": [
    "X_train_const_scaled = sm.add_constant(X_train_con) # adding a constant\n",
    "\n",
    "model = sm.OLS(y_train, X_train_const_scaled).fit()\n",
    "predictions_train = model.predict(X_train_const_scaled) \n",
    "\n",
    "X_test_const_scaled = sm.add_constant(X_test_con) # adding a constant\n",
    "predictions_test = model.predict(X_test_const_scaled) \n",
    "print_model = model.summary()\n",
    "print(print_model)"
   ]
  },
  {
   "cell_type": "code",
   "execution_count": 43,
   "id": "fcb1c09d",
   "metadata": {},
   "outputs": [
    {
     "data": {
      "text/plain": [
       "0       0.0\n",
       "1       0.0\n",
       "2       0.0\n",
       "3       0.0\n",
       "4       0.0\n",
       "       ... \n",
       "6469    0.0\n",
       "6470    0.0\n",
       "6471    0.0\n",
       "6472    0.0\n",
       "6473    0.0\n",
       "Length: 6474, dtype: float64"
      ]
     },
     "execution_count": 43,
     "metadata": {},
     "output_type": "execute_result"
    }
   ],
   "source": [
    "predictions_test"
   ]
  },
  {
   "cell_type": "code",
   "execution_count": 44,
   "id": "6e0e6767",
   "metadata": {},
   "outputs": [
    {
     "name": "stdout",
     "output_type": "stream",
     "text": [
      "nan\n"
     ]
    }
   ],
   "source": [
    "#display adjusted R-squared\n",
    "print(model.rsquared_adj)"
   ]
  },
  {
   "cell_type": "markdown",
   "id": "844f986e",
   "metadata": {},
   "source": [
    "### Modeling using Scikit Learn"
   ]
  },
  {
   "cell_type": "code",
   "execution_count": 45,
   "id": "f126289e",
   "metadata": {},
   "outputs": [
    {
     "data": {
      "text/plain": [
       "LinearRegression()"
      ]
     },
     "execution_count": 45,
     "metadata": {},
     "output_type": "execute_result"
    }
   ],
   "source": [
    "model=LinearRegression()    # model\n",
    "model.fit(X_train_con, y_train)   # model train"
   ]
  },
  {
   "cell_type": "code",
   "execution_count": 46,
   "id": "78776cce",
   "metadata": {},
   "outputs": [
    {
     "data": {
      "text/plain": [
       "array([[0., 0., 0., 0., 0., 0., 0., 0., 0., 0., 0., 0., 0., 0., 0., 0.,\n",
       "        0., 0., 0., 0., 0., 0., 0., 0., 0., 0., 0., 0., 0., 0., 0.]])"
      ]
     },
     "execution_count": 46,
     "metadata": {},
     "output_type": "execute_result"
    }
   ],
   "source": [
    "model.coef_"
   ]
  },
  {
   "cell_type": "code",
   "execution_count": 47,
   "id": "1310d0fe",
   "metadata": {},
   "outputs": [
    {
     "data": {
      "text/plain": [
       "array([0.])"
      ]
     },
     "execution_count": 47,
     "metadata": {},
     "output_type": "execute_result"
    }
   ],
   "source": [
    "model.intercept_"
   ]
  },
  {
   "cell_type": "markdown",
   "id": "4c27d4b4",
   "metadata": {},
   "source": [
    "Making prediction"
   ]
  },
  {
   "cell_type": "code",
   "execution_count": 48,
   "id": "47431280",
   "metadata": {},
   "outputs": [],
   "source": [
    "y_pred=model.predict(X_test_con)   # model prediction\n",
    "##y_pred_train=model.predict(X_train_scaled)"
   ]
  },
  {
   "cell_type": "code",
   "execution_count": 49,
   "id": "871a3611",
   "metadata": {},
   "outputs": [
    {
     "data": {
      "text/plain": [
       "array([[0.],\n",
       "       [0.],\n",
       "       [0.],\n",
       "       ...,\n",
       "       [0.],\n",
       "       [0.],\n",
       "       [0.]])"
      ]
     },
     "execution_count": 49,
     "metadata": {},
     "output_type": "execute_result"
    }
   ],
   "source": [
    "y_test"
   ]
  },
  {
   "cell_type": "code",
   "execution_count": 50,
   "id": "d31d5ce1",
   "metadata": {},
   "outputs": [
    {
     "data": {
      "text/plain": [
       "array([[0.],\n",
       "       [0.],\n",
       "       [0.],\n",
       "       ...,\n",
       "       [0.],\n",
       "       [0.],\n",
       "       [0.]])"
      ]
     },
     "execution_count": 50,
     "metadata": {},
     "output_type": "execute_result"
    }
   ],
   "source": [
    "y_pred"
   ]
  },
  {
   "cell_type": "code",
   "execution_count": 51,
   "id": "70d05f89",
   "metadata": {},
   "outputs": [
    {
     "ename": "AttributeError",
     "evalue": "'numpy.ndarray' object has no attribute 'reset_index'",
     "output_type": "error",
     "traceback": [
      "\u001b[0;31m---------------------------------------------------------------------------\u001b[0m",
      "\u001b[0;31mAttributeError\u001b[0m                            Traceback (most recent call last)",
      "\u001b[0;32m/var/folders/jl/wz2cfppd1qv9v95b9l5nqm3w0000gn/T/ipykernel_1694/2542411679.py\u001b[0m in \u001b[0;36m<module>\u001b[0;34m\u001b[0m\n\u001b[0;32m----> 1\u001b[0;31m \u001b[0my_train\u001b[0m \u001b[0;34m=\u001b[0m \u001b[0my_train\u001b[0m\u001b[0;34m.\u001b[0m\u001b[0mreset_index\u001b[0m\u001b[0;34m(\u001b[0m\u001b[0mdrop\u001b[0m\u001b[0;34m=\u001b[0m\u001b[0;32mTrue\u001b[0m\u001b[0;34m)\u001b[0m\u001b[0;34m\u001b[0m\u001b[0;34m\u001b[0m\u001b[0m\n\u001b[0m\u001b[1;32m      2\u001b[0m \u001b[0my_test\u001b[0m \u001b[0;34m=\u001b[0m \u001b[0my_test\u001b[0m\u001b[0;34m.\u001b[0m\u001b[0mreset_index\u001b[0m\u001b[0;34m(\u001b[0m\u001b[0mdrop\u001b[0m\u001b[0;34m=\u001b[0m\u001b[0;32mTrue\u001b[0m\u001b[0;34m)\u001b[0m\u001b[0;34m\u001b[0m\u001b[0;34m\u001b[0m\u001b[0m\n\u001b[1;32m      3\u001b[0m \u001b[0;34m\u001b[0m\u001b[0m\n\u001b[1;32m      4\u001b[0m \u001b[0my_test\u001b[0m \u001b[0;34m=\u001b[0m \u001b[0my_test\u001b[0m\u001b[0;34m.\u001b[0m\u001b[0mreshape\u001b[0m\u001b[0;34m(\u001b[0m\u001b[0mlen\u001b[0m\u001b[0;34m(\u001b[0m\u001b[0my_test\u001b[0m\u001b[0;34m)\u001b[0m\u001b[0;34m)\u001b[0m\u001b[0;34m\u001b[0m\u001b[0;34m\u001b[0m\u001b[0m\n\u001b[1;32m      5\u001b[0m \u001b[0my_pred\u001b[0m \u001b[0;34m=\u001b[0m \u001b[0my_pred\u001b[0m\u001b[0;34m.\u001b[0m\u001b[0mreshape\u001b[0m\u001b[0;34m(\u001b[0m\u001b[0mlen\u001b[0m\u001b[0;34m(\u001b[0m\u001b[0my_pred\u001b[0m\u001b[0;34m)\u001b[0m\u001b[0;34m)\u001b[0m\u001b[0;34m\u001b[0m\u001b[0;34m\u001b[0m\u001b[0m\n",
      "\u001b[0;31mAttributeError\u001b[0m: 'numpy.ndarray' object has no attribute 'reset_index'"
     ]
    }
   ],
   "source": [
    "y_train = y_train.reset_index(drop=True)\n",
    "y_test = y_test.reset_index(drop=True)\n",
    "\n",
    "y_test = y_test.reshape(len(y_test))\n",
    "y_pred = y_pred.reshape(len(y_pred))\n",
    "\n",
    "\n",
    "result=pd.DataFrame({\"y_test\":y_test,\"y_pred\":y_pred})\n",
    "result"
   ]
  },
  {
   "cell_type": "markdown",
   "id": "0ed86b8f",
   "metadata": {},
   "source": [
    "Linear Regression Train-test split. Standardize the data (after the data split). Apply linear regression. Model Interpretation. Model Validation Model Evaluation: MSE. RMSE. MAE. R2. Adjusted R2. Feature Importance."
   ]
  },
  {
   "cell_type": "code",
   "execution_count": null,
   "id": "c38841e0",
   "metadata": {},
   "outputs": [],
   "source": [
    "# Make an scatter plot y_pred vs y\n",
    "# What kind of plot you will get if all the all the predictions are ok?\n",
    "# A stright line\n",
    "\n",
    "fig, ax = plt.subplots(1,3,figsize=(14,4))\n",
    "ax[0].plot(y_pred, y_test, 'o')\n",
    "ax[0].set_xlabel(\"y_test\")\n",
    "ax[0].set_ylabel(\"y_pred\")\n",
    "ax[0].set_title(\"Test Set -Predicted vs real\")\n",
    "\n",
    "# Get a histogram of the residuals ie: y - y_pred.  Homoscdasticity\n",
    "# It resembles a normal distribution?\n",
    "ax[1].hist(y_test - y_pred)\n",
    "ax[1].set_xlabel(\"Test y-y_pred\")\n",
    "ax[1].set_title(\"Test Set Residual histogram\")\n",
    "\n",
    "ax[2].plot(y_pred,y_test - y_pred,\"o\")\n",
    "ax[2].set_xlabel(\"predited\")\n",
    "ax[2].set_ylabel(\"residuals\")\n",
    "ax[2].set_title(\"Residuals by Predicted\")\n",
    "ax[2].plot(y_pred,np.zeros(len(y_pred)),linestyle='dashed')"
   ]
  },
  {
   "cell_type": "markdown",
   "id": "cce873a1",
   "metadata": {},
   "source": [
    "#### Error metrics"
   ]
  },
  {
   "cell_type": "code",
   "execution_count": null,
   "id": "3ac64b1f",
   "metadata": {},
   "outputs": [],
   "source": [
    "print(mse(y_test,y_pred))\n",
    "print(mae(y_test,y_pred))"
   ]
  },
  {
   "cell_type": "code",
   "execution_count": null,
   "id": "3039b5aa",
   "metadata": {},
   "outputs": [],
   "source": [
    "R2=r2_score(y_test,y_pred)\n",
    "R2"
   ]
  },
  {
   "cell_type": "code",
   "execution_count": null,
   "id": "d471f49d",
   "metadata": {},
   "outputs": [],
   "source": [
    "X_test.shape[1]"
   ]
  },
  {
   "cell_type": "code",
   "execution_count": null,
   "id": "993ed017",
   "metadata": {},
   "outputs": [],
   "source": [
    "Adj_R2= 1 - (1-R2)*(len(y_test)-1)/(len(y_test)-X_test.shape[1]-1)\n",
    "Adj_R2"
   ]
  },
  {
   "cell_type": "markdown",
   "id": "cb2bb8b2",
   "metadata": {},
   "source": [
    "#### Feature Importance"
   ]
  },
  {
   "cell_type": "code",
   "execution_count": null,
   "id": "1e7d9bb0",
   "metadata": {},
   "outputs": [],
   "source": [
    "features_importances = pd.DataFrame(data={\n",
    "    'Attribute': X_train_con.columns,\n",
    "    'Importance': abs(model.coef_)\n",
    "})\n",
    "features_importances = features_importances.sort_values(by='Importance')"
   ]
  },
  {
   "cell_type": "code",
   "execution_count": null,
   "id": "b08adec0",
   "metadata": {},
   "outputs": [],
   "source": [
    "features_importances"
   ]
  },
  {
   "cell_type": "code",
   "execution_count": null,
   "id": "803e4d70",
   "metadata": {},
   "outputs": [],
   "source": [
    "plt.bar(x=features_importances['Attribute'], height=features_importances['Importance'], color='#087E8B')\n",
    "plt.title('Feature importances obtained from coefficients', size=20)\n",
    "plt.xticks(rotation='vertical')\n",
    "plt.show()"
   ]
  },
  {
   "cell_type": "markdown",
   "id": "7d7157ec",
   "metadata": {},
   "source": [
    "#### Evaluating predictions"
   ]
  },
  {
   "cell_type": "code",
   "execution_count": null,
   "id": "2ab9917f",
   "metadata": {},
   "outputs": [],
   "source": [
    "# MAE: mean absolute error\n",
    "MAE = np.mean( np.abs( y_test - y_pred ) )\n",
    "MAE"
   ]
  },
  {
   "cell_type": "code",
   "execution_count": null,
   "id": "94cc093d",
   "metadata": {},
   "outputs": [],
   "source": [
    "# MSE: mean squared error\n",
    "MSE = np.mean( np.power( y_test - y_pred , 2 ) )\n",
    "MSE"
   ]
  },
  {
   "cell_type": "code",
   "execution_count": null,
   "id": "8cde11fc",
   "metadata": {},
   "outputs": [],
   "source": [
    "# RMSE: root mean squared error\n",
    "RMSE = np.sqrt(MSE)\n",
    "RMSE"
   ]
  },
  {
   "cell_type": "code",
   "execution_count": null,
   "id": "ea376ca3",
   "metadata": {
    "scrolled": true
   },
   "outputs": [],
   "source": [
    "re_df.hist(figsize=(12,12))"
   ]
  },
  {
   "cell_type": "code",
   "execution_count": null,
   "id": "ce9ecaef",
   "metadata": {},
   "outputs": [],
   "source": []
  }
 ],
 "metadata": {
  "kernelspec": {
   "display_name": "Python 3 (ipykernel)",
   "language": "python",
   "name": "python3"
  },
  "language_info": {
   "codemirror_mode": {
    "name": "ipython",
    "version": 3
   },
   "file_extension": ".py",
   "mimetype": "text/x-python",
   "name": "python",
   "nbconvert_exporter": "python",
   "pygments_lexer": "ipython3",
   "version": "3.9.7"
  },
  "toc": {
   "base_numbering": 1,
   "nav_menu": {},
   "number_sections": true,
   "sideBar": true,
   "skip_h1_title": true,
   "title_cell": "Table of Contents",
   "title_sidebar": "Contents",
   "toc_cell": false,
   "toc_position": {},
   "toc_section_display": true,
   "toc_window_display": false
  },
  "varInspector": {
   "cols": {
    "lenName": 16,
    "lenType": 16,
    "lenVar": 40
   },
   "kernels_config": {
    "python": {
     "delete_cmd_postfix": "",
     "delete_cmd_prefix": "del ",
     "library": "var_list.py",
     "varRefreshCmd": "print(var_dic_list())"
    },
    "r": {
     "delete_cmd_postfix": ") ",
     "delete_cmd_prefix": "rm(",
     "library": "var_list.r",
     "varRefreshCmd": "cat(var_dic_list()) "
    }
   },
   "types_to_exclude": [
    "module",
    "function",
    "builtin_function_or_method",
    "instance",
    "_Feature"
   ],
   "window_display": false
  }
 },
 "nbformat": 4,
 "nbformat_minor": 5
}
