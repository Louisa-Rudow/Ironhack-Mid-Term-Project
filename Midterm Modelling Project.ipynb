{
 "cells": [
  {
   "cell_type": "markdown",
   "id": "72e3a826",
   "metadata": {},
   "source": [
    "# Importing libraries & modules "
   ]
  },
  {
   "cell_type": "code",
   "execution_count": 669,
   "id": "09a8e855",
   "metadata": {},
   "outputs": [],
   "source": [
    "import numpy as np\n",
    "import pandas as pd\n",
    "import matplotlib.pyplot as plt\n",
    "%matplotlib inline\n",
    "import seaborn as sns\n",
    "import statsmodels.api as sm\n",
    "from scipy.stats import boxcox\n",
    "\n",
    "pd.options.display.max_rows = 50\n",
    "\n",
    "from sklearn.preprocessing import StandardScaler\n",
    "from sklearn.preprocessing import QuantileTransformer\n",
    "from sklearn.preprocessing import minmax_scale\n",
    "from sklearn.preprocessing import OneHotEncoder  ##. better to use dummy from pandas \n",
    "from sklearn.preprocessing import PowerTransformer\n",
    "from sklearn.linear_model import LinearRegression\n",
    "from sklearn.model_selection import train_test_split\n",
    "from sklearn.model_selection import train_test_split\n",
    "from sklearn.metrics import r2_score\n",
    "from sklearn.metrics import mean_squared_error as mse\n",
    "from sklearn.metrics import mean_absolute_error as mae\n",
    "pd.options.display.max_rows = 50"
   ]
  },
  {
   "cell_type": "markdown",
   "id": "3093f30c",
   "metadata": {},
   "source": [
    "## EDA & Data Cleaning"
   ]
  },
  {
   "cell_type": "markdown",
   "id": "17bcd4e1",
   "metadata": {},
   "source": [
    "### loading & exploring the data"
   ]
  },
  {
   "cell_type": "code",
   "execution_count": 670,
   "id": "2ab25fdc",
   "metadata": {},
   "outputs": [],
   "source": [
    "re_df = pd.read_excel('Data_MidTerm_Project_Real_State_Regression.xls')"
   ]
  },
  {
   "cell_type": "code",
   "execution_count": 671,
   "id": "2c047629",
   "metadata": {},
   "outputs": [
    {
     "data": {
      "text/plain": [
       "Index(['id', 'date', 'bedrooms', 'bathrooms', 'sqft_living', 'sqft_lot',\n",
       "       'floors', 'waterfront', 'view', 'condition', 'grade', 'sqft_above',\n",
       "       'sqft_basement', 'yr_built', 'yr_renovated', 'zipcode', 'lat', 'long',\n",
       "       'sqft_living15', 'sqft_lot15', 'price'],\n",
       "      dtype='object')"
      ]
     },
     "execution_count": 671,
     "metadata": {},
     "output_type": "execute_result"
    }
   ],
   "source": [
    "re_df.columns"
   ]
  },
  {
   "cell_type": "code",
   "execution_count": 672,
   "id": "b64b4cfb",
   "metadata": {},
   "outputs": [
    {
     "name": "stdout",
     "output_type": "stream",
     "text": [
      "<class 'pandas.core.frame.DataFrame'>\n",
      "RangeIndex: 21597 entries, 0 to 21596\n",
      "Data columns (total 21 columns):\n",
      " #   Column         Non-Null Count  Dtype         \n",
      "---  ------         --------------  -----         \n",
      " 0   id             21597 non-null  int64         \n",
      " 1   date           21597 non-null  datetime64[ns]\n",
      " 2   bedrooms       21597 non-null  int64         \n",
      " 3   bathrooms      21597 non-null  float64       \n",
      " 4   sqft_living    21597 non-null  int64         \n",
      " 5   sqft_lot       21597 non-null  int64         \n",
      " 6   floors         21597 non-null  float64       \n",
      " 7   waterfront     21597 non-null  int64         \n",
      " 8   view           21597 non-null  int64         \n",
      " 9   condition      21597 non-null  int64         \n",
      " 10  grade          21597 non-null  int64         \n",
      " 11  sqft_above     21597 non-null  int64         \n",
      " 12  sqft_basement  21597 non-null  int64         \n",
      " 13  yr_built       21597 non-null  int64         \n",
      " 14  yr_renovated   21597 non-null  int64         \n",
      " 15  zipcode        21597 non-null  int64         \n",
      " 16  lat            21597 non-null  float64       \n",
      " 17  long           21597 non-null  float64       \n",
      " 18  sqft_living15  21597 non-null  int64         \n",
      " 19  sqft_lot15     21597 non-null  int64         \n",
      " 20  price          21597 non-null  int64         \n",
      "dtypes: datetime64[ns](1), float64(4), int64(16)\n",
      "memory usage: 3.5 MB\n"
     ]
    }
   ],
   "source": [
    "re_df.info()"
   ]
  },
  {
   "cell_type": "markdown",
   "id": "7f1856c9",
   "metadata": {},
   "source": [
    "### Dropping columns"
   ]
  },
  {
   "cell_type": "code",
   "execution_count": 673,
   "id": "86044446",
   "metadata": {},
   "outputs": [],
   "source": [
    "re_df.drop(['id'],axis=1, inplace=True)\n",
    "re_df.drop(['date'],axis=1, inplace=True)\n",
    "re_df.drop(['sqft_above'],axis=1, inplace=True)\n",
    "re_df.drop(['sqft_lot'],axis=1, inplace=True)\n",
    "re_df.drop(['yr_renovated'],axis=1, inplace=True)"
   ]
  },
  {
   "cell_type": "markdown",
   "id": "884ec113",
   "metadata": {},
   "source": [
    "### creating a new column area"
   ]
  },
  {
   "cell_type": "markdown",
   "id": "6bfeac10",
   "metadata": {},
   "source": [
    "1. group zipcodes and show average price\n",
    "2. sort groups by average price\n",
    "3. set threshold values\n",
    "4. create new column \"area\" with 5 zipcode groups"
   ]
  },
  {
   "cell_type": "code",
   "execution_count": 674,
   "id": "8b073993",
   "metadata": {},
   "outputs": [],
   "source": [
    "grouped_zipcodes = re_df.groupby(\"zipcode\")[[\"price\"]].mean().sort_values(by=\"price\", ascending=False)\n",
    "\n",
    "very_affordable_area =list(grouped_zipcodes[grouped_zipcodes[\"price\"]< 250000].index)\n",
    "affordable_area = list(grouped_zipcodes[(grouped_zipcodes[\"price\"]>= 250000) & (grouped_zipcodes[\"price\"] < 500000)].index)\n",
    "medium_priced_area = list(grouped_zipcodes[(grouped_zipcodes[\"price\"]>= 500000) & (grouped_zipcodes[\"price\"]< 750000)].index)\n",
    "expensive_area = list(grouped_zipcodes[(grouped_zipcodes[\"price\"]>= 750000) & (grouped_zipcodes[\"price\"]< 1000000)].index)\n",
    "very_expensive_area =list(grouped_zipcodes[grouped_zipcodes[\"price\"]>=1000000].index)\n",
    "\n",
    "area = []\n",
    "\n",
    "for row in re_df['zipcode']:\n",
    "    if row in very_affordable_area:\n",
    "        area.append('very_affordable area')\n",
    "    elif row in affordable_area:\n",
    "        area.append('affordable area')\n",
    "    elif row in medium_priced_area:\n",
    "        area.append('medium priced area')\n",
    "    elif row in expensive_area:\n",
    "        area.append('expensive area')\n",
    "    elif row in very_expensive_area:\n",
    "        area.append('very expensive area')\n",
    "\n",
    "re_df['area'] = area "
   ]
  },
  {
   "cell_type": "markdown",
   "id": "c9d4c244",
   "metadata": {},
   "source": [
    "Delete \"zipcode\" column, as it probably correlates too strongly with the new \"area\" column"
   ]
  },
  {
   "cell_type": "code",
   "execution_count": 675,
   "id": "dd27c45f",
   "metadata": {},
   "outputs": [],
   "source": [
    "re_df.drop(['zipcode'],axis=1, inplace=True)"
   ]
  },
  {
   "cell_type": "markdown",
   "id": "ce7e7354",
   "metadata": {},
   "source": [
    "### removing duplicates"
   ]
  },
  {
   "cell_type": "code",
   "execution_count": 676,
   "id": "15cfb69f",
   "metadata": {},
   "outputs": [],
   "source": [
    "re_df.drop_duplicates(inplace=True)"
   ]
  },
  {
   "cell_type": "markdown",
   "id": "117d1394",
   "metadata": {},
   "source": [
    "### renaming waterfront column features"
   ]
  },
  {
   "cell_type": "markdown",
   "id": "8e8c9b37",
   "metadata": {},
   "source": [
    "Only for better readability, will later be encoded as dummy again"
   ]
  },
  {
   "cell_type": "code",
   "execution_count": 677,
   "id": "93c089a6",
   "metadata": {},
   "outputs": [],
   "source": [
    "def clean_waterfront(x):\n",
    "    if x == 0:\n",
    "        return 'no'\n",
    "    elif x == 1:\n",
    "        return 'yes'"
   ]
  },
  {
   "cell_type": "code",
   "execution_count": 678,
   "id": "2210c556",
   "metadata": {},
   "outputs": [],
   "source": [
    "re_df[\"waterfront\"] = list(map(clean_waterfront,re_df[\"waterfront\"])) "
   ]
  },
  {
   "cell_type": "markdown",
   "id": "bc82f4cf",
   "metadata": {},
   "source": [
    "### removing outliers"
   ]
  },
  {
   "cell_type": "markdown",
   "id": "9c62993e",
   "metadata": {},
   "source": [
    "#### bedrooms"
   ]
  },
  {
   "cell_type": "code",
   "execution_count": 679,
   "id": "2a6374f4",
   "metadata": {},
   "outputs": [
    {
     "name": "stderr",
     "output_type": "stream",
     "text": [
      "/Users/louisarudow/opt/anaconda3/lib/python3.9/site-packages/seaborn/_decorators.py:36: FutureWarning: Pass the following variable as a keyword arg: x. From version 0.12, the only valid positional argument will be `data`, and passing other arguments without an explicit keyword will result in an error or misinterpretation.\n",
      "  warnings.warn(\n"
     ]
    },
    {
     "data": {
      "text/plain": [
       "<AxesSubplot:xlabel='bedrooms'>"
      ]
     },
     "execution_count": 679,
     "metadata": {},
     "output_type": "execute_result"
    },
    {
     "data": {
      "image/png": "[encoded data removed]",
      "text/plain": [
       "<Figure size 432x288 with 1 Axes>"
      ]
     },
     "metadata": {
      "needs_background": "light"
     },
     "output_type": "display_data"
    }
   ],
   "source": [
    "sns.boxplot(re_df['bedrooms'])"
   ]
  },
  {
   "cell_type": "code",
   "execution_count": 680,
   "id": "ec540781",
   "metadata": {},
   "outputs": [
    {
     "data": {
      "text/plain": [
       "33"
      ]
     },
     "execution_count": 680,
     "metadata": {},
     "output_type": "execute_result"
    }
   ],
   "source": [
    "max(re_df['bedrooms'])"
   ]
  },
  {
   "cell_type": "markdown",
   "id": "6ddd4b38",
   "metadata": {},
   "source": [
    "33 bedrooms seems to be a mistake, the correct amount of bedrooms should be 3, according to the other features of the house"
   ]
  },
  {
   "cell_type": "code",
   "execution_count": 681,
   "id": "6ca8161b",
   "metadata": {},
   "outputs": [
    {
     "data": {
      "text/html": [
       "<div>\n",
       "<style scoped>\n",
       "    .dataframe tbody tr th:only-of-type {\n",
       "        vertical-align: middle;\n",
       "    }\n",
       "\n",
       "    .dataframe tbody tr th {\n",
       "        vertical-align: top;\n",
       "    }\n",
       "\n",
       "    .dataframe thead th {\n",
       "        text-align: right;\n",
       "    }\n",
       "</style>\n",
       "<table border=\"1\" class=\"dataframe\">\n",
       "  <thead>\n",
       "    <tr style=\"text-align: right;\">\n",
       "      <th></th>\n",
       "      <th>bedrooms</th>\n",
       "      <th>bathrooms</th>\n",
       "      <th>sqft_living</th>\n",
       "      <th>floors</th>\n",
       "      <th>waterfront</th>\n",
       "      <th>view</th>\n",
       "      <th>condition</th>\n",
       "      <th>grade</th>\n",
       "      <th>sqft_basement</th>\n",
       "      <th>yr_built</th>\n",
       "      <th>lat</th>\n",
       "      <th>long</th>\n",
       "      <th>sqft_living15</th>\n",
       "      <th>sqft_lot15</th>\n",
       "      <th>price</th>\n",
       "      <th>area</th>\n",
       "    </tr>\n",
       "  </thead>\n",
       "  <tbody>\n",
       "    <tr>\n",
       "      <th>18069</th>\n",
       "      <td>33</td>\n",
       "      <td>1.75</td>\n",
       "      <td>1620</td>\n",
       "      <td>1.0</td>\n",
       "      <td>no</td>\n",
       "      <td>0</td>\n",
       "      <td>5</td>\n",
       "      <td>7</td>\n",
       "      <td>580</td>\n",
       "      <td>1947</td>\n",
       "      <td>47.6878</td>\n",
       "      <td>-122.331</td>\n",
       "      <td>1330</td>\n",
       "      <td>4700</td>\n",
       "      <td>640000</td>\n",
       "      <td>medium priced area</td>\n",
       "    </tr>\n",
       "  </tbody>\n",
       "</table>\n",
       "</div>"
      ],
      "text/plain": [
       "       bedrooms  bathrooms  sqft_living  floors waterfront  view  condition  \\\n",
       "18069        33       1.75         1620     1.0         no     0          5   \n",
       "\n",
       "       grade  sqft_basement  yr_built      lat     long  sqft_living15  \\\n",
       "18069      7            580      1947  47.6878 -122.331           1330   \n",
       "\n",
       "       sqft_lot15   price                area  \n",
       "18069        4700  640000  medium priced area  "
      ]
     },
     "execution_count": 681,
     "metadata": {},
     "output_type": "execute_result"
    }
   ],
   "source": [
    "re_df.loc[re_df['bedrooms'] == 33]"
   ]
  },
  {
   "cell_type": "markdown",
   "id": "3f790c57",
   "metadata": {},
   "source": [
    "Change 33 bedrooms  to 3"
   ]
  },
  {
   "cell_type": "code",
   "execution_count": 682,
   "id": "2aa9a1ae",
   "metadata": {},
   "outputs": [],
   "source": [
    "re_df.at[15856,'bedrooms'] = 3"
   ]
  },
  {
   "cell_type": "markdown",
   "id": "3d682541",
   "metadata": {},
   "source": [
    "#### price"
   ]
  },
  {
   "cell_type": "markdown",
   "id": "d2bba40c",
   "metadata": {},
   "source": [
    "All houses above $4 Mio. seem to be outliers"
   ]
  },
  {
   "cell_type": "code",
   "execution_count": 683,
   "id": "a487e55d",
   "metadata": {},
   "outputs": [],
   "source": [
    "re_df = re_df[re_df['price'] < 4000000]"
   ]
  },
  {
   "cell_type": "markdown",
   "id": "23110aef",
   "metadata": {},
   "source": [
    "## Export to Tableau "
   ]
  },
  {
   "cell_type": "code",
   "execution_count": 684,
   "id": "a0dd8250",
   "metadata": {},
   "outputs": [],
   "source": [
    "re_df.to_excel(r'cleaned_dataframe.xlsx', index = False)"
   ]
  },
  {
   "cell_type": "markdown",
   "id": "ecf71e29",
   "metadata": {},
   "source": [
    "## Plotting the Correlation Heatmap"
   ]
  },
  {
   "cell_type": "code",
   "execution_count": 685,
   "id": "af4c4d72",
   "metadata": {},
   "outputs": [
    {
     "data": {
      "image/png": "[encoded data removed]",
      "text/plain": [
       "<Figure size 648x504 with 2 Axes>"
      ]
     },
     "metadata": {},
     "output_type": "display_data"
    }
   ],
   "source": [
    "re_num = re_df[['sqft_living','sqft_living15','sqft_lot15','sqft_basement','price']]\n",
    "\n",
    "corr = re_num.corr()\n",
    "mask = np.zeros_like(corr)\n",
    "mask[np.triu_indices_from(mask)] = True\n",
    "with sns.axes_style(\"white\"):\n",
    "    f, ax = plt.subplots(figsize=(9, 7))\n",
    "    ax = sns.heatmap(corr, mask=mask,cmap=\"Blues\", vmin=-1,vmax=1,annot=True, square=True)"
   ]
  },
  {
   "cell_type": "markdown",
   "id": "5938960b",
   "metadata": {},
   "source": [
    "## X/Y split"
   ]
  },
  {
   "cell_type": "markdown",
   "id": "5fef7f68",
   "metadata": {},
   "source": [
    "Split target variable y = \"price\" from the rest of the dataset"
   ]
  },
  {
   "cell_type": "code",
   "execution_count": 686,
   "id": "22079693",
   "metadata": {},
   "outputs": [],
   "source": [
    "X=re_df.drop(\"price\", axis=1)\n",
    "y=re_df[\"price\"]"
   ]
  },
  {
   "cell_type": "markdown",
   "id": "6e9a3efc",
   "metadata": {},
   "source": [
    "## Data Splitting"
   ]
  },
  {
   "cell_type": "code",
   "execution_count": 687,
   "id": "a3051d93",
   "metadata": {},
   "outputs": [],
   "source": [
    "X_train, X_test, y_train, y_test=train_test_split(X, y, test_size=.30,random_state=123)"
   ]
  },
  {
   "cell_type": "code",
   "execution_count": 688,
   "id": "cc407ccf",
   "metadata": {},
   "outputs": [],
   "source": [
    "y_train = y_train.reset_index(drop=True)\n",
    "y_test = y_test.reset_index(drop=True)"
   ]
  },
  {
   "cell_type": "markdown",
   "id": "489db419",
   "metadata": {},
   "source": [
    "## Data Transformation"
   ]
  },
  {
   "cell_type": "markdown",
   "id": "a03c2827",
   "metadata": {},
   "source": [
    "### Hot coding Categorical Variables"
   ]
  },
  {
   "cell_type": "code",
   "execution_count": 689,
   "id": "54cf7869",
   "metadata": {},
   "outputs": [
    {
     "data": {
      "text/html": [
       "<div>\n",
       "<style scoped>\n",
       "    .dataframe tbody tr th:only-of-type {\n",
       "        vertical-align: middle;\n",
       "    }\n",
       "\n",
       "    .dataframe tbody tr th {\n",
       "        vertical-align: top;\n",
       "    }\n",
       "\n",
       "    .dataframe thead th {\n",
       "        text-align: right;\n",
       "    }\n",
       "</style>\n",
       "<table border=\"1\" class=\"dataframe\">\n",
       "  <thead>\n",
       "    <tr style=\"text-align: right;\">\n",
       "      <th></th>\n",
       "      <th>bedrooms</th>\n",
       "      <th>bathrooms</th>\n",
       "      <th>view</th>\n",
       "      <th>floors</th>\n",
       "      <th>waterfront</th>\n",
       "      <th>condition</th>\n",
       "      <th>grade</th>\n",
       "      <th>yr_built</th>\n",
       "      <th>lat</th>\n",
       "      <th>long</th>\n",
       "      <th>area</th>\n",
       "    </tr>\n",
       "  </thead>\n",
       "  <tbody>\n",
       "    <tr>\n",
       "      <th>12573</th>\n",
       "      <td>6</td>\n",
       "      <td>3.00</td>\n",
       "      <td>0</td>\n",
       "      <td>2.0</td>\n",
       "      <td>no</td>\n",
       "      <td>3</td>\n",
       "      <td>7</td>\n",
       "      <td>2006</td>\n",
       "      <td>47.2773</td>\n",
       "      <td>-122.216</td>\n",
       "      <td>very_affordable area</td>\n",
       "    </tr>\n",
       "    <tr>\n",
       "      <th>18847</th>\n",
       "      <td>3</td>\n",
       "      <td>1.50</td>\n",
       "      <td>0</td>\n",
       "      <td>1.0</td>\n",
       "      <td>no</td>\n",
       "      <td>4</td>\n",
       "      <td>6</td>\n",
       "      <td>1949</td>\n",
       "      <td>47.4878</td>\n",
       "      <td>-122.314</td>\n",
       "      <td>very_affordable area</td>\n",
       "    </tr>\n",
       "    <tr>\n",
       "      <th>6909</th>\n",
       "      <td>3</td>\n",
       "      <td>1.00</td>\n",
       "      <td>0</td>\n",
       "      <td>1.0</td>\n",
       "      <td>no</td>\n",
       "      <td>3</td>\n",
       "      <td>5</td>\n",
       "      <td>1943</td>\n",
       "      <td>47.4940</td>\n",
       "      <td>-122.275</td>\n",
       "      <td>affordable area</td>\n",
       "    </tr>\n",
       "    <tr>\n",
       "      <th>18875</th>\n",
       "      <td>2</td>\n",
       "      <td>1.50</td>\n",
       "      <td>0</td>\n",
       "      <td>1.5</td>\n",
       "      <td>no</td>\n",
       "      <td>3</td>\n",
       "      <td>6</td>\n",
       "      <td>1970</td>\n",
       "      <td>47.6487</td>\n",
       "      <td>-122.122</td>\n",
       "      <td>medium priced area</td>\n",
       "    </tr>\n",
       "    <tr>\n",
       "      <th>7251</th>\n",
       "      <td>3</td>\n",
       "      <td>1.00</td>\n",
       "      <td>0</td>\n",
       "      <td>1.0</td>\n",
       "      <td>no</td>\n",
       "      <td>2</td>\n",
       "      <td>7</td>\n",
       "      <td>1943</td>\n",
       "      <td>47.3514</td>\n",
       "      <td>-122.315</td>\n",
       "      <td>affordable area</td>\n",
       "    </tr>\n",
       "    <tr>\n",
       "      <th>...</th>\n",
       "      <td>...</td>\n",
       "      <td>...</td>\n",
       "      <td>...</td>\n",
       "      <td>...</td>\n",
       "      <td>...</td>\n",
       "      <td>...</td>\n",
       "      <td>...</td>\n",
       "      <td>...</td>\n",
       "      <td>...</td>\n",
       "      <td>...</td>\n",
       "      <td>...</td>\n",
       "    </tr>\n",
       "    <tr>\n",
       "      <th>11149</th>\n",
       "      <td>4</td>\n",
       "      <td>1.75</td>\n",
       "      <td>0</td>\n",
       "      <td>1.0</td>\n",
       "      <td>no</td>\n",
       "      <td>5</td>\n",
       "      <td>7</td>\n",
       "      <td>1960</td>\n",
       "      <td>47.6060</td>\n",
       "      <td>-122.135</td>\n",
       "      <td>medium priced area</td>\n",
       "    </tr>\n",
       "    <tr>\n",
       "      <th>5860</th>\n",
       "      <td>3</td>\n",
       "      <td>3.00</td>\n",
       "      <td>0</td>\n",
       "      <td>1.5</td>\n",
       "      <td>no</td>\n",
       "      <td>3</td>\n",
       "      <td>7</td>\n",
       "      <td>1949</td>\n",
       "      <td>47.7183</td>\n",
       "      <td>-122.285</td>\n",
       "      <td>affordable area</td>\n",
       "    </tr>\n",
       "    <tr>\n",
       "      <th>7132</th>\n",
       "      <td>4</td>\n",
       "      <td>1.00</td>\n",
       "      <td>0</td>\n",
       "      <td>1.0</td>\n",
       "      <td>no</td>\n",
       "      <td>3</td>\n",
       "      <td>7</td>\n",
       "      <td>1973</td>\n",
       "      <td>47.7204</td>\n",
       "      <td>-122.180</td>\n",
       "      <td>medium priced area</td>\n",
       "    </tr>\n",
       "    <tr>\n",
       "      <th>19082</th>\n",
       "      <td>2</td>\n",
       "      <td>2.25</td>\n",
       "      <td>0</td>\n",
       "      <td>2.0</td>\n",
       "      <td>no</td>\n",
       "      <td>3</td>\n",
       "      <td>7</td>\n",
       "      <td>2009</td>\n",
       "      <td>47.5321</td>\n",
       "      <td>-122.073</td>\n",
       "      <td>medium priced area</td>\n",
       "    </tr>\n",
       "    <tr>\n",
       "      <th>1906</th>\n",
       "      <td>4</td>\n",
       "      <td>3.50</td>\n",
       "      <td>3</td>\n",
       "      <td>1.5</td>\n",
       "      <td>no</td>\n",
       "      <td>4</td>\n",
       "      <td>9</td>\n",
       "      <td>1912</td>\n",
       "      <td>47.5846</td>\n",
       "      <td>-122.290</td>\n",
       "      <td>medium priced area</td>\n",
       "    </tr>\n",
       "  </tbody>\n",
       "</table>\n",
       "<p>6473 rows × 11 columns</p>\n",
       "</div>"
      ],
      "text/plain": [
       "       bedrooms  bathrooms  view  floors waterfront  condition  grade  \\\n",
       "12573         6       3.00     0     2.0         no          3      7   \n",
       "18847         3       1.50     0     1.0         no          4      6   \n",
       "6909          3       1.00     0     1.0         no          3      5   \n",
       "18875         2       1.50     0     1.5         no          3      6   \n",
       "7251          3       1.00     0     1.0         no          2      7   \n",
       "...         ...        ...   ...     ...        ...        ...    ...   \n",
       "11149         4       1.75     0     1.0         no          5      7   \n",
       "5860          3       3.00     0     1.5         no          3      7   \n",
       "7132          4       1.00     0     1.0         no          3      7   \n",
       "19082         2       2.25     0     2.0         no          3      7   \n",
       "1906          4       3.50     3     1.5         no          4      9   \n",
       "\n",
       "       yr_built      lat     long                  area  \n",
       "12573      2006  47.2773 -122.216  very_affordable area  \n",
       "18847      1949  47.4878 -122.314  very_affordable area  \n",
       "6909       1943  47.4940 -122.275       affordable area  \n",
       "18875      1970  47.6487 -122.122    medium priced area  \n",
       "7251       1943  47.3514 -122.315       affordable area  \n",
       "...         ...      ...      ...                   ...  \n",
       "11149      1960  47.6060 -122.135    medium priced area  \n",
       "5860       1949  47.7183 -122.285       affordable area  \n",
       "7132       1973  47.7204 -122.180    medium priced area  \n",
       "19082      2009  47.5321 -122.073    medium priced area  \n",
       "1906       1912  47.5846 -122.290    medium priced area  \n",
       "\n",
       "[6473 rows x 11 columns]"
      ]
     },
     "execution_count": 689,
     "metadata": {},
     "output_type": "execute_result"
    }
   ],
   "source": [
    "X_train_cat=X_train[['bedrooms','bathrooms','view','floors','waterfront','condition','grade','yr_built','lat','long','area']]\n",
    "X_train_cat\n",
    "\n",
    "X_test_cat=X_test[['bedrooms','bathrooms','view','floors','waterfront','condition','grade','yr_built','lat','long','area']]\n",
    "X_test_cat"
   ]
  },
  {
   "cell_type": "code",
   "execution_count": 690,
   "id": "cf5e573d",
   "metadata": {},
   "outputs": [
    {
     "data": {
      "text/html": [
       "<div>\n",
       "<style scoped>\n",
       "    .dataframe tbody tr th:only-of-type {\n",
       "        vertical-align: middle;\n",
       "    }\n",
       "\n",
       "    .dataframe tbody tr th {\n",
       "        vertical-align: top;\n",
       "    }\n",
       "\n",
       "    .dataframe thead th {\n",
       "        text-align: right;\n",
       "    }\n",
       "</style>\n",
       "<table border=\"1\" class=\"dataframe\">\n",
       "  <thead>\n",
       "    <tr style=\"text-align: right;\">\n",
       "      <th></th>\n",
       "      <th>bedrooms_2</th>\n",
       "      <th>bedrooms_3</th>\n",
       "      <th>bedrooms_4</th>\n",
       "      <th>bedrooms_5</th>\n",
       "      <th>bedrooms_6</th>\n",
       "      <th>bedrooms_7</th>\n",
       "      <th>bedrooms_8</th>\n",
       "      <th>bedrooms_9</th>\n",
       "      <th>bedrooms_11</th>\n",
       "      <th>bathrooms_0.75</th>\n",
       "      <th>...</th>\n",
       "      <th>long_-121.698</th>\n",
       "      <th>long_-121.691</th>\n",
       "      <th>long_-121.676</th>\n",
       "      <th>long_-121.417</th>\n",
       "      <th>long_-121.319</th>\n",
       "      <th>waterfront_yes_1</th>\n",
       "      <th>area_expensive area_1</th>\n",
       "      <th>area_medium priced area_1</th>\n",
       "      <th>area_very expensive area_1</th>\n",
       "      <th>area_very_affordable area_1</th>\n",
       "    </tr>\n",
       "  </thead>\n",
       "  <tbody>\n",
       "    <tr>\n",
       "      <th>0</th>\n",
       "      <td>0.0</td>\n",
       "      <td>0.0</td>\n",
       "      <td>0.0</td>\n",
       "      <td>0.0</td>\n",
       "      <td>1.0</td>\n",
       "      <td>0.0</td>\n",
       "      <td>0.0</td>\n",
       "      <td>0.0</td>\n",
       "      <td>0.0</td>\n",
       "      <td>0.0</td>\n",
       "      <td>...</td>\n",
       "      <td>0.0</td>\n",
       "      <td>0.0</td>\n",
       "      <td>0.0</td>\n",
       "      <td>0.0</td>\n",
       "      <td>0.0</td>\n",
       "      <td>0.0</td>\n",
       "      <td>0.0</td>\n",
       "      <td>0.0</td>\n",
       "      <td>0.0</td>\n",
       "      <td>1.0</td>\n",
       "    </tr>\n",
       "    <tr>\n",
       "      <th>1</th>\n",
       "      <td>0.0</td>\n",
       "      <td>1.0</td>\n",
       "      <td>0.0</td>\n",
       "      <td>0.0</td>\n",
       "      <td>0.0</td>\n",
       "      <td>0.0</td>\n",
       "      <td>0.0</td>\n",
       "      <td>0.0</td>\n",
       "      <td>0.0</td>\n",
       "      <td>0.0</td>\n",
       "      <td>...</td>\n",
       "      <td>0.0</td>\n",
       "      <td>0.0</td>\n",
       "      <td>0.0</td>\n",
       "      <td>0.0</td>\n",
       "      <td>0.0</td>\n",
       "      <td>0.0</td>\n",
       "      <td>0.0</td>\n",
       "      <td>0.0</td>\n",
       "      <td>0.0</td>\n",
       "      <td>1.0</td>\n",
       "    </tr>\n",
       "    <tr>\n",
       "      <th>2</th>\n",
       "      <td>0.0</td>\n",
       "      <td>1.0</td>\n",
       "      <td>0.0</td>\n",
       "      <td>0.0</td>\n",
       "      <td>0.0</td>\n",
       "      <td>0.0</td>\n",
       "      <td>0.0</td>\n",
       "      <td>0.0</td>\n",
       "      <td>0.0</td>\n",
       "      <td>0.0</td>\n",
       "      <td>...</td>\n",
       "      <td>0.0</td>\n",
       "      <td>0.0</td>\n",
       "      <td>0.0</td>\n",
       "      <td>0.0</td>\n",
       "      <td>0.0</td>\n",
       "      <td>0.0</td>\n",
       "      <td>0.0</td>\n",
       "      <td>0.0</td>\n",
       "      <td>0.0</td>\n",
       "      <td>0.0</td>\n",
       "    </tr>\n",
       "    <tr>\n",
       "      <th>3</th>\n",
       "      <td>1.0</td>\n",
       "      <td>0.0</td>\n",
       "      <td>0.0</td>\n",
       "      <td>0.0</td>\n",
       "      <td>0.0</td>\n",
       "      <td>0.0</td>\n",
       "      <td>0.0</td>\n",
       "      <td>0.0</td>\n",
       "      <td>0.0</td>\n",
       "      <td>0.0</td>\n",
       "      <td>...</td>\n",
       "      <td>0.0</td>\n",
       "      <td>0.0</td>\n",
       "      <td>0.0</td>\n",
       "      <td>0.0</td>\n",
       "      <td>0.0</td>\n",
       "      <td>0.0</td>\n",
       "      <td>0.0</td>\n",
       "      <td>1.0</td>\n",
       "      <td>0.0</td>\n",
       "      <td>0.0</td>\n",
       "    </tr>\n",
       "    <tr>\n",
       "      <th>4</th>\n",
       "      <td>0.0</td>\n",
       "      <td>1.0</td>\n",
       "      <td>0.0</td>\n",
       "      <td>0.0</td>\n",
       "      <td>0.0</td>\n",
       "      <td>0.0</td>\n",
       "      <td>0.0</td>\n",
       "      <td>0.0</td>\n",
       "      <td>0.0</td>\n",
       "      <td>0.0</td>\n",
       "      <td>...</td>\n",
       "      <td>0.0</td>\n",
       "      <td>0.0</td>\n",
       "      <td>0.0</td>\n",
       "      <td>0.0</td>\n",
       "      <td>0.0</td>\n",
       "      <td>0.0</td>\n",
       "      <td>0.0</td>\n",
       "      <td>0.0</td>\n",
       "      <td>0.0</td>\n",
       "      <td>0.0</td>\n",
       "    </tr>\n",
       "    <tr>\n",
       "      <th>...</th>\n",
       "      <td>...</td>\n",
       "      <td>...</td>\n",
       "      <td>...</td>\n",
       "      <td>...</td>\n",
       "      <td>...</td>\n",
       "      <td>...</td>\n",
       "      <td>...</td>\n",
       "      <td>...</td>\n",
       "      <td>...</td>\n",
       "      <td>...</td>\n",
       "      <td>...</td>\n",
       "      <td>...</td>\n",
       "      <td>...</td>\n",
       "      <td>...</td>\n",
       "      <td>...</td>\n",
       "      <td>...</td>\n",
       "      <td>...</td>\n",
       "      <td>...</td>\n",
       "      <td>...</td>\n",
       "      <td>...</td>\n",
       "      <td>...</td>\n",
       "    </tr>\n",
       "    <tr>\n",
       "      <th>6468</th>\n",
       "      <td>0.0</td>\n",
       "      <td>0.0</td>\n",
       "      <td>1.0</td>\n",
       "      <td>0.0</td>\n",
       "      <td>0.0</td>\n",
       "      <td>0.0</td>\n",
       "      <td>0.0</td>\n",
       "      <td>0.0</td>\n",
       "      <td>0.0</td>\n",
       "      <td>0.0</td>\n",
       "      <td>...</td>\n",
       "      <td>0.0</td>\n",
       "      <td>0.0</td>\n",
       "      <td>0.0</td>\n",
       "      <td>0.0</td>\n",
       "      <td>0.0</td>\n",
       "      <td>0.0</td>\n",
       "      <td>0.0</td>\n",
       "      <td>1.0</td>\n",
       "      <td>0.0</td>\n",
       "      <td>0.0</td>\n",
       "    </tr>\n",
       "    <tr>\n",
       "      <th>6469</th>\n",
       "      <td>0.0</td>\n",
       "      <td>1.0</td>\n",
       "      <td>0.0</td>\n",
       "      <td>0.0</td>\n",
       "      <td>0.0</td>\n",
       "      <td>0.0</td>\n",
       "      <td>0.0</td>\n",
       "      <td>0.0</td>\n",
       "      <td>0.0</td>\n",
       "      <td>0.0</td>\n",
       "      <td>...</td>\n",
       "      <td>0.0</td>\n",
       "      <td>0.0</td>\n",
       "      <td>0.0</td>\n",
       "      <td>0.0</td>\n",
       "      <td>0.0</td>\n",
       "      <td>0.0</td>\n",
       "      <td>0.0</td>\n",
       "      <td>0.0</td>\n",
       "      <td>0.0</td>\n",
       "      <td>0.0</td>\n",
       "    </tr>\n",
       "    <tr>\n",
       "      <th>6470</th>\n",
       "      <td>0.0</td>\n",
       "      <td>0.0</td>\n",
       "      <td>1.0</td>\n",
       "      <td>0.0</td>\n",
       "      <td>0.0</td>\n",
       "      <td>0.0</td>\n",
       "      <td>0.0</td>\n",
       "      <td>0.0</td>\n",
       "      <td>0.0</td>\n",
       "      <td>0.0</td>\n",
       "      <td>...</td>\n",
       "      <td>0.0</td>\n",
       "      <td>0.0</td>\n",
       "      <td>0.0</td>\n",
       "      <td>0.0</td>\n",
       "      <td>0.0</td>\n",
       "      <td>0.0</td>\n",
       "      <td>0.0</td>\n",
       "      <td>1.0</td>\n",
       "      <td>0.0</td>\n",
       "      <td>0.0</td>\n",
       "    </tr>\n",
       "    <tr>\n",
       "      <th>6471</th>\n",
       "      <td>1.0</td>\n",
       "      <td>0.0</td>\n",
       "      <td>0.0</td>\n",
       "      <td>0.0</td>\n",
       "      <td>0.0</td>\n",
       "      <td>0.0</td>\n",
       "      <td>0.0</td>\n",
       "      <td>0.0</td>\n",
       "      <td>0.0</td>\n",
       "      <td>0.0</td>\n",
       "      <td>...</td>\n",
       "      <td>0.0</td>\n",
       "      <td>0.0</td>\n",
       "      <td>0.0</td>\n",
       "      <td>0.0</td>\n",
       "      <td>0.0</td>\n",
       "      <td>0.0</td>\n",
       "      <td>0.0</td>\n",
       "      <td>1.0</td>\n",
       "      <td>0.0</td>\n",
       "      <td>0.0</td>\n",
       "    </tr>\n",
       "    <tr>\n",
       "      <th>6472</th>\n",
       "      <td>0.0</td>\n",
       "      <td>0.0</td>\n",
       "      <td>1.0</td>\n",
       "      <td>0.0</td>\n",
       "      <td>0.0</td>\n",
       "      <td>0.0</td>\n",
       "      <td>0.0</td>\n",
       "      <td>0.0</td>\n",
       "      <td>0.0</td>\n",
       "      <td>0.0</td>\n",
       "      <td>...</td>\n",
       "      <td>0.0</td>\n",
       "      <td>0.0</td>\n",
       "      <td>0.0</td>\n",
       "      <td>0.0</td>\n",
       "      <td>0.0</td>\n",
       "      <td>0.0</td>\n",
       "      <td>0.0</td>\n",
       "      <td>1.0</td>\n",
       "      <td>0.0</td>\n",
       "      <td>0.0</td>\n",
       "    </tr>\n",
       "  </tbody>\n",
       "</table>\n",
       "<p>6473 rows × 4276 columns</p>\n",
       "</div>"
      ],
      "text/plain": [
       "      bedrooms_2  bedrooms_3  bedrooms_4  bedrooms_5  bedrooms_6  bedrooms_7  \\\n",
       "0            0.0         0.0         0.0         0.0         1.0         0.0   \n",
       "1            0.0         1.0         0.0         0.0         0.0         0.0   \n",
       "2            0.0         1.0         0.0         0.0         0.0         0.0   \n",
       "3            1.0         0.0         0.0         0.0         0.0         0.0   \n",
       "4            0.0         1.0         0.0         0.0         0.0         0.0   \n",
       "...          ...         ...         ...         ...         ...         ...   \n",
       "6468         0.0         0.0         1.0         0.0         0.0         0.0   \n",
       "6469         0.0         1.0         0.0         0.0         0.0         0.0   \n",
       "6470         0.0         0.0         1.0         0.0         0.0         0.0   \n",
       "6471         1.0         0.0         0.0         0.0         0.0         0.0   \n",
       "6472         0.0         0.0         1.0         0.0         0.0         0.0   \n",
       "\n",
       "      bedrooms_8  bedrooms_9  bedrooms_11  bathrooms_0.75  ...  long_-121.698  \\\n",
       "0            0.0         0.0          0.0             0.0  ...            0.0   \n",
       "1            0.0         0.0          0.0             0.0  ...            0.0   \n",
       "2            0.0         0.0          0.0             0.0  ...            0.0   \n",
       "3            0.0         0.0          0.0             0.0  ...            0.0   \n",
       "4            0.0         0.0          0.0             0.0  ...            0.0   \n",
       "...          ...         ...          ...             ...  ...            ...   \n",
       "6468         0.0         0.0          0.0             0.0  ...            0.0   \n",
       "6469         0.0         0.0          0.0             0.0  ...            0.0   \n",
       "6470         0.0         0.0          0.0             0.0  ...            0.0   \n",
       "6471         0.0         0.0          0.0             0.0  ...            0.0   \n",
       "6472         0.0         0.0          0.0             0.0  ...            0.0   \n",
       "\n",
       "      long_-121.691  long_-121.676  long_-121.417  long_-121.319  \\\n",
       "0               0.0            0.0            0.0            0.0   \n",
       "1               0.0            0.0            0.0            0.0   \n",
       "2               0.0            0.0            0.0            0.0   \n",
       "3               0.0            0.0            0.0            0.0   \n",
       "4               0.0            0.0            0.0            0.0   \n",
       "...             ...            ...            ...            ...   \n",
       "6468            0.0            0.0            0.0            0.0   \n",
       "6469            0.0            0.0            0.0            0.0   \n",
       "6470            0.0            0.0            0.0            0.0   \n",
       "6471            0.0            0.0            0.0            0.0   \n",
       "6472            0.0            0.0            0.0            0.0   \n",
       "\n",
       "      waterfront_yes_1  area_expensive area_1  area_medium priced area_1  \\\n",
       "0                  0.0                    0.0                        0.0   \n",
       "1                  0.0                    0.0                        0.0   \n",
       "2                  0.0                    0.0                        0.0   \n",
       "3                  0.0                    0.0                        1.0   \n",
       "4                  0.0                    0.0                        0.0   \n",
       "...                ...                    ...                        ...   \n",
       "6468               0.0                    0.0                        1.0   \n",
       "6469               0.0                    0.0                        0.0   \n",
       "6470               0.0                    0.0                        1.0   \n",
       "6471               0.0                    0.0                        1.0   \n",
       "6472               0.0                    0.0                        1.0   \n",
       "\n",
       "      area_very expensive area_1  area_very_affordable area_1  \n",
       "0                            0.0                          1.0  \n",
       "1                            0.0                          1.0  \n",
       "2                            0.0                          0.0  \n",
       "3                            0.0                          0.0  \n",
       "4                            0.0                          0.0  \n",
       "...                          ...                          ...  \n",
       "6468                         0.0                          0.0  \n",
       "6469                         0.0                          0.0  \n",
       "6470                         0.0                          0.0  \n",
       "6471                         0.0                          0.0  \n",
       "6472                         0.0                          0.0  \n",
       "\n",
       "[6473 rows x 4276 columns]"
      ]
     },
     "execution_count": 690,
     "metadata": {},
     "output_type": "execute_result"
    }
   ],
   "source": [
    "X_train_cat=pd.get_dummies(X_train_cat, drop_first=True)\n",
    "pd.DataFrame(OneHotEncoder(drop='first').fit_transform(X_train_cat).toarray(),\n",
    "columns=OneHotEncoder(drop='first').fit(X_train_cat).get_feature_names(input_features=X_train_cat.columns))\n",
    "\n",
    "X_test_cat=pd.get_dummies(X_test_cat, drop_first=True)\n",
    "pd.DataFrame(OneHotEncoder(drop='first').fit_transform(X_test_cat).toarray(),\n",
    "columns=OneHotEncoder(drop='first').fit(X_test_cat).get_feature_names(input_features=X_test_cat.columns))"
   ]
  },
  {
   "cell_type": "code",
   "execution_count": 691,
   "id": "707f5adf",
   "metadata": {},
   "outputs": [],
   "source": [
    "X_train_cat = X_train_cat.reset_index(drop=True)\n",
    "X_test_cat = X_test_cat.reset_index(drop=True)"
   ]
  },
  {
   "cell_type": "markdown",
   "id": "7006b949",
   "metadata": {},
   "source": [
    "### Standardize numerical values"
   ]
  },
  {
   "cell_type": "code",
   "execution_count": 692,
   "id": "cf03f651",
   "metadata": {},
   "outputs": [
    {
     "data": {
      "text/html": [
       "<div>\n",
       "<style scoped>\n",
       "    .dataframe tbody tr th:only-of-type {\n",
       "        vertical-align: middle;\n",
       "    }\n",
       "\n",
       "    .dataframe tbody tr th {\n",
       "        vertical-align: top;\n",
       "    }\n",
       "\n",
       "    .dataframe thead th {\n",
       "        text-align: right;\n",
       "    }\n",
       "</style>\n",
       "<table border=\"1\" class=\"dataframe\">\n",
       "  <thead>\n",
       "    <tr style=\"text-align: right;\">\n",
       "      <th></th>\n",
       "      <th>sqft_living</th>\n",
       "      <th>sqft_living15</th>\n",
       "      <th>sqft_lot15</th>\n",
       "      <th>sqft_basement</th>\n",
       "    </tr>\n",
       "  </thead>\n",
       "  <tbody>\n",
       "    <tr>\n",
       "      <th>12573</th>\n",
       "      <td>2744</td>\n",
       "      <td>2470</td>\n",
       "      <td>9926</td>\n",
       "      <td>0</td>\n",
       "    </tr>\n",
       "    <tr>\n",
       "      <th>18847</th>\n",
       "      <td>1230</td>\n",
       "      <td>850</td>\n",
       "      <td>6714</td>\n",
       "      <td>0</td>\n",
       "    </tr>\n",
       "    <tr>\n",
       "      <th>6909</th>\n",
       "      <td>840</td>\n",
       "      <td>1010</td>\n",
       "      <td>6000</td>\n",
       "      <td>0</td>\n",
       "    </tr>\n",
       "    <tr>\n",
       "      <th>18875</th>\n",
       "      <td>1310</td>\n",
       "      <td>2970</td>\n",
       "      <td>12196</td>\n",
       "      <td>0</td>\n",
       "    </tr>\n",
       "    <tr>\n",
       "      <th>7251</th>\n",
       "      <td>1240</td>\n",
       "      <td>1240</td>\n",
       "      <td>18000</td>\n",
       "      <td>0</td>\n",
       "    </tr>\n",
       "    <tr>\n",
       "      <th>...</th>\n",
       "      <td>...</td>\n",
       "      <td>...</td>\n",
       "      <td>...</td>\n",
       "      <td>...</td>\n",
       "    </tr>\n",
       "    <tr>\n",
       "      <th>11149</th>\n",
       "      <td>1820</td>\n",
       "      <td>1430</td>\n",
       "      <td>8800</td>\n",
       "      <td>0</td>\n",
       "    </tr>\n",
       "    <tr>\n",
       "      <th>5860</th>\n",
       "      <td>2150</td>\n",
       "      <td>1730</td>\n",
       "      <td>4609</td>\n",
       "      <td>610</td>\n",
       "    </tr>\n",
       "    <tr>\n",
       "      <th>7132</th>\n",
       "      <td>1980</td>\n",
       "      <td>1570</td>\n",
       "      <td>7626</td>\n",
       "      <td>720</td>\n",
       "    </tr>\n",
       "    <tr>\n",
       "      <th>19082</th>\n",
       "      <td>1170</td>\n",
       "      <td>1240</td>\n",
       "      <td>750</td>\n",
       "      <td>0</td>\n",
       "    </tr>\n",
       "    <tr>\n",
       "      <th>1906</th>\n",
       "      <td>3190</td>\n",
       "      <td>2840</td>\n",
       "      <td>4000</td>\n",
       "      <td>780</td>\n",
       "    </tr>\n",
       "  </tbody>\n",
       "</table>\n",
       "<p>6473 rows × 4 columns</p>\n",
       "</div>"
      ],
      "text/plain": [
       "       sqft_living  sqft_living15  sqft_lot15  sqft_basement\n",
       "12573         2744           2470        9926              0\n",
       "18847         1230            850        6714              0\n",
       "6909           840           1010        6000              0\n",
       "18875         1310           2970       12196              0\n",
       "7251          1240           1240       18000              0\n",
       "...            ...            ...         ...            ...\n",
       "11149         1820           1430        8800              0\n",
       "5860          2150           1730        4609            610\n",
       "7132          1980           1570        7626            720\n",
       "19082         1170           1240         750              0\n",
       "1906          3190           2840        4000            780\n",
       "\n",
       "[6473 rows x 4 columns]"
      ]
     },
     "execution_count": 692,
     "metadata": {},
     "output_type": "execute_result"
    }
   ],
   "source": [
    "X_train_num=X_train[['sqft_living','sqft_living15','sqft_lot15','sqft_basement']]\n",
    "X_train_num\n",
    "\n",
    "X_test_num=X_test[['sqft_living','sqft_living15','sqft_lot15','sqft_basement']]\n",
    "X_test_num"
   ]
  },
  {
   "cell_type": "code",
   "execution_count": 693,
   "id": "107a50d2",
   "metadata": {},
   "outputs": [],
   "source": [
    "std_scaler=StandardScaler().fit(X_train_num)  \n",
    "X_train_scaled=std_scaler.transform(X_train_num)"
   ]
  },
  {
   "cell_type": "code",
   "execution_count": 694,
   "id": "8ba3086d",
   "metadata": {},
   "outputs": [],
   "source": [
    "X_test_scaled=std_scaler.transform(X_test_num)"
   ]
  },
  {
   "cell_type": "code",
   "execution_count": 695,
   "id": "f6d36497",
   "metadata": {},
   "outputs": [
    {
     "name": "stdout",
     "output_type": "stream",
     "text": [
      "[[ 0.41845838 -0.14294809 -0.33399668  1.20523432]\n",
      " [-0.68275959 -0.28843688 -0.3194736  -0.65653123]\n",
      " [-0.92502754 -0.44847455 -0.33399668 -0.65653123]\n",
      " ...\n",
      " [-0.41846728 -0.57941447 -0.16066378  0.5695095 ]\n",
      " [-0.2973333  -0.82674542 -0.02966565 -0.65653123]\n",
      " [-0.06607753 -0.21569248 -0.3194736   1.63661902]]\n",
      "--------\n",
      "[[ 0.73120428  0.70088692 -0.10431425 -0.65653123]\n",
      " [-0.93603972 -1.65603154 -0.22093454 -0.65653123]\n",
      " [-1.36551473 -1.42324947 -0.24685823 -0.65653123]\n",
      " ...\n",
      " [-0.11012624 -0.60851223 -0.18782193  0.97818974]\n",
      " [-1.0021128  -1.08862525 -0.43747358 -0.65653123]\n",
      " [ 1.2223475   1.23919546 -0.3194736   1.11441649]]\n"
     ]
    }
   ],
   "source": [
    "print(X_train_scaled)\n",
    "print(\"--------\")\n",
    "print(X_test_scaled)"
   ]
  },
  {
   "cell_type": "code",
   "execution_count": 696,
   "id": "3a48500d",
   "metadata": {},
   "outputs": [],
   "source": [
    "X_train_scaled = pd.DataFrame(X_train_scaled, columns= X_train_num.columns)\n",
    "X_test_scaled = pd.DataFrame(X_test_scaled, columns= X_test_num.columns)"
   ]
  },
  {
   "cell_type": "code",
   "execution_count": 697,
   "id": "1255675e",
   "metadata": {},
   "outputs": [],
   "source": [
    "X_train_scaled = X_train_scaled.reset_index(drop=True)\n",
    "X_test_scaled = X_test_scaled.reset_index(drop=True)"
   ]
  },
  {
   "cell_type": "markdown",
   "id": "f56baef0",
   "metadata": {},
   "source": [
    "### Quantile Transformer"
   ]
  },
  {
   "cell_type": "code",
   "execution_count": 698,
   "id": "89f242a9",
   "metadata": {},
   "outputs": [],
   "source": [
    "qt = QuantileTransformer(output_distribution=\"normal\").fit(X_train_scaled['sqft_living15'].to_numpy().reshape(-1,1))\n",
    "X_train_scaled['sqft_living15'] = qt.transform(X_train_scaled['sqft_living15'].to_numpy().reshape(-1,1))\n",
    "X_test_scaled['sqft_living15'] = qt.transform(X_test_scaled['sqft_living15'].to_numpy().reshape(-1,1))"
   ]
  },
  {
   "cell_type": "code",
   "execution_count": 699,
   "id": "2bbc621a",
   "metadata": {},
   "outputs": [],
   "source": [
    "qt = QuantileTransformer(output_distribution=\"normal\").fit(X_train_scaled['sqft_lot15'].to_numpy().reshape(-1,1))\n",
    "X_train_scaled['sqft_lot15'] = qt.transform(X_train_scaled['sqft_lot15'].to_numpy().reshape(-1,1))\n",
    "X_test_scaled['sqft_lot15'] = qt.transform(X_test_scaled['sqft_lot15'].to_numpy().reshape(-1,1))"
   ]
  },
  {
   "cell_type": "code",
   "execution_count": 700,
   "id": "d585704a",
   "metadata": {},
   "outputs": [],
   "source": [
    "qt = QuantileTransformer(output_distribution=\"normal\").fit(y_train.to_numpy().reshape(-1,1))\n",
    "y_train = qt.transform(y_train.to_numpy().reshape(-1,1))\n",
    "y_test = qt.transform(y_test.to_numpy().reshape(-1,1))"
   ]
  },
  {
   "cell_type": "markdown",
   "id": "17d03c54",
   "metadata": {},
   "source": [
    "## Concatination "
   ]
  },
  {
   "cell_type": "code",
   "execution_count": 701,
   "id": "96f435cc",
   "metadata": {},
   "outputs": [],
   "source": [
    "X_train_con=pd.concat([X_train_scaled,X_train_cat],axis=1)\n",
    "X_test_con=pd.concat([X_test_scaled,X_test_cat],axis=1)"
   ]
  },
  {
   "cell_type": "code",
   "execution_count": 702,
   "id": "4d7cf84b",
   "metadata": {},
   "outputs": [
    {
     "data": {
      "text/html": [
       "<div>\n",
       "<style scoped>\n",
       "    .dataframe tbody tr th:only-of-type {\n",
       "        vertical-align: middle;\n",
       "    }\n",
       "\n",
       "    .dataframe tbody tr th {\n",
       "        vertical-align: top;\n",
       "    }\n",
       "\n",
       "    .dataframe thead th {\n",
       "        text-align: right;\n",
       "    }\n",
       "</style>\n",
       "<table border=\"1\" class=\"dataframe\">\n",
       "  <thead>\n",
       "    <tr style=\"text-align: right;\">\n",
       "      <th></th>\n",
       "      <th>sqft_living</th>\n",
       "      <th>sqft_living15</th>\n",
       "      <th>sqft_lot15</th>\n",
       "      <th>sqft_basement</th>\n",
       "      <th>bedrooms</th>\n",
       "      <th>bathrooms</th>\n",
       "      <th>view</th>\n",
       "      <th>floors</th>\n",
       "      <th>condition</th>\n",
       "      <th>grade</th>\n",
       "      <th>yr_built</th>\n",
       "      <th>lat</th>\n",
       "      <th>long</th>\n",
       "      <th>waterfront_yes</th>\n",
       "      <th>area_expensive area</th>\n",
       "      <th>area_medium priced area</th>\n",
       "      <th>area_very expensive area</th>\n",
       "      <th>area_very_affordable area</th>\n",
       "    </tr>\n",
       "  </thead>\n",
       "  <tbody>\n",
       "    <tr>\n",
       "      <th>0</th>\n",
       "      <td>0.418458</td>\n",
       "      <td>0.071571</td>\n",
       "      <td>-1.327982</td>\n",
       "      <td>1.205234</td>\n",
       "      <td>4</td>\n",
       "      <td>2.75</td>\n",
       "      <td>0</td>\n",
       "      <td>2.0</td>\n",
       "      <td>3</td>\n",
       "      <td>8</td>\n",
       "      <td>1907</td>\n",
       "      <td>47.6093</td>\n",
       "      <td>-122.297</td>\n",
       "      <td>0</td>\n",
       "      <td>0</td>\n",
       "      <td>1</td>\n",
       "      <td>0</td>\n",
       "      <td>0</td>\n",
       "    </tr>\n",
       "    <tr>\n",
       "      <th>1</th>\n",
       "      <td>-0.682760</td>\n",
       "      <td>-0.081638</td>\n",
       "      <td>-1.147315</td>\n",
       "      <td>-0.656531</td>\n",
       "      <td>3</td>\n",
       "      <td>1.00</td>\n",
       "      <td>0</td>\n",
       "      <td>1.0</td>\n",
       "      <td>4</td>\n",
       "      <td>7</td>\n",
       "      <td>1934</td>\n",
       "      <td>47.6837</td>\n",
       "      <td>-122.320</td>\n",
       "      <td>0</td>\n",
       "      <td>0</td>\n",
       "      <td>1</td>\n",
       "      <td>0</td>\n",
       "      <td>0</td>\n",
       "    </tr>\n",
       "    <tr>\n",
       "      <th>2</th>\n",
       "      <td>-0.925028</td>\n",
       "      <td>-0.271787</td>\n",
       "      <td>-1.327982</td>\n",
       "      <td>-0.656531</td>\n",
       "      <td>3</td>\n",
       "      <td>1.00</td>\n",
       "      <td>0</td>\n",
       "      <td>1.5</td>\n",
       "      <td>3</td>\n",
       "      <td>7</td>\n",
       "      <td>1902</td>\n",
       "      <td>47.5986</td>\n",
       "      <td>-122.298</td>\n",
       "      <td>0</td>\n",
       "      <td>0</td>\n",
       "      <td>1</td>\n",
       "      <td>0</td>\n",
       "      <td>0</td>\n",
       "    </tr>\n",
       "    <tr>\n",
       "      <th>3</th>\n",
       "      <td>0.308337</td>\n",
       "      <td>0.676854</td>\n",
       "      <td>-0.817260</td>\n",
       "      <td>-0.656531</td>\n",
       "      <td>4</td>\n",
       "      <td>2.50</td>\n",
       "      <td>0</td>\n",
       "      <td>2.0</td>\n",
       "      <td>3</td>\n",
       "      <td>8</td>\n",
       "      <td>2003</td>\n",
       "      <td>47.7731</td>\n",
       "      <td>-122.167</td>\n",
       "      <td>0</td>\n",
       "      <td>0</td>\n",
       "      <td>0</td>\n",
       "      <td>0</td>\n",
       "      <td>0</td>\n",
       "    </tr>\n",
       "    <tr>\n",
       "      <th>4</th>\n",
       "      <td>1.233360</td>\n",
       "      <td>1.368450</td>\n",
       "      <td>-0.275827</td>\n",
       "      <td>-0.656531</td>\n",
       "      <td>3</td>\n",
       "      <td>2.75</td>\n",
       "      <td>0</td>\n",
       "      <td>2.0</td>\n",
       "      <td>3</td>\n",
       "      <td>9</td>\n",
       "      <td>2004</td>\n",
       "      <td>47.5884</td>\n",
       "      <td>-121.991</td>\n",
       "      <td>0</td>\n",
       "      <td>1</td>\n",
       "      <td>0</td>\n",
       "      <td>0</td>\n",
       "      <td>0</td>\n",
       "    </tr>\n",
       "    <tr>\n",
       "      <th>...</th>\n",
       "      <td>...</td>\n",
       "      <td>...</td>\n",
       "      <td>...</td>\n",
       "      <td>...</td>\n",
       "      <td>...</td>\n",
       "      <td>...</td>\n",
       "      <td>...</td>\n",
       "      <td>...</td>\n",
       "      <td>...</td>\n",
       "      <td>...</td>\n",
       "      <td>...</td>\n",
       "      <td>...</td>\n",
       "      <td>...</td>\n",
       "      <td>...</td>\n",
       "      <td>...</td>\n",
       "      <td>...</td>\n",
       "      <td>...</td>\n",
       "      <td>...</td>\n",
       "    </tr>\n",
       "    <tr>\n",
       "      <th>15097</th>\n",
       "      <td>0.528580</td>\n",
       "      <td>0.203379</td>\n",
       "      <td>0.139710</td>\n",
       "      <td>1.727437</td>\n",
       "      <td>3</td>\n",
       "      <td>2.25</td>\n",
       "      <td>0</td>\n",
       "      <td>1.0</td>\n",
       "      <td>3</td>\n",
       "      <td>8</td>\n",
       "      <td>1958</td>\n",
       "      <td>47.7124</td>\n",
       "      <td>-122.303</td>\n",
       "      <td>0</td>\n",
       "      <td>0</td>\n",
       "      <td>0</td>\n",
       "      <td>0</td>\n",
       "      <td>0</td>\n",
       "    </tr>\n",
       "    <tr>\n",
       "      <th>15098</th>\n",
       "      <td>-1.200332</td>\n",
       "      <td>-1.258508</td>\n",
       "      <td>-1.512406</td>\n",
       "      <td>-0.656531</td>\n",
       "      <td>2</td>\n",
       "      <td>1.00</td>\n",
       "      <td>0</td>\n",
       "      <td>2.0</td>\n",
       "      <td>3</td>\n",
       "      <td>7</td>\n",
       "      <td>1998</td>\n",
       "      <td>47.5919</td>\n",
       "      <td>-122.297</td>\n",
       "      <td>0</td>\n",
       "      <td>0</td>\n",
       "      <td>1</td>\n",
       "      <td>0</td>\n",
       "      <td>0</td>\n",
       "    </tr>\n",
       "    <tr>\n",
       "      <th>15099</th>\n",
       "      <td>-0.418467</td>\n",
       "      <td>-0.444534</td>\n",
       "      <td>0.244976</td>\n",
       "      <td>0.569510</td>\n",
       "      <td>3</td>\n",
       "      <td>2.50</td>\n",
       "      <td>0</td>\n",
       "      <td>1.0</td>\n",
       "      <td>3</td>\n",
       "      <td>8</td>\n",
       "      <td>1998</td>\n",
       "      <td>47.5369</td>\n",
       "      <td>-122.378</td>\n",
       "      <td>0</td>\n",
       "      <td>0</td>\n",
       "      <td>0</td>\n",
       "      <td>0</td>\n",
       "      <td>0</td>\n",
       "    </tr>\n",
       "    <tr>\n",
       "      <th>15100</th>\n",
       "      <td>-0.297333</td>\n",
       "      <td>-0.837338</td>\n",
       "      <td>0.936306</td>\n",
       "      <td>-0.656531</td>\n",
       "      <td>3</td>\n",
       "      <td>2.00</td>\n",
       "      <td>0</td>\n",
       "      <td>1.0</td>\n",
       "      <td>3</td>\n",
       "      <td>7</td>\n",
       "      <td>1967</td>\n",
       "      <td>47.6393</td>\n",
       "      <td>-121.967</td>\n",
       "      <td>0</td>\n",
       "      <td>0</td>\n",
       "      <td>1</td>\n",
       "      <td>0</td>\n",
       "      <td>0</td>\n",
       "    </tr>\n",
       "    <tr>\n",
       "      <th>15101</th>\n",
       "      <td>-0.066078</td>\n",
       "      <td>-0.002509</td>\n",
       "      <td>-1.147315</td>\n",
       "      <td>1.636619</td>\n",
       "      <td>4</td>\n",
       "      <td>2.75</td>\n",
       "      <td>0</td>\n",
       "      <td>1.0</td>\n",
       "      <td>3</td>\n",
       "      <td>8</td>\n",
       "      <td>1917</td>\n",
       "      <td>47.6053</td>\n",
       "      <td>-122.291</td>\n",
       "      <td>0</td>\n",
       "      <td>0</td>\n",
       "      <td>1</td>\n",
       "      <td>0</td>\n",
       "      <td>0</td>\n",
       "    </tr>\n",
       "  </tbody>\n",
       "</table>\n",
       "<p>15102 rows × 18 columns</p>\n",
       "</div>"
      ],
      "text/plain": [
       "       sqft_living  sqft_living15  sqft_lot15  sqft_basement  bedrooms  \\\n",
       "0         0.418458       0.071571   -1.327982       1.205234         4   \n",
       "1        -0.682760      -0.081638   -1.147315      -0.656531         3   \n",
       "2        -0.925028      -0.271787   -1.327982      -0.656531         3   \n",
       "3         0.308337       0.676854   -0.817260      -0.656531         4   \n",
       "4         1.233360       1.368450   -0.275827      -0.656531         3   \n",
       "...            ...            ...         ...            ...       ...   \n",
       "15097     0.528580       0.203379    0.139710       1.727437         3   \n",
       "15098    -1.200332      -1.258508   -1.512406      -0.656531         2   \n",
       "15099    -0.418467      -0.444534    0.244976       0.569510         3   \n",
       "15100    -0.297333      -0.837338    0.936306      -0.656531         3   \n",
       "15101    -0.066078      -0.002509   -1.147315       1.636619         4   \n",
       "\n",
       "       bathrooms  view  floors  condition  grade  yr_built      lat     long  \\\n",
       "0           2.75     0     2.0          3      8      1907  47.6093 -122.297   \n",
       "1           1.00     0     1.0          4      7      1934  47.6837 -122.320   \n",
       "2           1.00     0     1.5          3      7      1902  47.5986 -122.298   \n",
       "3           2.50     0     2.0          3      8      2003  47.7731 -122.167   \n",
       "4           2.75     0     2.0          3      9      2004  47.5884 -121.991   \n",
       "...          ...   ...     ...        ...    ...       ...      ...      ...   \n",
       "15097       2.25     0     1.0          3      8      1958  47.7124 -122.303   \n",
       "15098       1.00     0     2.0          3      7      1998  47.5919 -122.297   \n",
       "15099       2.50     0     1.0          3      8      1998  47.5369 -122.378   \n",
       "15100       2.00     0     1.0          3      7      1967  47.6393 -121.967   \n",
       "15101       2.75     0     1.0          3      8      1917  47.6053 -122.291   \n",
       "\n",
       "       waterfront_yes  area_expensive area  area_medium priced area  \\\n",
       "0                   0                    0                        1   \n",
       "1                   0                    0                        1   \n",
       "2                   0                    0                        1   \n",
       "3                   0                    0                        0   \n",
       "4                   0                    1                        0   \n",
       "...               ...                  ...                      ...   \n",
       "15097               0                    0                        0   \n",
       "15098               0                    0                        1   \n",
       "15099               0                    0                        0   \n",
       "15100               0                    0                        1   \n",
       "15101               0                    0                        1   \n",
       "\n",
       "       area_very expensive area  area_very_affordable area  \n",
       "0                             0                          0  \n",
       "1                             0                          0  \n",
       "2                             0                          0  \n",
       "3                             0                          0  \n",
       "4                             0                          0  \n",
       "...                         ...                        ...  \n",
       "15097                         0                          0  \n",
       "15098                         0                          0  \n",
       "15099                         0                          0  \n",
       "15100                         0                          0  \n",
       "15101                         0                          0  \n",
       "\n",
       "[15102 rows x 18 columns]"
      ]
     },
     "execution_count": 702,
     "metadata": {},
     "output_type": "execute_result"
    }
   ],
   "source": [
    "X_train_con"
   ]
  },
  {
   "cell_type": "markdown",
   "id": "b4fe6b40",
   "metadata": {},
   "source": [
    "##  Apply Linear Regression"
   ]
  },
  {
   "cell_type": "markdown",
   "id": "78f0ec16",
   "metadata": {},
   "source": [
    "### Modelling using Statsmodels"
   ]
  },
  {
   "cell_type": "code",
   "execution_count": 703,
   "id": "6ef14eb7",
   "metadata": {},
   "outputs": [
    {
     "name": "stdout",
     "output_type": "stream",
     "text": [
      "                            OLS Regression Results                            \n",
      "==============================================================================\n",
      "Dep. Variable:                      y   R-squared:                       0.825\n",
      "Model:                            OLS   Adj. R-squared:                  0.824\n",
      "Method:                 Least Squares   F-statistic:                     3940.\n",
      "Date:                Fri, 11 Feb 2022   Prob (F-statistic):               0.00\n",
      "Time:                        14:19:18   Log-Likelihood:                -8298.8\n",
      "No. Observations:               15102   AIC:                         1.664e+04\n",
      "Df Residuals:                   15083   BIC:                         1.678e+04\n",
      "Df Model:                          18                                         \n",
      "Covariance Type:            nonrobust                                         \n",
      "=============================================================================================\n",
      "                                coef    std err          t      P>|t|      [0.025      0.975]\n",
      "---------------------------------------------------------------------------------------------\n",
      "const                      -108.3235      3.995    -27.113      0.000    -116.155    -100.492\n",
      "sqft_living                   0.2893      0.008     34.681      0.000       0.273       0.306\n",
      "sqft_living15                 0.1170      0.006     20.901      0.000       0.106       0.128\n",
      "sqft_lot15                   -0.0251      0.005     -5.356      0.000      -0.034      -0.016\n",
      "sqft_basement                -0.0345      0.005     -7.078      0.000      -0.044      -0.025\n",
      "bedrooms                     -0.0014      0.005     -0.301      0.764      -0.011       0.008\n",
      "bathrooms                     0.1013      0.008     12.414      0.000       0.085       0.117\n",
      "view                          0.1096      0.005     20.578      0.000       0.099       0.120\n",
      "floors                        0.0501      0.010      5.151      0.000       0.031       0.069\n",
      "condition                     0.1064      0.006     18.536      0.000       0.095       0.118\n",
      "grade                         0.1925      0.006     34.796      0.000       0.182       0.203\n",
      "yr_built                     -0.0035      0.000    -19.966      0.000      -0.004      -0.003\n",
      "lat                           1.6992      0.031     55.118      0.000       1.639       1.760\n",
      "long                         -0.2611      0.031     -8.425      0.000      -0.322      -0.200\n",
      "waterfront_yes                0.7254      0.045     16.051      0.000       0.637       0.814\n",
      "area_expensive area           0.7122      0.013     54.599      0.000       0.687       0.738\n",
      "area_medium priced area       0.4997      0.010     51.599      0.000       0.481       0.519\n",
      "area_very expensive area      1.1175      0.019     59.178      0.000       1.080       1.154\n",
      "area_very_affordable area    -0.3799      0.024    -16.000      0.000      -0.426      -0.333\n",
      "==============================================================================\n",
      "Omnibus:                     1105.684   Durbin-Watson:                   1.997\n",
      "Prob(Omnibus):                  0.000   Jarque-Bera (JB):             3580.916\n",
      "Skew:                          -0.354   Prob(JB):                         0.00\n",
      "Kurtosis:                       5.278   Cond. No.                     2.31e+06\n",
      "==============================================================================\n",
      "\n",
      "Notes:\n",
      "[1] Standard Errors assume that the covariance matrix of the errors is correctly specified.\n",
      "[2] The condition number is large, 2.31e+06. This might indicate that there are\n",
      "strong multicollinearity or other numerical problems.\n"
     ]
    },
    {
     "name": "stderr",
     "output_type": "stream",
     "text": [
      "/Users/louisarudow/opt/anaconda3/lib/python3.9/site-packages/statsmodels/tsa/tsatools.py:142: FutureWarning: In a future version of pandas all arguments of concat except for the argument 'objs' will be keyword-only\n",
      "  x = pd.concat(x[::order], 1)\n"
     ]
    }
   ],
   "source": [
    "X_train_const_scaled = sm.add_constant(X_train_con)\n",
    "\n",
    "model = sm.OLS(y_train, X_train_const_scaled).fit()\n",
    "predictions_train = model.predict(X_train_const_scaled) \n",
    "\n",
    "X_test_const_scaled = sm.add_constant(X_test_con) \n",
    "predictions_test = model.predict(X_test_const_scaled) \n",
    "print_model = model.summary()\n",
    "print(print_model)"
   ]
  },
  {
   "cell_type": "code",
   "execution_count": 704,
   "id": "fcb1c09d",
   "metadata": {},
   "outputs": [
    {
     "data": {
      "text/plain": [
       "0      -1.051661\n",
       "1      -1.617309\n",
       "2      -1.618504\n",
       "3      -0.209933\n",
       "4      -1.399489\n",
       "          ...   \n",
       "6468    0.087522\n",
       "6469   -0.039845\n",
       "6470    0.002334\n",
       "6471   -0.506602\n",
       "6472    1.715994\n",
       "Length: 6473, dtype: float64"
      ]
     },
     "execution_count": 704,
     "metadata": {},
     "output_type": "execute_result"
    }
   ],
   "source": [
    "predictions_test"
   ]
  },
  {
   "cell_type": "markdown",
   "id": "d667e618",
   "metadata": {},
   "source": [
    "Display adjusted r-squared"
   ]
  },
  {
   "cell_type": "code",
   "execution_count": 705,
   "id": "6e0e6767",
   "metadata": {},
   "outputs": [
    {
     "name": "stdout",
     "output_type": "stream",
     "text": [
      "0.8243966979732811\n"
     ]
    }
   ],
   "source": [
    "print(model.rsquared_adj)"
   ]
  },
  {
   "cell_type": "markdown",
   "id": "844f986e",
   "metadata": {},
   "source": [
    "### Modeling using Scikit Learn"
   ]
  },
  {
   "cell_type": "code",
   "execution_count": 706,
   "id": "f126289e",
   "metadata": {},
   "outputs": [
    {
     "data": {
      "text/plain": [
       "LinearRegression()"
      ]
     },
     "execution_count": 706,
     "metadata": {},
     "output_type": "execute_result"
    }
   ],
   "source": [
    "model=LinearRegression() \n",
    "model.fit(X_train_con, y_train) "
   ]
  },
  {
   "cell_type": "code",
   "execution_count": 707,
   "id": "78776cce",
   "metadata": {},
   "outputs": [
    {
     "data": {
      "text/plain": [
       "array([[ 2.89323115e-01,  1.16956690e-01, -2.50739098e-02,\n",
       "        -3.45013132e-02, -1.39788992e-03,  1.01275640e-01,\n",
       "         1.09637090e-01,  5.00739382e-02,  1.06449768e-01,\n",
       "         1.92545383e-01, -3.47294090e-03,  1.69918892e+00,\n",
       "        -2.61104556e-01,  7.25411983e-01,  7.12216908e-01,\n",
       "         4.99665274e-01,  1.11745834e+00, -3.79939493e-01]])"
      ]
     },
     "execution_count": 707,
     "metadata": {},
     "output_type": "execute_result"
    }
   ],
   "source": [
    "model.coef_"
   ]
  },
  {
   "cell_type": "code",
   "execution_count": 708,
   "id": "1310d0fe",
   "metadata": {},
   "outputs": [
    {
     "data": {
      "text/plain": [
       "array([-108.32351006])"
      ]
     },
     "execution_count": 708,
     "metadata": {},
     "output_type": "execute_result"
    }
   ],
   "source": [
    "model.intercept_"
   ]
  },
  {
   "cell_type": "markdown",
   "id": "4c27d4b4",
   "metadata": {},
   "source": [
    "Making a prediction"
   ]
  },
  {
   "cell_type": "code",
   "execution_count": 709,
   "id": "47431280",
   "metadata": {},
   "outputs": [],
   "source": [
    "y_pred=model.predict(X_test_con)   "
   ]
  },
  {
   "cell_type": "code",
   "execution_count": 710,
   "id": "871a3611",
   "metadata": {},
   "outputs": [
    {
     "data": {
      "text/plain": [
       "array([[-0.81614989],\n",
       "       [-2.36524765],\n",
       "       [-2.55030515],\n",
       "       ...,\n",
       "       [ 0.26528387],\n",
       "       [-0.57385479],\n",
       "       [ 1.73873105]])"
      ]
     },
     "execution_count": 710,
     "metadata": {},
     "output_type": "execute_result"
    }
   ],
   "source": [
    "y_test"
   ]
  },
  {
   "cell_type": "code",
   "execution_count": 711,
   "id": "d31d5ce1",
   "metadata": {},
   "outputs": [
    {
     "data": {
      "text/plain": [
       "array([[-1.05166082],\n",
       "       [-1.6173088 ],\n",
       "       [-1.61850409],\n",
       "       ...,\n",
       "       [ 0.00233425],\n",
       "       [-0.50660189],\n",
       "       [ 1.71599407]])"
      ]
     },
     "execution_count": 711,
     "metadata": {},
     "output_type": "execute_result"
    }
   ],
   "source": [
    "y_pred"
   ]
  },
  {
   "cell_type": "code",
   "execution_count": 712,
   "id": "fbab0bc2",
   "metadata": {},
   "outputs": [],
   "source": [
    "y_test = y_test.reshape(len(y_test))\n",
    "y_pred = y_pred.reshape(len(y_pred))"
   ]
  },
  {
   "cell_type": "code",
   "execution_count": 713,
   "id": "70d05f89",
   "metadata": {},
   "outputs": [
    {
     "data": {
      "text/html": [
       "<div>\n",
       "<style scoped>\n",
       "    .dataframe tbody tr th:only-of-type {\n",
       "        vertical-align: middle;\n",
       "    }\n",
       "\n",
       "    .dataframe tbody tr th {\n",
       "        vertical-align: top;\n",
       "    }\n",
       "\n",
       "    .dataframe thead th {\n",
       "        text-align: right;\n",
       "    }\n",
       "</style>\n",
       "<table border=\"1\" class=\"dataframe\">\n",
       "  <thead>\n",
       "    <tr style=\"text-align: right;\">\n",
       "      <th></th>\n",
       "      <th>y_test</th>\n",
       "      <th>y_pred</th>\n",
       "    </tr>\n",
       "  </thead>\n",
       "  <tbody>\n",
       "    <tr>\n",
       "      <th>0</th>\n",
       "      <td>-0.816150</td>\n",
       "      <td>-1.051661</td>\n",
       "    </tr>\n",
       "    <tr>\n",
       "      <th>1</th>\n",
       "      <td>-2.365248</td>\n",
       "      <td>-1.617309</td>\n",
       "    </tr>\n",
       "    <tr>\n",
       "      <th>2</th>\n",
       "      <td>-2.550305</td>\n",
       "      <td>-1.618504</td>\n",
       "    </tr>\n",
       "    <tr>\n",
       "      <th>3</th>\n",
       "      <td>0.023839</td>\n",
       "      <td>-0.209933</td>\n",
       "    </tr>\n",
       "    <tr>\n",
       "      <th>4</th>\n",
       "      <td>-1.387908</td>\n",
       "      <td>-1.399489</td>\n",
       "    </tr>\n",
       "    <tr>\n",
       "      <th>...</th>\n",
       "      <td>...</td>\n",
       "      <td>...</td>\n",
       "    </tr>\n",
       "    <tr>\n",
       "      <th>6468</th>\n",
       "      <td>0.274391</td>\n",
       "      <td>0.087522</td>\n",
       "    </tr>\n",
       "    <tr>\n",
       "      <th>6469</th>\n",
       "      <td>-0.155180</td>\n",
       "      <td>-0.039845</td>\n",
       "    </tr>\n",
       "    <tr>\n",
       "      <th>6470</th>\n",
       "      <td>0.265284</td>\n",
       "      <td>0.002334</td>\n",
       "    </tr>\n",
       "    <tr>\n",
       "      <th>6471</th>\n",
       "      <td>-0.573855</td>\n",
       "      <td>-0.506602</td>\n",
       "    </tr>\n",
       "    <tr>\n",
       "      <th>6472</th>\n",
       "      <td>1.738731</td>\n",
       "      <td>1.715994</td>\n",
       "    </tr>\n",
       "  </tbody>\n",
       "</table>\n",
       "<p>6473 rows × 2 columns</p>\n",
       "</div>"
      ],
      "text/plain": [
       "        y_test    y_pred\n",
       "0    -0.816150 -1.051661\n",
       "1    -2.365248 -1.617309\n",
       "2    -2.550305 -1.618504\n",
       "3     0.023839 -0.209933\n",
       "4    -1.387908 -1.399489\n",
       "...        ...       ...\n",
       "6468  0.274391  0.087522\n",
       "6469 -0.155180 -0.039845\n",
       "6470  0.265284  0.002334\n",
       "6471 -0.573855 -0.506602\n",
       "6472  1.738731  1.715994\n",
       "\n",
       "[6473 rows x 2 columns]"
      ]
     },
     "execution_count": 713,
     "metadata": {},
     "output_type": "execute_result"
    }
   ],
   "source": [
    "result=pd.DataFrame({\"y_test\":y_test,\"y_pred\":y_pred})\n",
    "result"
   ]
  },
  {
   "cell_type": "markdown",
   "id": "59eda5f5",
   "metadata": {},
   "source": [
    "1. Create scatterplot y_pre vs y to check whether predictions make sense (should be a straight line)\n",
    "2. Create histogram of the residuals:  y - y_pred to check for homoscedasticity (-> variance of the dependent variable is the same for all the data) (should be a normal distribution)\n",
    "3. Show residuals by predicted values (the closer the values are to the horizontal line, the more acurate the model)"
   ]
  },
  {
   "cell_type": "code",
   "execution_count": 714,
   "id": "c38841e0",
   "metadata": {},
   "outputs": [
    {
     "data": {
      "text/plain": [
       "[<matplotlib.lines.Line2D at 0x7fbf59078f10>]"
      ]
     },
     "execution_count": 714,
     "metadata": {},
     "output_type": "execute_result"
    },
    {
     "data": {
      "image/png": "[encoded data removed]",
      "text/plain": [
       "<Figure size 1008x288 with 3 Axes>"
      ]
     },
     "metadata": {
      "needs_background": "light"
     },
     "output_type": "display_data"
    }
   ],
   "source": [
    "fig, ax = plt.subplots(1,3,figsize=(14,4))\n",
    "ax[0].plot(y_pred, y_test, 'o')\n",
    "ax[0].set_xlabel(\"y_test\")\n",
    "ax[0].set_ylabel(\"y_pred\")\n",
    "ax[0].set_title(\"Test Set - Predicted vs real\")\n",
    "\n",
    "ax[1].hist(y_test - y_pred)\n",
    "ax[1].set_xlabel(\"Test y-y_pred\")\n",
    "ax[1].set_title(\"Test Set Residual histogram\")\n",
    "\n",
    "ax[2].plot(y_pred,y_test - y_pred,\"o\")\n",
    "ax[2].set_xlabel(\"predicted\")\n",
    "ax[2].set_ylabel(\"residuals\")\n",
    "ax[2].set_title(\"Residuals by Predicted\")\n",
    "ax[2].plot(y_pred,np.zeros(len(y_pred)),linestyle='dashed')"
   ]
  },
  {
   "cell_type": "markdown",
   "id": "cce873a1",
   "metadata": {},
   "source": [
    "#### Error metrics"
   ]
  },
  {
   "cell_type": "code",
   "execution_count": 715,
   "id": "3ac64b1f",
   "metadata": {},
   "outputs": [
    {
     "name": "stdout",
     "output_type": "stream",
     "text": [
      "0.16914015410783395\n",
      "0.31152396393344284\n"
     ]
    }
   ],
   "source": [
    "print(mse(y_test,y_pred))\n",
    "print(mae(y_test,y_pred))"
   ]
  },
  {
   "cell_type": "code",
   "execution_count": 716,
   "id": "3039b5aa",
   "metadata": {},
   "outputs": [
    {
     "data": {
      "text/plain": [
       "0.8289600389384125"
      ]
     },
     "execution_count": 716,
     "metadata": {},
     "output_type": "execute_result"
    }
   ],
   "source": [
    "R2=r2_score(y_test,y_pred)\n",
    "R2"
   ]
  },
  {
   "cell_type": "code",
   "execution_count": 717,
   "id": "d471f49d",
   "metadata": {},
   "outputs": [
    {
     "data": {
      "text/plain": [
       "15"
      ]
     },
     "execution_count": 717,
     "metadata": {},
     "output_type": "execute_result"
    }
   ],
   "source": [
    "X_test.shape[1]"
   ]
  },
  {
   "cell_type": "code",
   "execution_count": 718,
   "id": "993ed017",
   "metadata": {},
   "outputs": [
    {
     "data": {
      "text/plain": [
       "0.8285627028046161"
      ]
     },
     "execution_count": 718,
     "metadata": {},
     "output_type": "execute_result"
    }
   ],
   "source": [
    "Adj_R2= 1 - (1-R2)*(len(y_test)-1)/(len(y_test)-X_test.shape[1]-1)\n",
    "Adj_R2"
   ]
  },
  {
   "cell_type": "markdown",
   "id": "cb2bb8b2",
   "metadata": {},
   "source": [
    "#### Feature Importance"
   ]
  },
  {
   "cell_type": "code",
   "execution_count": 719,
   "id": "11797b33",
   "metadata": {},
   "outputs": [],
   "source": [
    "coef = model.coef_.reshape(model.coef_.shape[1])"
   ]
  },
  {
   "cell_type": "code",
   "execution_count": 720,
   "id": "1e7d9bb0",
   "metadata": {},
   "outputs": [],
   "source": [
    "features_importances = pd.DataFrame(data={\n",
    "    'Attribute': X_train_con.columns,\n",
    "    'Importance': abs(coef)\n",
    "})\n",
    "features_importances = features_importances.sort_values(by='Importance')"
   ]
  },
  {
   "cell_type": "code",
   "execution_count": 721,
   "id": "b08adec0",
   "metadata": {},
   "outputs": [
    {
     "data": {
      "text/html": [
       "<div>\n",
       "<style scoped>\n",
       "    .dataframe tbody tr th:only-of-type {\n",
       "        vertical-align: middle;\n",
       "    }\n",
       "\n",
       "    .dataframe tbody tr th {\n",
       "        vertical-align: top;\n",
       "    }\n",
       "\n",
       "    .dataframe thead th {\n",
       "        text-align: right;\n",
       "    }\n",
       "</style>\n",
       "<table border=\"1\" class=\"dataframe\">\n",
       "  <thead>\n",
       "    <tr style=\"text-align: right;\">\n",
       "      <th></th>\n",
       "      <th>Attribute</th>\n",
       "      <th>Importance</th>\n",
       "    </tr>\n",
       "  </thead>\n",
       "  <tbody>\n",
       "    <tr>\n",
       "      <th>4</th>\n",
       "      <td>bedrooms</td>\n",
       "      <td>0.001398</td>\n",
       "    </tr>\n",
       "    <tr>\n",
       "      <th>10</th>\n",
       "      <td>yr_built</td>\n",
       "      <td>0.003473</td>\n",
       "    </tr>\n",
       "    <tr>\n",
       "      <th>2</th>\n",
       "      <td>sqft_lot15</td>\n",
       "      <td>0.025074</td>\n",
       "    </tr>\n",
       "    <tr>\n",
       "      <th>3</th>\n",
       "      <td>sqft_basement</td>\n",
       "      <td>0.034501</td>\n",
       "    </tr>\n",
       "    <tr>\n",
       "      <th>7</th>\n",
       "      <td>floors</td>\n",
       "      <td>0.050074</td>\n",
       "    </tr>\n",
       "    <tr>\n",
       "      <th>5</th>\n",
       "      <td>bathrooms</td>\n",
       "      <td>0.101276</td>\n",
       "    </tr>\n",
       "    <tr>\n",
       "      <th>8</th>\n",
       "      <td>condition</td>\n",
       "      <td>0.106450</td>\n",
       "    </tr>\n",
       "    <tr>\n",
       "      <th>6</th>\n",
       "      <td>view</td>\n",
       "      <td>0.109637</td>\n",
       "    </tr>\n",
       "    <tr>\n",
       "      <th>1</th>\n",
       "      <td>sqft_living15</td>\n",
       "      <td>0.116957</td>\n",
       "    </tr>\n",
       "    <tr>\n",
       "      <th>9</th>\n",
       "      <td>grade</td>\n",
       "      <td>0.192545</td>\n",
       "    </tr>\n",
       "    <tr>\n",
       "      <th>12</th>\n",
       "      <td>long</td>\n",
       "      <td>0.261105</td>\n",
       "    </tr>\n",
       "    <tr>\n",
       "      <th>0</th>\n",
       "      <td>sqft_living</td>\n",
       "      <td>0.289323</td>\n",
       "    </tr>\n",
       "    <tr>\n",
       "      <th>17</th>\n",
       "      <td>area_very_affordable area</td>\n",
       "      <td>0.379939</td>\n",
       "    </tr>\n",
       "    <tr>\n",
       "      <th>15</th>\n",
       "      <td>area_medium priced area</td>\n",
       "      <td>0.499665</td>\n",
       "    </tr>\n",
       "    <tr>\n",
       "      <th>14</th>\n",
       "      <td>area_expensive area</td>\n",
       "      <td>0.712217</td>\n",
       "    </tr>\n",
       "    <tr>\n",
       "      <th>13</th>\n",
       "      <td>waterfront_yes</td>\n",
       "      <td>0.725412</td>\n",
       "    </tr>\n",
       "    <tr>\n",
       "      <th>16</th>\n",
       "      <td>area_very expensive area</td>\n",
       "      <td>1.117458</td>\n",
       "    </tr>\n",
       "    <tr>\n",
       "      <th>11</th>\n",
       "      <td>lat</td>\n",
       "      <td>1.699189</td>\n",
       "    </tr>\n",
       "  </tbody>\n",
       "</table>\n",
       "</div>"
      ],
      "text/plain": [
       "                    Attribute  Importance\n",
       "4                    bedrooms    0.001398\n",
       "10                   yr_built    0.003473\n",
       "2                  sqft_lot15    0.025074\n",
       "3               sqft_basement    0.034501\n",
       "7                      floors    0.050074\n",
       "5                   bathrooms    0.101276\n",
       "8                   condition    0.106450\n",
       "6                        view    0.109637\n",
       "1               sqft_living15    0.116957\n",
       "9                       grade    0.192545\n",
       "12                       long    0.261105\n",
       "0                 sqft_living    0.289323\n",
       "17  area_very_affordable area    0.379939\n",
       "15    area_medium priced area    0.499665\n",
       "14        area_expensive area    0.712217\n",
       "13             waterfront_yes    0.725412\n",
       "16   area_very expensive area    1.117458\n",
       "11                        lat    1.699189"
      ]
     },
     "execution_count": 721,
     "metadata": {},
     "output_type": "execute_result"
    }
   ],
   "source": [
    "features_importances"
   ]
  },
  {
   "cell_type": "code",
   "execution_count": 722,
   "id": "803e4d70",
   "metadata": {},
   "outputs": [
    {
     "data": {
      "image/png": "[encoded data removed]",
      "text/plain": [
       "<Figure size 432x288 with 1 Axes>"
      ]
     },
     "metadata": {
      "needs_background": "light"
     },
     "output_type": "display_data"
    }
   ],
   "source": [
    "plt.bar(x=features_importances['Attribute'], height=features_importances['Importance'], color='#087E8B')\n",
    "plt.title('Feature importances obtained from coefficients', size=20)\n",
    "plt.xticks(rotation='vertical')\n",
    "plt.show()"
   ]
  },
  {
   "cell_type": "markdown",
   "id": "7d7157ec",
   "metadata": {},
   "source": [
    "#### Evaluating predictions"
   ]
  },
  {
   "cell_type": "markdown",
   "id": "103514a0",
   "metadata": {},
   "source": [
    "MAE: mean absolute error"
   ]
  },
  {
   "cell_type": "code",
   "execution_count": 723,
   "id": "2ab9917f",
   "metadata": {},
   "outputs": [
    {
     "data": {
      "text/plain": [
       "0.31152396393344284"
      ]
     },
     "execution_count": 723,
     "metadata": {},
     "output_type": "execute_result"
    }
   ],
   "source": [
    "MAE = np.mean( np.abs( y_test - y_pred ) )\n",
    "MAE"
   ]
  },
  {
   "cell_type": "markdown",
   "id": "92878cd3",
   "metadata": {},
   "source": [
    "MSE: mean squared error"
   ]
  },
  {
   "cell_type": "code",
   "execution_count": 724,
   "id": "94cc093d",
   "metadata": {},
   "outputs": [
    {
     "data": {
      "text/plain": [
       "0.16914015410783395"
      ]
     },
     "execution_count": 724,
     "metadata": {},
     "output_type": "execute_result"
    }
   ],
   "source": [
    "MSE = np.mean( np.power( y_test - y_pred , 2 ) )\n",
    "MSE"
   ]
  },
  {
   "cell_type": "markdown",
   "id": "ab815407",
   "metadata": {},
   "source": [
    "RMSE: root mean squared error"
   ]
  },
  {
   "cell_type": "code",
   "execution_count": 725,
   "id": "8cde11fc",
   "metadata": {},
   "outputs": [
    {
     "data": {
      "text/plain": [
       "0.4112665244191824"
      ]
     },
     "execution_count": 725,
     "metadata": {},
     "output_type": "execute_result"
    }
   ],
   "source": [
    "RMSE = np.sqrt(MSE)\n",
    "RMSE"
   ]
  },
  {
   "cell_type": "markdown",
   "id": "f4cf4f4a",
   "metadata": {},
   "source": [
    "Histogram of entire df"
   ]
  },
  {
   "cell_type": "code",
   "execution_count": 726,
   "id": "ea376ca3",
   "metadata": {
    "scrolled": true
   },
   "outputs": [
    {
     "data": {
      "text/plain": [
       "array([[<AxesSubplot:title={'center':'bedrooms'}>,\n",
       "        <AxesSubplot:title={'center':'bathrooms'}>,\n",
       "        <AxesSubplot:title={'center':'sqft_living'}>,\n",
       "        <AxesSubplot:title={'center':'floors'}>],\n",
       "       [<AxesSubplot:title={'center':'view'}>,\n",
       "        <AxesSubplot:title={'center':'condition'}>,\n",
       "        <AxesSubplot:title={'center':'grade'}>,\n",
       "        <AxesSubplot:title={'center':'sqft_basement'}>],\n",
       "       [<AxesSubplot:title={'center':'yr_built'}>,\n",
       "        <AxesSubplot:title={'center':'lat'}>,\n",
       "        <AxesSubplot:title={'center':'long'}>,\n",
       "        <AxesSubplot:title={'center':'sqft_living15'}>],\n",
       "       [<AxesSubplot:title={'center':'sqft_lot15'}>,\n",
       "        <AxesSubplot:title={'center':'price'}>, <AxesSubplot:>,\n",
       "        <AxesSubplot:>]], dtype=object)"
      ]
     },
     "execution_count": 726,
     "metadata": {},
     "output_type": "execute_result"
    },
    {
     "data": {
      "image/png": "[encoded data removed]",
      "text/plain": [
       "<Figure size 864x864 with 16 Axes>"
      ]
     },
     "metadata": {
      "needs_background": "light"
     },
     "output_type": "display_data"
    }
   ],
   "source": [
    "re_df.hist(figsize=(12,12))"
   ]
  },
  {
   "cell_type": "code",
   "execution_count": null,
   "id": "ce9ecaef",
   "metadata": {},
   "outputs": [],
   "source": []
  }
 ],
 "metadata": {
  "kernelspec": {
   "display_name": "Python 3.9.7 64-bit ('base': conda)",
   "language": "python",
   "name": "python397jvsc74a57bd0fd728cfbfdf309c58cb1716ce92887498871f2fbed01fb0dfdf39b6c2f09a82b"
  },
  "language_info": {
   "codemirror_mode": {
    "name": "ipython",
    "version": 3
   },
   "file_extension": ".py",
   "mimetype": "text/x-python",
   "name": "python",
   "nbconvert_exporter": "python",
   "pygments_lexer": "ipython3",
   "version": "3.9.7"
  },
  "toc": {
   "base_numbering": 1,
   "nav_menu": {},
   "number_sections": true,
   "sideBar": true,
   "skip_h1_title": true,
   "title_cell": "Table of Contents",
   "title_sidebar": "Contents",
   "toc_cell": false,
   "toc_position": {},
   "toc_section_display": true,
   "toc_window_display": false
  },
  "varInspector": {
   "cols": {
    "lenName": 16,
    "lenType": 16,
    "lenVar": 40
   },
   "kernels_config": {
    "python": {
     "delete_cmd_postfix": "",
     "delete_cmd_prefix": "del ",
     "library": "var_list.py",
     "varRefreshCmd": "print(var_dic_list())"
    },
    "r": {
     "delete_cmd_postfix": ") ",
     "delete_cmd_prefix": "rm(",
     "library": "var_list.r",
     "varRefreshCmd": "cat(var_dic_list()) "
    }
   },
   "types_to_exclude": [
    "module",
    "function",
    "builtin_function_or_method",
    "instance",
    "_Feature"
   ],
   "window_display": false
  }
 },
 "nbformat": 4,
 "nbformat_minor": 5
}
