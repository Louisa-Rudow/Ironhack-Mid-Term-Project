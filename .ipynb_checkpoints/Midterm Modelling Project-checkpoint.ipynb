{
 "cells": [
  {
   "cell_type": "markdown",
   "id": "72e3a826",
   "metadata": {},
   "source": [
    "# Importing modules"
   ]
  },
  {
   "cell_type": "code",
   "execution_count": 6384,
   "id": "09a8e855",
   "metadata": {},
   "outputs": [],
   "source": [
    "import numpy as np\n",
    "import pandas as pd\n",
    "import matplotlib.pyplot as plt\n",
    "%matplotlib inline\n",
    "import seaborn as sns\n",
    "import statsmodels.api as sm\n",
    "from scipy.stats import boxcox\n",
    "\n",
    "pd.options.display.max_rows = 50\n",
    "\n",
    "from sklearn.preprocessing import StandardScaler\n",
    "from sklearn.preprocessing import QuantileTransformer\n",
    "from sklearn.preprocessing import minmax_scale\n",
    "from sklearn.preprocessing import OneHotEncoder  ##. better to use dummy from pandas \n",
    "from sklearn.preprocessing import PowerTransformer\n",
    "from sklearn.linear_model import LinearRegression\n",
    "from sklearn.model_selection import train_test_split\n",
    "from sklearn.model_selection import train_test_split\n",
    "from sklearn.metrics import r2_score\n",
    "from sklearn.metrics import mean_squared_error as mse\n",
    "from sklearn.metrics import mean_absolute_error as mae\n",
    "pd.options.display.max_rows = 50\n",
    "## Install xlrd package to load Excel files\n",
    "# conda install openpyxl\n",
    "## conda install xlrd"
   ]
  },
  {
   "cell_type": "markdown",
   "id": "3093f30c",
   "metadata": {},
   "source": [
    "## Data Cleaning"
   ]
  },
  {
   "cell_type": "markdown",
   "id": "17bcd4e1",
   "metadata": {},
   "source": [
    "### loading & exploring Data"
   ]
  },
  {
   "cell_type": "code",
   "execution_count": 6385,
   "id": "2ab25fdc",
   "metadata": {},
   "outputs": [],
   "source": [
    "re_df = pd.read_excel('Data_MidTerm_Project_Real_State_Regression.xls')"
   ]
  },
  {
   "cell_type": "code",
   "execution_count": 6386,
   "id": "2c047629",
   "metadata": {},
   "outputs": [
    {
     "data": {
      "text/plain": [
       "Index(['id', 'date', 'bedrooms', 'bathrooms', 'sqft_living', 'sqft_lot',\n",
       "       'floors', 'waterfront', 'view', 'condition', 'grade', 'sqft_above',\n",
       "       'sqft_basement', 'yr_built', 'yr_renovated', 'zipcode', 'lat', 'long',\n",
       "       'sqft_living15', 'sqft_lot15', 'price'],\n",
       "      dtype='object')"
      ]
     },
     "execution_count": 6386,
     "metadata": {},
     "output_type": "execute_result"
    }
   ],
   "source": [
    "re_df.columns"
   ]
  },
  {
   "cell_type": "code",
   "execution_count": 6387,
   "id": "b64b4cfb",
   "metadata": {},
   "outputs": [
    {
     "name": "stdout",
     "output_type": "stream",
     "text": [
      "<class 'pandas.core.frame.DataFrame'>\n",
      "RangeIndex: 21597 entries, 0 to 21596\n",
      "Data columns (total 21 columns):\n",
      " #   Column         Non-Null Count  Dtype         \n",
      "---  ------         --------------  -----         \n",
      " 0   id             21597 non-null  int64         \n",
      " 1   date           21597 non-null  datetime64[ns]\n",
      " 2   bedrooms       21597 non-null  int64         \n",
      " 3   bathrooms      21597 non-null  float64       \n",
      " 4   sqft_living    21597 non-null  int64         \n",
      " 5   sqft_lot       21597 non-null  int64         \n",
      " 6   floors         21597 non-null  float64       \n",
      " 7   waterfront     21597 non-null  int64         \n",
      " 8   view           21597 non-null  int64         \n",
      " 9   condition      21597 non-null  int64         \n",
      " 10  grade          21597 non-null  int64         \n",
      " 11  sqft_above     21597 non-null  int64         \n",
      " 12  sqft_basement  21597 non-null  int64         \n",
      " 13  yr_built       21597 non-null  int64         \n",
      " 14  yr_renovated   21597 non-null  int64         \n",
      " 15  zipcode        21597 non-null  int64         \n",
      " 16  lat            21597 non-null  float64       \n",
      " 17  long           21597 non-null  float64       \n",
      " 18  sqft_living15  21597 non-null  int64         \n",
      " 19  sqft_lot15     21597 non-null  int64         \n",
      " 20  price          21597 non-null  int64         \n",
      "dtypes: datetime64[ns](1), float64(4), int64(16)\n",
      "memory usage: 3.5 MB\n"
     ]
    }
   ],
   "source": [
    "re_df.info()"
   ]
  },
  {
   "cell_type": "markdown",
   "id": "b8f02c89",
   "metadata": {},
   "source": [
    "### converting date column"
   ]
  },
  {
   "cell_type": "code",
   "execution_count": 6388,
   "id": "c0106794",
   "metadata": {},
   "outputs": [],
   "source": [
    "re_df['date'] = re_df['date'].dt.to_period('M')"
   ]
  },
  {
   "cell_type": "code",
   "execution_count": 6389,
   "id": "ff9b38fc",
   "metadata": {},
   "outputs": [],
   "source": [
    "re_df['date'] = re_df['date'].dt.strftime('%m/%Y')"
   ]
  },
  {
   "cell_type": "code",
   "execution_count": 6390,
   "id": "ff173976",
   "metadata": {},
   "outputs": [
    {
     "data": {
      "text/plain": [
       "04/2015    2229\n",
       "07/2014    2211\n",
       "06/2014    2178\n",
       "08/2014    1939\n",
       "10/2014    1876\n",
       "03/2015    1875\n",
       "09/2014    1771\n",
       "05/2014    1768\n",
       "12/2014    1470\n",
       "11/2014    1409\n",
       "02/2015    1247\n",
       "01/2015     978\n",
       "05/2015     646\n",
       "Name: date, dtype: int64"
      ]
     },
     "execution_count": 6390,
     "metadata": {},
     "output_type": "execute_result"
    }
   ],
   "source": [
    "re_df['date'].value_counts()"
   ]
  },
  {
   "cell_type": "code",
   "execution_count": 6391,
   "id": "ee0ad88a",
   "metadata": {},
   "outputs": [],
   "source": [
    "#re_df = re_df[re_df.date != \"05/2015\"]\n",
    "#re_df = re_df[re_df.date != \"01/2015\"]"
   ]
  },
  {
   "cell_type": "markdown",
   "id": "4d59a642",
   "metadata": {},
   "source": [
    "### droping columns"
   ]
  },
  {
   "cell_type": "code",
   "execution_count": 6392,
   "id": "78809397",
   "metadata": {},
   "outputs": [],
   "source": [
    "re_df.drop(['id'],axis=1, inplace=True)\n",
    "re_df.drop(['yr_renovated'],axis=1, inplace=True)\n",
    "#re_df.drop(['yr_built'],axis=1, inplace=True)\n",
    "re_df.drop(['sqft_above'],axis=1, inplace=True)\n",
    "re_df.drop(['sqft_lot'],axis=1, inplace=True)"
   ]
  },
  {
   "cell_type": "markdown",
   "id": "adf67870",
   "metadata": {},
   "source": [
    "### creating a new column area"
   ]
  },
  {
   "cell_type": "markdown",
   "id": "ba44214f",
   "metadata": {},
   "source": [
    "area = []\n",
    "\n",
    "for row in re_df['price']:\n",
    "    if row < 300000:\n",
    "        area.append('affordable area')\n",
    "    elif row >= 300000 and row < 600000:\n",
    "        area.append('medium priced area')\n",
    "    elif row >= 600000 and row < 900000:\n",
    "        area.append('expensive area')\n",
    "    elif row >= 900000:  \n",
    "        area.append('very expensive area')\n",
    "    else:         \n",
    "        area.append('Not_Rated')\n",
    "        \n",
    "re_df['area'] = area"
   ]
  },
  {
   "cell_type": "markdown",
   "id": "5b450a8b",
   "metadata": {},
   "source": [
    "area = []\n",
    "\n",
    "for row in re_df['price']:\n",
    "    if row < 250000:\n",
    "        area.append('very affordable area')\n",
    "    elif row >= 250000 and row < 500000:\n",
    "        area.append('affordable area')\n",
    "    elif row >= 500000 and row < 750000:\n",
    "        area.append('medium priced area')\n",
    "    elif row >= 750000 and row < 1000000:\n",
    "        area.append('expensive area')\n",
    "    elif row >= 1000000:  \n",
    "        area.append('very expensive area')\n",
    "    else:         \n",
    "        area.append('not rated')\n",
    "        \n",
    "re_df['area'] = area"
   ]
  },
  {
   "cell_type": "code",
   "execution_count": 6393,
   "id": "72db624b",
   "metadata": {},
   "outputs": [],
   "source": [
    "#step 1: zipcodes gruppieren und avg price ausgeben lassen\n",
    "#step 2: gruppen sortieren nach avg price\n",
    "    \n",
    "grouped_zipcodes = re_df.groupby(\"zipcode\")[[\"price\"]].mean().sort_values(by=\"price\", ascending=False)\n",
    "\n",
    "#step 3: schwellwerte festlegen\n",
    "\n",
    "very_affordable_area =list(grouped_zipcodes[grouped_zipcodes[\"price\"]< 250000].index)\n",
    "affordable_area = list(grouped_zipcodes[(grouped_zipcodes[\"price\"]>= 250000) & (grouped_zipcodes[\"price\"] < 500000)].index)\n",
    "medium_priced_area = list(grouped_zipcodes[(grouped_zipcodes[\"price\"]>= 500000) & (grouped_zipcodes[\"price\"]< 750000)].index)\n",
    "expensive_area = list(grouped_zipcodes[(grouped_zipcodes[\"price\"]>= 750000) & (grouped_zipcodes[\"price\"]< 1000000)].index)\n",
    "very_expensive_area =list(grouped_zipcodes[grouped_zipcodes[\"price\"]>=1000000].index)\n",
    "\n",
    "\n",
    "#step 4: neue column erstellen mit zip code gruppen\n",
    "\n",
    "area = []\n",
    "\n",
    "for row in re_df['zipcode']:\n",
    "    if row in very_affordable_area:\n",
    "        area.append('very_affordable area')\n",
    "    elif row in affordable_area:\n",
    "        area.append('affordable area')\n",
    "    elif row in medium_priced_area:\n",
    "        area.append('medium priced area')\n",
    "    elif row in expensive_area:\n",
    "        area.append('expensive area')\n",
    "    elif row in very_expensive_area:\n",
    "        area.append('very expensive area')\n",
    "\n",
    "re_df['area'] = area \n"
   ]
  },
  {
   "cell_type": "markdown",
   "id": "e9cd55ef",
   "metadata": {},
   "source": [
    "#step 1: zipcodes gruppieren und avg price ausgeben lassen\n",
    "#step 2: gruppen sortieren nach avg price\n",
    "    \n",
    "grouped_zipcodes = re_df.groupby(\"zipcode\")[[\"grade\"]].mean().sort_values(by=\"grade\", ascending=False)\n",
    "\n",
    "#step 3: schwellwerte festlegen\n",
    "\n",
    "very_affordable_area =list(grouped_zipcodes[grouped_zipcodes[\"grade\"]< 3].index)\n",
    "affordable_area = list(grouped_zipcodes[(grouped_zipcodes[\"grade\"]>= 3) & (grouped_zipcodes[\"grade\"] < 6)].index)\n",
    "medium_priced_area = list(grouped_zipcodes[(grouped_zipcodes[\"grade\"]>= 6) & (grouped_zipcodes[\"grade\"]< 9)].index)\n",
    "expensive_area = list(grouped_zipcodes[(grouped_zipcodes[\"grade\"]>= 9) & (grouped_zipcodes[\"grade\"]< 12)].index)\n",
    "very_expensive_area =list(grouped_zipcodes[grouped_zipcodes[\"grade\"]>=12].index)\n",
    "\n",
    "\n",
    "#step 4: neue column erstellen mit zip code gruppen\n",
    "\n",
    "area2 = []\n",
    "\n",
    "for row in re_df['zipcode']:\n",
    "    if row in very_affordable_area:\n",
    "        area2.append('very_affordable area')\n",
    "    elif row in affordable_area:\n",
    "        area2.append('affordable area')\n",
    "    elif row in medium_priced_area:\n",
    "        area2.append('medium priced area')\n",
    "    elif row in expensive_area:\n",
    "        area2.append('expensive area')\n",
    "    elif row in very_expensive_area:\n",
    "        area2.append('very expensive area')\n",
    "\n",
    "re_df['area2'] = area2\n"
   ]
  },
  {
   "cell_type": "markdown",
   "id": "ce7e7354",
   "metadata": {},
   "source": [
    "### removing duplicates"
   ]
  },
  {
   "cell_type": "code",
   "execution_count": 6394,
   "id": "15cfb69f",
   "metadata": {},
   "outputs": [],
   "source": [
    "re_df.drop_duplicates(inplace=True)"
   ]
  },
  {
   "cell_type": "markdown",
   "id": "05038a15",
   "metadata": {},
   "source": [
    "### droping nan values"
   ]
  },
  {
   "cell_type": "code",
   "execution_count": 6395,
   "id": "f05faecb",
   "metadata": {},
   "outputs": [],
   "source": [
    "#re_df.view.hist()\n",
    "#re_df.dropna(inplace=True)\n",
    "#re_df"
   ]
  },
  {
   "cell_type": "markdown",
   "id": "117d1394",
   "metadata": {},
   "source": [
    "### renaming waterfront column features"
   ]
  },
  {
   "cell_type": "code",
   "execution_count": 6396,
   "id": "93c089a6",
   "metadata": {},
   "outputs": [],
   "source": [
    "def clean_waterfront(x):\n",
    "    if x == 0:\n",
    "        return 'no'\n",
    "    elif x == 1:\n",
    "        return 'yes'"
   ]
  },
  {
   "cell_type": "code",
   "execution_count": 6397,
   "id": "2210c556",
   "metadata": {},
   "outputs": [],
   "source": [
    "re_df[\"waterfront\"] = list(map(clean_waterfront,re_df[\"waterfront\"])) "
   ]
  },
  {
   "cell_type": "markdown",
   "id": "bc82f4cf",
   "metadata": {},
   "source": [
    "### removing outliers"
   ]
  },
  {
   "cell_type": "markdown",
   "id": "9c62993e",
   "metadata": {},
   "source": [
    "#### bedrooms"
   ]
  },
  {
   "cell_type": "code",
   "execution_count": 6398,
   "id": "2a6374f4",
   "metadata": {},
   "outputs": [
    {
     "name": "stderr",
     "output_type": "stream",
     "text": [
      "/Users/louisarudow/opt/anaconda3/lib/python3.9/site-packages/seaborn/_decorators.py:36: FutureWarning: Pass the following variable as a keyword arg: x. From version 0.12, the only valid positional argument will be `data`, and passing other arguments without an explicit keyword will result in an error or misinterpretation.\n",
      "  warnings.warn(\n"
     ]
    },
    {
     "data": {
      "text/plain": [
       "<AxesSubplot:xlabel='bedrooms'>"
      ]
     },
     "execution_count": 6398,
     "metadata": {},
     "output_type": "execute_result"
    },
    {
     "data": {
      "image/png": "[encoded data removed]",
      "text/plain": [
       "<Figure size 432x288 with 1 Axes>"
      ]
     },
     "metadata": {
      "needs_background": "light"
     },
     "output_type": "display_data"
    }
   ],
   "source": [
    "sns.boxplot(re_df['bedrooms'])"
   ]
  },
  {
   "cell_type": "code",
   "execution_count": 6399,
   "id": "ec540781",
   "metadata": {},
   "outputs": [
    {
     "data": {
      "text/plain": [
       "33"
      ]
     },
     "execution_count": 6399,
     "metadata": {},
     "output_type": "execute_result"
    }
   ],
   "source": [
    "max(re_df['bedrooms'])"
   ]
  },
  {
   "cell_type": "code",
   "execution_count": 6400,
   "id": "6ca8161b",
   "metadata": {},
   "outputs": [
    {
     "data": {
      "text/html": [
       "<div>\n",
       "<style scoped>\n",
       "    .dataframe tbody tr th:only-of-type {\n",
       "        vertical-align: middle;\n",
       "    }\n",
       "\n",
       "    .dataframe tbody tr th {\n",
       "        vertical-align: top;\n",
       "    }\n",
       "\n",
       "    .dataframe thead th {\n",
       "        text-align: right;\n",
       "    }\n",
       "</style>\n",
       "<table border=\"1\" class=\"dataframe\">\n",
       "  <thead>\n",
       "    <tr style=\"text-align: right;\">\n",
       "      <th></th>\n",
       "      <th>date</th>\n",
       "      <th>bedrooms</th>\n",
       "      <th>bathrooms</th>\n",
       "      <th>sqft_living</th>\n",
       "      <th>floors</th>\n",
       "      <th>waterfront</th>\n",
       "      <th>view</th>\n",
       "      <th>condition</th>\n",
       "      <th>grade</th>\n",
       "      <th>sqft_basement</th>\n",
       "      <th>yr_built</th>\n",
       "      <th>zipcode</th>\n",
       "      <th>lat</th>\n",
       "      <th>long</th>\n",
       "      <th>sqft_living15</th>\n",
       "      <th>sqft_lot15</th>\n",
       "      <th>price</th>\n",
       "      <th>area</th>\n",
       "    </tr>\n",
       "  </thead>\n",
       "  <tbody>\n",
       "    <tr>\n",
       "      <th>15856</th>\n",
       "      <td>06/2014</td>\n",
       "      <td>33</td>\n",
       "      <td>1.75</td>\n",
       "      <td>1620</td>\n",
       "      <td>1.0</td>\n",
       "      <td>no</td>\n",
       "      <td>0</td>\n",
       "      <td>5</td>\n",
       "      <td>7</td>\n",
       "      <td>580</td>\n",
       "      <td>1947</td>\n",
       "      <td>98103</td>\n",
       "      <td>47.6878</td>\n",
       "      <td>-122.331</td>\n",
       "      <td>1330</td>\n",
       "      <td>4700</td>\n",
       "      <td>640000</td>\n",
       "      <td>medium priced area</td>\n",
       "    </tr>\n",
       "  </tbody>\n",
       "</table>\n",
       "</div>"
      ],
      "text/plain": [
       "          date  bedrooms  bathrooms  sqft_living  floors waterfront  view  \\\n",
       "15856  06/2014        33       1.75         1620     1.0         no     0   \n",
       "\n",
       "       condition  grade  sqft_basement  yr_built  zipcode      lat     long  \\\n",
       "15856          5      7            580      1947    98103  47.6878 -122.331   \n",
       "\n",
       "       sqft_living15  sqft_lot15   price                area  \n",
       "15856           1330        4700  640000  medium priced area  "
      ]
     },
     "execution_count": 6400,
     "metadata": {},
     "output_type": "execute_result"
    }
   ],
   "source": [
    "#re_df = re_df[re_df.bedrooms != max(re_df['bedrooms'])]\n",
    "\n",
    "re_df.loc[re_df['bedrooms'] == 33]"
   ]
  },
  {
   "cell_type": "markdown",
   "id": "74f1d803",
   "metadata": {},
   "source": [
    "Based on the sqft_living we asume that there is typing error"
   ]
  },
  {
   "cell_type": "code",
   "execution_count": 6401,
   "id": "af46bf74",
   "metadata": {},
   "outputs": [],
   "source": [
    "re_df.at[15856,'bedrooms'] = 3"
   ]
  },
  {
   "cell_type": "markdown",
   "id": "8010b63b",
   "metadata": {},
   "source": [
    "#### bathrooms"
   ]
  },
  {
   "cell_type": "code",
   "execution_count": 6402,
   "id": "7657e24e",
   "metadata": {},
   "outputs": [
    {
     "name": "stderr",
     "output_type": "stream",
     "text": [
      "/Users/louisarudow/opt/anaconda3/lib/python3.9/site-packages/seaborn/_decorators.py:36: FutureWarning: Pass the following variable as a keyword arg: x. From version 0.12, the only valid positional argument will be `data`, and passing other arguments without an explicit keyword will result in an error or misinterpretation.\n",
      "  warnings.warn(\n"
     ]
    },
    {
     "data": {
      "text/plain": [
       "<AxesSubplot:xlabel='bathrooms'>"
      ]
     },
     "execution_count": 6402,
     "metadata": {},
     "output_type": "execute_result"
    },
    {
     "data": {
      "image/png": "[encoded data removed]",
      "text/plain": [
       "<Figure size 432x288 with 1 Axes>"
      ]
     },
     "metadata": {
      "needs_background": "light"
     },
     "output_type": "display_data"
    }
   ],
   "source": [
    "sns.boxplot(re_df['bathrooms'])"
   ]
  },
  {
   "cell_type": "code",
   "execution_count": 6403,
   "id": "0784ca91",
   "metadata": {},
   "outputs": [
    {
     "data": {
      "text/plain": [
       "2.50    5376\n",
       "1.00    3849\n",
       "1.75    3048\n",
       "2.25    2046\n",
       "2.00    1929\n",
       "1.50    1445\n",
       "2.75    1185\n",
       "3.00     753\n",
       "3.50     731\n",
       "3.25     589\n",
       "3.75     155\n",
       "4.00     136\n",
       "4.50     100\n",
       "4.25      79\n",
       "0.75      71\n",
       "4.75      23\n",
       "5.00      21\n",
       "5.25      13\n",
       "5.50      10\n",
       "1.25       9\n",
       "6.00       6\n",
       "0.50       4\n",
       "5.75       4\n",
       "6.75       2\n",
       "8.00       2\n",
       "6.25       2\n",
       "6.50       2\n",
       "7.50       1\n",
       "7.75       1\n",
       "Name: bathrooms, dtype: int64"
      ]
     },
     "execution_count": 6403,
     "metadata": {},
     "output_type": "execute_result"
    }
   ],
   "source": [
    "re_df['bathrooms'].value_counts()\n",
    "\n",
    "#re_df = re_df[re_df.bathrooms != max(re_df['bathrooms'])]\n",
    "#re_df = re_df[re_df.bathrooms != 7.75]"
   ]
  },
  {
   "cell_type": "markdown",
   "id": "7af1bbb9",
   "metadata": {},
   "source": [
    "#### sqft_lot"
   ]
  },
  {
   "cell_type": "markdown",
   "id": "630ea315",
   "metadata": {},
   "source": [
    "sns.boxplot(re_df['sqft_lot'])"
   ]
  },
  {
   "cell_type": "markdown",
   "id": "6cd29b85",
   "metadata": {},
   "source": [
    "max(re_df['sqft_lot'])"
   ]
  },
  {
   "cell_type": "markdown",
   "id": "94f01d5c",
   "metadata": {},
   "source": [
    "re_df.loc[re_df['sqft_lot'] == 1651359]"
   ]
  },
  {
   "cell_type": "markdown",
   "id": "23ab38d9",
   "metadata": {},
   "source": [
    "re_df.at[1717,'sqft_lot'] = 16513.59"
   ]
  },
  {
   "cell_type": "markdown",
   "id": "1e971a39",
   "metadata": {},
   "source": [
    "#### price"
   ]
  },
  {
   "cell_type": "code",
   "execution_count": 6404,
   "id": "a487e55d",
   "metadata": {},
   "outputs": [],
   "source": [
    "re_df = re_df[re_df['price'] < 4000000]"
   ]
  },
  {
   "cell_type": "code",
   "execution_count": 6405,
   "id": "d3fb79f7",
   "metadata": {},
   "outputs": [],
   "source": [
    "#re_df.to_excel(r'cleaned_dataframe.xlsx', index = False)"
   ]
  },
  {
   "cell_type": "markdown",
   "id": "ecf71e29",
   "metadata": {},
   "source": [
    "## Plot the Correlation Heatmap"
   ]
  },
  {
   "cell_type": "code",
   "execution_count": 6406,
   "id": "d9f24cdb",
   "metadata": {},
   "outputs": [
    {
     "data": {
      "image/png": "[encoded data removed]",
      "text/plain": [
       "<Figure size 648x504 with 2 Axes>"
      ]
     },
     "metadata": {},
     "output_type": "display_data"
    }
   ],
   "source": [
    "re_num = re_df[['sqft_living','sqft_living15','sqft_lot15','sqft_basement','price']]\n",
    "\n",
    "corr = re_num.corr()\n",
    "mask = np.zeros_like(corr)\n",
    "mask[np.triu_indices_from(mask)] = True\n",
    "with sns.axes_style(\"white\"):\n",
    "    f, ax = plt.subplots(figsize=(9, 7))\n",
    "    ax = sns.heatmap(corr, mask=mask,cmap='coolwarm', vmin=-1,vmax=1,annot=True, square=True)"
   ]
  },
  {
   "cell_type": "markdown",
   "id": "7b55966f",
   "metadata": {},
   "source": [
    "## Split Data into groups"
   ]
  },
  {
   "cell_type": "code",
   "execution_count": 6407,
   "id": "b3610398",
   "metadata": {},
   "outputs": [],
   "source": [
    "expensive_zipcodes= [98199, 98119, 98109, 98102, 98105, 98112, 98033, 98039, 98004, 98005, 98040, 98006, 98075]\n",
    "expensive_areas = re_df[re_df['zipcode'].isin(expensive_zipcodes)]"
   ]
  },
  {
   "cell_type": "code",
   "execution_count": 6408,
   "id": "e77b43b3",
   "metadata": {},
   "outputs": [],
   "source": [
    "affordable_areas = re_df[~re_df['zipcode'].isin(expensive_zipcodes)]"
   ]
  },
  {
   "cell_type": "markdown",
   "id": "5938960b",
   "metadata": {},
   "source": [
    "## X Y split"
   ]
  },
  {
   "cell_type": "code",
   "execution_count": 6409,
   "id": "22079693",
   "metadata": {},
   "outputs": [],
   "source": [
    "X=re_df.drop(\"price\", axis=1)\n",
    "y=re_df[\"price\"]"
   ]
  },
  {
   "cell_type": "markdown",
   "id": "6e9a3efc",
   "metadata": {},
   "source": [
    "## Data Splitting"
   ]
  },
  {
   "cell_type": "code",
   "execution_count": 6410,
   "id": "a3051d93",
   "metadata": {},
   "outputs": [],
   "source": [
    "X_train, X_test, y_train, y_test=train_test_split(X, y, test_size=.30,random_state=123)"
   ]
  },
  {
   "cell_type": "code",
   "execution_count": 6411,
   "id": "d6ac16e8",
   "metadata": {},
   "outputs": [],
   "source": [
    "y_train = y_train.reset_index(drop=True)\n",
    "y_test = y_test.reset_index(drop=True)"
   ]
  },
  {
   "cell_type": "markdown",
   "id": "489db419",
   "metadata": {},
   "source": [
    "## Data Transformation"
   ]
  },
  {
   "cell_type": "markdown",
   "id": "a03c2827",
   "metadata": {},
   "source": [
    "### Hot coding Categorical Variables"
   ]
  },
  {
   "cell_type": "code",
   "execution_count": 6412,
   "id": "54cf7869",
   "metadata": {},
   "outputs": [
    {
     "data": {
      "text/html": [
       "<div>\n",
       "<style scoped>\n",
       "    .dataframe tbody tr th:only-of-type {\n",
       "        vertical-align: middle;\n",
       "    }\n",
       "\n",
       "    .dataframe tbody tr th {\n",
       "        vertical-align: top;\n",
       "    }\n",
       "\n",
       "    .dataframe thead th {\n",
       "        text-align: right;\n",
       "    }\n",
       "</style>\n",
       "<table border=\"1\" class=\"dataframe\">\n",
       "  <thead>\n",
       "    <tr style=\"text-align: right;\">\n",
       "      <th></th>\n",
       "      <th>date</th>\n",
       "      <th>bedrooms</th>\n",
       "      <th>bathrooms</th>\n",
       "      <th>view</th>\n",
       "      <th>floors</th>\n",
       "      <th>waterfront</th>\n",
       "      <th>condition</th>\n",
       "      <th>grade</th>\n",
       "      <th>yr_built</th>\n",
       "      <th>zipcode</th>\n",
       "      <th>lat</th>\n",
       "      <th>long</th>\n",
       "      <th>area</th>\n",
       "    </tr>\n",
       "  </thead>\n",
       "  <tbody>\n",
       "    <tr>\n",
       "      <th>19459</th>\n",
       "      <td>07/2014</td>\n",
       "      <td>5</td>\n",
       "      <td>1.75</td>\n",
       "      <td>0</td>\n",
       "      <td>1.0</td>\n",
       "      <td>no</td>\n",
       "      <td>3</td>\n",
       "      <td>7</td>\n",
       "      <td>1966</td>\n",
       "      <td>98034</td>\n",
       "      <td>47.7203</td>\n",
       "      <td>-122.229</td>\n",
       "      <td>medium priced area</td>\n",
       "    </tr>\n",
       "    <tr>\n",
       "      <th>7292</th>\n",
       "      <td>06/2014</td>\n",
       "      <td>3</td>\n",
       "      <td>1.00</td>\n",
       "      <td>0</td>\n",
       "      <td>1.5</td>\n",
       "      <td>no</td>\n",
       "      <td>3</td>\n",
       "      <td>7</td>\n",
       "      <td>1901</td>\n",
       "      <td>98117</td>\n",
       "      <td>47.6865</td>\n",
       "      <td>-122.397</td>\n",
       "      <td>medium priced area</td>\n",
       "    </tr>\n",
       "    <tr>\n",
       "      <th>21143</th>\n",
       "      <td>04/2015</td>\n",
       "      <td>3</td>\n",
       "      <td>2.50</td>\n",
       "      <td>0</td>\n",
       "      <td>2.0</td>\n",
       "      <td>no</td>\n",
       "      <td>3</td>\n",
       "      <td>7</td>\n",
       "      <td>2008</td>\n",
       "      <td>98126</td>\n",
       "      <td>47.5730</td>\n",
       "      <td>-122.372</td>\n",
       "      <td>affordable area</td>\n",
       "    </tr>\n",
       "    <tr>\n",
       "      <th>4224</th>\n",
       "      <td>11/2014</td>\n",
       "      <td>2</td>\n",
       "      <td>2.50</td>\n",
       "      <td>0</td>\n",
       "      <td>2.0</td>\n",
       "      <td>no</td>\n",
       "      <td>3</td>\n",
       "      <td>8</td>\n",
       "      <td>1994</td>\n",
       "      <td>98199</td>\n",
       "      <td>47.6375</td>\n",
       "      <td>-122.387</td>\n",
       "      <td>expensive area</td>\n",
       "    </tr>\n",
       "    <tr>\n",
       "      <th>5067</th>\n",
       "      <td>07/2014</td>\n",
       "      <td>3</td>\n",
       "      <td>2.50</td>\n",
       "      <td>0</td>\n",
       "      <td>1.0</td>\n",
       "      <td>no</td>\n",
       "      <td>3</td>\n",
       "      <td>8</td>\n",
       "      <td>1953</td>\n",
       "      <td>98136</td>\n",
       "      <td>47.5245</td>\n",
       "      <td>-122.384</td>\n",
       "      <td>medium priced area</td>\n",
       "    </tr>\n",
       "    <tr>\n",
       "      <th>...</th>\n",
       "      <td>...</td>\n",
       "      <td>...</td>\n",
       "      <td>...</td>\n",
       "      <td>...</td>\n",
       "      <td>...</td>\n",
       "      <td>...</td>\n",
       "      <td>...</td>\n",
       "      <td>...</td>\n",
       "      <td>...</td>\n",
       "      <td>...</td>\n",
       "      <td>...</td>\n",
       "      <td>...</td>\n",
       "      <td>...</td>\n",
       "    </tr>\n",
       "    <tr>\n",
       "      <th>1658</th>\n",
       "      <td>12/2014</td>\n",
       "      <td>8</td>\n",
       "      <td>5.00</td>\n",
       "      <td>0</td>\n",
       "      <td>2.0</td>\n",
       "      <td>no</td>\n",
       "      <td>3</td>\n",
       "      <td>8</td>\n",
       "      <td>1997</td>\n",
       "      <td>98122</td>\n",
       "      <td>47.6086</td>\n",
       "      <td>-122.303</td>\n",
       "      <td>medium priced area</td>\n",
       "    </tr>\n",
       "    <tr>\n",
       "      <th>18441</th>\n",
       "      <td>09/2014</td>\n",
       "      <td>3</td>\n",
       "      <td>1.50</td>\n",
       "      <td>0</td>\n",
       "      <td>1.0</td>\n",
       "      <td>no</td>\n",
       "      <td>5</td>\n",
       "      <td>7</td>\n",
       "      <td>1957</td>\n",
       "      <td>98022</td>\n",
       "      <td>47.2012</td>\n",
       "      <td>-122.000</td>\n",
       "      <td>affordable area</td>\n",
       "    </tr>\n",
       "    <tr>\n",
       "      <th>5714</th>\n",
       "      <td>09/2014</td>\n",
       "      <td>3</td>\n",
       "      <td>3.00</td>\n",
       "      <td>0</td>\n",
       "      <td>1.0</td>\n",
       "      <td>no</td>\n",
       "      <td>4</td>\n",
       "      <td>10</td>\n",
       "      <td>1979</td>\n",
       "      <td>98092</td>\n",
       "      <td>47.3080</td>\n",
       "      <td>-122.087</td>\n",
       "      <td>affordable area</td>\n",
       "    </tr>\n",
       "    <tr>\n",
       "      <th>10233</th>\n",
       "      <td>06/2014</td>\n",
       "      <td>3</td>\n",
       "      <td>1.50</td>\n",
       "      <td>2</td>\n",
       "      <td>2.0</td>\n",
       "      <td>no</td>\n",
       "      <td>5</td>\n",
       "      <td>8</td>\n",
       "      <td>1913</td>\n",
       "      <td>98109</td>\n",
       "      <td>47.6333</td>\n",
       "      <td>-122.347</td>\n",
       "      <td>expensive area</td>\n",
       "    </tr>\n",
       "    <tr>\n",
       "      <th>5862</th>\n",
       "      <td>02/2015</td>\n",
       "      <td>3</td>\n",
       "      <td>2.50</td>\n",
       "      <td>2</td>\n",
       "      <td>1.0</td>\n",
       "      <td>no</td>\n",
       "      <td>4</td>\n",
       "      <td>9</td>\n",
       "      <td>1989</td>\n",
       "      <td>98023</td>\n",
       "      <td>47.3384</td>\n",
       "      <td>-122.340</td>\n",
       "      <td>affordable area</td>\n",
       "    </tr>\n",
       "  </tbody>\n",
       "</table>\n",
       "<p>6474 rows × 13 columns</p>\n",
       "</div>"
      ],
      "text/plain": [
       "          date  bedrooms  bathrooms  view  floors waterfront  condition  \\\n",
       "19459  07/2014         5       1.75     0     1.0         no          3   \n",
       "7292   06/2014         3       1.00     0     1.5         no          3   \n",
       "21143  04/2015         3       2.50     0     2.0         no          3   \n",
       "4224   11/2014         2       2.50     0     2.0         no          3   \n",
       "5067   07/2014         3       2.50     0     1.0         no          3   \n",
       "...        ...       ...        ...   ...     ...        ...        ...   \n",
       "1658   12/2014         8       5.00     0     2.0         no          3   \n",
       "18441  09/2014         3       1.50     0     1.0         no          5   \n",
       "5714   09/2014         3       3.00     0     1.0         no          4   \n",
       "10233  06/2014         3       1.50     2     2.0         no          5   \n",
       "5862   02/2015         3       2.50     2     1.0         no          4   \n",
       "\n",
       "       grade  yr_built  zipcode      lat     long                area  \n",
       "19459      7      1966    98034  47.7203 -122.229  medium priced area  \n",
       "7292       7      1901    98117  47.6865 -122.397  medium priced area  \n",
       "21143      7      2008    98126  47.5730 -122.372     affordable area  \n",
       "4224       8      1994    98199  47.6375 -122.387      expensive area  \n",
       "5067       8      1953    98136  47.5245 -122.384  medium priced area  \n",
       "...      ...       ...      ...      ...      ...                 ...  \n",
       "1658       8      1997    98122  47.6086 -122.303  medium priced area  \n",
       "18441      7      1957    98022  47.2012 -122.000     affordable area  \n",
       "5714      10      1979    98092  47.3080 -122.087     affordable area  \n",
       "10233      8      1913    98109  47.6333 -122.347      expensive area  \n",
       "5862       9      1989    98023  47.3384 -122.340     affordable area  \n",
       "\n",
       "[6474 rows x 13 columns]"
      ]
     },
     "execution_count": 6412,
     "metadata": {},
     "output_type": "execute_result"
    }
   ],
   "source": [
    "X_train_cat=X_train[['date','bedrooms','bathrooms','view','floors','waterfront','condition','grade','yr_built','zipcode','lat','long','area']]\n",
    "X_train_cat\n",
    "\n",
    "X_test_cat=X_test[['date','bedrooms','bathrooms','view','floors','waterfront','condition','grade','yr_built','zipcode','lat','long','area']]\n",
    "X_test_cat"
   ]
  },
  {
   "cell_type": "code",
   "execution_count": 6413,
   "id": "cf5e573d",
   "metadata": {},
   "outputs": [
    {
     "data": {
      "text/html": [
       "<div>\n",
       "<style scoped>\n",
       "    .dataframe tbody tr th:only-of-type {\n",
       "        vertical-align: middle;\n",
       "    }\n",
       "\n",
       "    .dataframe tbody tr th {\n",
       "        vertical-align: top;\n",
       "    }\n",
       "\n",
       "    .dataframe thead th {\n",
       "        text-align: right;\n",
       "    }\n",
       "</style>\n",
       "<table border=\"1\" class=\"dataframe\">\n",
       "  <thead>\n",
       "    <tr style=\"text-align: right;\">\n",
       "      <th></th>\n",
       "      <th>bedrooms_2</th>\n",
       "      <th>bedrooms_3</th>\n",
       "      <th>bedrooms_4</th>\n",
       "      <th>bedrooms_5</th>\n",
       "      <th>bedrooms_6</th>\n",
       "      <th>bedrooms_7</th>\n",
       "      <th>bedrooms_8</th>\n",
       "      <th>bedrooms_9</th>\n",
       "      <th>bedrooms_10</th>\n",
       "      <th>bathrooms_0.75</th>\n",
       "      <th>...</th>\n",
       "      <th>date_08/2014_1</th>\n",
       "      <th>date_09/2014_1</th>\n",
       "      <th>date_10/2014_1</th>\n",
       "      <th>date_11/2014_1</th>\n",
       "      <th>date_12/2014_1</th>\n",
       "      <th>waterfront_yes_1</th>\n",
       "      <th>area_expensive area_1</th>\n",
       "      <th>area_medium priced area_1</th>\n",
       "      <th>area_very expensive area_1</th>\n",
       "      <th>area_very_affordable area_1</th>\n",
       "    </tr>\n",
       "  </thead>\n",
       "  <tbody>\n",
       "    <tr>\n",
       "      <th>0</th>\n",
       "      <td>0.0</td>\n",
       "      <td>0.0</td>\n",
       "      <td>0.0</td>\n",
       "      <td>1.0</td>\n",
       "      <td>0.0</td>\n",
       "      <td>0.0</td>\n",
       "      <td>0.0</td>\n",
       "      <td>0.0</td>\n",
       "      <td>0.0</td>\n",
       "      <td>0.0</td>\n",
       "      <td>...</td>\n",
       "      <td>0.0</td>\n",
       "      <td>0.0</td>\n",
       "      <td>0.0</td>\n",
       "      <td>0.0</td>\n",
       "      <td>0.0</td>\n",
       "      <td>0.0</td>\n",
       "      <td>0.0</td>\n",
       "      <td>1.0</td>\n",
       "      <td>0.0</td>\n",
       "      <td>0.0</td>\n",
       "    </tr>\n",
       "    <tr>\n",
       "      <th>1</th>\n",
       "      <td>0.0</td>\n",
       "      <td>1.0</td>\n",
       "      <td>0.0</td>\n",
       "      <td>0.0</td>\n",
       "      <td>0.0</td>\n",
       "      <td>0.0</td>\n",
       "      <td>0.0</td>\n",
       "      <td>0.0</td>\n",
       "      <td>0.0</td>\n",
       "      <td>0.0</td>\n",
       "      <td>...</td>\n",
       "      <td>0.0</td>\n",
       "      <td>0.0</td>\n",
       "      <td>0.0</td>\n",
       "      <td>0.0</td>\n",
       "      <td>0.0</td>\n",
       "      <td>0.0</td>\n",
       "      <td>0.0</td>\n",
       "      <td>1.0</td>\n",
       "      <td>0.0</td>\n",
       "      <td>0.0</td>\n",
       "    </tr>\n",
       "    <tr>\n",
       "      <th>2</th>\n",
       "      <td>0.0</td>\n",
       "      <td>1.0</td>\n",
       "      <td>0.0</td>\n",
       "      <td>0.0</td>\n",
       "      <td>0.0</td>\n",
       "      <td>0.0</td>\n",
       "      <td>0.0</td>\n",
       "      <td>0.0</td>\n",
       "      <td>0.0</td>\n",
       "      <td>0.0</td>\n",
       "      <td>...</td>\n",
       "      <td>0.0</td>\n",
       "      <td>0.0</td>\n",
       "      <td>0.0</td>\n",
       "      <td>0.0</td>\n",
       "      <td>0.0</td>\n",
       "      <td>0.0</td>\n",
       "      <td>0.0</td>\n",
       "      <td>0.0</td>\n",
       "      <td>0.0</td>\n",
       "      <td>0.0</td>\n",
       "    </tr>\n",
       "    <tr>\n",
       "      <th>3</th>\n",
       "      <td>1.0</td>\n",
       "      <td>0.0</td>\n",
       "      <td>0.0</td>\n",
       "      <td>0.0</td>\n",
       "      <td>0.0</td>\n",
       "      <td>0.0</td>\n",
       "      <td>0.0</td>\n",
       "      <td>0.0</td>\n",
       "      <td>0.0</td>\n",
       "      <td>0.0</td>\n",
       "      <td>...</td>\n",
       "      <td>0.0</td>\n",
       "      <td>0.0</td>\n",
       "      <td>0.0</td>\n",
       "      <td>1.0</td>\n",
       "      <td>0.0</td>\n",
       "      <td>0.0</td>\n",
       "      <td>1.0</td>\n",
       "      <td>0.0</td>\n",
       "      <td>0.0</td>\n",
       "      <td>0.0</td>\n",
       "    </tr>\n",
       "    <tr>\n",
       "      <th>4</th>\n",
       "      <td>0.0</td>\n",
       "      <td>1.0</td>\n",
       "      <td>0.0</td>\n",
       "      <td>0.0</td>\n",
       "      <td>0.0</td>\n",
       "      <td>0.0</td>\n",
       "      <td>0.0</td>\n",
       "      <td>0.0</td>\n",
       "      <td>0.0</td>\n",
       "      <td>0.0</td>\n",
       "      <td>...</td>\n",
       "      <td>0.0</td>\n",
       "      <td>0.0</td>\n",
       "      <td>0.0</td>\n",
       "      <td>0.0</td>\n",
       "      <td>0.0</td>\n",
       "      <td>0.0</td>\n",
       "      <td>0.0</td>\n",
       "      <td>1.0</td>\n",
       "      <td>0.0</td>\n",
       "      <td>0.0</td>\n",
       "    </tr>\n",
       "    <tr>\n",
       "      <th>...</th>\n",
       "      <td>...</td>\n",
       "      <td>...</td>\n",
       "      <td>...</td>\n",
       "      <td>...</td>\n",
       "      <td>...</td>\n",
       "      <td>...</td>\n",
       "      <td>...</td>\n",
       "      <td>...</td>\n",
       "      <td>...</td>\n",
       "      <td>...</td>\n",
       "      <td>...</td>\n",
       "      <td>...</td>\n",
       "      <td>...</td>\n",
       "      <td>...</td>\n",
       "      <td>...</td>\n",
       "      <td>...</td>\n",
       "      <td>...</td>\n",
       "      <td>...</td>\n",
       "      <td>...</td>\n",
       "      <td>...</td>\n",
       "      <td>...</td>\n",
       "    </tr>\n",
       "    <tr>\n",
       "      <th>6469</th>\n",
       "      <td>0.0</td>\n",
       "      <td>0.0</td>\n",
       "      <td>0.0</td>\n",
       "      <td>0.0</td>\n",
       "      <td>0.0</td>\n",
       "      <td>0.0</td>\n",
       "      <td>1.0</td>\n",
       "      <td>0.0</td>\n",
       "      <td>0.0</td>\n",
       "      <td>0.0</td>\n",
       "      <td>...</td>\n",
       "      <td>0.0</td>\n",
       "      <td>0.0</td>\n",
       "      <td>0.0</td>\n",
       "      <td>0.0</td>\n",
       "      <td>1.0</td>\n",
       "      <td>0.0</td>\n",
       "      <td>0.0</td>\n",
       "      <td>1.0</td>\n",
       "      <td>0.0</td>\n",
       "      <td>0.0</td>\n",
       "    </tr>\n",
       "    <tr>\n",
       "      <th>6470</th>\n",
       "      <td>0.0</td>\n",
       "      <td>1.0</td>\n",
       "      <td>0.0</td>\n",
       "      <td>0.0</td>\n",
       "      <td>0.0</td>\n",
       "      <td>0.0</td>\n",
       "      <td>0.0</td>\n",
       "      <td>0.0</td>\n",
       "      <td>0.0</td>\n",
       "      <td>0.0</td>\n",
       "      <td>...</td>\n",
       "      <td>0.0</td>\n",
       "      <td>1.0</td>\n",
       "      <td>0.0</td>\n",
       "      <td>0.0</td>\n",
       "      <td>0.0</td>\n",
       "      <td>0.0</td>\n",
       "      <td>0.0</td>\n",
       "      <td>0.0</td>\n",
       "      <td>0.0</td>\n",
       "      <td>0.0</td>\n",
       "    </tr>\n",
       "    <tr>\n",
       "      <th>6471</th>\n",
       "      <td>0.0</td>\n",
       "      <td>1.0</td>\n",
       "      <td>0.0</td>\n",
       "      <td>0.0</td>\n",
       "      <td>0.0</td>\n",
       "      <td>0.0</td>\n",
       "      <td>0.0</td>\n",
       "      <td>0.0</td>\n",
       "      <td>0.0</td>\n",
       "      <td>0.0</td>\n",
       "      <td>...</td>\n",
       "      <td>0.0</td>\n",
       "      <td>1.0</td>\n",
       "      <td>0.0</td>\n",
       "      <td>0.0</td>\n",
       "      <td>0.0</td>\n",
       "      <td>0.0</td>\n",
       "      <td>0.0</td>\n",
       "      <td>0.0</td>\n",
       "      <td>0.0</td>\n",
       "      <td>0.0</td>\n",
       "    </tr>\n",
       "    <tr>\n",
       "      <th>6472</th>\n",
       "      <td>0.0</td>\n",
       "      <td>1.0</td>\n",
       "      <td>0.0</td>\n",
       "      <td>0.0</td>\n",
       "      <td>0.0</td>\n",
       "      <td>0.0</td>\n",
       "      <td>0.0</td>\n",
       "      <td>0.0</td>\n",
       "      <td>0.0</td>\n",
       "      <td>0.0</td>\n",
       "      <td>...</td>\n",
       "      <td>0.0</td>\n",
       "      <td>0.0</td>\n",
       "      <td>0.0</td>\n",
       "      <td>0.0</td>\n",
       "      <td>0.0</td>\n",
       "      <td>0.0</td>\n",
       "      <td>1.0</td>\n",
       "      <td>0.0</td>\n",
       "      <td>0.0</td>\n",
       "      <td>0.0</td>\n",
       "    </tr>\n",
       "    <tr>\n",
       "      <th>6473</th>\n",
       "      <td>0.0</td>\n",
       "      <td>1.0</td>\n",
       "      <td>0.0</td>\n",
       "      <td>0.0</td>\n",
       "      <td>0.0</td>\n",
       "      <td>0.0</td>\n",
       "      <td>0.0</td>\n",
       "      <td>0.0</td>\n",
       "      <td>0.0</td>\n",
       "      <td>0.0</td>\n",
       "      <td>...</td>\n",
       "      <td>0.0</td>\n",
       "      <td>0.0</td>\n",
       "      <td>0.0</td>\n",
       "      <td>0.0</td>\n",
       "      <td>0.0</td>\n",
       "      <td>0.0</td>\n",
       "      <td>0.0</td>\n",
       "      <td>0.0</td>\n",
       "      <td>0.0</td>\n",
       "      <td>0.0</td>\n",
       "    </tr>\n",
       "  </tbody>\n",
       "</table>\n",
       "<p>6474 rows × 4372 columns</p>\n",
       "</div>"
      ],
      "text/plain": [
       "      bedrooms_2  bedrooms_3  bedrooms_4  bedrooms_5  bedrooms_6  bedrooms_7  \\\n",
       "0            0.0         0.0         0.0         1.0         0.0         0.0   \n",
       "1            0.0         1.0         0.0         0.0         0.0         0.0   \n",
       "2            0.0         1.0         0.0         0.0         0.0         0.0   \n",
       "3            1.0         0.0         0.0         0.0         0.0         0.0   \n",
       "4            0.0         1.0         0.0         0.0         0.0         0.0   \n",
       "...          ...         ...         ...         ...         ...         ...   \n",
       "6469         0.0         0.0         0.0         0.0         0.0         0.0   \n",
       "6470         0.0         1.0         0.0         0.0         0.0         0.0   \n",
       "6471         0.0         1.0         0.0         0.0         0.0         0.0   \n",
       "6472         0.0         1.0         0.0         0.0         0.0         0.0   \n",
       "6473         0.0         1.0         0.0         0.0         0.0         0.0   \n",
       "\n",
       "      bedrooms_8  bedrooms_9  bedrooms_10  bathrooms_0.75  ...  \\\n",
       "0            0.0         0.0          0.0             0.0  ...   \n",
       "1            0.0         0.0          0.0             0.0  ...   \n",
       "2            0.0         0.0          0.0             0.0  ...   \n",
       "3            0.0         0.0          0.0             0.0  ...   \n",
       "4            0.0         0.0          0.0             0.0  ...   \n",
       "...          ...         ...          ...             ...  ...   \n",
       "6469         1.0         0.0          0.0             0.0  ...   \n",
       "6470         0.0         0.0          0.0             0.0  ...   \n",
       "6471         0.0         0.0          0.0             0.0  ...   \n",
       "6472         0.0         0.0          0.0             0.0  ...   \n",
       "6473         0.0         0.0          0.0             0.0  ...   \n",
       "\n",
       "      date_08/2014_1  date_09/2014_1  date_10/2014_1  date_11/2014_1  \\\n",
       "0                0.0             0.0             0.0             0.0   \n",
       "1                0.0             0.0             0.0             0.0   \n",
       "2                0.0             0.0             0.0             0.0   \n",
       "3                0.0             0.0             0.0             1.0   \n",
       "4                0.0             0.0             0.0             0.0   \n",
       "...              ...             ...             ...             ...   \n",
       "6469             0.0             0.0             0.0             0.0   \n",
       "6470             0.0             1.0             0.0             0.0   \n",
       "6471             0.0             1.0             0.0             0.0   \n",
       "6472             0.0             0.0             0.0             0.0   \n",
       "6473             0.0             0.0             0.0             0.0   \n",
       "\n",
       "      date_12/2014_1  waterfront_yes_1  area_expensive area_1  \\\n",
       "0                0.0               0.0                    0.0   \n",
       "1                0.0               0.0                    0.0   \n",
       "2                0.0               0.0                    0.0   \n",
       "3                0.0               0.0                    1.0   \n",
       "4                0.0               0.0                    0.0   \n",
       "...              ...               ...                    ...   \n",
       "6469             1.0               0.0                    0.0   \n",
       "6470             0.0               0.0                    0.0   \n",
       "6471             0.0               0.0                    0.0   \n",
       "6472             0.0               0.0                    1.0   \n",
       "6473             0.0               0.0                    0.0   \n",
       "\n",
       "      area_medium priced area_1  area_very expensive area_1  \\\n",
       "0                           1.0                         0.0   \n",
       "1                           1.0                         0.0   \n",
       "2                           0.0                         0.0   \n",
       "3                           0.0                         0.0   \n",
       "4                           1.0                         0.0   \n",
       "...                         ...                         ...   \n",
       "6469                        1.0                         0.0   \n",
       "6470                        0.0                         0.0   \n",
       "6471                        0.0                         0.0   \n",
       "6472                        0.0                         0.0   \n",
       "6473                        0.0                         0.0   \n",
       "\n",
       "      area_very_affordable area_1  \n",
       "0                             0.0  \n",
       "1                             0.0  \n",
       "2                             0.0  \n",
       "3                             0.0  \n",
       "4                             0.0  \n",
       "...                           ...  \n",
       "6469                          0.0  \n",
       "6470                          0.0  \n",
       "6471                          0.0  \n",
       "6472                          0.0  \n",
       "6473                          0.0  \n",
       "\n",
       "[6474 rows x 4372 columns]"
      ]
     },
     "execution_count": 6413,
     "metadata": {},
     "output_type": "execute_result"
    }
   ],
   "source": [
    "X_train_cat=pd.get_dummies(X_train_cat, drop_first=True)\n",
    "pd.DataFrame(OneHotEncoder(drop='first').fit_transform(X_train_cat).toarray(),\n",
    "columns=OneHotEncoder(drop='first').fit(X_train_cat).get_feature_names(input_features=X_train_cat.columns))\n",
    "\n",
    "X_test_cat=pd.get_dummies(X_test_cat, drop_first=True)\n",
    "pd.DataFrame(OneHotEncoder(drop='first').fit_transform(X_test_cat).toarray(),\n",
    "columns=OneHotEncoder(drop='first').fit(X_test_cat).get_feature_names(input_features=X_test_cat.columns))"
   ]
  },
  {
   "cell_type": "code",
   "execution_count": 6414,
   "id": "707f5adf",
   "metadata": {},
   "outputs": [],
   "source": [
    "X_train_cat = X_train_cat.reset_index(drop=True)\n",
    "X_test_cat = X_test_cat.reset_index(drop=True)"
   ]
  },
  {
   "cell_type": "markdown",
   "id": "7006b949",
   "metadata": {},
   "source": [
    "### Standardize numerical"
   ]
  },
  {
   "cell_type": "code",
   "execution_count": 6415,
   "id": "cf03f651",
   "metadata": {},
   "outputs": [
    {
     "data": {
      "text/html": [
       "<div>\n",
       "<style scoped>\n",
       "    .dataframe tbody tr th:only-of-type {\n",
       "        vertical-align: middle;\n",
       "    }\n",
       "\n",
       "    .dataframe tbody tr th {\n",
       "        vertical-align: top;\n",
       "    }\n",
       "\n",
       "    .dataframe thead th {\n",
       "        text-align: right;\n",
       "    }\n",
       "</style>\n",
       "<table border=\"1\" class=\"dataframe\">\n",
       "  <thead>\n",
       "    <tr style=\"text-align: right;\">\n",
       "      <th></th>\n",
       "      <th>sqft_living</th>\n",
       "      <th>sqft_living15</th>\n",
       "      <th>sqft_lot15</th>\n",
       "      <th>sqft_basement</th>\n",
       "    </tr>\n",
       "  </thead>\n",
       "  <tbody>\n",
       "    <tr>\n",
       "      <th>19459</th>\n",
       "      <td>1360</td>\n",
       "      <td>1490</td>\n",
       "      <td>9935</td>\n",
       "      <td>300</td>\n",
       "    </tr>\n",
       "    <tr>\n",
       "      <th>7292</th>\n",
       "      <td>1210</td>\n",
       "      <td>1450</td>\n",
       "      <td>5264</td>\n",
       "      <td>0</td>\n",
       "    </tr>\n",
       "    <tr>\n",
       "      <th>21143</th>\n",
       "      <td>2040</td>\n",
       "      <td>1410</td>\n",
       "      <td>2500</td>\n",
       "      <td>570</td>\n",
       "    </tr>\n",
       "    <tr>\n",
       "      <th>4224</th>\n",
       "      <td>1590</td>\n",
       "      <td>1880</td>\n",
       "      <td>3675</td>\n",
       "      <td>290</td>\n",
       "    </tr>\n",
       "    <tr>\n",
       "      <th>5067</th>\n",
       "      <td>2060</td>\n",
       "      <td>1990</td>\n",
       "      <td>7560</td>\n",
       "      <td>900</td>\n",
       "    </tr>\n",
       "    <tr>\n",
       "      <th>...</th>\n",
       "      <td>...</td>\n",
       "      <td>...</td>\n",
       "      <td>...</td>\n",
       "      <td>...</td>\n",
       "    </tr>\n",
       "    <tr>\n",
       "      <th>1658</th>\n",
       "      <td>2800</td>\n",
       "      <td>1800</td>\n",
       "      <td>2580</td>\n",
       "      <td>920</td>\n",
       "    </tr>\n",
       "    <tr>\n",
       "      <th>18441</th>\n",
       "      <td>1550</td>\n",
       "      <td>1450</td>\n",
       "      <td>9282</td>\n",
       "      <td>0</td>\n",
       "    </tr>\n",
       "    <tr>\n",
       "      <th>5714</th>\n",
       "      <td>3760</td>\n",
       "      <td>2820</td>\n",
       "      <td>50543</td>\n",
       "      <td>1120</td>\n",
       "    </tr>\n",
       "    <tr>\n",
       "      <th>10233</th>\n",
       "      <td>2680</td>\n",
       "      <td>2280</td>\n",
       "      <td>5947</td>\n",
       "      <td>800</td>\n",
       "    </tr>\n",
       "    <tr>\n",
       "      <th>5862</th>\n",
       "      <td>2410</td>\n",
       "      <td>3090</td>\n",
       "      <td>11902</td>\n",
       "      <td>810</td>\n",
       "    </tr>\n",
       "  </tbody>\n",
       "</table>\n",
       "<p>6474 rows × 4 columns</p>\n",
       "</div>"
      ],
      "text/plain": [
       "       sqft_living  sqft_living15  sqft_lot15  sqft_basement\n",
       "19459         1360           1490        9935            300\n",
       "7292          1210           1450        5264              0\n",
       "21143         2040           1410        2500            570\n",
       "4224          1590           1880        3675            290\n",
       "5067          2060           1990        7560            900\n",
       "...            ...            ...         ...            ...\n",
       "1658          2800           1800        2580            920\n",
       "18441         1550           1450        9282              0\n",
       "5714          3760           2820       50543           1120\n",
       "10233         2680           2280        5947            800\n",
       "5862          2410           3090       11902            810\n",
       "\n",
       "[6474 rows x 4 columns]"
      ]
     },
     "execution_count": 6415,
     "metadata": {},
     "output_type": "execute_result"
    }
   ],
   "source": [
    "X_train_num=X_train[['sqft_living','sqft_living15','sqft_lot15','sqft_basement']]\n",
    "X_train_num\n",
    "\n",
    "X_test_num=X_test[['sqft_living','sqft_living15','sqft_lot15','sqft_basement']]\n",
    "X_test_num"
   ]
  },
  {
   "cell_type": "code",
   "execution_count": 6416,
   "id": "107a50d2",
   "metadata": {},
   "outputs": [],
   "source": [
    "std_scaler=StandardScaler().fit(X_train_num)   ## finding the parameters (mean, variance from the training set )\n",
    "\n",
    "X_train_scaled=std_scaler.transform(X_train_num)"
   ]
  },
  {
   "cell_type": "code",
   "execution_count": 6417,
   "id": "8ba3086d",
   "metadata": {},
   "outputs": [],
   "source": [
    "X_test_scaled=std_scaler.transform(X_test_num)"
   ]
  },
  {
   "cell_type": "code",
   "execution_count": 6418,
   "id": "f6d36497",
   "metadata": {},
   "outputs": [
    {
     "name": "stdout",
     "output_type": "stream",
     "text": [
      "[[-0.37619609 -1.25475748 -0.39712138  0.20163432]\n",
      " [-0.6082163  -0.6404919   0.02846981  0.13365339]\n",
      " [-1.32637411 -0.90374858 -0.27290151 -0.65945752]\n",
      " ...\n",
      " [-0.3099046  -0.07010244 -0.19131204  1.17602773]\n",
      " [ 0.22042732 -0.09935319 -0.16047985 -0.65945752]\n",
      " [-0.53087623 -0.55566475 -0.30180891 -0.65945752]]\n",
      "--------\n",
      "[[-0.79604219 -0.72824413 -0.10095411  0.02035183]\n",
      " [-0.96177092 -0.78674561 -0.26744795 -0.65945752]\n",
      " [-0.04473864 -0.84524709 -0.36596839  0.63218025]\n",
      " ...\n",
      " [ 1.85561741  1.21693018  1.34648367  1.87849739]\n",
      " [ 0.66237059  0.42716016 -0.24310299  1.15336742]\n",
      " [ 0.36405888  1.61181519 -0.03084206  1.17602773]]\n"
     ]
    }
   ],
   "source": [
    "print(X_train_scaled)\n",
    "print(\"--------\")\n",
    "print(X_test_scaled)"
   ]
  },
  {
   "cell_type": "code",
   "execution_count": 6419,
   "id": "3a48500d",
   "metadata": {},
   "outputs": [],
   "source": [
    "X_train_scaled = pd.DataFrame(X_train_scaled, columns= X_train_num.columns)\n",
    "X_test_scaled = pd.DataFrame(X_test_scaled, columns= X_test_num.columns)"
   ]
  },
  {
   "cell_type": "code",
   "execution_count": 6420,
   "id": "1255675e",
   "metadata": {},
   "outputs": [],
   "source": [
    "X_train_scaled = X_train_scaled.reset_index(drop=True)\n",
    "X_test_scaled = X_test_scaled.reset_index(drop=True)"
   ]
  },
  {
   "cell_type": "markdown",
   "id": "f56baef0",
   "metadata": {},
   "source": [
    "### Quantile Transformer"
   ]
  },
  {
   "cell_type": "code",
   "execution_count": 6421,
   "id": "aca820aa",
   "metadata": {},
   "outputs": [],
   "source": [
    "qt = QuantileTransformer(output_distribution=\"normal\").fit(X_train_scaled['sqft_living15'].to_numpy().reshape(-1,1))\n",
    "X_train_scaled['sqft_living15'] = qt.transform(X_train_scaled['sqft_living15'].to_numpy().reshape(-1,1))\n",
    "X_test_scaled['sqft_living15'] = qt.transform(X_test_scaled['sqft_living15'].to_numpy().reshape(-1,1))"
   ]
  },
  {
   "cell_type": "code",
   "execution_count": 6422,
   "id": "0493d18f",
   "metadata": {},
   "outputs": [],
   "source": [
    "qt = QuantileTransformer(output_distribution=\"normal\").fit(X_train_scaled['sqft_lot15'].to_numpy().reshape(-1,1))\n",
    "X_train_scaled['sqft_lot15'] = qt.transform(X_train_scaled['sqft_lot15'].to_numpy().reshape(-1,1))\n",
    "X_test_scaled['sqft_lot15'] = qt.transform(X_test_scaled['sqft_lot15'].to_numpy().reshape(-1,1))"
   ]
  },
  {
   "cell_type": "markdown",
   "id": "92dcf07f",
   "metadata": {},
   "source": [
    "pt = PowerTransformer().fit(y_train.to_numpy().reshape(-1,1))\n",
    "y_train = pt.transform(y_train.to_numpy().reshape(-1,1))\n",
    "y_test = pt.transform(y_test.to_numpy().reshape(-1,1))"
   ]
  },
  {
   "cell_type": "markdown",
   "id": "17d03c54",
   "metadata": {},
   "source": [
    "## Concatination "
   ]
  },
  {
   "cell_type": "code",
   "execution_count": 6423,
   "id": "96f435cc",
   "metadata": {},
   "outputs": [],
   "source": [
    "X_train_con=pd.concat([X_train_scaled,X_train_cat],axis=1)\n",
    "X_test_con=pd.concat([X_test_scaled,X_test_cat],axis=1)"
   ]
  },
  {
   "cell_type": "code",
   "execution_count": 6424,
   "id": "4d7cf84b",
   "metadata": {},
   "outputs": [
    {
     "data": {
      "text/html": [
       "<div>\n",
       "<style scoped>\n",
       "    .dataframe tbody tr th:only-of-type {\n",
       "        vertical-align: middle;\n",
       "    }\n",
       "\n",
       "    .dataframe tbody tr th {\n",
       "        vertical-align: top;\n",
       "    }\n",
       "\n",
       "    .dataframe thead th {\n",
       "        text-align: right;\n",
       "    }\n",
       "</style>\n",
       "<table border=\"1\" class=\"dataframe\">\n",
       "  <thead>\n",
       "    <tr style=\"text-align: right;\">\n",
       "      <th></th>\n",
       "      <th>sqft_living</th>\n",
       "      <th>sqft_living15</th>\n",
       "      <th>sqft_lot15</th>\n",
       "      <th>sqft_basement</th>\n",
       "      <th>bedrooms</th>\n",
       "      <th>bathrooms</th>\n",
       "      <th>view</th>\n",
       "      <th>floors</th>\n",
       "      <th>condition</th>\n",
       "      <th>grade</th>\n",
       "      <th>...</th>\n",
       "      <th>date_08/2014</th>\n",
       "      <th>date_09/2014</th>\n",
       "      <th>date_10/2014</th>\n",
       "      <th>date_11/2014</th>\n",
       "      <th>date_12/2014</th>\n",
       "      <th>waterfront_yes</th>\n",
       "      <th>area_expensive area</th>\n",
       "      <th>area_medium priced area</th>\n",
       "      <th>area_very expensive area</th>\n",
       "      <th>area_very_affordable area</th>\n",
       "    </tr>\n",
       "  </thead>\n",
       "  <tbody>\n",
       "    <tr>\n",
       "      <th>0</th>\n",
       "      <td>-0.376196</td>\n",
       "      <td>-1.674186</td>\n",
       "      <td>-1.773922</td>\n",
       "      <td>0.201634</td>\n",
       "      <td>3</td>\n",
       "      <td>3.25</td>\n",
       "      <td>0</td>\n",
       "      <td>2.0</td>\n",
       "      <td>3</td>\n",
       "      <td>8</td>\n",
       "      <td>...</td>\n",
       "      <td>0</td>\n",
       "      <td>0</td>\n",
       "      <td>0</td>\n",
       "      <td>0</td>\n",
       "      <td>0</td>\n",
       "      <td>0</td>\n",
       "      <td>0</td>\n",
       "      <td>1</td>\n",
       "      <td>0</td>\n",
       "      <td>0</td>\n",
       "    </tr>\n",
       "    <tr>\n",
       "      <th>1</th>\n",
       "      <td>-0.608216</td>\n",
       "      <td>-0.530745</td>\n",
       "      <td>1.070745</td>\n",
       "      <td>0.133653</td>\n",
       "      <td>3</td>\n",
       "      <td>1.75</td>\n",
       "      <td>0</td>\n",
       "      <td>1.0</td>\n",
       "      <td>3</td>\n",
       "      <td>7</td>\n",
       "      <td>...</td>\n",
       "      <td>0</td>\n",
       "      <td>0</td>\n",
       "      <td>0</td>\n",
       "      <td>1</td>\n",
       "      <td>0</td>\n",
       "      <td>0</td>\n",
       "      <td>0</td>\n",
       "      <td>1</td>\n",
       "      <td>0</td>\n",
       "      <td>0</td>\n",
       "    </tr>\n",
       "    <tr>\n",
       "      <th>2</th>\n",
       "      <td>-1.326374</td>\n",
       "      <td>-0.959440</td>\n",
       "      <td>-0.660719</td>\n",
       "      <td>-0.659458</td>\n",
       "      <td>2</td>\n",
       "      <td>1.00</td>\n",
       "      <td>0</td>\n",
       "      <td>1.0</td>\n",
       "      <td>3</td>\n",
       "      <td>6</td>\n",
       "      <td>...</td>\n",
       "      <td>0</td>\n",
       "      <td>0</td>\n",
       "      <td>0</td>\n",
       "      <td>0</td>\n",
       "      <td>1</td>\n",
       "      <td>0</td>\n",
       "      <td>0</td>\n",
       "      <td>1</td>\n",
       "      <td>0</td>\n",
       "      <td>0</td>\n",
       "    </tr>\n",
       "    <tr>\n",
       "      <th>3</th>\n",
       "      <td>-0.652411</td>\n",
       "      <td>-0.840906</td>\n",
       "      <td>-0.101796</td>\n",
       "      <td>0.246955</td>\n",
       "      <td>3</td>\n",
       "      <td>1.50</td>\n",
       "      <td>0</td>\n",
       "      <td>1.0</td>\n",
       "      <td>3</td>\n",
       "      <td>7</td>\n",
       "      <td>...</td>\n",
       "      <td>0</td>\n",
       "      <td>0</td>\n",
       "      <td>0</td>\n",
       "      <td>0</td>\n",
       "      <td>1</td>\n",
       "      <td>0</td>\n",
       "      <td>0</td>\n",
       "      <td>1</td>\n",
       "      <td>0</td>\n",
       "      <td>0</td>\n",
       "    </tr>\n",
       "    <tr>\n",
       "      <th>4</th>\n",
       "      <td>-0.884431</td>\n",
       "      <td>-0.364191</td>\n",
       "      <td>-0.739737</td>\n",
       "      <td>-0.659458</td>\n",
       "      <td>3</td>\n",
       "      <td>1.00</td>\n",
       "      <td>0</td>\n",
       "      <td>1.0</td>\n",
       "      <td>3</td>\n",
       "      <td>6</td>\n",
       "      <td>...</td>\n",
       "      <td>0</td>\n",
       "      <td>0</td>\n",
       "      <td>0</td>\n",
       "      <td>0</td>\n",
       "      <td>1</td>\n",
       "      <td>0</td>\n",
       "      <td>0</td>\n",
       "      <td>1</td>\n",
       "      <td>0</td>\n",
       "      <td>0</td>\n",
       "    </tr>\n",
       "    <tr>\n",
       "      <th>...</th>\n",
       "      <td>...</td>\n",
       "      <td>...</td>\n",
       "      <td>...</td>\n",
       "      <td>...</td>\n",
       "      <td>...</td>\n",
       "      <td>...</td>\n",
       "      <td>...</td>\n",
       "      <td>...</td>\n",
       "      <td>...</td>\n",
       "      <td>...</td>\n",
       "      <td>...</td>\n",
       "      <td>...</td>\n",
       "      <td>...</td>\n",
       "      <td>...</td>\n",
       "      <td>...</td>\n",
       "      <td>...</td>\n",
       "      <td>...</td>\n",
       "      <td>...</td>\n",
       "      <td>...</td>\n",
       "      <td>...</td>\n",
       "      <td>...</td>\n",
       "    </tr>\n",
       "    <tr>\n",
       "      <th>15101</th>\n",
       "      <td>1.192703</td>\n",
       "      <td>2.268169</td>\n",
       "      <td>0.939454</td>\n",
       "      <td>1.606574</td>\n",
       "      <td>3</td>\n",
       "      <td>2.50</td>\n",
       "      <td>3</td>\n",
       "      <td>1.0</td>\n",
       "      <td>3</td>\n",
       "      <td>11</td>\n",
       "      <td>...</td>\n",
       "      <td>0</td>\n",
       "      <td>1</td>\n",
       "      <td>0</td>\n",
       "      <td>0</td>\n",
       "      <td>0</td>\n",
       "      <td>0</td>\n",
       "      <td>1</td>\n",
       "      <td>0</td>\n",
       "      <td>0</td>\n",
       "      <td>0</td>\n",
       "    </tr>\n",
       "    <tr>\n",
       "      <th>15102</th>\n",
       "      <td>1.491014</td>\n",
       "      <td>1.460531</td>\n",
       "      <td>0.366928</td>\n",
       "      <td>-0.659458</td>\n",
       "      <td>4</td>\n",
       "      <td>2.50</td>\n",
       "      <td>0</td>\n",
       "      <td>2.0</td>\n",
       "      <td>3</td>\n",
       "      <td>10</td>\n",
       "      <td>...</td>\n",
       "      <td>0</td>\n",
       "      <td>0</td>\n",
       "      <td>1</td>\n",
       "      <td>0</td>\n",
       "      <td>0</td>\n",
       "      <td>0</td>\n",
       "      <td>0</td>\n",
       "      <td>1</td>\n",
       "      <td>0</td>\n",
       "      <td>0</td>\n",
       "    </tr>\n",
       "    <tr>\n",
       "      <th>15103</th>\n",
       "      <td>-0.309905</td>\n",
       "      <td>0.144780</td>\n",
       "      <td>-0.076604</td>\n",
       "      <td>1.176028</td>\n",
       "      <td>2</td>\n",
       "      <td>1.75</td>\n",
       "      <td>3</td>\n",
       "      <td>1.0</td>\n",
       "      <td>4</td>\n",
       "      <td>7</td>\n",
       "      <td>...</td>\n",
       "      <td>0</td>\n",
       "      <td>0</td>\n",
       "      <td>0</td>\n",
       "      <td>0</td>\n",
       "      <td>0</td>\n",
       "      <td>0</td>\n",
       "      <td>0</td>\n",
       "      <td>0</td>\n",
       "      <td>0</td>\n",
       "      <td>0</td>\n",
       "    </tr>\n",
       "    <tr>\n",
       "      <th>15104</th>\n",
       "      <td>0.220427</td>\n",
       "      <td>0.115678</td>\n",
       "      <td>0.232562</td>\n",
       "      <td>-0.659458</td>\n",
       "      <td>3</td>\n",
       "      <td>2.25</td>\n",
       "      <td>0</td>\n",
       "      <td>2.0</td>\n",
       "      <td>3</td>\n",
       "      <td>8</td>\n",
       "      <td>...</td>\n",
       "      <td>0</td>\n",
       "      <td>1</td>\n",
       "      <td>0</td>\n",
       "      <td>0</td>\n",
       "      <td>0</td>\n",
       "      <td>0</td>\n",
       "      <td>0</td>\n",
       "      <td>0</td>\n",
       "      <td>0</td>\n",
       "      <td>0</td>\n",
       "    </tr>\n",
       "    <tr>\n",
       "      <th>15105</th>\n",
       "      <td>-0.530876</td>\n",
       "      <td>-0.414814</td>\n",
       "      <td>-0.983485</td>\n",
       "      <td>-0.659458</td>\n",
       "      <td>3</td>\n",
       "      <td>2.50</td>\n",
       "      <td>0</td>\n",
       "      <td>2.0</td>\n",
       "      <td>3</td>\n",
       "      <td>8</td>\n",
       "      <td>...</td>\n",
       "      <td>0</td>\n",
       "      <td>0</td>\n",
       "      <td>0</td>\n",
       "      <td>1</td>\n",
       "      <td>0</td>\n",
       "      <td>0</td>\n",
       "      <td>0</td>\n",
       "      <td>0</td>\n",
       "      <td>0</td>\n",
       "      <td>0</td>\n",
       "    </tr>\n",
       "  </tbody>\n",
       "</table>\n",
       "<p>15106 rows × 31 columns</p>\n",
       "</div>"
      ],
      "text/plain": [
       "       sqft_living  sqft_living15  sqft_lot15  sqft_basement  bedrooms  \\\n",
       "0        -0.376196      -1.674186   -1.773922       0.201634         3   \n",
       "1        -0.608216      -0.530745    1.070745       0.133653         3   \n",
       "2        -1.326374      -0.959440   -0.660719      -0.659458         2   \n",
       "3        -0.652411      -0.840906   -0.101796       0.246955         3   \n",
       "4        -0.884431      -0.364191   -0.739737      -0.659458         3   \n",
       "...            ...            ...         ...            ...       ...   \n",
       "15101     1.192703       2.268169    0.939454       1.606574         3   \n",
       "15102     1.491014       1.460531    0.366928      -0.659458         4   \n",
       "15103    -0.309905       0.144780   -0.076604       1.176028         2   \n",
       "15104     0.220427       0.115678    0.232562      -0.659458         3   \n",
       "15105    -0.530876      -0.414814   -0.983485      -0.659458         3   \n",
       "\n",
       "       bathrooms  view  floors  condition  grade  ...  date_08/2014  \\\n",
       "0           3.25     0     2.0          3      8  ...             0   \n",
       "1           1.75     0     1.0          3      7  ...             0   \n",
       "2           1.00     0     1.0          3      6  ...             0   \n",
       "3           1.50     0     1.0          3      7  ...             0   \n",
       "4           1.00     0     1.0          3      6  ...             0   \n",
       "...          ...   ...     ...        ...    ...  ...           ...   \n",
       "15101       2.50     3     1.0          3     11  ...             0   \n",
       "15102       2.50     0     2.0          3     10  ...             0   \n",
       "15103       1.75     3     1.0          4      7  ...             0   \n",
       "15104       2.25     0     2.0          3      8  ...             0   \n",
       "15105       2.50     0     2.0          3      8  ...             0   \n",
       "\n",
       "       date_09/2014  date_10/2014  date_11/2014  date_12/2014  waterfront_yes  \\\n",
       "0                 0             0             0             0               0   \n",
       "1                 0             0             1             0               0   \n",
       "2                 0             0             0             1               0   \n",
       "3                 0             0             0             1               0   \n",
       "4                 0             0             0             1               0   \n",
       "...             ...           ...           ...           ...             ...   \n",
       "15101             1             0             0             0               0   \n",
       "15102             0             1             0             0               0   \n",
       "15103             0             0             0             0               0   \n",
       "15104             1             0             0             0               0   \n",
       "15105             0             0             1             0               0   \n",
       "\n",
       "       area_expensive area  area_medium priced area  area_very expensive area  \\\n",
       "0                        0                        1                         0   \n",
       "1                        0                        1                         0   \n",
       "2                        0                        1                         0   \n",
       "3                        0                        1                         0   \n",
       "4                        0                        1                         0   \n",
       "...                    ...                      ...                       ...   \n",
       "15101                    1                        0                         0   \n",
       "15102                    0                        1                         0   \n",
       "15103                    0                        0                         0   \n",
       "15104                    0                        0                         0   \n",
       "15105                    0                        0                         0   \n",
       "\n",
       "       area_very_affordable area  \n",
       "0                              0  \n",
       "1                              0  \n",
       "2                              0  \n",
       "3                              0  \n",
       "4                              0  \n",
       "...                          ...  \n",
       "15101                          0  \n",
       "15102                          0  \n",
       "15103                          0  \n",
       "15104                          0  \n",
       "15105                          0  \n",
       "\n",
       "[15106 rows x 31 columns]"
      ]
     },
     "execution_count": 6424,
     "metadata": {},
     "output_type": "execute_result"
    }
   ],
   "source": [
    "X_train_con"
   ]
  },
  {
   "cell_type": "markdown",
   "id": "b4fe6b40",
   "metadata": {},
   "source": [
    "##  Apply Linear Regression"
   ]
  },
  {
   "cell_type": "markdown",
   "id": "78f0ec16",
   "metadata": {},
   "source": [
    "### Modelling using Statsmodels"
   ]
  },
  {
   "cell_type": "code",
   "execution_count": 6425,
   "id": "6ef14eb7",
   "metadata": {},
   "outputs": [
    {
     "name": "stdout",
     "output_type": "stream",
     "text": [
      "                            OLS Regression Results                            \n",
      "==============================================================================\n",
      "Dep. Variable:                  price   R-squared:                       0.792\n",
      "Model:                            OLS   Adj. R-squared:                  0.792\n",
      "Method:                 Least Squares   F-statistic:                     1855.\n",
      "Date:                Wed, 09 Feb 2022   Prob (F-statistic):               0.00\n",
      "Time:                        12:06:25   Log-Likelihood:            -2.0240e+05\n",
      "No. Observations:               15106   AIC:                         4.049e+05\n",
      "Df Residuals:                   15074   BIC:                         4.051e+05\n",
      "Df Model:                          31                                         \n",
      "Covariance Type:            nonrobust                                         \n",
      "=============================================================================================\n",
      "                                coef    std err          t      P>|t|      [0.025      0.975]\n",
      "---------------------------------------------------------------------------------------------\n",
      "const                     -2.113e+07   2.89e+06     -7.303      0.000   -2.68e+07   -1.55e+07\n",
      "sqft_living                1.674e+05   3186.777     52.528      0.000    1.61e+05    1.74e+05\n",
      "sqft_living15             -1.081e+04   2133.925     -5.068      0.000    -1.5e+04   -6632.028\n",
      "sqft_lot15                -7632.1488   1806.938     -4.224      0.000   -1.12e+04   -4090.331\n",
      "sqft_basement             -2.678e+04   1859.018    -14.406      0.000   -3.04e+04   -2.31e+04\n",
      "bedrooms                  -2.542e+04   1888.036    -13.463      0.000   -2.91e+04   -2.17e+04\n",
      "bathrooms                  2.988e+04   3088.472      9.673      0.000    2.38e+04    3.59e+04\n",
      "view                       5.923e+04   2003.044     29.570      0.000    5.53e+04    6.32e+04\n",
      "floors                     -1.67e+04   3748.542     -4.454      0.000    -2.4e+04   -9348.060\n",
      "condition                  2.232e+04   2214.516     10.080      0.000     1.8e+04    2.67e+04\n",
      "grade                      7.032e+04   2096.571     33.538      0.000    6.62e+04    7.44e+04\n",
      "yr_built                  -1560.6378     67.116    -23.253      0.000   -1692.193   -1429.083\n",
      "zipcode                     -61.2727     32.405     -1.891      0.059    -124.790       2.245\n",
      "lat                        3.343e+05    1.2e+04     27.755      0.000    3.11e+05    3.58e+05\n",
      "long                      -1.161e+05   1.28e+04     -9.073      0.000   -1.41e+05    -9.1e+04\n",
      "date_02/2015              -5880.7201   8166.748     -0.720      0.471   -2.19e+04    1.01e+04\n",
      "date_03/2015               1.726e+04   7516.581      2.296      0.022    2522.229     3.2e+04\n",
      "date_04/2015               2.631e+04   7303.225      3.603      0.000     1.2e+04    4.06e+04\n",
      "date_05/2014              -1.698e+04   7571.987     -2.243      0.025   -3.18e+04   -2139.878\n",
      "date_05/2015               4.287e+04   9765.210      4.390      0.000    2.37e+04     6.2e+04\n",
      "date_06/2014              -1.378e+04   7353.924     -1.874      0.061   -2.82e+04     632.178\n",
      "date_07/2014              -9502.1353   7340.793     -1.294      0.196   -2.39e+04    4886.711\n",
      "date_08/2014              -1.181e+04   7456.119     -1.584      0.113   -2.64e+04    2808.021\n",
      "date_09/2014              -2.676e+04   7595.981     -3.523      0.000   -4.16e+04   -1.19e+04\n",
      "date_10/2014              -1.503e+04   7518.428     -1.999      0.046   -2.98e+04    -292.961\n",
      "date_11/2014              -9356.2333   7888.523     -1.186      0.236   -2.48e+04    6106.228\n",
      "date_12/2014              -1.821e+04   7830.693     -2.326      0.020   -3.36e+04   -2864.976\n",
      "waterfront_yes             5.903e+05   1.72e+04     34.392      0.000    5.57e+05    6.24e+05\n",
      "area_expensive area        2.206e+05   5033.667     43.818      0.000    2.11e+05     2.3e+05\n",
      "area_medium priced area    1.137e+05   3709.099     30.661      0.000    1.06e+05    1.21e+05\n",
      "area_very expensive area   5.523e+05   7230.252     76.393      0.000    5.38e+05    5.67e+05\n",
      "area_very_affordable area -3945.8591   9250.184     -0.427      0.670   -2.21e+04    1.42e+04\n",
      "==============================================================================\n",
      "Omnibus:                     9019.993   Durbin-Watson:                   2.004\n",
      "Prob(Omnibus):                  0.000   Jarque-Bera (JB):           265105.686\n",
      "Skew:                           2.357   Prob(JB):                         0.00\n",
      "Kurtosis:                      22.974   Cond. No.                     2.19e+08\n",
      "==============================================================================\n",
      "\n",
      "Notes:\n",
      "[1] Standard Errors assume that the covariance matrix of the errors is correctly specified.\n",
      "[2] The condition number is large, 2.19e+08. This might indicate that there are\n",
      "strong multicollinearity or other numerical problems.\n"
     ]
    },
    {
     "name": "stderr",
     "output_type": "stream",
     "text": [
      "/Users/louisarudow/opt/anaconda3/lib/python3.9/site-packages/statsmodels/tsa/tsatools.py:142: FutureWarning: In a future version of pandas all arguments of concat except for the argument 'objs' will be keyword-only\n",
      "  x = pd.concat(x[::order], 1)\n"
     ]
    }
   ],
   "source": [
    "X_train_const_scaled = sm.add_constant(X_train_con) # adding a constant\n",
    "\n",
    "model = sm.OLS(y_train, X_train_const_scaled).fit()\n",
    "predictions_train = model.predict(X_train_const_scaled) \n",
    "\n",
    "X_test_const_scaled = sm.add_constant(X_test_con) # adding a constant\n",
    "predictions_test = model.predict(X_test_const_scaled) \n",
    "print_model = model.summary()\n",
    "print(print_model)"
   ]
  },
  {
   "cell_type": "code",
   "execution_count": 6426,
   "id": "fcb1c09d",
   "metadata": {},
   "outputs": [
    {
     "data": {
      "text/plain": [
       "0       3.776746e+05\n",
       "1       4.990575e+05\n",
       "2       3.808284e+05\n",
       "3       6.237132e+05\n",
       "4       5.763063e+05\n",
       "            ...     \n",
       "6469    5.997902e+05\n",
       "6470    2.049664e+05\n",
       "6471    7.548463e+05\n",
       "6472    1.011623e+06\n",
       "6473    6.103761e+05\n",
       "Length: 6474, dtype: float64"
      ]
     },
     "execution_count": 6426,
     "metadata": {},
     "output_type": "execute_result"
    }
   ],
   "source": [
    "predictions_test"
   ]
  },
  {
   "cell_type": "code",
   "execution_count": 6427,
   "id": "6e0e6767",
   "metadata": {},
   "outputs": [
    {
     "name": "stdout",
     "output_type": "stream",
     "text": [
      "0.7918941596452753\n"
     ]
    }
   ],
   "source": [
    "#display adjusted R-squared\n",
    "print(model.rsquared_adj)"
   ]
  },
  {
   "cell_type": "markdown",
   "id": "844f986e",
   "metadata": {},
   "source": [
    "### Modeling using Scikit Learn"
   ]
  },
  {
   "cell_type": "code",
   "execution_count": 6428,
   "id": "f126289e",
   "metadata": {},
   "outputs": [
    {
     "data": {
      "text/plain": [
       "LinearRegression()"
      ]
     },
     "execution_count": 6428,
     "metadata": {},
     "output_type": "execute_result"
    }
   ],
   "source": [
    "model=LinearRegression()    # model\n",
    "model.fit(X_train_con, y_train)   # model train"
   ]
  },
  {
   "cell_type": "code",
   "execution_count": 6429,
   "id": "78776cce",
   "metadata": {},
   "outputs": [
    {
     "data": {
      "text/plain": [
       "array([ 1.67395210e+05, -1.08147809e+04, -7.63214879e+03, -2.67801475e+04,\n",
       "       -2.54192585e+04,  2.98759703e+04,  5.92290553e+04, -1.66956565e+04,\n",
       "        2.23228973e+04,  7.03154493e+04, -1.56063782e+03, -6.12727090e+01,\n",
       "        3.34280969e+05, -1.16135936e+05, -5.88072008e+03,  1.72556404e+04,\n",
       "        2.63131373e+04, -1.69818910e+04,  4.28699178e+04, -1.37824045e+04,\n",
       "       -9.50213525e+03, -1.18068760e+04, -2.67572596e+04, -1.50299933e+04,\n",
       "       -9.35623330e+03, -1.82140857e+04,  5.90316902e+05,  2.20565981e+05,\n",
       "        1.13724112e+05,  5.52341725e+05, -3.94585914e+03])"
      ]
     },
     "execution_count": 6429,
     "metadata": {},
     "output_type": "execute_result"
    }
   ],
   "source": [
    "model.coef_"
   ]
  },
  {
   "cell_type": "code",
   "execution_count": 6430,
   "id": "1310d0fe",
   "metadata": {},
   "outputs": [
    {
     "data": {
      "text/plain": [
       "-21134921.207639743"
      ]
     },
     "execution_count": 6430,
     "metadata": {},
     "output_type": "execute_result"
    }
   ],
   "source": [
    "model.intercept_"
   ]
  },
  {
   "cell_type": "markdown",
   "id": "4c27d4b4",
   "metadata": {},
   "source": [
    "Making prediction"
   ]
  },
  {
   "cell_type": "code",
   "execution_count": 6431,
   "id": "47431280",
   "metadata": {},
   "outputs": [],
   "source": [
    "y_pred=model.predict(X_test_con)   # model prediction\n",
    "##y_pred_train=model.predict(X_train_scaled)"
   ]
  },
  {
   "cell_type": "code",
   "execution_count": 6432,
   "id": "871a3611",
   "metadata": {},
   "outputs": [
    {
     "data": {
      "text/plain": [
       "0        431200\n",
       "1        285000\n",
       "2        494900\n",
       "3        509500\n",
       "4        731100\n",
       "         ...   \n",
       "6469     490000\n",
       "6470     245000\n",
       "6471     555000\n",
       "6472    1360000\n",
       "6473     490000\n",
       "Name: price, Length: 6474, dtype: int64"
      ]
     },
     "execution_count": 6432,
     "metadata": {},
     "output_type": "execute_result"
    }
   ],
   "source": [
    "y_test"
   ]
  },
  {
   "cell_type": "code",
   "execution_count": 6433,
   "id": "d31d5ce1",
   "metadata": {},
   "outputs": [
    {
     "data": {
      "text/plain": [
       "array([ 377674.55966641,  499057.49476966,  380828.42509429, ...,\n",
       "        754846.28847351, 1011622.79396863,  610376.1359597 ])"
      ]
     },
     "execution_count": 6433,
     "metadata": {},
     "output_type": "execute_result"
    }
   ],
   "source": [
    "y_pred"
   ]
  },
  {
   "cell_type": "code",
   "execution_count": 6434,
   "id": "70d05f89",
   "metadata": {},
   "outputs": [
    {
     "data": {
      "text/html": [
       "<div>\n",
       "<style scoped>\n",
       "    .dataframe tbody tr th:only-of-type {\n",
       "        vertical-align: middle;\n",
       "    }\n",
       "\n",
       "    .dataframe tbody tr th {\n",
       "        vertical-align: top;\n",
       "    }\n",
       "\n",
       "    .dataframe thead th {\n",
       "        text-align: right;\n",
       "    }\n",
       "</style>\n",
       "<table border=\"1\" class=\"dataframe\">\n",
       "  <thead>\n",
       "    <tr style=\"text-align: right;\">\n",
       "      <th></th>\n",
       "      <th>y_test</th>\n",
       "      <th>y_pred</th>\n",
       "    </tr>\n",
       "  </thead>\n",
       "  <tbody>\n",
       "    <tr>\n",
       "      <th>0</th>\n",
       "      <td>431200</td>\n",
       "      <td>3.776746e+05</td>\n",
       "    </tr>\n",
       "    <tr>\n",
       "      <th>1</th>\n",
       "      <td>285000</td>\n",
       "      <td>4.990575e+05</td>\n",
       "    </tr>\n",
       "    <tr>\n",
       "      <th>2</th>\n",
       "      <td>494900</td>\n",
       "      <td>3.808284e+05</td>\n",
       "    </tr>\n",
       "    <tr>\n",
       "      <th>3</th>\n",
       "      <td>509500</td>\n",
       "      <td>6.237132e+05</td>\n",
       "    </tr>\n",
       "    <tr>\n",
       "      <th>4</th>\n",
       "      <td>731100</td>\n",
       "      <td>5.763063e+05</td>\n",
       "    </tr>\n",
       "    <tr>\n",
       "      <th>...</th>\n",
       "      <td>...</td>\n",
       "      <td>...</td>\n",
       "    </tr>\n",
       "    <tr>\n",
       "      <th>6469</th>\n",
       "      <td>490000</td>\n",
       "      <td>5.997902e+05</td>\n",
       "    </tr>\n",
       "    <tr>\n",
       "      <th>6470</th>\n",
       "      <td>245000</td>\n",
       "      <td>2.049664e+05</td>\n",
       "    </tr>\n",
       "    <tr>\n",
       "      <th>6471</th>\n",
       "      <td>555000</td>\n",
       "      <td>7.548463e+05</td>\n",
       "    </tr>\n",
       "    <tr>\n",
       "      <th>6472</th>\n",
       "      <td>1360000</td>\n",
       "      <td>1.011623e+06</td>\n",
       "    </tr>\n",
       "    <tr>\n",
       "      <th>6473</th>\n",
       "      <td>490000</td>\n",
       "      <td>6.103761e+05</td>\n",
       "    </tr>\n",
       "  </tbody>\n",
       "</table>\n",
       "<p>6474 rows × 2 columns</p>\n",
       "</div>"
      ],
      "text/plain": [
       "       y_test        y_pred\n",
       "0      431200  3.776746e+05\n",
       "1      285000  4.990575e+05\n",
       "2      494900  3.808284e+05\n",
       "3      509500  6.237132e+05\n",
       "4      731100  5.763063e+05\n",
       "...       ...           ...\n",
       "6469   490000  5.997902e+05\n",
       "6470   245000  2.049664e+05\n",
       "6471   555000  7.548463e+05\n",
       "6472  1360000  1.011623e+06\n",
       "6473   490000  6.103761e+05\n",
       "\n",
       "[6474 rows x 2 columns]"
      ]
     },
     "execution_count": 6434,
     "metadata": {},
     "output_type": "execute_result"
    }
   ],
   "source": [
    "result=pd.DataFrame({\"y_test\":y_test,\"y_pred\":y_pred})\n",
    "result"
   ]
  },
  {
   "cell_type": "markdown",
   "id": "0ed86b8f",
   "metadata": {},
   "source": [
    "Linear Regression Train-test split. Standardize the data (after the data split). Apply linear regression. Model Interpretation. Model Validation Model Evaluation: MSE. RMSE. MAE. R2. Adjusted R2. Feature Importance."
   ]
  },
  {
   "cell_type": "code",
   "execution_count": 6435,
   "id": "c38841e0",
   "metadata": {},
   "outputs": [
    {
     "data": {
      "text/plain": [
       "[<matplotlib.lines.Line2D at 0x7fa42a020bb0>]"
      ]
     },
     "execution_count": 6435,
     "metadata": {},
     "output_type": "execute_result"
    },
    {
     "data": {
      "image/png": "[encoded data removed]",
      "text/plain": [
       "<Figure size 1008x288 with 3 Axes>"
      ]
     },
     "metadata": {
      "needs_background": "light"
     },
     "output_type": "display_data"
    }
   ],
   "source": [
    "# Make an scatter plot y_pred vs y\n",
    "# What kind of plot you will get if all the all the predictions are ok?\n",
    "# A stright line\n",
    "\n",
    "fig, ax = plt.subplots(1,3,figsize=(14,4))\n",
    "ax[0].plot(y_pred, y_test, 'o')\n",
    "ax[0].set_xlabel(\"y_test\")\n",
    "ax[0].set_ylabel(\"y_pred\")\n",
    "ax[0].set_title(\"Test Set -Predicted vs real\")\n",
    "\n",
    "# Get a histogram of the residuals ie: y - y_pred.  Homoscdasticity\n",
    "# It resembles a normal distribution?\n",
    "ax[1].hist(y_test - y_pred)\n",
    "ax[1].set_xlabel(\"Test y-y_pred\")\n",
    "ax[1].set_title(\"Test Set Residual histogram\")\n",
    "\n",
    "ax[2].plot(y_pred,y_test - y_pred,\"o\")\n",
    "ax[2].set_xlabel(\"predited\")\n",
    "ax[2].set_ylabel(\"residuals\")\n",
    "ax[2].set_title(\"Residuals by Predicted\")\n",
    "ax[2].plot(y_pred,np.zeros(len(y_pred)),linestyle='dashed')"
   ]
  },
  {
   "cell_type": "markdown",
   "id": "cce873a1",
   "metadata": {},
   "source": [
    "#### Error metrics"
   ]
  },
  {
   "cell_type": "code",
   "execution_count": 6436,
   "id": "3ac64b1f",
   "metadata": {},
   "outputs": [
    {
     "name": "stdout",
     "output_type": "stream",
     "text": [
      "23256235742.66558\n",
      "97242.96231431997\n"
     ]
    }
   ],
   "source": [
    "print(mse(y_test,y_pred))\n",
    "print(mae(y_test,y_pred))"
   ]
  },
  {
   "cell_type": "code",
   "execution_count": 6437,
   "id": "3039b5aa",
   "metadata": {},
   "outputs": [
    {
     "data": {
      "text/plain": [
       "0.8029796010384928"
      ]
     },
     "execution_count": 6437,
     "metadata": {},
     "output_type": "execute_result"
    }
   ],
   "source": [
    "R2=r2_score(y_test,y_pred)\n",
    "R2"
   ]
  },
  {
   "cell_type": "code",
   "execution_count": 6438,
   "id": "d471f49d",
   "metadata": {},
   "outputs": [
    {
     "data": {
      "text/plain": [
       "17"
      ]
     },
     "execution_count": 6438,
     "metadata": {},
     "output_type": "execute_result"
    }
   ],
   "source": [
    "X_test.shape[1]"
   ]
  },
  {
   "cell_type": "code",
   "execution_count": 6439,
   "id": "993ed017",
   "metadata": {},
   "outputs": [
    {
     "data": {
      "text/plain": [
       "0.8024608050684887"
      ]
     },
     "execution_count": 6439,
     "metadata": {},
     "output_type": "execute_result"
    }
   ],
   "source": [
    "Adj_R2= 1 - (1-R2)*(len(y_test)-1)/(len(y_test)-X_test.shape[1]-1)\n",
    "Adj_R2"
   ]
  },
  {
   "cell_type": "markdown",
   "id": "cb2bb8b2",
   "metadata": {},
   "source": [
    "#### Feature Importance"
   ]
  },
  {
   "cell_type": "code",
   "execution_count": 6440,
   "id": "1e7d9bb0",
   "metadata": {},
   "outputs": [],
   "source": [
    "features_importances = pd.DataFrame(data={\n",
    "    'Attribute': X_train_con.columns,\n",
    "    'Importance': abs(model.coef_)\n",
    "})\n",
    "features_importances = features_importances.sort_values(by='Importance')"
   ]
  },
  {
   "cell_type": "code",
   "execution_count": 6441,
   "id": "b08adec0",
   "metadata": {},
   "outputs": [
    {
     "data": {
      "text/html": [
       "<div>\n",
       "<style scoped>\n",
       "    .dataframe tbody tr th:only-of-type {\n",
       "        vertical-align: middle;\n",
       "    }\n",
       "\n",
       "    .dataframe tbody tr th {\n",
       "        vertical-align: top;\n",
       "    }\n",
       "\n",
       "    .dataframe thead th {\n",
       "        text-align: right;\n",
       "    }\n",
       "</style>\n",
       "<table border=\"1\" class=\"dataframe\">\n",
       "  <thead>\n",
       "    <tr style=\"text-align: right;\">\n",
       "      <th></th>\n",
       "      <th>Attribute</th>\n",
       "      <th>Importance</th>\n",
       "    </tr>\n",
       "  </thead>\n",
       "  <tbody>\n",
       "    <tr>\n",
       "      <th>11</th>\n",
       "      <td>zipcode</td>\n",
       "      <td>61.272709</td>\n",
       "    </tr>\n",
       "    <tr>\n",
       "      <th>10</th>\n",
       "      <td>yr_built</td>\n",
       "      <td>1560.637824</td>\n",
       "    </tr>\n",
       "    <tr>\n",
       "      <th>30</th>\n",
       "      <td>area_very_affordable area</td>\n",
       "      <td>3945.859140</td>\n",
       "    </tr>\n",
       "    <tr>\n",
       "      <th>14</th>\n",
       "      <td>date_02/2015</td>\n",
       "      <td>5880.720080</td>\n",
       "    </tr>\n",
       "    <tr>\n",
       "      <th>2</th>\n",
       "      <td>sqft_lot15</td>\n",
       "      <td>7632.148793</td>\n",
       "    </tr>\n",
       "    <tr>\n",
       "      <th>24</th>\n",
       "      <td>date_11/2014</td>\n",
       "      <td>9356.233301</td>\n",
       "    </tr>\n",
       "    <tr>\n",
       "      <th>20</th>\n",
       "      <td>date_07/2014</td>\n",
       "      <td>9502.135255</td>\n",
       "    </tr>\n",
       "    <tr>\n",
       "      <th>1</th>\n",
       "      <td>sqft_living15</td>\n",
       "      <td>10814.780898</td>\n",
       "    </tr>\n",
       "    <tr>\n",
       "      <th>21</th>\n",
       "      <td>date_08/2014</td>\n",
       "      <td>11806.876027</td>\n",
       "    </tr>\n",
       "    <tr>\n",
       "      <th>19</th>\n",
       "      <td>date_06/2014</td>\n",
       "      <td>13782.404531</td>\n",
       "    </tr>\n",
       "    <tr>\n",
       "      <th>23</th>\n",
       "      <td>date_10/2014</td>\n",
       "      <td>15029.993308</td>\n",
       "    </tr>\n",
       "    <tr>\n",
       "      <th>7</th>\n",
       "      <td>floors</td>\n",
       "      <td>16695.656518</td>\n",
       "    </tr>\n",
       "    <tr>\n",
       "      <th>17</th>\n",
       "      <td>date_05/2014</td>\n",
       "      <td>16981.891025</td>\n",
       "    </tr>\n",
       "    <tr>\n",
       "      <th>15</th>\n",
       "      <td>date_03/2015</td>\n",
       "      <td>17255.640371</td>\n",
       "    </tr>\n",
       "    <tr>\n",
       "      <th>25</th>\n",
       "      <td>date_12/2014</td>\n",
       "      <td>18214.085747</td>\n",
       "    </tr>\n",
       "    <tr>\n",
       "      <th>8</th>\n",
       "      <td>condition</td>\n",
       "      <td>22322.897316</td>\n",
       "    </tr>\n",
       "    <tr>\n",
       "      <th>4</th>\n",
       "      <td>bedrooms</td>\n",
       "      <td>25419.258527</td>\n",
       "    </tr>\n",
       "    <tr>\n",
       "      <th>16</th>\n",
       "      <td>date_04/2015</td>\n",
       "      <td>26313.137304</td>\n",
       "    </tr>\n",
       "    <tr>\n",
       "      <th>22</th>\n",
       "      <td>date_09/2014</td>\n",
       "      <td>26757.259571</td>\n",
       "    </tr>\n",
       "    <tr>\n",
       "      <th>3</th>\n",
       "      <td>sqft_basement</td>\n",
       "      <td>26780.147499</td>\n",
       "    </tr>\n",
       "    <tr>\n",
       "      <th>5</th>\n",
       "      <td>bathrooms</td>\n",
       "      <td>29875.970270</td>\n",
       "    </tr>\n",
       "    <tr>\n",
       "      <th>18</th>\n",
       "      <td>date_05/2015</td>\n",
       "      <td>42869.917763</td>\n",
       "    </tr>\n",
       "    <tr>\n",
       "      <th>6</th>\n",
       "      <td>view</td>\n",
       "      <td>59229.055260</td>\n",
       "    </tr>\n",
       "    <tr>\n",
       "      <th>9</th>\n",
       "      <td>grade</td>\n",
       "      <td>70315.449330</td>\n",
       "    </tr>\n",
       "    <tr>\n",
       "      <th>28</th>\n",
       "      <td>area_medium priced area</td>\n",
       "      <td>113724.111584</td>\n",
       "    </tr>\n",
       "    <tr>\n",
       "      <th>13</th>\n",
       "      <td>long</td>\n",
       "      <td>116135.936305</td>\n",
       "    </tr>\n",
       "    <tr>\n",
       "      <th>0</th>\n",
       "      <td>sqft_living</td>\n",
       "      <td>167395.209714</td>\n",
       "    </tr>\n",
       "    <tr>\n",
       "      <th>27</th>\n",
       "      <td>area_expensive area</td>\n",
       "      <td>220565.981065</td>\n",
       "    </tr>\n",
       "    <tr>\n",
       "      <th>12</th>\n",
       "      <td>lat</td>\n",
       "      <td>334280.968783</td>\n",
       "    </tr>\n",
       "    <tr>\n",
       "      <th>29</th>\n",
       "      <td>area_very expensive area</td>\n",
       "      <td>552341.724547</td>\n",
       "    </tr>\n",
       "    <tr>\n",
       "      <th>26</th>\n",
       "      <td>waterfront_yes</td>\n",
       "      <td>590316.901595</td>\n",
       "    </tr>\n",
       "  </tbody>\n",
       "</table>\n",
       "</div>"
      ],
      "text/plain": [
       "                    Attribute     Importance\n",
       "11                    zipcode      61.272709\n",
       "10                   yr_built    1560.637824\n",
       "30  area_very_affordable area    3945.859140\n",
       "14               date_02/2015    5880.720080\n",
       "2                  sqft_lot15    7632.148793\n",
       "24               date_11/2014    9356.233301\n",
       "20               date_07/2014    9502.135255\n",
       "1               sqft_living15   10814.780898\n",
       "21               date_08/2014   11806.876027\n",
       "19               date_06/2014   13782.404531\n",
       "23               date_10/2014   15029.993308\n",
       "7                      floors   16695.656518\n",
       "17               date_05/2014   16981.891025\n",
       "15               date_03/2015   17255.640371\n",
       "25               date_12/2014   18214.085747\n",
       "8                   condition   22322.897316\n",
       "4                    bedrooms   25419.258527\n",
       "16               date_04/2015   26313.137304\n",
       "22               date_09/2014   26757.259571\n",
       "3               sqft_basement   26780.147499\n",
       "5                   bathrooms   29875.970270\n",
       "18               date_05/2015   42869.917763\n",
       "6                        view   59229.055260\n",
       "9                       grade   70315.449330\n",
       "28    area_medium priced area  113724.111584\n",
       "13                       long  116135.936305\n",
       "0                 sqft_living  167395.209714\n",
       "27        area_expensive area  220565.981065\n",
       "12                        lat  334280.968783\n",
       "29   area_very expensive area  552341.724547\n",
       "26             waterfront_yes  590316.901595"
      ]
     },
     "execution_count": 6441,
     "metadata": {},
     "output_type": "execute_result"
    }
   ],
   "source": [
    "features_importances"
   ]
  },
  {
   "cell_type": "code",
   "execution_count": 6442,
   "id": "803e4d70",
   "metadata": {},
   "outputs": [
    {
     "data": {
      "image/png": "[encoded data removed]",
      "text/plain": [
       "<Figure size 432x288 with 1 Axes>"
      ]
     },
     "metadata": {
      "needs_background": "light"
     },
     "output_type": "display_data"
    }
   ],
   "source": [
    "plt.bar(x=features_importances['Attribute'], height=features_importances['Importance'], color='#087E8B')\n",
    "plt.title('Feature importances obtained from coefficients', size=20)\n",
    "plt.xticks(rotation='vertical')\n",
    "plt.show()"
   ]
  },
  {
   "cell_type": "markdown",
   "id": "7d7157ec",
   "metadata": {},
   "source": [
    "#### Evaluating predictions"
   ]
  },
  {
   "cell_type": "code",
   "execution_count": 6443,
   "id": "2ab9917f",
   "metadata": {},
   "outputs": [
    {
     "data": {
      "text/plain": [
       "97242.9623143201"
      ]
     },
     "execution_count": 6443,
     "metadata": {},
     "output_type": "execute_result"
    }
   ],
   "source": [
    "# MAE: mean absolute error\n",
    "MAE = np.mean( np.abs( y_test - y_pred ) )\n",
    "MAE"
   ]
  },
  {
   "cell_type": "code",
   "execution_count": 6444,
   "id": "94cc093d",
   "metadata": {},
   "outputs": [
    {
     "data": {
      "text/plain": [
       "23256235742.66561"
      ]
     },
     "execution_count": 6444,
     "metadata": {},
     "output_type": "execute_result"
    }
   ],
   "source": [
    "# MSE: mean squared error\n",
    "MSE = np.mean( np.power( y_test - y_pred , 2 ) )\n",
    "MSE"
   ]
  },
  {
   "cell_type": "code",
   "execution_count": 6445,
   "id": "8cde11fc",
   "metadata": {},
   "outputs": [
    {
     "data": {
      "text/plain": [
       "152499.9532546342"
      ]
     },
     "execution_count": 6445,
     "metadata": {},
     "output_type": "execute_result"
    }
   ],
   "source": [
    "# RMSE: root mean squared error\n",
    "RMSE = np.sqrt(MSE)\n",
    "RMSE"
   ]
  },
  {
   "cell_type": "code",
   "execution_count": 6446,
   "id": "ea376ca3",
   "metadata": {
    "scrolled": true
   },
   "outputs": [
    {
     "data": {
      "text/plain": [
       "array([[<AxesSubplot:title={'center':'bedrooms'}>,\n",
       "        <AxesSubplot:title={'center':'bathrooms'}>,\n",
       "        <AxesSubplot:title={'center':'sqft_living'}>,\n",
       "        <AxesSubplot:title={'center':'floors'}>],\n",
       "       [<AxesSubplot:title={'center':'view'}>,\n",
       "        <AxesSubplot:title={'center':'condition'}>,\n",
       "        <AxesSubplot:title={'center':'grade'}>,\n",
       "        <AxesSubplot:title={'center':'sqft_basement'}>],\n",
       "       [<AxesSubplot:title={'center':'yr_built'}>,\n",
       "        <AxesSubplot:title={'center':'zipcode'}>,\n",
       "        <AxesSubplot:title={'center':'lat'}>,\n",
       "        <AxesSubplot:title={'center':'long'}>],\n",
       "       [<AxesSubplot:title={'center':'sqft_living15'}>,\n",
       "        <AxesSubplot:title={'center':'sqft_lot15'}>,\n",
       "        <AxesSubplot:title={'center':'price'}>, <AxesSubplot:>]],\n",
       "      dtype=object)"
      ]
     },
     "execution_count": 6446,
     "metadata": {},
     "output_type": "execute_result"
    },
    {
     "data": {
      "image/png": "[encoded data removed]",
      "text/plain": [
       "<Figure size 864x864 with 16 Axes>"
      ]
     },
     "metadata": {
      "needs_background": "light"
     },
     "output_type": "display_data"
    }
   ],
   "source": [
    "re_df.hist(figsize=(12,12))"
   ]
  },
  {
   "cell_type": "code",
   "execution_count": null,
   "id": "ce9ecaef",
   "metadata": {},
   "outputs": [],
   "source": []
  }
 ],
 "metadata": {
  "kernelspec": {
   "display_name": "Python 3.9.7 64-bit ('base': conda)",
   "language": "python",
   "name": "python397jvsc74a57bd0fd728cfbfdf309c58cb1716ce92887498871f2fbed01fb0dfdf39b6c2f09a82b"
  },
  "language_info": {
   "codemirror_mode": {
    "name": "ipython",
    "version": 3
   },
   "file_extension": ".py",
   "mimetype": "text/x-python",
   "name": "python",
   "nbconvert_exporter": "python",
   "pygments_lexer": "ipython3",
   "version": "3.9.7"
  },
  "toc": {
   "base_numbering": 1,
   "nav_menu": {},
   "number_sections": true,
   "sideBar": true,
   "skip_h1_title": true,
   "title_cell": "Table of Contents",
   "title_sidebar": "Contents",
   "toc_cell": false,
   "toc_position": {},
   "toc_section_display": true,
   "toc_window_display": false
  },
  "varInspector": {
   "cols": {
    "lenName": 16,
    "lenType": 16,
    "lenVar": 40
   },
   "kernels_config": {
    "python": {
     "delete_cmd_postfix": "",
     "delete_cmd_prefix": "del ",
     "library": "var_list.py",
     "varRefreshCmd": "print(var_dic_list())"
    },
    "r": {
     "delete_cmd_postfix": ") ",
     "delete_cmd_prefix": "rm(",
     "library": "var_list.r",
     "varRefreshCmd": "cat(var_dic_list()) "
    }
   },
   "types_to_exclude": [
    "module",
    "function",
    "builtin_function_or_method",
    "instance",
    "_Feature"
   ],
   "window_display": false
  }
 },
 "nbformat": 4,
 "nbformat_minor": 5
}
