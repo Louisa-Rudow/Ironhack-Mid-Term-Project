{
 "cells": [
  {
   "cell_type": "code",
   "execution_count": null,
   "id": "294abac3",
   "metadata": {},
   "outputs": [],
   "source": []
  },
  {
   "cell_type": "code",
   "execution_count": 2,
   "id": "ef85ac90",
   "metadata": {},
   "outputs": [],
   "source": [
    "import numpy as np\n",
    "import pandas as pd\n",
    "import matplotlib.pyplot as plt\n",
    "%matplotlib inline\n",
    "import seaborn as sns\n",
    "import statsmodels.api as sm\n",
    "from scipy.stats import boxcox\n",
    "\n",
    "pd.options.display.max_rows = 50"
   ]
  },
  {
   "cell_type": "code",
   "execution_count": 3,
   "id": "4ca09d86",
   "metadata": {},
   "outputs": [],
   "source": [
    "\n",
    "file1_df = pd.read_excel('Data_MidTerm_Project_Real_State_Regression.xls')"
   ]
  },
  {
   "cell_type": "code",
   "execution_count": 4,
   "id": "cea93214",
   "metadata": {},
   "outputs": [
    {
     "name": "stdout",
     "output_type": "stream",
     "text": [
      "<class 'pandas.core.frame.DataFrame'>\n",
      "RangeIndex: 21597 entries, 0 to 21596\n",
      "Data columns (total 21 columns):\n",
      " #   Column         Non-Null Count  Dtype         \n",
      "---  ------         --------------  -----         \n",
      " 0   id             21597 non-null  int64         \n",
      " 1   date           21597 non-null  datetime64[ns]\n",
      " 2   bedrooms       21597 non-null  int64         \n",
      " 3   bathrooms      21597 non-null  float64       \n",
      " 4   sqft_living    21597 non-null  int64         \n",
      " 5   sqft_lot       21597 non-null  int64         \n",
      " 6   floors         21597 non-null  float64       \n",
      " 7   waterfront     21597 non-null  int64         \n",
      " 8   view           21597 non-null  int64         \n",
      " 9   condition      21597 non-null  int64         \n",
      " 10  grade          21597 non-null  int64         \n",
      " 11  sqft_above     21597 non-null  int64         \n",
      " 12  sqft_basement  21597 non-null  int64         \n",
      " 13  yr_built       21597 non-null  int64         \n",
      " 14  yr_renovated   21597 non-null  int64         \n",
      " 15  zipcode        21597 non-null  int64         \n",
      " 16  lat            21597 non-null  float64       \n",
      " 17  long           21597 non-null  float64       \n",
      " 18  sqft_living15  21597 non-null  int64         \n",
      " 19  sqft_lot15     21597 non-null  int64         \n",
      " 20  price          21597 non-null  int64         \n",
      "dtypes: datetime64[ns](1), float64(4), int64(16)\n",
      "memory usage: 3.5 MB\n"
     ]
    }
   ],
   "source": [
    "file1_df.info()"
   ]
  },
  {
   "cell_type": "code",
   "execution_count": null,
   "id": "042d1af8",
   "metadata": {},
   "outputs": [],
   "source": []
  }
 ],
 "metadata": {
  "kernelspec": {
   "display_name": "Python 3.9.7 64-bit ('base': conda)",
   "language": "python",
   "name": "python397jvsc74a57bd0fd728cfbfdf309c58cb1716ce92887498871f2fbed01fb0dfdf39b6c2f09a82b"
  },
  "language_info": {
   "codemirror_mode": {
    "name": "ipython",
    "version": 3
   },
   "file_extension": ".py",
   "mimetype": "text/x-python",
   "name": "python",
   "nbconvert_exporter": "python",
   "pygments_lexer": "ipython3",
   "version": "3.9.7"
  },
  "toc": {
   "base_numbering": 1,
   "nav_menu": {},
   "number_sections": true,
   "sideBar": true,
   "skip_h1_title": true,
   "title_cell": "Table of Contents",
   "title_sidebar": "Contents",
   "toc_cell": false,
   "toc_position": {},
   "toc_section_display": true,
   "toc_window_display": false
  },
  "varInspector": {
   "cols": {
    "lenName": 16,
    "lenType": 16,
    "lenVar": 40
   },
   "kernels_config": {
    "python": {
     "delete_cmd_postfix": "",
     "delete_cmd_prefix": "del ",
     "library": "var_list.py",
     "varRefreshCmd": "print(var_dic_list())"
    },
    "r": {
     "delete_cmd_postfix": ") ",
     "delete_cmd_prefix": "rm(",
     "library": "var_list.r",
     "varRefreshCmd": "cat(var_dic_list()) "
    }
   },
   "types_to_exclude": [
    "module",
    "function",
    "builtin_function_or_method",
    "instance",
    "_Feature"
   ],
   "window_display": false
  }
 },
 "nbformat": 4,
 "nbformat_minor": 5
}
