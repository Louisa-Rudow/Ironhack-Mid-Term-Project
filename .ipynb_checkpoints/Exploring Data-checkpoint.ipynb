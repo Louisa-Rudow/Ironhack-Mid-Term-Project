{
 "cells": [
  {
   "cell_type": "markdown",
   "id": "72e3a826",
   "metadata": {},
   "source": [
    "# Importing modules"
   ]
  },
  {
   "cell_type": "code",
   "execution_count": 2073,
   "id": "09a8e855",
   "metadata": {},
   "outputs": [],
   "source": [
    "import numpy as np\n",
    "import pandas as pd\n",
    "import matplotlib.pyplot as plt\n",
    "%matplotlib inline\n",
    "import seaborn as sns\n",
    "import statsmodels.api as sm\n",
    "from scipy.stats import boxcox\n",
    "\n",
    "pd.options.display.max_rows = 50\n",
    "\n",
    "from sklearn.preprocessing import StandardScaler\n",
    "from sklearn.preprocessing import QuantileTransformer\n",
    "from sklearn.preprocessing import minmax_scale\n",
    "from sklearn.preprocessing import OneHotEncoder  ##. better to use dummy from pandas \n",
    "from sklearn.preprocessing import PowerTransformer\n",
    "from sklearn.linear_model import LinearRegression\n",
    "from sklearn.model_selection import train_test_split\n",
    "from sklearn.model_selection import train_test_split\n",
    "from sklearn.metrics import r2_score\n",
    "from sklearn.metrics import mean_squared_error as mse\n",
    "from sklearn.metrics import mean_absolute_error as mae\n",
    "pd.options.display.max_rows = 50\n",
    "## Install xlrd package to load Excel files\n",
    "# conda install openpyxl\n",
    "## conda install xlrd"
   ]
  },
  {
   "cell_type": "markdown",
   "id": "3093f30c",
   "metadata": {},
   "source": [
    "## Data Cleaning"
   ]
  },
  {
   "cell_type": "markdown",
   "id": "17bcd4e1",
   "metadata": {},
   "source": [
    "### loading & exploring Data"
   ]
  },
  {
   "cell_type": "code",
   "execution_count": 2074,
   "id": "2ab25fdc",
   "metadata": {},
   "outputs": [],
   "source": [
    "re_df = pd.read_excel('Data_MidTerm_Project_Real_State_Regression.xls')"
   ]
  },
  {
   "cell_type": "code",
   "execution_count": 2075,
   "id": "2c047629",
   "metadata": {},
   "outputs": [
    {
     "data": {
      "text/plain": [
       "Index(['id', 'date', 'bedrooms', 'bathrooms', 'sqft_living', 'sqft_lot',\n",
       "       'floors', 'waterfront', 'view', 'condition', 'grade', 'sqft_above',\n",
       "       'sqft_basement', 'yr_built', 'yr_renovated', 'zipcode', 'lat', 'long',\n",
       "       'sqft_living15', 'sqft_lot15', 'price'],\n",
       "      dtype='object')"
      ]
     },
     "execution_count": 2075,
     "metadata": {},
     "output_type": "execute_result"
    }
   ],
   "source": [
    "re_df.columns"
   ]
  },
  {
   "cell_type": "code",
   "execution_count": 2076,
   "id": "b64b4cfb",
   "metadata": {},
   "outputs": [
    {
     "name": "stdout",
     "output_type": "stream",
     "text": [
      "<class 'pandas.core.frame.DataFrame'>\n",
      "RangeIndex: 21597 entries, 0 to 21596\n",
      "Data columns (total 21 columns):\n",
      " #   Column         Non-Null Count  Dtype         \n",
      "---  ------         --------------  -----         \n",
      " 0   id             21597 non-null  int64         \n",
      " 1   date           21597 non-null  datetime64[ns]\n",
      " 2   bedrooms       21597 non-null  int64         \n",
      " 3   bathrooms      21597 non-null  float64       \n",
      " 4   sqft_living    21597 non-null  int64         \n",
      " 5   sqft_lot       21597 non-null  int64         \n",
      " 6   floors         21597 non-null  float64       \n",
      " 7   waterfront     21597 non-null  int64         \n",
      " 8   view           21597 non-null  int64         \n",
      " 9   condition      21597 non-null  int64         \n",
      " 10  grade          21597 non-null  int64         \n",
      " 11  sqft_above     21597 non-null  int64         \n",
      " 12  sqft_basement  21597 non-null  int64         \n",
      " 13  yr_built       21597 non-null  int64         \n",
      " 14  yr_renovated   21597 non-null  int64         \n",
      " 15  zipcode        21597 non-null  int64         \n",
      " 16  lat            21597 non-null  float64       \n",
      " 17  long           21597 non-null  float64       \n",
      " 18  sqft_living15  21597 non-null  int64         \n",
      " 19  sqft_lot15     21597 non-null  int64         \n",
      " 20  price          21597 non-null  int64         \n",
      "dtypes: datetime64[ns](1), float64(4), int64(16)\n",
      "memory usage: 3.5 MB\n"
     ]
    }
   ],
   "source": [
    "re_df.info()"
   ]
  },
  {
   "cell_type": "code",
   "execution_count": 2077,
   "id": "7a8df6bd",
   "metadata": {},
   "outputs": [],
   "source": [
    "re_df['date'] = re_df['date'].dt.to_period('M')"
   ]
  },
  {
   "cell_type": "code",
   "execution_count": 2078,
   "id": "ebb9a621",
   "metadata": {},
   "outputs": [],
   "source": [
    "re_df['date'] = re_df['date'].dt.strftime('%m/%Y')"
   ]
  },
  {
   "cell_type": "code",
   "execution_count": 2079,
   "id": "cb7721c4",
   "metadata": {},
   "outputs": [
    {
     "data": {
      "text/plain": [
       "04/2015    2229\n",
       "07/2014    2211\n",
       "06/2014    2178\n",
       "08/2014    1939\n",
       "10/2014    1876\n",
       "03/2015    1875\n",
       "09/2014    1771\n",
       "05/2014    1768\n",
       "12/2014    1470\n",
       "11/2014    1409\n",
       "02/2015    1247\n",
       "01/2015     978\n",
       "05/2015     646\n",
       "Name: date, dtype: int64"
      ]
     },
     "execution_count": 2079,
     "metadata": {},
     "output_type": "execute_result"
    }
   ],
   "source": [
    "re_df['date'].value_counts()"
   ]
  },
  {
   "cell_type": "code",
   "execution_count": 2080,
   "id": "a1896e8d",
   "metadata": {},
   "outputs": [],
   "source": [
    "#re_df = re_df[re_df.date != \"05/2015\"]\n",
    "#re_df = re_df[re_df.date != \"01/2015\"]"
   ]
  },
  {
   "cell_type": "markdown",
   "id": "4d59a642",
   "metadata": {},
   "source": [
    "### droping columns"
   ]
  },
  {
   "cell_type": "code",
   "execution_count": 2081,
   "id": "d5bcebe2",
   "metadata": {},
   "outputs": [],
   "source": [
    "re_df.drop(['id'],axis=1, inplace=True)\n",
    "#re_df.drop(['view'],axis=1, inplace=True)\n",
    "re_df.drop(['yr_renovated'],axis=1, inplace=True)\n",
    "re_df.drop(['sqft_above'],axis=1, inplace=True)\n",
    "#re_df.drop(['long'],axis=1, inplace=True)\n",
    "#re_df.drop(['lat'],axis=1, inplace=True)"
   ]
  },
  {
   "cell_type": "markdown",
   "id": "ce7e7354",
   "metadata": {},
   "source": [
    "### removing duplicates"
   ]
  },
  {
   "cell_type": "code",
   "execution_count": 2082,
   "id": "15cfb69f",
   "metadata": {},
   "outputs": [],
   "source": [
    "re_df.drop_duplicates(inplace=True)"
   ]
  },
  {
   "cell_type": "markdown",
   "id": "05038a15",
   "metadata": {},
   "source": [
    "### droping nan values"
   ]
  },
  {
   "cell_type": "code",
   "execution_count": 2083,
   "id": "f05faecb",
   "metadata": {},
   "outputs": [],
   "source": [
    "#re_df.view.hist()\n",
    "#re_df.dropna(inplace=True)\n",
    "#re_df"
   ]
  },
  {
   "cell_type": "markdown",
   "id": "117d1394",
   "metadata": {},
   "source": [
    "### renaming waterfront column features"
   ]
  },
  {
   "cell_type": "code",
   "execution_count": 2084,
   "id": "93c089a6",
   "metadata": {},
   "outputs": [],
   "source": [
    "def clean_waterfront(x):\n",
    "    if x == 0:\n",
    "        return 'no'\n",
    "    elif x == 1:\n",
    "        return 'yes'"
   ]
  },
  {
   "cell_type": "code",
   "execution_count": 2085,
   "id": "2210c556",
   "metadata": {},
   "outputs": [],
   "source": [
    "re_df[\"waterfront\"] = list(map(clean_waterfront,re_df[\"waterfront\"])) "
   ]
  },
  {
   "cell_type": "markdown",
   "id": "d0cc1757",
   "metadata": {},
   "source": [
    "### changing year renovated"
   ]
  },
  {
   "cell_type": "markdown",
   "id": "3b0da51e",
   "metadata": {},
   "source": [
    "def yr_renovated(x):\n",
    "    if x == 0:\n",
    "        return 'no'\n",
    "    else:\n",
    "        return 'yes'"
   ]
  },
  {
   "cell_type": "markdown",
   "id": "99df8dc8",
   "metadata": {},
   "source": [
    "re_df[\"yr_renovated\"] = list(map(yr_renovated,re_df[\"yr_renovated\"]))"
   ]
  },
  {
   "cell_type": "markdown",
   "id": "bc82f4cf",
   "metadata": {},
   "source": [
    "### removing outliers"
   ]
  },
  {
   "cell_type": "markdown",
   "id": "9c62993e",
   "metadata": {},
   "source": [
    "#### bedrooms"
   ]
  },
  {
   "cell_type": "code",
   "execution_count": 2086,
   "id": "2a6374f4",
   "metadata": {},
   "outputs": [
    {
     "name": "stderr",
     "output_type": "stream",
     "text": [
      "/Users/louisarudow/opt/anaconda3/lib/python3.9/site-packages/seaborn/_decorators.py:36: FutureWarning: Pass the following variable as a keyword arg: x. From version 0.12, the only valid positional argument will be `data`, and passing other arguments without an explicit keyword will result in an error or misinterpretation.\n",
      "  warnings.warn(\n"
     ]
    },
    {
     "data": {
      "text/plain": [
       "<AxesSubplot:xlabel='bedrooms'>"
      ]
     },
     "execution_count": 2086,
     "metadata": {},
     "output_type": "execute_result"
    },
    {
     "data": {
      "image/png": "[encoded data removed]",
      "text/plain": [
       "<Figure size 432x288 with 1 Axes>"
      ]
     },
     "metadata": {
      "needs_background": "light"
     },
     "output_type": "display_data"
    }
   ],
   "source": [
    "sns.boxplot(re_df['bedrooms'])"
   ]
  },
  {
   "cell_type": "code",
   "execution_count": 2087,
   "id": "ec540781",
   "metadata": {},
   "outputs": [
    {
     "data": {
      "text/plain": [
       "33"
      ]
     },
     "execution_count": 2087,
     "metadata": {},
     "output_type": "execute_result"
    }
   ],
   "source": [
    "max(re_df['bedrooms'])"
   ]
  },
  {
   "cell_type": "code",
   "execution_count": 2088,
   "id": "6ca8161b",
   "metadata": {},
   "outputs": [
    {
     "data": {
      "text/html": [
       "<div>\n",
       "<style scoped>\n",
       "    .dataframe tbody tr th:only-of-type {\n",
       "        vertical-align: middle;\n",
       "    }\n",
       "\n",
       "    .dataframe tbody tr th {\n",
       "        vertical-align: top;\n",
       "    }\n",
       "\n",
       "    .dataframe thead th {\n",
       "        text-align: right;\n",
       "    }\n",
       "</style>\n",
       "<table border=\"1\" class=\"dataframe\">\n",
       "  <thead>\n",
       "    <tr style=\"text-align: right;\">\n",
       "      <th></th>\n",
       "      <th>date</th>\n",
       "      <th>bedrooms</th>\n",
       "      <th>bathrooms</th>\n",
       "      <th>sqft_living</th>\n",
       "      <th>sqft_lot</th>\n",
       "      <th>floors</th>\n",
       "      <th>waterfront</th>\n",
       "      <th>view</th>\n",
       "      <th>condition</th>\n",
       "      <th>grade</th>\n",
       "      <th>sqft_basement</th>\n",
       "      <th>yr_built</th>\n",
       "      <th>zipcode</th>\n",
       "      <th>lat</th>\n",
       "      <th>long</th>\n",
       "      <th>sqft_living15</th>\n",
       "      <th>sqft_lot15</th>\n",
       "      <th>price</th>\n",
       "    </tr>\n",
       "  </thead>\n",
       "  <tbody>\n",
       "    <tr>\n",
       "      <th>15856</th>\n",
       "      <td>06/2014</td>\n",
       "      <td>33</td>\n",
       "      <td>1.75</td>\n",
       "      <td>1620</td>\n",
       "      <td>6000</td>\n",
       "      <td>1.0</td>\n",
       "      <td>no</td>\n",
       "      <td>0</td>\n",
       "      <td>5</td>\n",
       "      <td>7</td>\n",
       "      <td>580</td>\n",
       "      <td>1947</td>\n",
       "      <td>98103</td>\n",
       "      <td>47.6878</td>\n",
       "      <td>-122.331</td>\n",
       "      <td>1330</td>\n",
       "      <td>4700</td>\n",
       "      <td>640000</td>\n",
       "    </tr>\n",
       "  </tbody>\n",
       "</table>\n",
       "</div>"
      ],
      "text/plain": [
       "          date  bedrooms  bathrooms  sqft_living  sqft_lot  floors waterfront  \\\n",
       "15856  06/2014        33       1.75         1620      6000     1.0         no   \n",
       "\n",
       "       view  condition  grade  sqft_basement  yr_built  zipcode      lat  \\\n",
       "15856     0          5      7            580      1947    98103  47.6878   \n",
       "\n",
       "          long  sqft_living15  sqft_lot15   price  \n",
       "15856 -122.331           1330        4700  640000  "
      ]
     },
     "execution_count": 2088,
     "metadata": {},
     "output_type": "execute_result"
    }
   ],
   "source": [
    "#re_df = re_df[re_df.bedrooms != max(re_df['bedrooms'])]\n",
    "\n",
    "re_df.loc[re_df['bedrooms'] == 33]"
   ]
  },
  {
   "cell_type": "markdown",
   "id": "74f1d803",
   "metadata": {},
   "source": [
    "Based on the sqft_living we asume that there is typing error"
   ]
  },
  {
   "cell_type": "code",
   "execution_count": 2089,
   "id": "61a45f9d",
   "metadata": {},
   "outputs": [],
   "source": [
    "re_df.at[15856,'bedrooms'] = 3"
   ]
  },
  {
   "cell_type": "markdown",
   "id": "8010b63b",
   "metadata": {},
   "source": [
    "#### bathrooms"
   ]
  },
  {
   "cell_type": "code",
   "execution_count": 2090,
   "id": "7657e24e",
   "metadata": {},
   "outputs": [
    {
     "name": "stderr",
     "output_type": "stream",
     "text": [
      "/Users/louisarudow/opt/anaconda3/lib/python3.9/site-packages/seaborn/_decorators.py:36: FutureWarning: Pass the following variable as a keyword arg: x. From version 0.12, the only valid positional argument will be `data`, and passing other arguments without an explicit keyword will result in an error or misinterpretation.\n",
      "  warnings.warn(\n"
     ]
    },
    {
     "data": {
      "text/plain": [
       "<AxesSubplot:xlabel='bathrooms'>"
      ]
     },
     "execution_count": 2090,
     "metadata": {},
     "output_type": "execute_result"
    },
    {
     "data": {
      "image/png": "[encoded data removed]",
      "text/plain": [
       "<Figure size 432x288 with 1 Axes>"
      ]
     },
     "metadata": {
      "needs_background": "light"
     },
     "output_type": "display_data"
    }
   ],
   "source": [
    "sns.boxplot(re_df['bathrooms'])"
   ]
  },
  {
   "cell_type": "code",
   "execution_count": 2091,
   "id": "0784ca91",
   "metadata": {},
   "outputs": [],
   "source": [
    "re_df['bathrooms'].value_counts()\n",
    "\n",
    "re_df = re_df[re_df.bathrooms != max(re_df['bathrooms'])]\n",
    "#re_df = re_df[re_df.bathrooms != 7.75]"
   ]
  },
  {
   "cell_type": "markdown",
   "id": "7af1bbb9",
   "metadata": {},
   "source": [
    "#### sqft_lot"
   ]
  },
  {
   "cell_type": "code",
   "execution_count": 2092,
   "id": "ad62891d",
   "metadata": {},
   "outputs": [
    {
     "name": "stderr",
     "output_type": "stream",
     "text": [
      "/Users/louisarudow/opt/anaconda3/lib/python3.9/site-packages/seaborn/_decorators.py:36: FutureWarning: Pass the following variable as a keyword arg: x. From version 0.12, the only valid positional argument will be `data`, and passing other arguments without an explicit keyword will result in an error or misinterpretation.\n",
      "  warnings.warn(\n"
     ]
    },
    {
     "data": {
      "text/plain": [
       "<AxesSubplot:xlabel='sqft_lot'>"
      ]
     },
     "execution_count": 2092,
     "metadata": {},
     "output_type": "execute_result"
    },
    {
     "data": {
      "image/png": "[encoded data removed]",
      "text/plain": [
       "<Figure size 432x288 with 1 Axes>"
      ]
     },
     "metadata": {
      "needs_background": "light"
     },
     "output_type": "display_data"
    }
   ],
   "source": [
    "sns.boxplot(re_df['sqft_lot'])"
   ]
  },
  {
   "cell_type": "code",
   "execution_count": 2093,
   "id": "38637fc7",
   "metadata": {},
   "outputs": [
    {
     "data": {
      "text/plain": [
       "1651359"
      ]
     },
     "execution_count": 2093,
     "metadata": {},
     "output_type": "execute_result"
    }
   ],
   "source": [
    "max(re_df['sqft_lot'])"
   ]
  },
  {
   "cell_type": "code",
   "execution_count": 2094,
   "id": "95cc37d9",
   "metadata": {},
   "outputs": [
    {
     "data": {
      "text/html": [
       "<div>\n",
       "<style scoped>\n",
       "    .dataframe tbody tr th:only-of-type {\n",
       "        vertical-align: middle;\n",
       "    }\n",
       "\n",
       "    .dataframe tbody tr th {\n",
       "        vertical-align: top;\n",
       "    }\n",
       "\n",
       "    .dataframe thead th {\n",
       "        text-align: right;\n",
       "    }\n",
       "</style>\n",
       "<table border=\"1\" class=\"dataframe\">\n",
       "  <thead>\n",
       "    <tr style=\"text-align: right;\">\n",
       "      <th></th>\n",
       "      <th>date</th>\n",
       "      <th>bedrooms</th>\n",
       "      <th>bathrooms</th>\n",
       "      <th>sqft_living</th>\n",
       "      <th>sqft_lot</th>\n",
       "      <th>floors</th>\n",
       "      <th>waterfront</th>\n",
       "      <th>view</th>\n",
       "      <th>condition</th>\n",
       "      <th>grade</th>\n",
       "      <th>sqft_basement</th>\n",
       "      <th>yr_built</th>\n",
       "      <th>zipcode</th>\n",
       "      <th>lat</th>\n",
       "      <th>long</th>\n",
       "      <th>sqft_living15</th>\n",
       "      <th>sqft_lot15</th>\n",
       "      <th>price</th>\n",
       "    </tr>\n",
       "  </thead>\n",
       "  <tbody>\n",
       "    <tr>\n",
       "      <th>1717</th>\n",
       "      <td>03/2015</td>\n",
       "      <td>4</td>\n",
       "      <td>1.0</td>\n",
       "      <td>1300</td>\n",
       "      <td>1651359</td>\n",
       "      <td>1.0</td>\n",
       "      <td>no</td>\n",
       "      <td>3</td>\n",
       "      <td>4</td>\n",
       "      <td>6</td>\n",
       "      <td>0</td>\n",
       "      <td>1920</td>\n",
       "      <td>98022</td>\n",
       "      <td>47.2313</td>\n",
       "      <td>-122.023</td>\n",
       "      <td>2560</td>\n",
       "      <td>425581</td>\n",
       "      <td>700000</td>\n",
       "    </tr>\n",
       "  </tbody>\n",
       "</table>\n",
       "</div>"
      ],
      "text/plain": [
       "         date  bedrooms  bathrooms  sqft_living  sqft_lot  floors waterfront  \\\n",
       "1717  03/2015         4        1.0         1300   1651359     1.0         no   \n",
       "\n",
       "      view  condition  grade  sqft_basement  yr_built  zipcode      lat  \\\n",
       "1717     3          4      6              0      1920    98022  47.2313   \n",
       "\n",
       "         long  sqft_living15  sqft_lot15   price  \n",
       "1717 -122.023           2560      425581  700000  "
      ]
     },
     "execution_count": 2094,
     "metadata": {},
     "output_type": "execute_result"
    }
   ],
   "source": [
    "re_df.loc[re_df['sqft_lot'] == 1651359]"
   ]
  },
  {
   "cell_type": "code",
   "execution_count": 2095,
   "id": "f6292164",
   "metadata": {},
   "outputs": [],
   "source": [
    "re_df.at[1717,'sqft_lot'] = 16513.59"
   ]
  },
  {
   "cell_type": "markdown",
   "id": "93584582",
   "metadata": {},
   "source": [
    "#### price"
   ]
  },
  {
   "cell_type": "code",
   "execution_count": 2096,
   "id": "a487e55d",
   "metadata": {},
   "outputs": [],
   "source": [
    "re_df = re_df[re_df['price'] < 4000000]"
   ]
  },
  {
   "cell_type": "markdown",
   "id": "ecf71e29",
   "metadata": {},
   "source": [
    "## Plot the Correlation Heatmap"
   ]
  },
  {
   "cell_type": "markdown",
   "id": "326c6081",
   "metadata": {},
   "source": [
    "re_num = re_df[['sqft_living','sqft_lot','sqft_living15','sqft_lot15','sqft_above','sqft_basement']]\n",
    "\n",
    "corr = re_num.corr()\n",
    "mask = np.zeros_like(corr)\n",
    "mask[np.triu_indices_from(mask)] = True\n",
    "with sns.axes_style(\"white\"):\n",
    "    f, ax = plt.subplots(figsize=(9, 7))\n",
    "    ax = sns.heatmap(corr, mask=mask,cmap='coolwarm', vmin=-1,vmax=1,annot=True, square=True)"
   ]
  },
  {
   "cell_type": "markdown",
   "id": "5938960b",
   "metadata": {},
   "source": [
    "## X Y split"
   ]
  },
  {
   "cell_type": "code",
   "execution_count": 2097,
   "id": "22079693",
   "metadata": {},
   "outputs": [],
   "source": [
    "X=re_df.drop(\"price\", axis=1)\n",
    "y=re_df[\"price\"]"
   ]
  },
  {
   "cell_type": "markdown",
   "id": "6e9a3efc",
   "metadata": {},
   "source": [
    "## Data Splitting"
   ]
  },
  {
   "cell_type": "code",
   "execution_count": 2098,
   "id": "a3051d93",
   "metadata": {},
   "outputs": [],
   "source": [
    "X_train, X_test, y_train, y_test=train_test_split(X, y, test_size=.30,random_state=123)"
   ]
  },
  {
   "cell_type": "code",
   "execution_count": 2099,
   "id": "c67cd0be",
   "metadata": {},
   "outputs": [],
   "source": [
    "y_train =y_train.reset_index(drop=True)\n",
    "y_test = y_test.reset_index(drop=True)"
   ]
  },
  {
   "cell_type": "markdown",
   "id": "489db419",
   "metadata": {},
   "source": [
    "## Data Transformation"
   ]
  },
  {
   "cell_type": "markdown",
   "id": "a03c2827",
   "metadata": {},
   "source": [
    "### Hot coding Categorical Variables"
   ]
  },
  {
   "cell_type": "code",
   "execution_count": 2100,
   "id": "54cf7869",
   "metadata": {},
   "outputs": [
    {
     "data": {
      "text/html": [
       "<div>\n",
       "<style scoped>\n",
       "    .dataframe tbody tr th:only-of-type {\n",
       "        vertical-align: middle;\n",
       "    }\n",
       "\n",
       "    .dataframe tbody tr th {\n",
       "        vertical-align: top;\n",
       "    }\n",
       "\n",
       "    .dataframe thead th {\n",
       "        text-align: right;\n",
       "    }\n",
       "</style>\n",
       "<table border=\"1\" class=\"dataframe\">\n",
       "  <thead>\n",
       "    <tr style=\"text-align: right;\">\n",
       "      <th></th>\n",
       "      <th>date</th>\n",
       "      <th>bedrooms</th>\n",
       "      <th>bathrooms</th>\n",
       "      <th>view</th>\n",
       "      <th>floors</th>\n",
       "      <th>waterfront</th>\n",
       "      <th>condition</th>\n",
       "      <th>grade</th>\n",
       "      <th>yr_built</th>\n",
       "      <th>zipcode</th>\n",
       "      <th>lat</th>\n",
       "      <th>long</th>\n",
       "    </tr>\n",
       "  </thead>\n",
       "  <tbody>\n",
       "    <tr>\n",
       "      <th>12043</th>\n",
       "      <td>03/2015</td>\n",
       "      <td>4</td>\n",
       "      <td>2.25</td>\n",
       "      <td>0</td>\n",
       "      <td>1.0</td>\n",
       "      <td>no</td>\n",
       "      <td>4</td>\n",
       "      <td>8</td>\n",
       "      <td>1972</td>\n",
       "      <td>98052</td>\n",
       "      <td>47.6287</td>\n",
       "      <td>-122.093</td>\n",
       "    </tr>\n",
       "    <tr>\n",
       "      <th>2531</th>\n",
       "      <td>05/2014</td>\n",
       "      <td>4</td>\n",
       "      <td>3.00</td>\n",
       "      <td>0</td>\n",
       "      <td>2.0</td>\n",
       "      <td>no</td>\n",
       "      <td>3</td>\n",
       "      <td>10</td>\n",
       "      <td>1998</td>\n",
       "      <td>98075</td>\n",
       "      <td>47.5937</td>\n",
       "      <td>-121.982</td>\n",
       "    </tr>\n",
       "    <tr>\n",
       "      <th>4111</th>\n",
       "      <td>05/2014</td>\n",
       "      <td>4</td>\n",
       "      <td>2.00</td>\n",
       "      <td>0</td>\n",
       "      <td>1.0</td>\n",
       "      <td>no</td>\n",
       "      <td>5</td>\n",
       "      <td>7</td>\n",
       "      <td>1956</td>\n",
       "      <td>98005</td>\n",
       "      <td>47.5877</td>\n",
       "      <td>-122.157</td>\n",
       "    </tr>\n",
       "    <tr>\n",
       "      <th>12522</th>\n",
       "      <td>02/2015</td>\n",
       "      <td>2</td>\n",
       "      <td>1.75</td>\n",
       "      <td>0</td>\n",
       "      <td>2.0</td>\n",
       "      <td>no</td>\n",
       "      <td>3</td>\n",
       "      <td>9</td>\n",
       "      <td>2010</td>\n",
       "      <td>98102</td>\n",
       "      <td>47.6192</td>\n",
       "      <td>-122.316</td>\n",
       "    </tr>\n",
       "    <tr>\n",
       "      <th>8760</th>\n",
       "      <td>07/2014</td>\n",
       "      <td>2</td>\n",
       "      <td>1.00</td>\n",
       "      <td>0</td>\n",
       "      <td>1.0</td>\n",
       "      <td>no</td>\n",
       "      <td>3</td>\n",
       "      <td>6</td>\n",
       "      <td>1939</td>\n",
       "      <td>98108</td>\n",
       "      <td>47.5558</td>\n",
       "      <td>-122.310</td>\n",
       "    </tr>\n",
       "    <tr>\n",
       "      <th>...</th>\n",
       "      <td>...</td>\n",
       "      <td>...</td>\n",
       "      <td>...</td>\n",
       "      <td>...</td>\n",
       "      <td>...</td>\n",
       "      <td>...</td>\n",
       "      <td>...</td>\n",
       "      <td>...</td>\n",
       "      <td>...</td>\n",
       "      <td>...</td>\n",
       "      <td>...</td>\n",
       "      <td>...</td>\n",
       "    </tr>\n",
       "    <tr>\n",
       "      <th>1658</th>\n",
       "      <td>12/2014</td>\n",
       "      <td>8</td>\n",
       "      <td>5.00</td>\n",
       "      <td>0</td>\n",
       "      <td>2.0</td>\n",
       "      <td>no</td>\n",
       "      <td>3</td>\n",
       "      <td>8</td>\n",
       "      <td>1997</td>\n",
       "      <td>98122</td>\n",
       "      <td>47.6086</td>\n",
       "      <td>-122.303</td>\n",
       "    </tr>\n",
       "    <tr>\n",
       "      <th>8554</th>\n",
       "      <td>05/2014</td>\n",
       "      <td>3</td>\n",
       "      <td>2.50</td>\n",
       "      <td>0</td>\n",
       "      <td>2.0</td>\n",
       "      <td>no</td>\n",
       "      <td>3</td>\n",
       "      <td>7</td>\n",
       "      <td>2002</td>\n",
       "      <td>98092</td>\n",
       "      <td>47.3344</td>\n",
       "      <td>-122.174</td>\n",
       "    </tr>\n",
       "    <tr>\n",
       "      <th>5714</th>\n",
       "      <td>09/2014</td>\n",
       "      <td>3</td>\n",
       "      <td>3.00</td>\n",
       "      <td>0</td>\n",
       "      <td>1.0</td>\n",
       "      <td>no</td>\n",
       "      <td>4</td>\n",
       "      <td>10</td>\n",
       "      <td>1979</td>\n",
       "      <td>98092</td>\n",
       "      <td>47.3080</td>\n",
       "      <td>-122.087</td>\n",
       "    </tr>\n",
       "    <tr>\n",
       "      <th>10234</th>\n",
       "      <td>08/2014</td>\n",
       "      <td>3</td>\n",
       "      <td>2.50</td>\n",
       "      <td>0</td>\n",
       "      <td>2.0</td>\n",
       "      <td>no</td>\n",
       "      <td>3</td>\n",
       "      <td>7</td>\n",
       "      <td>2000</td>\n",
       "      <td>98065</td>\n",
       "      <td>47.5309</td>\n",
       "      <td>-121.876</td>\n",
       "    </tr>\n",
       "    <tr>\n",
       "      <th>5862</th>\n",
       "      <td>02/2015</td>\n",
       "      <td>3</td>\n",
       "      <td>2.50</td>\n",
       "      <td>2</td>\n",
       "      <td>1.0</td>\n",
       "      <td>no</td>\n",
       "      <td>4</td>\n",
       "      <td>9</td>\n",
       "      <td>1989</td>\n",
       "      <td>98023</td>\n",
       "      <td>47.3384</td>\n",
       "      <td>-122.340</td>\n",
       "    </tr>\n",
       "  </tbody>\n",
       "</table>\n",
       "<p>6475 rows × 12 columns</p>\n",
       "</div>"
      ],
      "text/plain": [
       "          date  bedrooms  bathrooms  view  floors waterfront  condition  \\\n",
       "12043  03/2015         4       2.25     0     1.0         no          4   \n",
       "2531   05/2014         4       3.00     0     2.0         no          3   \n",
       "4111   05/2014         4       2.00     0     1.0         no          5   \n",
       "12522  02/2015         2       1.75     0     2.0         no          3   \n",
       "8760   07/2014         2       1.00     0     1.0         no          3   \n",
       "...        ...       ...        ...   ...     ...        ...        ...   \n",
       "1658   12/2014         8       5.00     0     2.0         no          3   \n",
       "8554   05/2014         3       2.50     0     2.0         no          3   \n",
       "5714   09/2014         3       3.00     0     1.0         no          4   \n",
       "10234  08/2014         3       2.50     0     2.0         no          3   \n",
       "5862   02/2015         3       2.50     2     1.0         no          4   \n",
       "\n",
       "       grade  yr_built  zipcode      lat     long  \n",
       "12043      8      1972    98052  47.6287 -122.093  \n",
       "2531      10      1998    98075  47.5937 -121.982  \n",
       "4111       7      1956    98005  47.5877 -122.157  \n",
       "12522      9      2010    98102  47.6192 -122.316  \n",
       "8760       6      1939    98108  47.5558 -122.310  \n",
       "...      ...       ...      ...      ...      ...  \n",
       "1658       8      1997    98122  47.6086 -122.303  \n",
       "8554       7      2002    98092  47.3344 -122.174  \n",
       "5714      10      1979    98092  47.3080 -122.087  \n",
       "10234      7      2000    98065  47.5309 -121.876  \n",
       "5862       9      1989    98023  47.3384 -122.340  \n",
       "\n",
       "[6475 rows x 12 columns]"
      ]
     },
     "execution_count": 2100,
     "metadata": {},
     "output_type": "execute_result"
    }
   ],
   "source": [
    "X_train_cat=X_train[['date','bedrooms','bathrooms','view','floors','waterfront','condition','grade','yr_built','zipcode','lat','long']]\n",
    "X_train_cat\n",
    "\n",
    "X_test_cat=X_test[['date','bedrooms','bathrooms','view','floors','waterfront','condition','grade','yr_built','zipcode','lat','long']]\n",
    "X_test_cat"
   ]
  },
  {
   "cell_type": "code",
   "execution_count": 2101,
   "id": "cf5e573d",
   "metadata": {},
   "outputs": [
    {
     "data": {
      "text/html": [
       "<div>\n",
       "<style scoped>\n",
       "    .dataframe tbody tr th:only-of-type {\n",
       "        vertical-align: middle;\n",
       "    }\n",
       "\n",
       "    .dataframe tbody tr th {\n",
       "        vertical-align: top;\n",
       "    }\n",
       "\n",
       "    .dataframe thead th {\n",
       "        text-align: right;\n",
       "    }\n",
       "</style>\n",
       "<table border=\"1\" class=\"dataframe\">\n",
       "  <thead>\n",
       "    <tr style=\"text-align: right;\">\n",
       "      <th></th>\n",
       "      <th>bedrooms_2</th>\n",
       "      <th>bedrooms_3</th>\n",
       "      <th>bedrooms_4</th>\n",
       "      <th>bedrooms_5</th>\n",
       "      <th>bedrooms_6</th>\n",
       "      <th>bedrooms_7</th>\n",
       "      <th>bedrooms_8</th>\n",
       "      <th>bedrooms_9</th>\n",
       "      <th>bathrooms_0.75</th>\n",
       "      <th>bathrooms_1.0</th>\n",
       "      <th>...</th>\n",
       "      <th>date_05/2014_1</th>\n",
       "      <th>date_05/2015_1</th>\n",
       "      <th>date_06/2014_1</th>\n",
       "      <th>date_07/2014_1</th>\n",
       "      <th>date_08/2014_1</th>\n",
       "      <th>date_09/2014_1</th>\n",
       "      <th>date_10/2014_1</th>\n",
       "      <th>date_11/2014_1</th>\n",
       "      <th>date_12/2014_1</th>\n",
       "      <th>waterfront_yes_1</th>\n",
       "    </tr>\n",
       "  </thead>\n",
       "  <tbody>\n",
       "    <tr>\n",
       "      <th>0</th>\n",
       "      <td>0.0</td>\n",
       "      <td>0.0</td>\n",
       "      <td>1.0</td>\n",
       "      <td>0.0</td>\n",
       "      <td>0.0</td>\n",
       "      <td>0.0</td>\n",
       "      <td>0.0</td>\n",
       "      <td>0.0</td>\n",
       "      <td>0.0</td>\n",
       "      <td>0.0</td>\n",
       "      <td>...</td>\n",
       "      <td>0.0</td>\n",
       "      <td>0.0</td>\n",
       "      <td>0.0</td>\n",
       "      <td>0.0</td>\n",
       "      <td>0.0</td>\n",
       "      <td>0.0</td>\n",
       "      <td>0.0</td>\n",
       "      <td>0.0</td>\n",
       "      <td>0.0</td>\n",
       "      <td>0.0</td>\n",
       "    </tr>\n",
       "    <tr>\n",
       "      <th>1</th>\n",
       "      <td>0.0</td>\n",
       "      <td>0.0</td>\n",
       "      <td>1.0</td>\n",
       "      <td>0.0</td>\n",
       "      <td>0.0</td>\n",
       "      <td>0.0</td>\n",
       "      <td>0.0</td>\n",
       "      <td>0.0</td>\n",
       "      <td>0.0</td>\n",
       "      <td>0.0</td>\n",
       "      <td>...</td>\n",
       "      <td>1.0</td>\n",
       "      <td>0.0</td>\n",
       "      <td>0.0</td>\n",
       "      <td>0.0</td>\n",
       "      <td>0.0</td>\n",
       "      <td>0.0</td>\n",
       "      <td>0.0</td>\n",
       "      <td>0.0</td>\n",
       "      <td>0.0</td>\n",
       "      <td>0.0</td>\n",
       "    </tr>\n",
       "    <tr>\n",
       "      <th>2</th>\n",
       "      <td>0.0</td>\n",
       "      <td>0.0</td>\n",
       "      <td>1.0</td>\n",
       "      <td>0.0</td>\n",
       "      <td>0.0</td>\n",
       "      <td>0.0</td>\n",
       "      <td>0.0</td>\n",
       "      <td>0.0</td>\n",
       "      <td>0.0</td>\n",
       "      <td>0.0</td>\n",
       "      <td>...</td>\n",
       "      <td>1.0</td>\n",
       "      <td>0.0</td>\n",
       "      <td>0.0</td>\n",
       "      <td>0.0</td>\n",
       "      <td>0.0</td>\n",
       "      <td>0.0</td>\n",
       "      <td>0.0</td>\n",
       "      <td>0.0</td>\n",
       "      <td>0.0</td>\n",
       "      <td>0.0</td>\n",
       "    </tr>\n",
       "    <tr>\n",
       "      <th>3</th>\n",
       "      <td>1.0</td>\n",
       "      <td>0.0</td>\n",
       "      <td>0.0</td>\n",
       "      <td>0.0</td>\n",
       "      <td>0.0</td>\n",
       "      <td>0.0</td>\n",
       "      <td>0.0</td>\n",
       "      <td>0.0</td>\n",
       "      <td>0.0</td>\n",
       "      <td>0.0</td>\n",
       "      <td>...</td>\n",
       "      <td>0.0</td>\n",
       "      <td>0.0</td>\n",
       "      <td>0.0</td>\n",
       "      <td>0.0</td>\n",
       "      <td>0.0</td>\n",
       "      <td>0.0</td>\n",
       "      <td>0.0</td>\n",
       "      <td>0.0</td>\n",
       "      <td>0.0</td>\n",
       "      <td>0.0</td>\n",
       "    </tr>\n",
       "    <tr>\n",
       "      <th>4</th>\n",
       "      <td>1.0</td>\n",
       "      <td>0.0</td>\n",
       "      <td>0.0</td>\n",
       "      <td>0.0</td>\n",
       "      <td>0.0</td>\n",
       "      <td>0.0</td>\n",
       "      <td>0.0</td>\n",
       "      <td>0.0</td>\n",
       "      <td>0.0</td>\n",
       "      <td>1.0</td>\n",
       "      <td>...</td>\n",
       "      <td>0.0</td>\n",
       "      <td>0.0</td>\n",
       "      <td>0.0</td>\n",
       "      <td>1.0</td>\n",
       "      <td>0.0</td>\n",
       "      <td>0.0</td>\n",
       "      <td>0.0</td>\n",
       "      <td>0.0</td>\n",
       "      <td>0.0</td>\n",
       "      <td>0.0</td>\n",
       "    </tr>\n",
       "    <tr>\n",
       "      <th>...</th>\n",
       "      <td>...</td>\n",
       "      <td>...</td>\n",
       "      <td>...</td>\n",
       "      <td>...</td>\n",
       "      <td>...</td>\n",
       "      <td>...</td>\n",
       "      <td>...</td>\n",
       "      <td>...</td>\n",
       "      <td>...</td>\n",
       "      <td>...</td>\n",
       "      <td>...</td>\n",
       "      <td>...</td>\n",
       "      <td>...</td>\n",
       "      <td>...</td>\n",
       "      <td>...</td>\n",
       "      <td>...</td>\n",
       "      <td>...</td>\n",
       "      <td>...</td>\n",
       "      <td>...</td>\n",
       "      <td>...</td>\n",
       "      <td>...</td>\n",
       "    </tr>\n",
       "    <tr>\n",
       "      <th>6470</th>\n",
       "      <td>0.0</td>\n",
       "      <td>0.0</td>\n",
       "      <td>0.0</td>\n",
       "      <td>0.0</td>\n",
       "      <td>0.0</td>\n",
       "      <td>0.0</td>\n",
       "      <td>1.0</td>\n",
       "      <td>0.0</td>\n",
       "      <td>0.0</td>\n",
       "      <td>0.0</td>\n",
       "      <td>...</td>\n",
       "      <td>0.0</td>\n",
       "      <td>0.0</td>\n",
       "      <td>0.0</td>\n",
       "      <td>0.0</td>\n",
       "      <td>0.0</td>\n",
       "      <td>0.0</td>\n",
       "      <td>0.0</td>\n",
       "      <td>0.0</td>\n",
       "      <td>1.0</td>\n",
       "      <td>0.0</td>\n",
       "    </tr>\n",
       "    <tr>\n",
       "      <th>6471</th>\n",
       "      <td>0.0</td>\n",
       "      <td>1.0</td>\n",
       "      <td>0.0</td>\n",
       "      <td>0.0</td>\n",
       "      <td>0.0</td>\n",
       "      <td>0.0</td>\n",
       "      <td>0.0</td>\n",
       "      <td>0.0</td>\n",
       "      <td>0.0</td>\n",
       "      <td>0.0</td>\n",
       "      <td>...</td>\n",
       "      <td>1.0</td>\n",
       "      <td>0.0</td>\n",
       "      <td>0.0</td>\n",
       "      <td>0.0</td>\n",
       "      <td>0.0</td>\n",
       "      <td>0.0</td>\n",
       "      <td>0.0</td>\n",
       "      <td>0.0</td>\n",
       "      <td>0.0</td>\n",
       "      <td>0.0</td>\n",
       "    </tr>\n",
       "    <tr>\n",
       "      <th>6472</th>\n",
       "      <td>0.0</td>\n",
       "      <td>1.0</td>\n",
       "      <td>0.0</td>\n",
       "      <td>0.0</td>\n",
       "      <td>0.0</td>\n",
       "      <td>0.0</td>\n",
       "      <td>0.0</td>\n",
       "      <td>0.0</td>\n",
       "      <td>0.0</td>\n",
       "      <td>0.0</td>\n",
       "      <td>...</td>\n",
       "      <td>0.0</td>\n",
       "      <td>0.0</td>\n",
       "      <td>0.0</td>\n",
       "      <td>0.0</td>\n",
       "      <td>0.0</td>\n",
       "      <td>1.0</td>\n",
       "      <td>0.0</td>\n",
       "      <td>0.0</td>\n",
       "      <td>0.0</td>\n",
       "      <td>0.0</td>\n",
       "    </tr>\n",
       "    <tr>\n",
       "      <th>6473</th>\n",
       "      <td>0.0</td>\n",
       "      <td>1.0</td>\n",
       "      <td>0.0</td>\n",
       "      <td>0.0</td>\n",
       "      <td>0.0</td>\n",
       "      <td>0.0</td>\n",
       "      <td>0.0</td>\n",
       "      <td>0.0</td>\n",
       "      <td>0.0</td>\n",
       "      <td>0.0</td>\n",
       "      <td>...</td>\n",
       "      <td>0.0</td>\n",
       "      <td>0.0</td>\n",
       "      <td>0.0</td>\n",
       "      <td>0.0</td>\n",
       "      <td>1.0</td>\n",
       "      <td>0.0</td>\n",
       "      <td>0.0</td>\n",
       "      <td>0.0</td>\n",
       "      <td>0.0</td>\n",
       "      <td>0.0</td>\n",
       "    </tr>\n",
       "    <tr>\n",
       "      <th>6474</th>\n",
       "      <td>0.0</td>\n",
       "      <td>1.0</td>\n",
       "      <td>0.0</td>\n",
       "      <td>0.0</td>\n",
       "      <td>0.0</td>\n",
       "      <td>0.0</td>\n",
       "      <td>0.0</td>\n",
       "      <td>0.0</td>\n",
       "      <td>0.0</td>\n",
       "      <td>0.0</td>\n",
       "      <td>...</td>\n",
       "      <td>0.0</td>\n",
       "      <td>0.0</td>\n",
       "      <td>0.0</td>\n",
       "      <td>0.0</td>\n",
       "      <td>0.0</td>\n",
       "      <td>0.0</td>\n",
       "      <td>0.0</td>\n",
       "      <td>0.0</td>\n",
       "      <td>0.0</td>\n",
       "      <td>0.0</td>\n",
       "    </tr>\n",
       "  </tbody>\n",
       "</table>\n",
       "<p>6475 rows × 4340 columns</p>\n",
       "</div>"
      ],
      "text/plain": [
       "      bedrooms_2  bedrooms_3  bedrooms_4  bedrooms_5  bedrooms_6  bedrooms_7  \\\n",
       "0            0.0         0.0         1.0         0.0         0.0         0.0   \n",
       "1            0.0         0.0         1.0         0.0         0.0         0.0   \n",
       "2            0.0         0.0         1.0         0.0         0.0         0.0   \n",
       "3            1.0         0.0         0.0         0.0         0.0         0.0   \n",
       "4            1.0         0.0         0.0         0.0         0.0         0.0   \n",
       "...          ...         ...         ...         ...         ...         ...   \n",
       "6470         0.0         0.0         0.0         0.0         0.0         0.0   \n",
       "6471         0.0         1.0         0.0         0.0         0.0         0.0   \n",
       "6472         0.0         1.0         0.0         0.0         0.0         0.0   \n",
       "6473         0.0         1.0         0.0         0.0         0.0         0.0   \n",
       "6474         0.0         1.0         0.0         0.0         0.0         0.0   \n",
       "\n",
       "      bedrooms_8  bedrooms_9  bathrooms_0.75  bathrooms_1.0  ...  \\\n",
       "0            0.0         0.0             0.0            0.0  ...   \n",
       "1            0.0         0.0             0.0            0.0  ...   \n",
       "2            0.0         0.0             0.0            0.0  ...   \n",
       "3            0.0         0.0             0.0            0.0  ...   \n",
       "4            0.0         0.0             0.0            1.0  ...   \n",
       "...          ...         ...             ...            ...  ...   \n",
       "6470         1.0         0.0             0.0            0.0  ...   \n",
       "6471         0.0         0.0             0.0            0.0  ...   \n",
       "6472         0.0         0.0             0.0            0.0  ...   \n",
       "6473         0.0         0.0             0.0            0.0  ...   \n",
       "6474         0.0         0.0             0.0            0.0  ...   \n",
       "\n",
       "      date_05/2014_1  date_05/2015_1  date_06/2014_1  date_07/2014_1  \\\n",
       "0                0.0             0.0             0.0             0.0   \n",
       "1                1.0             0.0             0.0             0.0   \n",
       "2                1.0             0.0             0.0             0.0   \n",
       "3                0.0             0.0             0.0             0.0   \n",
       "4                0.0             0.0             0.0             1.0   \n",
       "...              ...             ...             ...             ...   \n",
       "6470             0.0             0.0             0.0             0.0   \n",
       "6471             1.0             0.0             0.0             0.0   \n",
       "6472             0.0             0.0             0.0             0.0   \n",
       "6473             0.0             0.0             0.0             0.0   \n",
       "6474             0.0             0.0             0.0             0.0   \n",
       "\n",
       "      date_08/2014_1  date_09/2014_1  date_10/2014_1  date_11/2014_1  \\\n",
       "0                0.0             0.0             0.0             0.0   \n",
       "1                0.0             0.0             0.0             0.0   \n",
       "2                0.0             0.0             0.0             0.0   \n",
       "3                0.0             0.0             0.0             0.0   \n",
       "4                0.0             0.0             0.0             0.0   \n",
       "...              ...             ...             ...             ...   \n",
       "6470             0.0             0.0             0.0             0.0   \n",
       "6471             0.0             0.0             0.0             0.0   \n",
       "6472             0.0             1.0             0.0             0.0   \n",
       "6473             1.0             0.0             0.0             0.0   \n",
       "6474             0.0             0.0             0.0             0.0   \n",
       "\n",
       "      date_12/2014_1  waterfront_yes_1  \n",
       "0                0.0               0.0  \n",
       "1                0.0               0.0  \n",
       "2                0.0               0.0  \n",
       "3                0.0               0.0  \n",
       "4                0.0               0.0  \n",
       "...              ...               ...  \n",
       "6470             1.0               0.0  \n",
       "6471             0.0               0.0  \n",
       "6472             0.0               0.0  \n",
       "6473             0.0               0.0  \n",
       "6474             0.0               0.0  \n",
       "\n",
       "[6475 rows x 4340 columns]"
      ]
     },
     "execution_count": 2101,
     "metadata": {},
     "output_type": "execute_result"
    }
   ],
   "source": [
    "X_train_cat=pd.get_dummies(X_train_cat, drop_first=True)\n",
    "pd.DataFrame(OneHotEncoder(drop='first').fit_transform(X_train_cat).toarray(),\n",
    "columns=OneHotEncoder(drop='first').fit(X_train_cat).get_feature_names(input_features=X_train_cat.columns))\n",
    "\n",
    "X_test_cat=pd.get_dummies(X_test_cat, drop_first=True)\n",
    "pd.DataFrame(OneHotEncoder(drop='first').fit_transform(X_test_cat).toarray(),\n",
    "columns=OneHotEncoder(drop='first').fit(X_test_cat).get_feature_names(input_features=X_test_cat.columns))"
   ]
  },
  {
   "cell_type": "code",
   "execution_count": 2102,
   "id": "707f5adf",
   "metadata": {},
   "outputs": [],
   "source": [
    "X_train_cat = X_train_cat.reset_index(drop=True)\n",
    "X_test_cat = X_test_cat.reset_index(drop=True)"
   ]
  },
  {
   "cell_type": "markdown",
   "id": "7006b949",
   "metadata": {},
   "source": [
    "### Standardize numerical"
   ]
  },
  {
   "cell_type": "code",
   "execution_count": 2103,
   "id": "cf03f651",
   "metadata": {},
   "outputs": [
    {
     "data": {
      "text/html": [
       "<div>\n",
       "<style scoped>\n",
       "    .dataframe tbody tr th:only-of-type {\n",
       "        vertical-align: middle;\n",
       "    }\n",
       "\n",
       "    .dataframe tbody tr th {\n",
       "        vertical-align: top;\n",
       "    }\n",
       "\n",
       "    .dataframe thead th {\n",
       "        text-align: right;\n",
       "    }\n",
       "</style>\n",
       "<table border=\"1\" class=\"dataframe\">\n",
       "  <thead>\n",
       "    <tr style=\"text-align: right;\">\n",
       "      <th></th>\n",
       "      <th>sqft_living</th>\n",
       "      <th>sqft_lot</th>\n",
       "      <th>sqft_living15</th>\n",
       "      <th>sqft_lot15</th>\n",
       "      <th>sqft_basement</th>\n",
       "    </tr>\n",
       "  </thead>\n",
       "  <tbody>\n",
       "    <tr>\n",
       "      <th>12043</th>\n",
       "      <td>2420</td>\n",
       "      <td>7725</td>\n",
       "      <td>1740</td>\n",
       "      <td>7944</td>\n",
       "      <td>530</td>\n",
       "    </tr>\n",
       "    <tr>\n",
       "      <th>2531</th>\n",
       "      <td>3690</td>\n",
       "      <td>9892</td>\n",
       "      <td>3430</td>\n",
       "      <td>11294</td>\n",
       "      <td>0</td>\n",
       "    </tr>\n",
       "    <tr>\n",
       "      <th>4111</th>\n",
       "      <td>2250</td>\n",
       "      <td>7500</td>\n",
       "      <td>1440</td>\n",
       "      <td>7500</td>\n",
       "      <td>1050</td>\n",
       "    </tr>\n",
       "    <tr>\n",
       "      <th>12522</th>\n",
       "      <td>1170</td>\n",
       "      <td>976</td>\n",
       "      <td>1280</td>\n",
       "      <td>1183</td>\n",
       "      <td>390</td>\n",
       "    </tr>\n",
       "    <tr>\n",
       "      <th>8760</th>\n",
       "      <td>1020</td>\n",
       "      <td>7920</td>\n",
       "      <td>1530</td>\n",
       "      <td>6900</td>\n",
       "      <td>0</td>\n",
       "    </tr>\n",
       "    <tr>\n",
       "      <th>...</th>\n",
       "      <td>...</td>\n",
       "      <td>...</td>\n",
       "      <td>...</td>\n",
       "      <td>...</td>\n",
       "      <td>...</td>\n",
       "    </tr>\n",
       "    <tr>\n",
       "      <th>1658</th>\n",
       "      <td>2800</td>\n",
       "      <td>2580</td>\n",
       "      <td>1800</td>\n",
       "      <td>2580</td>\n",
       "      <td>920</td>\n",
       "    </tr>\n",
       "    <tr>\n",
       "      <th>8554</th>\n",
       "      <td>2720</td>\n",
       "      <td>6014</td>\n",
       "      <td>2760</td>\n",
       "      <td>6537</td>\n",
       "      <td>0</td>\n",
       "    </tr>\n",
       "    <tr>\n",
       "      <th>5714</th>\n",
       "      <td>3760</td>\n",
       "      <td>188760</td>\n",
       "      <td>2820</td>\n",
       "      <td>50543</td>\n",
       "      <td>1120</td>\n",
       "    </tr>\n",
       "    <tr>\n",
       "      <th>10234</th>\n",
       "      <td>1590</td>\n",
       "      <td>4242</td>\n",
       "      <td>1590</td>\n",
       "      <td>3702</td>\n",
       "      <td>0</td>\n",
       "    </tr>\n",
       "    <tr>\n",
       "      <th>5862</th>\n",
       "      <td>2410</td>\n",
       "      <td>11900</td>\n",
       "      <td>3090</td>\n",
       "      <td>11902</td>\n",
       "      <td>810</td>\n",
       "    </tr>\n",
       "  </tbody>\n",
       "</table>\n",
       "<p>6475 rows × 5 columns</p>\n",
       "</div>"
      ],
      "text/plain": [
       "       sqft_living  sqft_lot  sqft_living15  sqft_lot15  sqft_basement\n",
       "12043         2420      7725           1740        7944            530\n",
       "2531          3690      9892           3430       11294              0\n",
       "4111          2250      7500           1440        7500           1050\n",
       "12522         1170       976           1280        1183            390\n",
       "8760          1020      7920           1530        6900              0\n",
       "...            ...       ...            ...         ...            ...\n",
       "1658          2800      2580           1800        2580            920\n",
       "8554          2720      6014           2760        6537              0\n",
       "5714          3760    188760           2820       50543           1120\n",
       "10234         1590      4242           1590        3702              0\n",
       "5862          2410     11900           3090       11902            810\n",
       "\n",
       "[6475 rows x 5 columns]"
      ]
     },
     "execution_count": 2103,
     "metadata": {},
     "output_type": "execute_result"
    }
   ],
   "source": [
    "X_train_num=X_train[['sqft_living','sqft_lot','sqft_living15','sqft_lot15','sqft_basement']]\n",
    "X_train_num\n",
    "\n",
    "X_test_num=X_test[['sqft_living','sqft_lot','sqft_living15','sqft_lot15','sqft_basement']]\n",
    "X_test_num"
   ]
  },
  {
   "cell_type": "code",
   "execution_count": 2104,
   "id": "107a50d2",
   "metadata": {},
   "outputs": [],
   "source": [
    "std_scaler=StandardScaler().fit(X_train_num)   ## finding the parameters (mean, variance from the training set )\n",
    "\n",
    "X_train_scaled=std_scaler.transform(X_train_num)"
   ]
  },
  {
   "cell_type": "code",
   "execution_count": 2105,
   "id": "8ba3086d",
   "metadata": {},
   "outputs": [],
   "source": [
    "X_test_scaled=std_scaler.transform(X_test_num)"
   ]
  },
  {
   "cell_type": "code",
   "execution_count": 2106,
   "id": "f6d36497",
   "metadata": {},
   "outputs": [
    {
     "name": "stdout",
     "output_type": "stream",
     "text": [
      "[[-0.22558214 -0.20150199 -0.01912935 -0.21436704 -0.65842987]\n",
      " [ 1.97617049 -0.00460207  1.50947483  0.07914664  2.8921169 ]\n",
      " [-1.32645845 -0.24271865 -0.90101637 -0.27572504 -0.65842987]\n",
      " ...\n",
      " [-0.6259008  -0.22129081 -1.26112024 -0.24382606  0.11540725]\n",
      " [-0.39238158 -0.21890458 -1.29786553 -0.25563119  1.29892284]\n",
      " [-0.60366087 -0.33445584 -0.97450695 -0.40791385  0.28383062]]\n",
      "--------\n",
      "[[ 0.38601581 -0.1797126  -0.35718604 -0.17407171  0.54784564]\n",
      " [ 1.79825108 -0.12748073  2.12679574 -0.05386745 -0.65842987]\n",
      " [ 0.19697645 -0.18513585 -0.79812955 -0.19000326  1.73136122]\n",
      " ...\n",
      " [ 1.87609082  4.18382984  1.2302106   1.35446003  1.89068063]\n",
      " [-0.5369411  -0.26366443 -0.57765779 -0.32628259 -0.65842987]\n",
      " [ 0.37489585 -0.07908129  1.62705976 -0.03205127  1.18512326]]\n"
     ]
    }
   ],
   "source": [
    "print(X_train_scaled)\n",
    "print(\"--------\")\n",
    "print(X_test_scaled)"
   ]
  },
  {
   "cell_type": "code",
   "execution_count": 2107,
   "id": "3a48500d",
   "metadata": {},
   "outputs": [],
   "source": [
    "X_train_scaled = pd.DataFrame(X_train_scaled, columns= X_train_num.columns)\n",
    "X_test_scaled = pd.DataFrame(X_test_scaled, columns= X_test_num.columns)"
   ]
  },
  {
   "cell_type": "code",
   "execution_count": 2108,
   "id": "1255675e",
   "metadata": {},
   "outputs": [],
   "source": [
    "X_train_scaled = X_train_scaled.reset_index(drop=True)\n",
    "X_test_scaled = X_test_scaled.reset_index(drop=True)"
   ]
  },
  {
   "cell_type": "markdown",
   "id": "f56baef0",
   "metadata": {},
   "source": [
    "### Quantile Transformer"
   ]
  },
  {
   "cell_type": "code",
   "execution_count": 2109,
   "id": "a2e28652",
   "metadata": {},
   "outputs": [],
   "source": [
    "qt = QuantileTransformer(output_distribution=\"normal\").fit(X_train_scaled['sqft_living15'].to_numpy().reshape(-1,1))\n",
    "X_train_scaled['sqft_living15'] = qt.transform(X_train_scaled['sqft_living15'].to_numpy().reshape(-1,1))\n",
    "X_test_scaled['sqft_living15'] = qt.transform(X_test_scaled['sqft_living15'].to_numpy().reshape(-1,1))"
   ]
  },
  {
   "cell_type": "code",
   "execution_count": 2110,
   "id": "032f392e",
   "metadata": {},
   "outputs": [],
   "source": [
    "qt = QuantileTransformer(output_distribution=\"normal\").fit(X_train_scaled['sqft_lot15'].to_numpy().reshape(-1,1))\n",
    "X_train_scaled['sqft_lot15'] = qt.transform(X_train_scaled['sqft_lot15'].to_numpy().reshape(-1,1))\n",
    "X_test_scaled['sqft_lot15'] = qt.transform(X_test_scaled['sqft_lot15'].to_numpy().reshape(-1,1))"
   ]
  },
  {
   "cell_type": "markdown",
   "id": "99da487e",
   "metadata": {},
   "source": [
    "qt = QuantileTransformer(output_distribution=\"normal\").fit(y_train.to_numpy().reshape(-1,1))\n",
    "y_train = qt.transform(y_train.to_numpy().reshape(-1,1))\n",
    "y_test = qt.transform(y_test.to_numpy().reshape(-1,1))"
   ]
  },
  {
   "cell_type": "markdown",
   "id": "17d03c54",
   "metadata": {},
   "source": [
    "## Concatination "
   ]
  },
  {
   "cell_type": "code",
   "execution_count": 2111,
   "id": "96f435cc",
   "metadata": {},
   "outputs": [],
   "source": [
    "X_train_con=pd.concat([X_train_scaled,X_train_cat],axis=1)\n",
    "X_test_con=pd.concat([X_test_scaled,X_test_cat],axis=1)"
   ]
  },
  {
   "cell_type": "code",
   "execution_count": 2112,
   "id": "4d7cf84b",
   "metadata": {},
   "outputs": [
    {
     "data": {
      "text/html": [
       "<div>\n",
       "<style scoped>\n",
       "    .dataframe tbody tr th:only-of-type {\n",
       "        vertical-align: middle;\n",
       "    }\n",
       "\n",
       "    .dataframe tbody tr th {\n",
       "        vertical-align: top;\n",
       "    }\n",
       "\n",
       "    .dataframe thead th {\n",
       "        text-align: right;\n",
       "    }\n",
       "</style>\n",
       "<table border=\"1\" class=\"dataframe\">\n",
       "  <thead>\n",
       "    <tr style=\"text-align: right;\">\n",
       "      <th></th>\n",
       "      <th>sqft_living</th>\n",
       "      <th>sqft_lot</th>\n",
       "      <th>sqft_living15</th>\n",
       "      <th>sqft_lot15</th>\n",
       "      <th>sqft_basement</th>\n",
       "      <th>bedrooms</th>\n",
       "      <th>bathrooms</th>\n",
       "      <th>view</th>\n",
       "      <th>floors</th>\n",
       "      <th>condition</th>\n",
       "      <th>...</th>\n",
       "      <th>date_05/2014</th>\n",
       "      <th>date_05/2015</th>\n",
       "      <th>date_06/2014</th>\n",
       "      <th>date_07/2014</th>\n",
       "      <th>date_08/2014</th>\n",
       "      <th>date_09/2014</th>\n",
       "      <th>date_10/2014</th>\n",
       "      <th>date_11/2014</th>\n",
       "      <th>date_12/2014</th>\n",
       "      <th>waterfront_yes</th>\n",
       "    </tr>\n",
       "  </thead>\n",
       "  <tbody>\n",
       "    <tr>\n",
       "      <th>0</th>\n",
       "      <td>-0.225582</td>\n",
       "      <td>-0.201502</td>\n",
       "      <td>0.195700</td>\n",
       "      <td>-0.238864</td>\n",
       "      <td>-0.658430</td>\n",
       "      <td>3</td>\n",
       "      <td>2.50</td>\n",
       "      <td>0</td>\n",
       "      <td>2.0</td>\n",
       "      <td>3</td>\n",
       "      <td>...</td>\n",
       "      <td>0</td>\n",
       "      <td>0</td>\n",
       "      <td>0</td>\n",
       "      <td>1</td>\n",
       "      <td>0</td>\n",
       "      <td>0</td>\n",
       "      <td>0</td>\n",
       "      <td>0</td>\n",
       "      <td>0</td>\n",
       "      <td>0</td>\n",
       "    </tr>\n",
       "    <tr>\n",
       "      <th>1</th>\n",
       "      <td>1.976170</td>\n",
       "      <td>-0.004602</td>\n",
       "      <td>1.381364</td>\n",
       "      <td>1.159764</td>\n",
       "      <td>2.892117</td>\n",
       "      <td>5</td>\n",
       "      <td>3.00</td>\n",
       "      <td>0</td>\n",
       "      <td>1.0</td>\n",
       "      <td>4</td>\n",
       "      <td>...</td>\n",
       "      <td>0</td>\n",
       "      <td>0</td>\n",
       "      <td>0</td>\n",
       "      <td>0</td>\n",
       "      <td>1</td>\n",
       "      <td>0</td>\n",
       "      <td>0</td>\n",
       "      <td>0</td>\n",
       "      <td>0</td>\n",
       "      <td>0</td>\n",
       "    </tr>\n",
       "    <tr>\n",
       "      <th>2</th>\n",
       "      <td>-1.326458</td>\n",
       "      <td>-0.242719</td>\n",
       "      <td>-0.955471</td>\n",
       "      <td>-0.668483</td>\n",
       "      <td>-0.658430</td>\n",
       "      <td>2</td>\n",
       "      <td>1.00</td>\n",
       "      <td>0</td>\n",
       "      <td>1.0</td>\n",
       "      <td>3</td>\n",
       "      <td>...</td>\n",
       "      <td>0</td>\n",
       "      <td>0</td>\n",
       "      <td>0</td>\n",
       "      <td>0</td>\n",
       "      <td>0</td>\n",
       "      <td>0</td>\n",
       "      <td>0</td>\n",
       "      <td>0</td>\n",
       "      <td>1</td>\n",
       "      <td>0</td>\n",
       "    </tr>\n",
       "    <tr>\n",
       "      <th>3</th>\n",
       "      <td>-0.648141</td>\n",
       "      <td>-0.190559</td>\n",
       "      <td>-0.828465</td>\n",
       "      <td>-0.111890</td>\n",
       "      <td>0.251967</td>\n",
       "      <td>3</td>\n",
       "      <td>1.50</td>\n",
       "      <td>0</td>\n",
       "      <td>1.0</td>\n",
       "      <td>3</td>\n",
       "      <td>...</td>\n",
       "      <td>0</td>\n",
       "      <td>0</td>\n",
       "      <td>0</td>\n",
       "      <td>0</td>\n",
       "      <td>0</td>\n",
       "      <td>0</td>\n",
       "      <td>0</td>\n",
       "      <td>0</td>\n",
       "      <td>1</td>\n",
       "      <td>0</td>\n",
       "    </tr>\n",
       "    <tr>\n",
       "      <th>4</th>\n",
       "      <td>-0.881660</td>\n",
       "      <td>-0.203792</td>\n",
       "      <td>-0.357496</td>\n",
       "      <td>-0.748009</td>\n",
       "      <td>-0.658430</td>\n",
       "      <td>3</td>\n",
       "      <td>1.00</td>\n",
       "      <td>0</td>\n",
       "      <td>1.0</td>\n",
       "      <td>3</td>\n",
       "      <td>...</td>\n",
       "      <td>0</td>\n",
       "      <td>0</td>\n",
       "      <td>0</td>\n",
       "      <td>0</td>\n",
       "      <td>0</td>\n",
       "      <td>0</td>\n",
       "      <td>0</td>\n",
       "      <td>0</td>\n",
       "      <td>1</td>\n",
       "      <td>0</td>\n",
       "    </tr>\n",
       "    <tr>\n",
       "      <th>...</th>\n",
       "      <td>...</td>\n",
       "      <td>...</td>\n",
       "      <td>...</td>\n",
       "      <td>...</td>\n",
       "      <td>...</td>\n",
       "      <td>...</td>\n",
       "      <td>...</td>\n",
       "      <td>...</td>\n",
       "      <td>...</td>\n",
       "      <td>...</td>\n",
       "      <td>...</td>\n",
       "      <td>...</td>\n",
       "      <td>...</td>\n",
       "      <td>...</td>\n",
       "      <td>...</td>\n",
       "      <td>...</td>\n",
       "      <td>...</td>\n",
       "      <td>...</td>\n",
       "      <td>...</td>\n",
       "      <td>...</td>\n",
       "      <td>...</td>\n",
       "    </tr>\n",
       "    <tr>\n",
       "      <th>15102</th>\n",
       "      <td>1.208893</td>\n",
       "      <td>0.223102</td>\n",
       "      <td>2.278884</td>\n",
       "      <td>0.934816</td>\n",
       "      <td>1.617562</td>\n",
       "      <td>3</td>\n",
       "      <td>2.50</td>\n",
       "      <td>3</td>\n",
       "      <td>1.0</td>\n",
       "      <td>3</td>\n",
       "      <td>...</td>\n",
       "      <td>0</td>\n",
       "      <td>0</td>\n",
       "      <td>0</td>\n",
       "      <td>0</td>\n",
       "      <td>0</td>\n",
       "      <td>1</td>\n",
       "      <td>0</td>\n",
       "      <td>0</td>\n",
       "      <td>0</td>\n",
       "      <td>0</td>\n",
       "    </tr>\n",
       "    <tr>\n",
       "      <th>15103</th>\n",
       "      <td>1.186653</td>\n",
       "      <td>-0.099593</td>\n",
       "      <td>1.100140</td>\n",
       "      <td>0.830136</td>\n",
       "      <td>-0.658430</td>\n",
       "      <td>4</td>\n",
       "      <td>2.50</td>\n",
       "      <td>0</td>\n",
       "      <td>2.0</td>\n",
       "      <td>3</td>\n",
       "      <td>...</td>\n",
       "      <td>0</td>\n",
       "      <td>0</td>\n",
       "      <td>0</td>\n",
       "      <td>0</td>\n",
       "      <td>0</td>\n",
       "      <td>0</td>\n",
       "      <td>0</td>\n",
       "      <td>1</td>\n",
       "      <td>0</td>\n",
       "      <td>0</td>\n",
       "    </tr>\n",
       "    <tr>\n",
       "      <th>15104</th>\n",
       "      <td>-0.625901</td>\n",
       "      <td>-0.221291</td>\n",
       "      <td>-1.679303</td>\n",
       "      <td>-0.422483</td>\n",
       "      <td>0.115407</td>\n",
       "      <td>3</td>\n",
       "      <td>1.00</td>\n",
       "      <td>0</td>\n",
       "      <td>1.0</td>\n",
       "      <td>3</td>\n",
       "      <td>...</td>\n",
       "      <td>0</td>\n",
       "      <td>0</td>\n",
       "      <td>0</td>\n",
       "      <td>0</td>\n",
       "      <td>0</td>\n",
       "      <td>0</td>\n",
       "      <td>0</td>\n",
       "      <td>0</td>\n",
       "      <td>0</td>\n",
       "      <td>0</td>\n",
       "    </tr>\n",
       "    <tr>\n",
       "      <th>15105</th>\n",
       "      <td>-0.392382</td>\n",
       "      <td>-0.218905</td>\n",
       "      <td>-1.756055</td>\n",
       "      <td>-0.513926</td>\n",
       "      <td>1.298923</td>\n",
       "      <td>4</td>\n",
       "      <td>2.00</td>\n",
       "      <td>0</td>\n",
       "      <td>1.0</td>\n",
       "      <td>4</td>\n",
       "      <td>...</td>\n",
       "      <td>0</td>\n",
       "      <td>0</td>\n",
       "      <td>0</td>\n",
       "      <td>0</td>\n",
       "      <td>1</td>\n",
       "      <td>0</td>\n",
       "      <td>0</td>\n",
       "      <td>0</td>\n",
       "      <td>0</td>\n",
       "      <td>0</td>\n",
       "    </tr>\n",
       "    <tr>\n",
       "      <th>15106</th>\n",
       "      <td>-0.603661</td>\n",
       "      <td>-0.334456</td>\n",
       "      <td>-1.084195</td>\n",
       "      <td>-1.879707</td>\n",
       "      <td>0.283831</td>\n",
       "      <td>3</td>\n",
       "      <td>2.25</td>\n",
       "      <td>0</td>\n",
       "      <td>2.0</td>\n",
       "      <td>3</td>\n",
       "      <td>...</td>\n",
       "      <td>0</td>\n",
       "      <td>0</td>\n",
       "      <td>0</td>\n",
       "      <td>0</td>\n",
       "      <td>0</td>\n",
       "      <td>0</td>\n",
       "      <td>0</td>\n",
       "      <td>0</td>\n",
       "      <td>0</td>\n",
       "      <td>0</td>\n",
       "    </tr>\n",
       "  </tbody>\n",
       "</table>\n",
       "<p>15107 rows × 28 columns</p>\n",
       "</div>"
      ],
      "text/plain": [
       "       sqft_living  sqft_lot  sqft_living15  sqft_lot15  sqft_basement  \\\n",
       "0        -0.225582 -0.201502       0.195700   -0.238864      -0.658430   \n",
       "1         1.976170 -0.004602       1.381364    1.159764       2.892117   \n",
       "2        -1.326458 -0.242719      -0.955471   -0.668483      -0.658430   \n",
       "3        -0.648141 -0.190559      -0.828465   -0.111890       0.251967   \n",
       "4        -0.881660 -0.203792      -0.357496   -0.748009      -0.658430   \n",
       "...            ...       ...            ...         ...            ...   \n",
       "15102     1.208893  0.223102       2.278884    0.934816       1.617562   \n",
       "15103     1.186653 -0.099593       1.100140    0.830136      -0.658430   \n",
       "15104    -0.625901 -0.221291      -1.679303   -0.422483       0.115407   \n",
       "15105    -0.392382 -0.218905      -1.756055   -0.513926       1.298923   \n",
       "15106    -0.603661 -0.334456      -1.084195   -1.879707       0.283831   \n",
       "\n",
       "       bedrooms  bathrooms  view  floors  condition  ...  date_05/2014  \\\n",
       "0             3       2.50     0     2.0          3  ...             0   \n",
       "1             5       3.00     0     1.0          4  ...             0   \n",
       "2             2       1.00     0     1.0          3  ...             0   \n",
       "3             3       1.50     0     1.0          3  ...             0   \n",
       "4             3       1.00     0     1.0          3  ...             0   \n",
       "...         ...        ...   ...     ...        ...  ...           ...   \n",
       "15102         3       2.50     3     1.0          3  ...             0   \n",
       "15103         4       2.50     0     2.0          3  ...             0   \n",
       "15104         3       1.00     0     1.0          3  ...             0   \n",
       "15105         4       2.00     0     1.0          4  ...             0   \n",
       "15106         3       2.25     0     2.0          3  ...             0   \n",
       "\n",
       "       date_05/2015  date_06/2014  date_07/2014  date_08/2014  date_09/2014  \\\n",
       "0                 0             0             1             0             0   \n",
       "1                 0             0             0             1             0   \n",
       "2                 0             0             0             0             0   \n",
       "3                 0             0             0             0             0   \n",
       "4                 0             0             0             0             0   \n",
       "...             ...           ...           ...           ...           ...   \n",
       "15102             0             0             0             0             1   \n",
       "15103             0             0             0             0             0   \n",
       "15104             0             0             0             0             0   \n",
       "15105             0             0             0             1             0   \n",
       "15106             0             0             0             0             0   \n",
       "\n",
       "       date_10/2014  date_11/2014  date_12/2014  waterfront_yes  \n",
       "0                 0             0             0               0  \n",
       "1                 0             0             0               0  \n",
       "2                 0             0             1               0  \n",
       "3                 0             0             1               0  \n",
       "4                 0             0             1               0  \n",
       "...             ...           ...           ...             ...  \n",
       "15102             0             0             0               0  \n",
       "15103             0             1             0               0  \n",
       "15104             0             0             0               0  \n",
       "15105             0             0             0               0  \n",
       "15106             0             0             0               0  \n",
       "\n",
       "[15107 rows x 28 columns]"
      ]
     },
     "execution_count": 2112,
     "metadata": {},
     "output_type": "execute_result"
    }
   ],
   "source": [
    "X_train_con"
   ]
  },
  {
   "cell_type": "markdown",
   "id": "b4fe6b40",
   "metadata": {},
   "source": [
    "##  Apply Linear Regression"
   ]
  },
  {
   "cell_type": "markdown",
   "id": "78f0ec16",
   "metadata": {},
   "source": [
    "### Modelling using Statsmodels"
   ]
  },
  {
   "cell_type": "code",
   "execution_count": 2113,
   "id": "6ef14eb7",
   "metadata": {},
   "outputs": [
    {
     "name": "stdout",
     "output_type": "stream",
     "text": [
      "                            OLS Regression Results                            \n",
      "==============================================================================\n",
      "Dep. Variable:                  price   R-squared:                       0.705\n",
      "Model:                            OLS   Adj. R-squared:                  0.705\n",
      "Method:                 Least Squares   F-statistic:                     1288.\n",
      "Date:                Tue, 08 Feb 2022   Prob (F-statistic):               0.00\n",
      "Time:                        15:18:52   Log-Likelihood:            -2.0494e+05\n",
      "No. Observations:               15107   AIC:                         4.099e+05\n",
      "Df Residuals:                   15078   BIC:                         4.102e+05\n",
      "Df Model:                          28                                         \n",
      "Covariance Type:            nonrobust                                         \n",
      "==================================================================================\n",
      "                     coef    std err          t      P>|t|      [0.025      0.975]\n",
      "----------------------------------------------------------------------------------\n",
      "const           1.722e+07   3.33e+06      5.172      0.000    1.07e+07    2.37e+07\n",
      "sqft_living     1.541e+05   3761.573     40.957      0.000    1.47e+05    1.61e+05\n",
      "sqft_lot        4615.1788   1750.673      2.636      0.008    1183.648    8046.710\n",
      "sqft_living15   1.009e+04   2493.293      4.048      0.000    5205.730     1.5e+04\n",
      "sqft_lot15     -2.407e+04   2241.384    -10.739      0.000   -2.85e+04   -1.97e+04\n",
      "sqft_basement  -1.771e+04   2188.590     -8.091      0.000    -2.2e+04   -1.34e+04\n",
      "bedrooms       -2.995e+04   2239.318    -13.375      0.000   -3.43e+04   -2.56e+04\n",
      "bathrooms       3.744e+04   3660.105     10.230      0.000    3.03e+04    4.46e+04\n",
      "view            5.321e+04   2381.017     22.348      0.000    4.85e+04    5.79e+04\n",
      "floors         -8154.9356   4441.051     -1.836      0.066   -1.69e+04     550.063\n",
      "condition       2.822e+04   2608.260     10.820      0.000    2.31e+04    3.33e+04\n",
      "grade           1.066e+05   2404.952     44.330      0.000    1.02e+05    1.11e+05\n",
      "yr_built       -2726.1912     77.089    -35.364      0.000   -2877.294   -2575.088\n",
      "zipcode         -621.9654     37.038    -16.793      0.000    -694.565    -549.366\n",
      "lat             6.018e+05    1.2e+04     49.959      0.000    5.78e+05    6.25e+05\n",
      "long           -1.651e+05   1.49e+04    -11.070      0.000   -1.94e+05   -1.36e+05\n",
      "date_02/2015    5063.8867   9667.558      0.524      0.600   -1.39e+04     2.4e+04\n",
      "date_03/2015     2.53e+04   8958.328      2.825      0.005    7744.300    4.29e+04\n",
      "date_04/2015    2.332e+04   8724.112      2.673      0.008    6219.975    4.04e+04\n",
      "date_05/2014   -1.211e+04   9047.345     -1.339      0.181   -2.98e+04    5620.597\n",
      "date_05/2015    4.678e+04   1.15e+04      4.083      0.000    2.43e+04    6.92e+04\n",
      "date_06/2014   -7585.7358   8779.262     -0.864      0.388   -2.48e+04    9622.683\n",
      "date_07/2014   -4574.1319   8715.062     -0.525      0.600   -2.17e+04    1.25e+04\n",
      "date_08/2014   -6320.7942   8913.590     -0.709      0.478   -2.38e+04    1.12e+04\n",
      "date_09/2014   -1.693e+04   9031.343     -1.874      0.061   -3.46e+04     773.340\n",
      "date_10/2014   -1.018e+04   8925.830     -1.140      0.254   -2.77e+04    7317.958\n",
      "date_11/2014   -4176.8447   9409.906     -0.444      0.657   -2.26e+04    1.43e+04\n",
      "date_12/2014   -1.972e+04   9340.241     -2.112      0.035    -3.8e+04   -1415.619\n",
      "waterfront_yes  5.546e+05   1.97e+04     28.146      0.000    5.16e+05    5.93e+05\n",
      "==============================================================================\n",
      "Omnibus:                     8738.403   Durbin-Watson:                   1.987\n",
      "Prob(Omnibus):                  0.000   Jarque-Bera (JB):           187575.089\n",
      "Skew:                           2.357   Prob(JB):                         0.00\n",
      "Kurtosis:                      19.607   Cond. No.                     2.13e+08\n",
      "==============================================================================\n",
      "\n",
      "Notes:\n",
      "[1] Standard Errors assume that the covariance matrix of the errors is correctly specified.\n",
      "[2] The condition number is large, 2.13e+08. This might indicate that there are\n",
      "strong multicollinearity or other numerical problems.\n"
     ]
    },
    {
     "name": "stderr",
     "output_type": "stream",
     "text": [
      "/Users/louisarudow/opt/anaconda3/lib/python3.9/site-packages/statsmodels/tsa/tsatools.py:142: FutureWarning: In a future version of pandas all arguments of concat except for the argument 'objs' will be keyword-only\n",
      "  x = pd.concat(x[::order], 1)\n"
     ]
    }
   ],
   "source": [
    "X_train_const_scaled = sm.add_constant(X_train_con) # adding a constant\n",
    "\n",
    "model = sm.OLS(y_train, X_train_const_scaled).fit()\n",
    "predictions_train = model.predict(X_train_const_scaled) \n",
    "\n",
    "X_test_const_scaled = sm.add_constant(X_test_con) # adding a constant\n",
    "predictions_test = model.predict(X_test_const_scaled) \n",
    "print_model = model.summary()\n",
    "print(print_model)"
   ]
  },
  {
   "cell_type": "code",
   "execution_count": 2114,
   "id": "fcb1c09d",
   "metadata": {},
   "outputs": [
    {
     "data": {
      "text/plain": [
       "0       669151.384450\n",
       "1       952509.264885\n",
       "2       550077.851316\n",
       "3       495742.970203\n",
       "4       243392.880546\n",
       "            ...      \n",
       "6470    571291.943464\n",
       "6471    352508.371800\n",
       "6472    856962.624348\n",
       "6473    263658.543236\n",
       "6474    722982.878719\n",
       "Length: 6475, dtype: float64"
      ]
     },
     "execution_count": 2114,
     "metadata": {},
     "output_type": "execute_result"
    }
   ],
   "source": [
    "predictions_test"
   ]
  },
  {
   "cell_type": "code",
   "execution_count": 2115,
   "id": "6e0e6767",
   "metadata": {},
   "outputs": [
    {
     "name": "stdout",
     "output_type": "stream",
     "text": [
      "0.7046603793836568\n"
     ]
    }
   ],
   "source": [
    "#display adjusted R-squared\n",
    "print(model.rsquared_adj)"
   ]
  },
  {
   "cell_type": "markdown",
   "id": "844f986e",
   "metadata": {},
   "source": [
    "### Modeling using Scikit Learn"
   ]
  },
  {
   "cell_type": "code",
   "execution_count": 2116,
   "id": "f126289e",
   "metadata": {},
   "outputs": [
    {
     "data": {
      "text/plain": [
       "LinearRegression()"
      ]
     },
     "execution_count": 2116,
     "metadata": {},
     "output_type": "execute_result"
    }
   ],
   "source": [
    "model=LinearRegression()    # model\n",
    "model.fit(X_train_con, y_train)   # model train"
   ]
  },
  {
   "cell_type": "code",
   "execution_count": 2117,
   "id": "78776cce",
   "metadata": {},
   "outputs": [
    {
     "data": {
      "text/plain": [
       "array([ 154063.54197689,    4615.17884131,   10092.88711509,\n",
       "        -24069.39431407,  -17708.91239423,  -29951.73014162,\n",
       "         37442.58111827,   53211.26524239,   -8154.93562896,\n",
       "         28222.12212601,  106610.40699058,   -2726.19122431,\n",
       "          -621.96538814,  601794.87730165, -165111.59996568,\n",
       "          5063.88670034,   25303.71007338,   23320.29323046,\n",
       "        -12113.2975962 ,   46783.55144235,   -7585.73582443,\n",
       "         -4574.13192548,   -6320.7941749 ,  -16929.18702659,\n",
       "        -10177.75160248,   -4176.84470672,  -19723.62403679,\n",
       "        554637.51354828])"
      ]
     },
     "execution_count": 2117,
     "metadata": {},
     "output_type": "execute_result"
    }
   ],
   "source": [
    "model.coef_"
   ]
  },
  {
   "cell_type": "code",
   "execution_count": 2118,
   "id": "1310d0fe",
   "metadata": {},
   "outputs": [
    {
     "data": {
      "text/plain": [
       "17216278.804781634"
      ]
     },
     "execution_count": 2118,
     "metadata": {},
     "output_type": "execute_result"
    }
   ],
   "source": [
    "model.intercept_"
   ]
  },
  {
   "cell_type": "markdown",
   "id": "4c27d4b4",
   "metadata": {},
   "source": [
    "Making prediction"
   ]
  },
  {
   "cell_type": "code",
   "execution_count": 2119,
   "id": "47431280",
   "metadata": {},
   "outputs": [],
   "source": [
    "y_pred=model.predict(X_test_con)   # model prediction\n",
    "##y_pred_train=model.predict(X_train_scaled)"
   ]
  },
  {
   "cell_type": "code",
   "execution_count": 2120,
   "id": "871a3611",
   "metadata": {},
   "outputs": [
    {
     "data": {
      "text/plain": [
       "0       655000\n",
       "1       865000\n",
       "2       550000\n",
       "3       530000\n",
       "4       235000\n",
       "         ...  \n",
       "6470    490000\n",
       "6471    299900\n",
       "6472    555000\n",
       "6473    355000\n",
       "6474    490000\n",
       "Name: price, Length: 6475, dtype: int64"
      ]
     },
     "execution_count": 2120,
     "metadata": {},
     "output_type": "execute_result"
    }
   ],
   "source": [
    "y_test"
   ]
  },
  {
   "cell_type": "code",
   "execution_count": 2121,
   "id": "d31d5ce1",
   "metadata": {},
   "outputs": [
    {
     "data": {
      "text/plain": [
       "array([669151.38445334, 952509.2648887 , 550077.85131972, ...,\n",
       "       856962.62435207, 263658.54323979, 722982.87872243])"
      ]
     },
     "execution_count": 2121,
     "metadata": {},
     "output_type": "execute_result"
    }
   ],
   "source": [
    "y_pred"
   ]
  },
  {
   "cell_type": "code",
   "execution_count": 2122,
   "id": "70d05f89",
   "metadata": {},
   "outputs": [
    {
     "data": {
      "text/html": [
       "<div>\n",
       "<style scoped>\n",
       "    .dataframe tbody tr th:only-of-type {\n",
       "        vertical-align: middle;\n",
       "    }\n",
       "\n",
       "    .dataframe tbody tr th {\n",
       "        vertical-align: top;\n",
       "    }\n",
       "\n",
       "    .dataframe thead th {\n",
       "        text-align: right;\n",
       "    }\n",
       "</style>\n",
       "<table border=\"1\" class=\"dataframe\">\n",
       "  <thead>\n",
       "    <tr style=\"text-align: right;\">\n",
       "      <th></th>\n",
       "      <th>y_test</th>\n",
       "      <th>y_pred</th>\n",
       "    </tr>\n",
       "  </thead>\n",
       "  <tbody>\n",
       "    <tr>\n",
       "      <th>0</th>\n",
       "      <td>655000</td>\n",
       "      <td>669151.384453</td>\n",
       "    </tr>\n",
       "    <tr>\n",
       "      <th>1</th>\n",
       "      <td>865000</td>\n",
       "      <td>952509.264889</td>\n",
       "    </tr>\n",
       "    <tr>\n",
       "      <th>2</th>\n",
       "      <td>550000</td>\n",
       "      <td>550077.851320</td>\n",
       "    </tr>\n",
       "    <tr>\n",
       "      <th>3</th>\n",
       "      <td>530000</td>\n",
       "      <td>495742.970207</td>\n",
       "    </tr>\n",
       "    <tr>\n",
       "      <th>4</th>\n",
       "      <td>235000</td>\n",
       "      <td>243392.880550</td>\n",
       "    </tr>\n",
       "    <tr>\n",
       "      <th>...</th>\n",
       "      <td>...</td>\n",
       "      <td>...</td>\n",
       "    </tr>\n",
       "    <tr>\n",
       "      <th>6470</th>\n",
       "      <td>490000</td>\n",
       "      <td>571291.943467</td>\n",
       "    </tr>\n",
       "    <tr>\n",
       "      <th>6471</th>\n",
       "      <td>299900</td>\n",
       "      <td>352508.371804</td>\n",
       "    </tr>\n",
       "    <tr>\n",
       "      <th>6472</th>\n",
       "      <td>555000</td>\n",
       "      <td>856962.624352</td>\n",
       "    </tr>\n",
       "    <tr>\n",
       "      <th>6473</th>\n",
       "      <td>355000</td>\n",
       "      <td>263658.543240</td>\n",
       "    </tr>\n",
       "    <tr>\n",
       "      <th>6474</th>\n",
       "      <td>490000</td>\n",
       "      <td>722982.878722</td>\n",
       "    </tr>\n",
       "  </tbody>\n",
       "</table>\n",
       "<p>6475 rows × 2 columns</p>\n",
       "</div>"
      ],
      "text/plain": [
       "      y_test         y_pred\n",
       "0     655000  669151.384453\n",
       "1     865000  952509.264889\n",
       "2     550000  550077.851320\n",
       "3     530000  495742.970207\n",
       "4     235000  243392.880550\n",
       "...      ...            ...\n",
       "6470  490000  571291.943467\n",
       "6471  299900  352508.371804\n",
       "6472  555000  856962.624352\n",
       "6473  355000  263658.543240\n",
       "6474  490000  722982.878722\n",
       "\n",
       "[6475 rows x 2 columns]"
      ]
     },
     "execution_count": 2122,
     "metadata": {},
     "output_type": "execute_result"
    }
   ],
   "source": [
    "result=pd.DataFrame({\"y_test\":y_test,\"y_pred\":y_pred})\n",
    "result"
   ]
  },
  {
   "cell_type": "markdown",
   "id": "0ed86b8f",
   "metadata": {},
   "source": [
    "Linear Regression Train-test split. Standardize the data (after the data split). Apply linear regression. Model Interpretation. Model Validation Model Evaluation: MSE. RMSE. MAE. R2. Adjusted R2. Feature Importance."
   ]
  },
  {
   "cell_type": "code",
   "execution_count": 2123,
   "id": "c38841e0",
   "metadata": {},
   "outputs": [
    {
     "data": {
      "text/plain": [
       "[<matplotlib.lines.Line2D at 0x7fae47ed1700>]"
      ]
     },
     "execution_count": 2123,
     "metadata": {},
     "output_type": "execute_result"
    },
    {
     "data": {
      "image/png": "[encoded data removed]",
      "text/plain": [
       "<Figure size 1008x288 with 3 Axes>"
      ]
     },
     "metadata": {
      "needs_background": "light"
     },
     "output_type": "display_data"
    }
   ],
   "source": [
    "# Make an scatter plot y_pred vs y\n",
    "# What kind of plot you will get if all the all the predictions are ok?\n",
    "# A stright line\n",
    "\n",
    "fig, ax = plt.subplots(1,3,figsize=(14,4))\n",
    "ax[0].plot(y_pred, y_test, 'o')\n",
    "ax[0].set_xlabel(\"y_test\")\n",
    "ax[0].set_ylabel(\"y_pred\")\n",
    "ax[0].set_title(\"Test Set -Predicted vs real\")\n",
    "\n",
    "# Get a histogram of the residuals ie: y - y_pred.  Homoscdasticity\n",
    "# It resembles a normal distribution?\n",
    "ax[1].hist(y_test - y_pred)\n",
    "ax[1].set_xlabel(\"Test y-y_pred\")\n",
    "ax[1].set_title(\"Test Set Residual histogram\")\n",
    "\n",
    "ax[2].plot(y_pred,y_test - y_pred,\"o\")\n",
    "ax[2].set_xlabel(\"predited\")\n",
    "ax[2].set_ylabel(\"residuals\")\n",
    "ax[2].set_title(\"Residuals by Predicted\")\n",
    "ax[2].plot(y_pred,np.zeros(len(y_pred)),linestyle='dashed')"
   ]
  },
  {
   "cell_type": "markdown",
   "id": "cce873a1",
   "metadata": {},
   "source": [
    "#### Error metrics"
   ]
  },
  {
   "cell_type": "code",
   "execution_count": 2124,
   "id": "3ac64b1f",
   "metadata": {},
   "outputs": [
    {
     "name": "stdout",
     "output_type": "stream",
     "text": [
      "33803613483.411125\n",
      "118982.29453703645\n"
     ]
    }
   ],
   "source": [
    "print(mse(y_test,y_pred))\n",
    "print(mae(y_test,y_pred))"
   ]
  },
  {
   "cell_type": "code",
   "execution_count": 2125,
   "id": "3039b5aa",
   "metadata": {},
   "outputs": [
    {
     "data": {
      "text/plain": [
       "0.7226946122348643"
      ]
     },
     "execution_count": 2125,
     "metadata": {},
     "output_type": "execute_result"
    }
   ],
   "source": [
    "R2=r2_score(y_test,y_pred)\n",
    "R2"
   ]
  },
  {
   "cell_type": "code",
   "execution_count": 2126,
   "id": "d471f49d",
   "metadata": {},
   "outputs": [
    {
     "data": {
      "text/plain": [
       "17"
      ]
     },
     "execution_count": 2126,
     "metadata": {},
     "output_type": "execute_result"
    }
   ],
   "source": [
    "X_test.shape[1]"
   ]
  },
  {
   "cell_type": "code",
   "execution_count": 2127,
   "id": "993ed017",
   "metadata": {},
   "outputs": [
    {
     "data": {
      "text/plain": [
       "0.7219645221633129"
      ]
     },
     "execution_count": 2127,
     "metadata": {},
     "output_type": "execute_result"
    }
   ],
   "source": [
    "Adj_R2= 1 - (1-R2)*(len(y_test)-1)/(len(y_test)-X_test.shape[1]-1)\n",
    "Adj_R2"
   ]
  },
  {
   "cell_type": "markdown",
   "id": "cb2bb8b2",
   "metadata": {},
   "source": [
    "#### Feature Importance"
   ]
  },
  {
   "cell_type": "code",
   "execution_count": 2128,
   "id": "1e7d9bb0",
   "metadata": {},
   "outputs": [],
   "source": [
    "features_importances = pd.DataFrame(data={\n",
    "    'Attribute': X_train_con.columns,\n",
    "    'Importance': abs(model.coef_)\n",
    "})\n",
    "features_importances = features_importances.sort_values(by='Importance')"
   ]
  },
  {
   "cell_type": "code",
   "execution_count": 2129,
   "id": "b08adec0",
   "metadata": {},
   "outputs": [
    {
     "data": {
      "text/html": [
       "<div>\n",
       "<style scoped>\n",
       "    .dataframe tbody tr th:only-of-type {\n",
       "        vertical-align: middle;\n",
       "    }\n",
       "\n",
       "    .dataframe tbody tr th {\n",
       "        vertical-align: top;\n",
       "    }\n",
       "\n",
       "    .dataframe thead th {\n",
       "        text-align: right;\n",
       "    }\n",
       "</style>\n",
       "<table border=\"1\" class=\"dataframe\">\n",
       "  <thead>\n",
       "    <tr style=\"text-align: right;\">\n",
       "      <th></th>\n",
       "      <th>Attribute</th>\n",
       "      <th>Importance</th>\n",
       "    </tr>\n",
       "  </thead>\n",
       "  <tbody>\n",
       "    <tr>\n",
       "      <th>12</th>\n",
       "      <td>zipcode</td>\n",
       "      <td>621.965388</td>\n",
       "    </tr>\n",
       "    <tr>\n",
       "      <th>11</th>\n",
       "      <td>yr_built</td>\n",
       "      <td>2726.191224</td>\n",
       "    </tr>\n",
       "    <tr>\n",
       "      <th>25</th>\n",
       "      <td>date_11/2014</td>\n",
       "      <td>4176.844707</td>\n",
       "    </tr>\n",
       "    <tr>\n",
       "      <th>21</th>\n",
       "      <td>date_07/2014</td>\n",
       "      <td>4574.131925</td>\n",
       "    </tr>\n",
       "    <tr>\n",
       "      <th>1</th>\n",
       "      <td>sqft_lot</td>\n",
       "      <td>4615.178841</td>\n",
       "    </tr>\n",
       "    <tr>\n",
       "      <th>15</th>\n",
       "      <td>date_02/2015</td>\n",
       "      <td>5063.886700</td>\n",
       "    </tr>\n",
       "    <tr>\n",
       "      <th>22</th>\n",
       "      <td>date_08/2014</td>\n",
       "      <td>6320.794175</td>\n",
       "    </tr>\n",
       "    <tr>\n",
       "      <th>20</th>\n",
       "      <td>date_06/2014</td>\n",
       "      <td>7585.735824</td>\n",
       "    </tr>\n",
       "    <tr>\n",
       "      <th>8</th>\n",
       "      <td>floors</td>\n",
       "      <td>8154.935629</td>\n",
       "    </tr>\n",
       "    <tr>\n",
       "      <th>2</th>\n",
       "      <td>sqft_living15</td>\n",
       "      <td>10092.887115</td>\n",
       "    </tr>\n",
       "    <tr>\n",
       "      <th>24</th>\n",
       "      <td>date_10/2014</td>\n",
       "      <td>10177.751602</td>\n",
       "    </tr>\n",
       "    <tr>\n",
       "      <th>18</th>\n",
       "      <td>date_05/2014</td>\n",
       "      <td>12113.297596</td>\n",
       "    </tr>\n",
       "    <tr>\n",
       "      <th>23</th>\n",
       "      <td>date_09/2014</td>\n",
       "      <td>16929.187027</td>\n",
       "    </tr>\n",
       "    <tr>\n",
       "      <th>4</th>\n",
       "      <td>sqft_basement</td>\n",
       "      <td>17708.912394</td>\n",
       "    </tr>\n",
       "    <tr>\n",
       "      <th>26</th>\n",
       "      <td>date_12/2014</td>\n",
       "      <td>19723.624037</td>\n",
       "    </tr>\n",
       "    <tr>\n",
       "      <th>17</th>\n",
       "      <td>date_04/2015</td>\n",
       "      <td>23320.293230</td>\n",
       "    </tr>\n",
       "    <tr>\n",
       "      <th>3</th>\n",
       "      <td>sqft_lot15</td>\n",
       "      <td>24069.394314</td>\n",
       "    </tr>\n",
       "    <tr>\n",
       "      <th>16</th>\n",
       "      <td>date_03/2015</td>\n",
       "      <td>25303.710073</td>\n",
       "    </tr>\n",
       "    <tr>\n",
       "      <th>9</th>\n",
       "      <td>condition</td>\n",
       "      <td>28222.122126</td>\n",
       "    </tr>\n",
       "    <tr>\n",
       "      <th>5</th>\n",
       "      <td>bedrooms</td>\n",
       "      <td>29951.730142</td>\n",
       "    </tr>\n",
       "    <tr>\n",
       "      <th>6</th>\n",
       "      <td>bathrooms</td>\n",
       "      <td>37442.581118</td>\n",
       "    </tr>\n",
       "    <tr>\n",
       "      <th>19</th>\n",
       "      <td>date_05/2015</td>\n",
       "      <td>46783.551442</td>\n",
       "    </tr>\n",
       "    <tr>\n",
       "      <th>7</th>\n",
       "      <td>view</td>\n",
       "      <td>53211.265242</td>\n",
       "    </tr>\n",
       "    <tr>\n",
       "      <th>10</th>\n",
       "      <td>grade</td>\n",
       "      <td>106610.406991</td>\n",
       "    </tr>\n",
       "    <tr>\n",
       "      <th>0</th>\n",
       "      <td>sqft_living</td>\n",
       "      <td>154063.541977</td>\n",
       "    </tr>\n",
       "    <tr>\n",
       "      <th>14</th>\n",
       "      <td>long</td>\n",
       "      <td>165111.599966</td>\n",
       "    </tr>\n",
       "    <tr>\n",
       "      <th>27</th>\n",
       "      <td>waterfront_yes</td>\n",
       "      <td>554637.513548</td>\n",
       "    </tr>\n",
       "    <tr>\n",
       "      <th>13</th>\n",
       "      <td>lat</td>\n",
       "      <td>601794.877302</td>\n",
       "    </tr>\n",
       "  </tbody>\n",
       "</table>\n",
       "</div>"
      ],
      "text/plain": [
       "         Attribute     Importance\n",
       "12         zipcode     621.965388\n",
       "11        yr_built    2726.191224\n",
       "25    date_11/2014    4176.844707\n",
       "21    date_07/2014    4574.131925\n",
       "1         sqft_lot    4615.178841\n",
       "15    date_02/2015    5063.886700\n",
       "22    date_08/2014    6320.794175\n",
       "20    date_06/2014    7585.735824\n",
       "8           floors    8154.935629\n",
       "2    sqft_living15   10092.887115\n",
       "24    date_10/2014   10177.751602\n",
       "18    date_05/2014   12113.297596\n",
       "23    date_09/2014   16929.187027\n",
       "4    sqft_basement   17708.912394\n",
       "26    date_12/2014   19723.624037\n",
       "17    date_04/2015   23320.293230\n",
       "3       sqft_lot15   24069.394314\n",
       "16    date_03/2015   25303.710073\n",
       "9        condition   28222.122126\n",
       "5         bedrooms   29951.730142\n",
       "6        bathrooms   37442.581118\n",
       "19    date_05/2015   46783.551442\n",
       "7             view   53211.265242\n",
       "10           grade  106610.406991\n",
       "0      sqft_living  154063.541977\n",
       "14            long  165111.599966\n",
       "27  waterfront_yes  554637.513548\n",
       "13             lat  601794.877302"
      ]
     },
     "execution_count": 2129,
     "metadata": {},
     "output_type": "execute_result"
    }
   ],
   "source": [
    "features_importances"
   ]
  },
  {
   "cell_type": "code",
   "execution_count": 2130,
   "id": "803e4d70",
   "metadata": {},
   "outputs": [
    {
     "data": {
      "image/png": "[encoded data removed]",
      "text/plain": [
       "<Figure size 432x288 with 1 Axes>"
      ]
     },
     "metadata": {
      "needs_background": "light"
     },
     "output_type": "display_data"
    }
   ],
   "source": [
    "plt.bar(x=features_importances['Attribute'], height=features_importances['Importance'], color='#087E8B')\n",
    "plt.title('Feature importances obtained from coefficients', size=20)\n",
    "plt.xticks(rotation='vertical')\n",
    "plt.show()"
   ]
  },
  {
   "cell_type": "markdown",
   "id": "7d7157ec",
   "metadata": {},
   "source": [
    "#### Evaluating predictions"
   ]
  },
  {
   "cell_type": "code",
   "execution_count": 2131,
   "id": "2ab9917f",
   "metadata": {},
   "outputs": [
    {
     "data": {
      "text/plain": [
       "118982.29453703694"
      ]
     },
     "execution_count": 2131,
     "metadata": {},
     "output_type": "execute_result"
    }
   ],
   "source": [
    "# MAE: mean absolute error\n",
    "MAE = np.mean( np.abs( y_test - y_pred ) )\n",
    "MAE"
   ]
  },
  {
   "cell_type": "code",
   "execution_count": 2132,
   "id": "94cc093d",
   "metadata": {},
   "outputs": [
    {
     "data": {
      "text/plain": [
       "33803613483.41126"
      ]
     },
     "execution_count": 2132,
     "metadata": {},
     "output_type": "execute_result"
    }
   ],
   "source": [
    "# MSE: mean squared error\n",
    "MSE = np.mean( np.power( y_test - y_pred , 2 ) )\n",
    "MSE"
   ]
  },
  {
   "cell_type": "code",
   "execution_count": 2133,
   "id": "8cde11fc",
   "metadata": {},
   "outputs": [
    {
     "data": {
      "text/plain": [
       "183857.59022518288"
      ]
     },
     "execution_count": 2133,
     "metadata": {},
     "output_type": "execute_result"
    }
   ],
   "source": [
    "# RMSE: root mean squared error\n",
    "RMSE = np.sqrt(MSE)\n",
    "RMSE"
   ]
  },
  {
   "cell_type": "code",
   "execution_count": 2134,
   "id": "ea376ca3",
   "metadata": {
    "scrolled": true
   },
   "outputs": [
    {
     "data": {
      "text/plain": [
       "array([[<AxesSubplot:title={'center':'bedrooms'}>,\n",
       "        <AxesSubplot:title={'center':'bathrooms'}>,\n",
       "        <AxesSubplot:title={'center':'sqft_living'}>,\n",
       "        <AxesSubplot:title={'center':'sqft_lot'}>],\n",
       "       [<AxesSubplot:title={'center':'floors'}>,\n",
       "        <AxesSubplot:title={'center':'view'}>,\n",
       "        <AxesSubplot:title={'center':'condition'}>,\n",
       "        <AxesSubplot:title={'center':'grade'}>],\n",
       "       [<AxesSubplot:title={'center':'sqft_basement'}>,\n",
       "        <AxesSubplot:title={'center':'yr_built'}>,\n",
       "        <AxesSubplot:title={'center':'zipcode'}>,\n",
       "        <AxesSubplot:title={'center':'lat'}>],\n",
       "       [<AxesSubplot:title={'center':'long'}>,\n",
       "        <AxesSubplot:title={'center':'sqft_living15'}>,\n",
       "        <AxesSubplot:title={'center':'sqft_lot15'}>,\n",
       "        <AxesSubplot:title={'center':'price'}>]], dtype=object)"
      ]
     },
     "execution_count": 2134,
     "metadata": {},
     "output_type": "execute_result"
    },
    {
     "data": {
      "image/png": "[encoded data removed]",
      "text/plain": [
       "<Figure size 864x864 with 16 Axes>"
      ]
     },
     "metadata": {
      "needs_background": "light"
     },
     "output_type": "display_data"
    }
   ],
   "source": [
    "re_df.hist(figsize=(12,12))"
   ]
  },
  {
   "cell_type": "code",
   "execution_count": null,
   "id": "ce9ecaef",
   "metadata": {},
   "outputs": [],
   "source": []
  }
 ],
 "metadata": {
  "kernelspec": {
   "display_name": "Python 3.9.7 64-bit ('base': conda)",
   "language": "python",
   "name": "python397jvsc74a57bd0fd728cfbfdf309c58cb1716ce92887498871f2fbed01fb0dfdf39b6c2f09a82b"
  },
  "language_info": {
   "codemirror_mode": {
    "name": "ipython",
    "version": 3
   },
   "file_extension": ".py",
   "mimetype": "text/x-python",
   "name": "python",
   "nbconvert_exporter": "python",
   "pygments_lexer": "ipython3",
   "version": "3.9.7"
  },
  "toc": {
   "base_numbering": 1,
   "nav_menu": {},
   "number_sections": true,
   "sideBar": true,
   "skip_h1_title": true,
   "title_cell": "Table of Contents",
   "title_sidebar": "Contents",
   "toc_cell": false,
   "toc_position": {},
   "toc_section_display": true,
   "toc_window_display": false
  },
  "varInspector": {
   "cols": {
    "lenName": 16,
    "lenType": 16,
    "lenVar": 40
   },
   "kernels_config": {
    "python": {
     "delete_cmd_postfix": "",
     "delete_cmd_prefix": "del ",
     "library": "var_list.py",
     "varRefreshCmd": "print(var_dic_list())"
    },
    "r": {
     "delete_cmd_postfix": ") ",
     "delete_cmd_prefix": "rm(",
     "library": "var_list.r",
     "varRefreshCmd": "cat(var_dic_list()) "
    }
   },
   "types_to_exclude": [
    "module",
    "function",
    "builtin_function_or_method",
    "instance",
    "_Feature"
   ],
   "window_display": false
  }
 },
 "nbformat": 4,
 "nbformat_minor": 5
}
