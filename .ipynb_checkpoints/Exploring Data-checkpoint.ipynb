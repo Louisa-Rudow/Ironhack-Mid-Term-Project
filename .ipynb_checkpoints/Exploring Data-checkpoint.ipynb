{
 "cells": [
  {
   "cell_type": "markdown",
   "id": "34e6a5b1",
   "metadata": {},
   "source": [
    "# Importing modules"
   ]
  },
  {
   "cell_type": "code",
   "execution_count": null,
   "id": "8c48d080",
   "metadata": {},
   "outputs": [],
   "source": [
    "import numpy as np\n",
    "import pandas as pd\n",
    "import matplotlib.pyplot as plt\n",
    "%matplotlib inline\n",
    "import seaborn as sns\n",
    "import statsmodels.api as sm\n",
    "from scipy.stats import boxcox\n",
    "\n",
    "pd.options.display.max_rows = 50\n",
    "\n",
    "from sklearn.preprocessing import StandardScaler\n",
    "from sklearn.preprocessing import QuantileTransformer\n",
    "from sklearn.preprocessing import minmax_scale\n",
    "from sklearn.preprocessing import OneHotEncoder  ##. better to use dummy from pandas \n",
    "from sklearn.preprocessing import PowerTransformer\n",
    "from sklearn.linear_model import LinearRegression\n",
    "from sklearn.model_selection import train_test_split\n",
    "from sklearn.model_selection import train_test_split\n",
    "from sklearn.metrics import r2_score\n",
    "from sklearn.metrics import mean_squared_error as mse\n",
    "from sklearn.metrics import mean_absolute_error as mae\n",
    "pd.options.display.max_rows = 50\n",
    "## Install xlrd package to load Excel files\n",
    "# conda install openpyxl\n",
    "## conda install xlrd"
   ]
  },
  {
   "cell_type": "markdown",
   "id": "6b6e6b9b",
   "metadata": {},
   "source": [
    "## Data Cleaning"
   ]
  },
  {
   "cell_type": "markdown",
   "id": "731d327f",
   "metadata": {},
   "source": [
    "### loading & exploring Data"
   ]
  },
  {
   "cell_type": "code",
   "execution_count": null,
   "id": "7c55a086",
   "metadata": {},
   "outputs": [],
   "source": [
    "re_df = pd.read_excel('Data_MidTerm_Project_Real_State_Regression.xls')"
   ]
  },
  {
   "cell_type": "code",
   "execution_count": null,
   "id": "ab3a1d6d",
   "metadata": {},
   "outputs": [],
   "source": [
    "re_df.columns"
   ]
  },
  {
   "cell_type": "code",
   "execution_count": null,
   "id": "5f5d1160",
   "metadata": {},
   "outputs": [],
   "source": [
    "re_df.dtypes"
   ]
  },
  {
   "cell_type": "markdown",
   "id": "94404bb4",
   "metadata": {},
   "source": [
    "numerical:\n",
    "'sqft_living', \n",
    "'sqft_lot',\n",
    "'sqft_living15'\n",
    "'sqft_lot15'\n",
    "'sqft_above',\n",
    "'sqft_basement'\n",
    "'price'\n",
    "\n",
    "categorical:\n",
    "bedrooms\n",
    "bathrooms\n",
    "floors in integer\n",
    "waterfront = categorical (yes/no)   = view?\n",
    "'condition'\n",
    "'grade'\n",
    "'yr_built'\n",
    "'yr_renovated'  = replace 0 with nan \n",
    "'zipcode'\n",
    "'lat'\n",
    "'long'\n"
   ]
  },
  {
   "cell_type": "markdown",
   "id": "67f5bbf2",
   "metadata": {},
   "source": [
    "### droping columns"
   ]
  },
  {
   "cell_type": "code",
   "execution_count": null,
   "id": "a7afd9eb",
   "metadata": {},
   "outputs": [],
   "source": [
    "re_df.drop(['id'],axis=1, inplace=True)\n",
    "#re_df.drop(['date'],axis=1, inplace=True)\n",
    "#re_df.drop(['sqft_living'],axis=1, inplace=True)\n",
    "#re_df.drop(['sqft_lot'],axis=1, inplace=True)\n",
    "#re_df.drop(['lat'],axis=1, inplace=True)\n",
    "#re_df.drop(['long'],axis=1, inplace=True)"
   ]
  },
  {
   "cell_type": "markdown",
   "id": "69de9a82",
   "metadata": {},
   "source": [
    "### correcting data types"
   ]
  },
  {
   "cell_type": "code",
   "execution_count": null,
   "id": "14785b26",
   "metadata": {},
   "outputs": [],
   "source": [
    "re_df.info()"
   ]
  },
  {
   "cell_type": "code",
   "execution_count": null,
   "id": "889a7627",
   "metadata": {},
   "outputs": [],
   "source": [
    "#re_df[\"floors\"] = re_df[\"floors\"].astype(int)"
   ]
  },
  {
   "cell_type": "markdown",
   "id": "98247312",
   "metadata": {},
   "source": [
    "### droping nan values"
   ]
  },
  {
   "cell_type": "code",
   "execution_count": null,
   "id": "3c3fc3bf",
   "metadata": {},
   "outputs": [],
   "source": [
    "#re_df.dropna(inplace=True)"
   ]
  },
  {
   "cell_type": "markdown",
   "id": "e383f60b",
   "metadata": {},
   "source": [
    "### removing duplicates"
   ]
  },
  {
   "cell_type": "code",
   "execution_count": null,
   "id": "1405f80d",
   "metadata": {},
   "outputs": [],
   "source": [
    "#re_df.drop_duplicates(inplace=True)"
   ]
  },
  {
   "cell_type": "markdown",
   "id": "b8977a15",
   "metadata": {},
   "source": [
    "### Replacing null values with nan"
   ]
  },
  {
   "cell_type": "markdown",
   "id": "3093ec26",
   "metadata": {},
   "source": [
    "#### years renovated"
   ]
  },
  {
   "cell_type": "markdown",
   "id": "ca2f7e3e",
   "metadata": {},
   "source": [
    "The yr_renovated column has more than 20.683 values=0. Does that make sense? ....."
   ]
  },
  {
   "cell_type": "code",
   "execution_count": null,
   "id": "01f8ddbd",
   "metadata": {},
   "outputs": [],
   "source": [
    "re_df.yr_renovated.hist()"
   ]
  },
  {
   "cell_type": "code",
   "execution_count": null,
   "id": "b3c62da1",
   "metadata": {},
   "outputs": [],
   "source": [
    "#re_df[\"yr_renovated\"].replace(0, np.nan, inplace=True)\n",
    "\n",
    "#re_df[\"view\"].replace(0, np.nan, inplace=True)"
   ]
  },
  {
   "cell_type": "code",
   "execution_count": null,
   "id": "a928cb12",
   "metadata": {},
   "outputs": [],
   "source": [
    "re_df.yr_renovated.hist()"
   ]
  },
  {
   "cell_type": "markdown",
   "id": "cc5a71b4",
   "metadata": {},
   "source": [
    "#### square feet basement"
   ]
  },
  {
   "cell_type": "code",
   "execution_count": null,
   "id": "9d2cd2bb",
   "metadata": {},
   "outputs": [],
   "source": [
    "re_df.sqft_basement.hist()"
   ]
  },
  {
   "cell_type": "code",
   "execution_count": null,
   "id": "e2897516",
   "metadata": {},
   "outputs": [],
   "source": [
    "#re_df[\"sqft_basement\"].replace(0, np.nan, inplace=True)\n",
    "re_df.sqft_basement.hist()"
   ]
  },
  {
   "cell_type": "markdown",
   "id": "ce403c12",
   "metadata": {},
   "source": [
    "### renaming waterfront column features"
   ]
  },
  {
   "cell_type": "code",
   "execution_count": null,
   "id": "50ed9273",
   "metadata": {},
   "outputs": [],
   "source": [
    "def clean_waterfront(x):\n",
    "    if x == 0:\n",
    "        return 'no'\n",
    "    elif x == 1:\n",
    "        return 'yes'"
   ]
  },
  {
   "cell_type": "code",
   "execution_count": null,
   "id": "1b6a6ef1",
   "metadata": {},
   "outputs": [],
   "source": [
    "re_df[\"waterfront\"] = list(map(clean_waterfront,re_df[\"waterfront\"])) "
   ]
  },
  {
   "cell_type": "markdown",
   "id": "f6dec1c5",
   "metadata": {},
   "source": [
    "### concatinate lat & long"
   ]
  },
  {
   "cell_type": "code",
   "execution_count": null,
   "id": "c90aa7e3",
   "metadata": {},
   "outputs": [],
   "source": [
    "re_df['location'] = re_df[['long', 'lat']].apply(tuple, axis=1)\n",
    "re_df.drop(['lat'],axis=1, inplace=True)\n",
    "re_df.drop(['long'],axis=1, inplace=True)\n",
    "re_df"
   ]
  },
  {
   "cell_type": "markdown",
   "id": "5d3373bc",
   "metadata": {},
   "source": [
    "### removing outliers"
   ]
  },
  {
   "cell_type": "markdown",
   "id": "de62036e",
   "metadata": {},
   "source": [
    "#### bedrooms"
   ]
  },
  {
   "cell_type": "code",
   "execution_count": null,
   "id": "fa73f753",
   "metadata": {},
   "outputs": [],
   "source": [
    "sns.boxplot(re_df['bedrooms'])"
   ]
  },
  {
   "cell_type": "code",
   "execution_count": null,
   "id": "f16ac897",
   "metadata": {},
   "outputs": [],
   "source": [
    "Q1 = re_df['bedrooms'].quantile(0.25)\n",
    "Q3 = re_df['bedrooms'].quantile(0.75)\n",
    "IQR = Q3 - Q1    #IQR is interquartile range. \n",
    "\n",
    "filter = (re_df['bedrooms'] >= Q1 - 1.5 * IQR) & (re_df['bedrooms'] <= Q3 + 1.5 *IQR)\n",
    "re_df = re_df.loc[filter]"
   ]
  },
  {
   "cell_type": "code",
   "execution_count": null,
   "id": "bfcbdc22",
   "metadata": {},
   "outputs": [],
   "source": [
    "sns.boxplot(re_df['bedrooms'])"
   ]
  },
  {
   "cell_type": "markdown",
   "id": "8661ab34",
   "metadata": {},
   "source": [
    "530 rows removed"
   ]
  },
  {
   "cell_type": "markdown",
   "id": "4a39edf3",
   "metadata": {},
   "source": [
    "#### bathrooms"
   ]
  },
  {
   "cell_type": "code",
   "execution_count": null,
   "id": "1c357919",
   "metadata": {},
   "outputs": [],
   "source": [
    "sns.boxplot(re_df['bathrooms'])"
   ]
  },
  {
   "cell_type": "code",
   "execution_count": null,
   "id": "a5249567",
   "metadata": {},
   "outputs": [],
   "source": [
    "Q1 = re_df['bathrooms'].quantile(0.25)\n",
    "Q3 = re_df['bathrooms'].quantile(0.75)\n",
    "IQR = Q3 - Q1    #IQR is interquartile range. \n",
    "\n",
    "filter = (re_df['bathrooms'] >= Q1 - 1.5 * IQR) & (re_df['bathrooms'] <= Q3 + 1.5 *IQR)\n",
    "re_df = re_df.loc[filter]"
   ]
  },
  {
   "cell_type": "code",
   "execution_count": null,
   "id": "aed29664",
   "metadata": {},
   "outputs": [],
   "source": [
    "sns.boxplot(re_df['bathrooms'])"
   ]
  },
  {
   "cell_type": "markdown",
   "id": "78dba586",
   "metadata": {},
   "source": [
    "461 rows removed"
   ]
  },
  {
   "cell_type": "markdown",
   "id": "19adef04",
   "metadata": {},
   "source": [
    "#### further exploration"
   ]
  },
  {
   "cell_type": "code",
   "execution_count": null,
   "id": "32d95625",
   "metadata": {},
   "outputs": [],
   "source": [
    "#re_df = re_df[re_df.sqft_above != 7420]"
   ]
  },
  {
   "cell_type": "code",
   "execution_count": null,
   "id": "3347b1bb",
   "metadata": {},
   "outputs": [],
   "source": [
    "#re_df = re_df[re_df.sqft_lot15 != 560617]"
   ]
  },
  {
   "cell_type": "markdown",
   "id": "18989a26",
   "metadata": {},
   "source": [
    "## Plot the Correlation Heatmap"
   ]
  },
  {
   "cell_type": "code",
   "execution_count": null,
   "id": "3f4e6281",
   "metadata": {},
   "outputs": [],
   "source": [
    "g = sns.PairGrid(re_numerical)\n",
    "g.map(sns.scatterplot)"
   ]
  },
  {
   "cell_type": "markdown",
   "id": "8b34487f",
   "metadata": {},
   "source": [
    "## X Y split"
   ]
  },
  {
   "cell_type": "code",
   "execution_count": null,
   "id": "39f87870",
   "metadata": {},
   "outputs": [],
   "source": [
    "X=re_df.drop(\"price\", axis=1)\n",
    "y=re_df[\"price\"]"
   ]
  },
  {
   "cell_type": "markdown",
   "id": "47c67da2",
   "metadata": {},
   "source": [
    "## Data Splitting"
   ]
  },
  {
   "cell_type": "code",
   "execution_count": null,
   "id": "9cb15f2a",
   "metadata": {},
   "outputs": [],
   "source": [
    "X_train, X_test, y_train, y_test=train_test_split(X, y, test_size=.30,random_state=123)"
   ]
  },
  {
   "cell_type": "code",
   "execution_count": null,
   "id": "a2814da4",
   "metadata": {},
   "outputs": [],
   "source": [
    "y_train =y_train.reset_index(drop=True)\n",
    "y_test = y_test.reset_index(drop=True)"
   ]
  },
  {
   "cell_type": "markdown",
   "id": "441a602a",
   "metadata": {},
   "source": [
    "## Data Transformation"
   ]
  },
  {
   "cell_type": "markdown",
   "id": "04942238",
   "metadata": {},
   "source": [
    "### Hot coding Categorical Variables"
   ]
  },
  {
   "cell_type": "code",
   "execution_count": null,
   "id": "3eeef522",
   "metadata": {},
   "outputs": [],
   "source": [
    "X_train_cat=X_train[['bedrooms','bathrooms','floors','waterfront','condition','grade','yr_built','yr_renovated','zipcode','location']]\n",
    "X_train_cat\n",
    "\n",
    "X_test_cat=X_test[['bedrooms','bathrooms','floors','waterfront','condition','grade','yr_built','yr_renovated','zipcode','location']]\n",
    "X_test_cat"
   ]
  },
  {
   "cell_type": "code",
   "execution_count": null,
   "id": "0e61e9a6",
   "metadata": {},
   "outputs": [],
   "source": [
    "X_train_cat=pd.get_dummies(X_train_cat, drop_first=True)\n",
    "pd.DataFrame(OneHotEncoder(drop='first').fit_transform(X_train_cat).toarray(),\n",
    "columns=OneHotEncoder(drop='first').fit(X_train_cat).get_feature_names(input_features=X_train_cat.columns))\n",
    "\n",
    "X_test_cat=pd.get_dummies(X_test_cat, drop_first=True)\n",
    "pd.DataFrame(OneHotEncoder(drop='first').fit_transform(X_test_cat).toarray(),\n",
    "columns=OneHotEncoder(drop='first').fit(X_test_cat).get_feature_names(input_features=X_test_cat.columns))"
   ]
  },
  {
   "cell_type": "code",
   "execution_count": null,
   "id": "bc50a252",
   "metadata": {},
   "outputs": [],
   "source": [
    "X_train_cat = X_train_cat.reset_index(drop=True)\n",
    "X_test_cat = X_test_cat.reset_index(drop=True)"
   ]
  },
  {
   "cell_type": "markdown",
   "id": "60b6afba",
   "metadata": {},
   "source": [
    "### Standardize numerical"
   ]
  },
  {
   "cell_type": "code",
   "execution_count": null,
   "id": "e95557f6",
   "metadata": {},
   "outputs": [],
   "source": [
    "X_train_num=X_train[['sqft_living','sqft_lot','sqft_living15','sqft_lot15','sqft_above','sqft_basement']]\n",
    "X_train_num\n",
    "\n",
    "X_test_num=X_test[['sqft_living','sqft_lot','sqft_living15','sqft_lot15','sqft_above','sqft_basement']]\n",
    "X_test_num"
   ]
  },
  {
   "cell_type": "code",
   "execution_count": null,
   "id": "70ec40f9",
   "metadata": {},
   "outputs": [],
   "source": [
    "std_scaler=StandardScaler().fit(X_train_num)   ## finding the parameters (mean, variance from the training set )\n",
    "\n",
    "X_train_scaled=std_scaler.transform(X_train_num)"
   ]
  },
  {
   "cell_type": "code",
   "execution_count": null,
   "id": "dd581d2b",
   "metadata": {},
   "outputs": [],
   "source": [
    "X_test_scaled=std_scaler.transform(X_test_num)"
   ]
  },
  {
   "cell_type": "code",
   "execution_count": null,
   "id": "5aac86e7",
   "metadata": {},
   "outputs": [],
   "source": [
    "print(X_train_scaled)\n",
    "print(\"--------\")\n",
    "print(X_test_scaled)"
   ]
  },
  {
   "cell_type": "code",
   "execution_count": null,
   "id": "25eb3a91",
   "metadata": {},
   "outputs": [],
   "source": [
    "X_train_scaled = pd.DataFrame(X_train_scaled, columns= X_train_num.columns)\n",
    "X_test_scaled = pd.DataFrame(X_test_scaled, columns= X_test_num.columns)"
   ]
  },
  {
   "cell_type": "code",
   "execution_count": null,
   "id": "4c1a56f0",
   "metadata": {},
   "outputs": [],
   "source": [
    "X_train_scaled = X_train_scaled.reset_index(drop=True)\n",
    "X_test_scaled = X_test_scaled.reset_index(drop=True)"
   ]
  },
  {
   "cell_type": "markdown",
   "id": "6fe5439b",
   "metadata": {},
   "source": [
    "## Concatination "
   ]
  },
  {
   "cell_type": "code",
   "execution_count": null,
   "id": "6ece393c",
   "metadata": {},
   "outputs": [],
   "source": [
    "X_train_con=pd.concat([X_train_scaled,X_train_cat],axis=1)\n",
    "X_test_con=pd.concat([X_test_scaled,X_test_cat],axis=1)"
   ]
  },
  {
   "cell_type": "code",
   "execution_count": null,
   "id": "86564b42",
   "metadata": {},
   "outputs": [],
   "source": [
    "X_train_con"
   ]
  },
  {
   "cell_type": "markdown",
   "id": "aa69fc24",
   "metadata": {},
   "source": [
    "##  Apply Linear Regression"
   ]
  },
  {
   "cell_type": "markdown",
   "id": "35770bed",
   "metadata": {},
   "source": [
    "### Modelling using Statsmodels"
   ]
  },
  {
   "cell_type": "code",
   "execution_count": null,
   "id": "bd3837e6",
   "metadata": {},
   "outputs": [],
   "source": [
    "X_train_const_scaled = sm.add_constant(X_train_con) # adding a constant\n",
    "\n",
    "model = sm.OLS(y_train, X_train_const_scaled).fit()\n",
    "predictions_train = model.predict(X_train_const_scaled) \n",
    "\n",
    "X_test_const_scaled = sm.add_constant(X_test_con) # adding a constant\n",
    "predictions_test = model.predict(X_test_const_scaled) \n",
    "print_model = model.summary()\n",
    "print(print_model)"
   ]
  },
  {
   "cell_type": "code",
   "execution_count": null,
   "id": "e9a68696",
   "metadata": {},
   "outputs": [],
   "source": [
    "predictions_test"
   ]
  },
  {
   "cell_type": "code",
   "execution_count": null,
   "id": "ecbbc736",
   "metadata": {},
   "outputs": [],
   "source": [
    "#display adjusted R-squared\n",
    "print(model.rsquared_adj)"
   ]
  },
  {
   "cell_type": "markdown",
   "id": "45e9c6bc",
   "metadata": {},
   "source": [
    "### Modeling using Scikit Learn"
   ]
  },
  {
   "cell_type": "code",
   "execution_count": null,
   "id": "6193c992",
   "metadata": {},
   "outputs": [],
   "source": [
    "model=LinearRegression()    # model\n",
    "model.fit(X_train_con, y_train)   # model train"
   ]
  },
  {
   "cell_type": "code",
   "execution_count": null,
   "id": "b4751cb5",
   "metadata": {},
   "outputs": [],
   "source": [
    "model.coef_"
   ]
  },
  {
   "cell_type": "code",
   "execution_count": null,
   "id": "603f9c95",
   "metadata": {},
   "outputs": [],
   "source": [
    "model.intercept_"
   ]
  },
  {
   "cell_type": "markdown",
   "id": "d076a1ac",
   "metadata": {},
   "source": [
    "Making prediction"
   ]
  },
  {
   "cell_type": "code",
   "execution_count": null,
   "id": "3efae06c",
   "metadata": {},
   "outputs": [],
   "source": [
    "y_pred=model.predict(X_test_con)   # model prediction\n",
    "##y_pred_train=model.predict(X_train_scaled)"
   ]
  },
  {
   "cell_type": "code",
   "execution_count": null,
   "id": "fb6c6cd1",
   "metadata": {},
   "outputs": [],
   "source": [
    "y_test"
   ]
  },
  {
   "cell_type": "code",
   "execution_count": null,
   "id": "03c451ec",
   "metadata": {},
   "outputs": [],
   "source": [
    "y_pred"
   ]
  },
  {
   "cell_type": "code",
   "execution_count": null,
   "id": "3b46462e",
   "metadata": {},
   "outputs": [],
   "source": [
    "result=pd.DataFrame({\"y_test\":y_test,\"y_pred\":y_pred})\n",
    "result"
   ]
  },
  {
   "cell_type": "markdown",
   "id": "5c16dca3",
   "metadata": {},
   "source": [
    "Linear Regression Train-test split. Standardize the data (after the data split). Apply linear regression. Model Interpretation. Model Validation Model Evaluation: MSE. RMSE. MAE. R2. Adjusted R2. Feature Importance."
   ]
  },
  {
   "cell_type": "code",
   "execution_count": null,
   "id": "416ba774",
   "metadata": {},
   "outputs": [],
   "source": [
    "# Make an scatter plot y_pred vs y\n",
    "# What kind of plot you will get if all the all the predictions are ok?\n",
    "# A stright line\n",
    "\n",
    "fig, ax = plt.subplots(1,3,figsize=(14,4))\n",
    "ax[0].plot(y_pred, y_test, 'o')\n",
    "ax[0].set_xlabel(\"y_test\")\n",
    "ax[0].set_ylabel(\"y_pred\")\n",
    "ax[0].set_title(\"Test Set -Predicted vs real\")\n",
    "\n",
    "# Get a histogram of the residuals ie: y - y_pred.  Homoscdasticity\n",
    "# It resembles a normal distribution?\n",
    "ax[1].hist(y_test - y_pred)\n",
    "ax[1].set_xlabel(\"Test y-y_pred\")\n",
    "ax[1].set_title(\"Test Set Residual histogram\")\n",
    "\n",
    "ax[2].plot(y_pred,y_test - y_pred,\"o\")\n",
    "ax[2].set_xlabel(\"predited\")\n",
    "ax[2].set_ylabel(\"residuals\")\n",
    "ax[2].set_title(\"Residuals by Predicted\")\n",
    "ax[2].plot(y_pred,np.zeros(len(y_pred)),linestyle='dashed')"
   ]
  },
  {
   "cell_type": "markdown",
   "id": "13b21917",
   "metadata": {},
   "source": [
    "#### Error metrics"
   ]
  },
  {
   "cell_type": "code",
   "execution_count": null,
   "id": "241300dc",
   "metadata": {},
   "outputs": [],
   "source": [
    "print(mse(y_test,y_pred))\n",
    "print(mae(y_test,y_pred))"
   ]
  },
  {
   "cell_type": "code",
   "execution_count": null,
   "id": "e38a8178",
   "metadata": {},
   "outputs": [],
   "source": [
    "R2=r2_score(y_test,y_pred)\n",
    "R2"
   ]
  },
  {
   "cell_type": "code",
   "execution_count": null,
   "id": "80e7955e",
   "metadata": {},
   "outputs": [],
   "source": [
    "X_test.shape[1]"
   ]
  },
  {
   "cell_type": "code",
   "execution_count": null,
   "id": "6b22a1d2",
   "metadata": {},
   "outputs": [],
   "source": [
    "Adj_R2= 1 - (1-R2)*(len(y_test)-1)/(len(y_test)-X_test.shape[1]-1)\n",
    "Adj_R2"
   ]
  },
  {
   "cell_type": "markdown",
   "id": "13cad6e6",
   "metadata": {},
   "source": [
    "#### Feature Importance"
   ]
  },
  {
   "cell_type": "code",
   "execution_count": null,
   "id": "3753cb72",
   "metadata": {},
   "outputs": [],
   "source": [
    "features_importances = pd.DataFrame(data={\n",
    "    'Attribute': X_train_con.columns,\n",
    "    'Importance': abs(model.coef_)\n",
    "})\n",
    "features_importances = features_importances.sort_values(by='Importance')"
   ]
  },
  {
   "cell_type": "code",
   "execution_count": null,
   "id": "7f163b2e",
   "metadata": {},
   "outputs": [],
   "source": [
    "features_importances"
   ]
  },
  {
   "cell_type": "code",
   "execution_count": null,
   "id": "66669f07",
   "metadata": {},
   "outputs": [],
   "source": [
    "plt.bar(x=features_importances['Attribute'], height=features_importances['Importance'], color='#087E8B')\n",
    "plt.title('Feature importances obtained from coefficients', size=20)\n",
    "plt.xticks(rotation='vertical')\n",
    "plt.show()"
   ]
  },
  {
   "cell_type": "markdown",
   "id": "aa837dc8",
   "metadata": {},
   "source": [
    "#### Evaluating predictions"
   ]
  },
  {
   "cell_type": "code",
   "execution_count": null,
   "id": "7dd1644c",
   "metadata": {},
   "outputs": [],
   "source": [
    "# MAE: mean absolute error\n",
    "MAE = np.mean( np.abs( y_test - y_pred ) )\n",
    "MAE"
   ]
  },
  {
   "cell_type": "code",
   "execution_count": null,
   "id": "8cffd282",
   "metadata": {},
   "outputs": [],
   "source": [
    "# MSE: mean squared error\n",
    "MSE = np.mean( np.power( y_test - y_pred , 2 ) )\n",
    "MSE"
   ]
  },
  {
   "cell_type": "code",
   "execution_count": null,
   "id": "a8d1c8c9",
   "metadata": {},
   "outputs": [],
   "source": [
    "# RMSE: root mean squared error\n",
    "RMSE = np.sqrt(MSE)\n",
    "RMSE"
   ]
  },
  {
   "cell_type": "code",
   "execution_count": null,
   "id": "f3701756",
   "metadata": {},
   "outputs": [],
   "source": [
    "X.hist(figsize=(10,10))"
   ]
  },
  {
   "cell_type": "code",
   "execution_count": null,
   "id": "123462cb",
   "metadata": {},
   "outputs": [],
   "source": []
  },
  {
   "cell_type": "code",
   "execution_count": null,
   "id": "36cd297f",
   "metadata": {},
   "outputs": [],
   "source": []
  },
  {
   "cell_type": "code",
   "execution_count": null,
   "id": "7be3df0a",
   "metadata": {},
   "outputs": [],
   "source": []
  },
  {
   "cell_type": "code",
   "execution_count": null,
   "id": "3b9ac28b",
   "metadata": {},
   "outputs": [],
   "source": []
  },
  {
   "cell_type": "code",
   "execution_count": null,
   "id": "fef98172",
   "metadata": {},
   "outputs": [],
   "source": []
  }
 ],
 "metadata": {
  "kernelspec": {
   "display_name": "Python 3.9.7 64-bit ('base': conda)",
   "language": "python",
   "name": "python397jvsc74a57bd0fd728cfbfdf309c58cb1716ce92887498871f2fbed01fb0dfdf39b6c2f09a82b"
  },
  "language_info": {
   "codemirror_mode": {
    "name": "ipython",
    "version": 3
   },
   "file_extension": ".py",
   "mimetype": "text/x-python",
   "name": "python",
   "nbconvert_exporter": "python",
   "pygments_lexer": "ipython3",
   "version": "3.9.7"
  },
  "toc": {
   "base_numbering": 1,
   "nav_menu": {},
   "number_sections": true,
   "sideBar": true,
   "skip_h1_title": true,
   "title_cell": "Table of Contents",
   "title_sidebar": "Contents",
   "toc_cell": false,
   "toc_position": {},
   "toc_section_display": true,
   "toc_window_display": false
  },
  "varInspector": {
   "cols": {
    "lenName": 16,
    "lenType": 16,
    "lenVar": 40
   },
   "kernels_config": {
    "python": {
     "delete_cmd_postfix": "",
     "delete_cmd_prefix": "del ",
     "library": "var_list.py",
     "varRefreshCmd": "print(var_dic_list())"
    },
    "r": {
     "delete_cmd_postfix": ") ",
     "delete_cmd_prefix": "rm(",
     "library": "var_list.r",
     "varRefreshCmd": "cat(var_dic_list()) "
    }
   },
   "types_to_exclude": [
    "module",
    "function",
    "builtin_function_or_method",
    "instance",
    "_Feature"
   ],
   "window_display": false
  }
 },
 "nbformat": 4,
 "nbformat_minor": 5
}
