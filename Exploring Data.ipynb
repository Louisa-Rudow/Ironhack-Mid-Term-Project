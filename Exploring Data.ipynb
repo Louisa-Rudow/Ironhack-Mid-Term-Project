{
 "cells": [
  {
   "cell_type": "markdown",
   "id": "72e3a826",
   "metadata": {},
   "source": [
    "# Importing modules"
   ]
  },
  {
   "cell_type": "code",
   "execution_count": 2135,
   "id": "09a8e855",
   "metadata": {},
   "outputs": [],
   "source": [
    "import numpy as np\n",
    "import pandas as pd\n",
    "import matplotlib.pyplot as plt\n",
    "%matplotlib inline\n",
    "import seaborn as sns\n",
    "import statsmodels.api as sm\n",
    "from scipy.stats import boxcox\n",
    "\n",
    "pd.options.display.max_rows = 50\n",
    "\n",
    "from sklearn.preprocessing import StandardScaler\n",
    "from sklearn.preprocessing import QuantileTransformer\n",
    "from sklearn.preprocessing import minmax_scale\n",
    "from sklearn.preprocessing import OneHotEncoder  ##. better to use dummy from pandas \n",
    "from sklearn.preprocessing import PowerTransformer\n",
    "from sklearn.linear_model import LinearRegression\n",
    "from sklearn.model_selection import train_test_split\n",
    "from sklearn.model_selection import train_test_split\n",
    "from sklearn.metrics import r2_score\n",
    "from sklearn.metrics import mean_squared_error as mse\n",
    "from sklearn.metrics import mean_absolute_error as mae\n",
    "pd.options.display.max_rows = 50\n",
    "## Install xlrd package to load Excel files\n",
    "# conda install openpyxl\n",
    "## conda install xlrd"
   ]
  },
  {
   "cell_type": "markdown",
   "id": "3093f30c",
   "metadata": {},
   "source": [
    "## Data Cleaning"
   ]
  },
  {
   "cell_type": "markdown",
   "id": "17bcd4e1",
   "metadata": {},
   "source": [
    "### loading & exploring Data"
   ]
  },
  {
   "cell_type": "code",
   "execution_count": 2136,
   "id": "2ab25fdc",
   "metadata": {},
   "outputs": [],
   "source": [
    "re_df = pd.read_excel('Data_MidTerm_Project_Real_State_Regression.xls')"
   ]
  },
  {
   "cell_type": "code",
   "execution_count": 2137,
   "id": "2c047629",
   "metadata": {},
   "outputs": [
    {
     "data": {
      "text/plain": [
       "Index(['id', 'date', 'bedrooms', 'bathrooms', 'sqft_living', 'sqft_lot',\n",
       "       'floors', 'waterfront', 'view', 'condition', 'grade', 'sqft_above',\n",
       "       'sqft_basement', 'yr_built', 'yr_renovated', 'zipcode', 'lat', 'long',\n",
       "       'sqft_living15', 'sqft_lot15', 'price'],\n",
       "      dtype='object')"
      ]
     },
     "execution_count": 2137,
     "metadata": {},
     "output_type": "execute_result"
    }
   ],
   "source": [
    "re_df.columns"
   ]
  },
  {
   "cell_type": "code",
   "execution_count": 2138,
   "id": "b64b4cfb",
   "metadata": {},
   "outputs": [
    {
     "name": "stdout",
     "output_type": "stream",
     "text": [
      "<class 'pandas.core.frame.DataFrame'>\n",
      "RangeIndex: 21597 entries, 0 to 21596\n",
      "Data columns (total 21 columns):\n",
      " #   Column         Non-Null Count  Dtype         \n",
      "---  ------         --------------  -----         \n",
      " 0   id             21597 non-null  int64         \n",
      " 1   date           21597 non-null  datetime64[ns]\n",
      " 2   bedrooms       21597 non-null  int64         \n",
      " 3   bathrooms      21597 non-null  float64       \n",
      " 4   sqft_living    21597 non-null  int64         \n",
      " 5   sqft_lot       21597 non-null  int64         \n",
      " 6   floors         21597 non-null  float64       \n",
      " 7   waterfront     21597 non-null  int64         \n",
      " 8   view           21597 non-null  int64         \n",
      " 9   condition      21597 non-null  int64         \n",
      " 10  grade          21597 non-null  int64         \n",
      " 11  sqft_above     21597 non-null  int64         \n",
      " 12  sqft_basement  21597 non-null  int64         \n",
      " 13  yr_built       21597 non-null  int64         \n",
      " 14  yr_renovated   21597 non-null  int64         \n",
      " 15  zipcode        21597 non-null  int64         \n",
      " 16  lat            21597 non-null  float64       \n",
      " 17  long           21597 non-null  float64       \n",
      " 18  sqft_living15  21597 non-null  int64         \n",
      " 19  sqft_lot15     21597 non-null  int64         \n",
      " 20  price          21597 non-null  int64         \n",
      "dtypes: datetime64[ns](1), float64(4), int64(16)\n",
      "memory usage: 3.5 MB\n"
     ]
    }
   ],
   "source": [
    "re_df.info()"
   ]
  },
  {
   "cell_type": "code",
   "execution_count": 2139,
   "id": "3b60f502",
   "metadata": {},
   "outputs": [],
   "source": [
    "re_df['date'] = re_df['date'].dt.to_period('M')"
   ]
  },
  {
   "cell_type": "code",
   "execution_count": 2140,
   "id": "b61c6ed9",
   "metadata": {},
   "outputs": [],
   "source": [
    "re_df['date'] = re_df['date'].dt.strftime('%m/%Y')"
   ]
  },
  {
   "cell_type": "code",
   "execution_count": 2141,
   "id": "41e6537e",
   "metadata": {},
   "outputs": [
    {
     "data": {
      "text/plain": [
       "04/2015    2229\n",
       "07/2014    2211\n",
       "06/2014    2178\n",
       "08/2014    1939\n",
       "10/2014    1876\n",
       "03/2015    1875\n",
       "09/2014    1771\n",
       "05/2014    1768\n",
       "12/2014    1470\n",
       "11/2014    1409\n",
       "02/2015    1247\n",
       "01/2015     978\n",
       "05/2015     646\n",
       "Name: date, dtype: int64"
      ]
     },
     "execution_count": 2141,
     "metadata": {},
     "output_type": "execute_result"
    }
   ],
   "source": [
    "re_df['date'].value_counts()"
   ]
  },
  {
   "cell_type": "code",
   "execution_count": 2142,
   "id": "761c804b",
   "metadata": {},
   "outputs": [],
   "source": [
    "#re_df = re_df[re_df.date != \"05/2015\"]\n",
    "#re_df = re_df[re_df.date != \"01/2015\"]"
   ]
  },
  {
   "cell_type": "markdown",
   "id": "4d59a642",
   "metadata": {},
   "source": [
    "### droping columns"
   ]
  },
  {
   "cell_type": "code",
   "execution_count": 2143,
   "id": "d5bcebe2",
   "metadata": {},
   "outputs": [],
   "source": [
    "re_df.drop(['id'],axis=1, inplace=True)\n",
    "#re_df.drop(['view'],axis=1, inplace=True)\n",
    "re_df.drop(['yr_renovated'],axis=1, inplace=True)\n",
    "re_df.drop(['sqft_above'],axis=1, inplace=True)\n",
    "#re_df.drop(['long'],axis=1, inplace=True)\n",
    "#re_df.drop(['lat'],axis=1, inplace=True)"
   ]
  },
  {
   "cell_type": "markdown",
   "id": "ce7e7354",
   "metadata": {},
   "source": [
    "### removing duplicates"
   ]
  },
  {
   "cell_type": "code",
   "execution_count": 2144,
   "id": "15cfb69f",
   "metadata": {},
   "outputs": [],
   "source": [
    "re_df.drop_duplicates(inplace=True)"
   ]
  },
  {
   "cell_type": "markdown",
   "id": "05038a15",
   "metadata": {},
   "source": [
    "### droping nan values"
   ]
  },
  {
   "cell_type": "code",
   "execution_count": 2145,
   "id": "f05faecb",
   "metadata": {},
   "outputs": [],
   "source": [
    "#re_df.view.hist()\n",
    "#re_df.dropna(inplace=True)\n",
    "#re_df"
   ]
  },
  {
   "cell_type": "markdown",
   "id": "117d1394",
   "metadata": {},
   "source": [
    "### renaming waterfront column features"
   ]
  },
  {
   "cell_type": "code",
   "execution_count": 2146,
   "id": "93c089a6",
   "metadata": {},
   "outputs": [],
   "source": [
    "def clean_waterfront(x):\n",
    "    if x == 0:\n",
    "        return 'no'\n",
    "    elif x == 1:\n",
    "        return 'yes'"
   ]
  },
  {
   "cell_type": "code",
   "execution_count": 2147,
   "id": "2210c556",
   "metadata": {},
   "outputs": [],
   "source": [
    "re_df[\"waterfront\"] = list(map(clean_waterfront,re_df[\"waterfront\"])) "
   ]
  },
  {
   "cell_type": "markdown",
   "id": "d0cc1757",
   "metadata": {},
   "source": [
    "### changing year renovated"
   ]
  },
  {
   "cell_type": "markdown",
   "id": "3b0da51e",
   "metadata": {},
   "source": [
    "def yr_renovated(x):\n",
    "    if x == 0:\n",
    "        return 'no'\n",
    "    else:\n",
    "        return 'yes'"
   ]
  },
  {
   "cell_type": "markdown",
   "id": "3976ea57",
   "metadata": {},
   "source": [
    "re_df[\"yr_renovated\"] = list(map(yr_renovated,re_df[\"yr_renovated\"]))"
   ]
  },
  {
   "cell_type": "markdown",
   "id": "bc82f4cf",
   "metadata": {},
   "source": [
    "### removing outliers"
   ]
  },
  {
   "cell_type": "markdown",
   "id": "9c62993e",
   "metadata": {},
   "source": [
    "#### bedrooms"
   ]
  },
  {
   "cell_type": "code",
   "execution_count": 2148,
   "id": "2a6374f4",
   "metadata": {},
   "outputs": [
    {
     "name": "stderr",
     "output_type": "stream",
     "text": [
      "/Users/louisarudow/opt/anaconda3/lib/python3.9/site-packages/seaborn/_decorators.py:36: FutureWarning: Pass the following variable as a keyword arg: x. From version 0.12, the only valid positional argument will be `data`, and passing other arguments without an explicit keyword will result in an error or misinterpretation.\n",
      "  warnings.warn(\n"
     ]
    },
    {
     "data": {
      "text/plain": [
       "<AxesSubplot:xlabel='bedrooms'>"
      ]
     },
     "execution_count": 2148,
     "metadata": {},
     "output_type": "execute_result"
    },
    {
     "data": {
      "image/png": "[encoded data removed]",
      "text/plain": [
       "<Figure size 432x288 with 1 Axes>"
      ]
     },
     "metadata": {
      "needs_background": "light"
     },
     "output_type": "display_data"
    }
   ],
   "source": [
    "sns.boxplot(re_df['bedrooms'])"
   ]
  },
  {
   "cell_type": "code",
   "execution_count": 2149,
   "id": "ec540781",
   "metadata": {},
   "outputs": [
    {
     "data": {
      "text/plain": [
       "33"
      ]
     },
     "execution_count": 2149,
     "metadata": {},
     "output_type": "execute_result"
    }
   ],
   "source": [
    "max(re_df['bedrooms'])"
   ]
  },
  {
   "cell_type": "code",
   "execution_count": 2150,
   "id": "6ca8161b",
   "metadata": {},
   "outputs": [
    {
     "data": {
      "text/html": [
       "<div>\n",
       "<style scoped>\n",
       "    .dataframe tbody tr th:only-of-type {\n",
       "        vertical-align: middle;\n",
       "    }\n",
       "\n",
       "    .dataframe tbody tr th {\n",
       "        vertical-align: top;\n",
       "    }\n",
       "\n",
       "    .dataframe thead th {\n",
       "        text-align: right;\n",
       "    }\n",
       "</style>\n",
       "<table border=\"1\" class=\"dataframe\">\n",
       "  <thead>\n",
       "    <tr style=\"text-align: right;\">\n",
       "      <th></th>\n",
       "      <th>date</th>\n",
       "      <th>bedrooms</th>\n",
       "      <th>bathrooms</th>\n",
       "      <th>sqft_living</th>\n",
       "      <th>sqft_lot</th>\n",
       "      <th>floors</th>\n",
       "      <th>waterfront</th>\n",
       "      <th>view</th>\n",
       "      <th>condition</th>\n",
       "      <th>grade</th>\n",
       "      <th>sqft_basement</th>\n",
       "      <th>yr_built</th>\n",
       "      <th>zipcode</th>\n",
       "      <th>lat</th>\n",
       "      <th>long</th>\n",
       "      <th>sqft_living15</th>\n",
       "      <th>sqft_lot15</th>\n",
       "      <th>price</th>\n",
       "    </tr>\n",
       "  </thead>\n",
       "  <tbody>\n",
       "    <tr>\n",
       "      <th>15856</th>\n",
       "      <td>06/2014</td>\n",
       "      <td>33</td>\n",
       "      <td>1.75</td>\n",
       "      <td>1620</td>\n",
       "      <td>6000</td>\n",
       "      <td>1.0</td>\n",
       "      <td>no</td>\n",
       "      <td>0</td>\n",
       "      <td>5</td>\n",
       "      <td>7</td>\n",
       "      <td>580</td>\n",
       "      <td>1947</td>\n",
       "      <td>98103</td>\n",
       "      <td>47.6878</td>\n",
       "      <td>-122.331</td>\n",
       "      <td>1330</td>\n",
       "      <td>4700</td>\n",
       "      <td>640000</td>\n",
       "    </tr>\n",
       "  </tbody>\n",
       "</table>\n",
       "</div>"
      ],
      "text/plain": [
       "          date  bedrooms  bathrooms  sqft_living  sqft_lot  floors waterfront  \\\n",
       "15856  06/2014        33       1.75         1620      6000     1.0         no   \n",
       "\n",
       "       view  condition  grade  sqft_basement  yr_built  zipcode      lat  \\\n",
       "15856     0          5      7            580      1947    98103  47.6878   \n",
       "\n",
       "          long  sqft_living15  sqft_lot15   price  \n",
       "15856 -122.331           1330        4700  640000  "
      ]
     },
     "execution_count": 2150,
     "metadata": {},
     "output_type": "execute_result"
    }
   ],
   "source": [
    "#re_df = re_df[re_df.bedrooms != max(re_df['bedrooms'])]\n",
    "\n",
    "re_df.loc[re_df['bedrooms'] == 33]"
   ]
  },
  {
   "cell_type": "markdown",
   "id": "74f1d803",
   "metadata": {},
   "source": [
    "Based on the sqft_living we asume that there is typing error"
   ]
  },
  {
   "cell_type": "code",
   "execution_count": 2151,
   "id": "15285bd4",
   "metadata": {},
   "outputs": [],
   "source": [
    "re_df.at[15856,'bedrooms'] = 3"
   ]
  },
  {
   "cell_type": "markdown",
   "id": "8010b63b",
   "metadata": {},
   "source": [
    "#### bathrooms"
   ]
  },
  {
   "cell_type": "code",
   "execution_count": 2152,
   "id": "7657e24e",
   "metadata": {},
   "outputs": [
    {
     "name": "stderr",
     "output_type": "stream",
     "text": [
      "/Users/louisarudow/opt/anaconda3/lib/python3.9/site-packages/seaborn/_decorators.py:36: FutureWarning: Pass the following variable as a keyword arg: x. From version 0.12, the only valid positional argument will be `data`, and passing other arguments without an explicit keyword will result in an error or misinterpretation.\n",
      "  warnings.warn(\n"
     ]
    },
    {
     "data": {
      "text/plain": [
       "<AxesSubplot:xlabel='bathrooms'>"
      ]
     },
     "execution_count": 2152,
     "metadata": {},
     "output_type": "execute_result"
    },
    {
     "data": {
      "image/png": "[encoded data removed]",
      "text/plain": [
       "<Figure size 432x288 with 1 Axes>"
      ]
     },
     "metadata": {
      "needs_background": "light"
     },
     "output_type": "display_data"
    }
   ],
   "source": [
    "sns.boxplot(re_df['bathrooms'])"
   ]
  },
  {
   "cell_type": "code",
   "execution_count": 2153,
   "id": "0784ca91",
   "metadata": {},
   "outputs": [],
   "source": [
    "re_df['bathrooms'].value_counts()\n",
    "\n",
    "re_df = re_df[re_df.bathrooms != max(re_df['bathrooms'])]\n",
    "#re_df = re_df[re_df.bathrooms != 7.75]"
   ]
  },
  {
   "cell_type": "markdown",
   "id": "7af1bbb9",
   "metadata": {},
   "source": [
    "#### sqft_lot"
   ]
  },
  {
   "cell_type": "code",
   "execution_count": 2154,
   "id": "86fd9e0c",
   "metadata": {},
   "outputs": [
    {
     "name": "stderr",
     "output_type": "stream",
     "text": [
      "/Users/louisarudow/opt/anaconda3/lib/python3.9/site-packages/seaborn/_decorators.py:36: FutureWarning: Pass the following variable as a keyword arg: x. From version 0.12, the only valid positional argument will be `data`, and passing other arguments without an explicit keyword will result in an error or misinterpretation.\n",
      "  warnings.warn(\n"
     ]
    },
    {
     "data": {
      "text/plain": [
       "<AxesSubplot:xlabel='sqft_lot'>"
      ]
     },
     "execution_count": 2154,
     "metadata": {},
     "output_type": "execute_result"
    },
    {
     "data": {
      "image/png": "[encoded data removed]",
      "text/plain": [
       "<Figure size 432x288 with 1 Axes>"
      ]
     },
     "metadata": {
      "needs_background": "light"
     },
     "output_type": "display_data"
    }
   ],
   "source": [
    "sns.boxplot(re_df['sqft_lot'])"
   ]
  },
  {
   "cell_type": "code",
   "execution_count": 2155,
   "id": "1542b8e0",
   "metadata": {},
   "outputs": [
    {
     "data": {
      "text/plain": [
       "1651359"
      ]
     },
     "execution_count": 2155,
     "metadata": {},
     "output_type": "execute_result"
    }
   ],
   "source": [
    "max(re_df['sqft_lot'])"
   ]
  },
  {
   "cell_type": "code",
   "execution_count": 2156,
   "id": "66ba6957",
   "metadata": {},
   "outputs": [
    {
     "data": {
      "text/html": [
       "<div>\n",
       "<style scoped>\n",
       "    .dataframe tbody tr th:only-of-type {\n",
       "        vertical-align: middle;\n",
       "    }\n",
       "\n",
       "    .dataframe tbody tr th {\n",
       "        vertical-align: top;\n",
       "    }\n",
       "\n",
       "    .dataframe thead th {\n",
       "        text-align: right;\n",
       "    }\n",
       "</style>\n",
       "<table border=\"1\" class=\"dataframe\">\n",
       "  <thead>\n",
       "    <tr style=\"text-align: right;\">\n",
       "      <th></th>\n",
       "      <th>date</th>\n",
       "      <th>bedrooms</th>\n",
       "      <th>bathrooms</th>\n",
       "      <th>sqft_living</th>\n",
       "      <th>sqft_lot</th>\n",
       "      <th>floors</th>\n",
       "      <th>waterfront</th>\n",
       "      <th>view</th>\n",
       "      <th>condition</th>\n",
       "      <th>grade</th>\n",
       "      <th>sqft_basement</th>\n",
       "      <th>yr_built</th>\n",
       "      <th>zipcode</th>\n",
       "      <th>lat</th>\n",
       "      <th>long</th>\n",
       "      <th>sqft_living15</th>\n",
       "      <th>sqft_lot15</th>\n",
       "      <th>price</th>\n",
       "    </tr>\n",
       "  </thead>\n",
       "  <tbody>\n",
       "    <tr>\n",
       "      <th>1717</th>\n",
       "      <td>03/2015</td>\n",
       "      <td>4</td>\n",
       "      <td>1.0</td>\n",
       "      <td>1300</td>\n",
       "      <td>1651359</td>\n",
       "      <td>1.0</td>\n",
       "      <td>no</td>\n",
       "      <td>3</td>\n",
       "      <td>4</td>\n",
       "      <td>6</td>\n",
       "      <td>0</td>\n",
       "      <td>1920</td>\n",
       "      <td>98022</td>\n",
       "      <td>47.2313</td>\n",
       "      <td>-122.023</td>\n",
       "      <td>2560</td>\n",
       "      <td>425581</td>\n",
       "      <td>700000</td>\n",
       "    </tr>\n",
       "  </tbody>\n",
       "</table>\n",
       "</div>"
      ],
      "text/plain": [
       "         date  bedrooms  bathrooms  sqft_living  sqft_lot  floors waterfront  \\\n",
       "1717  03/2015         4        1.0         1300   1651359     1.0         no   \n",
       "\n",
       "      view  condition  grade  sqft_basement  yr_built  zipcode      lat  \\\n",
       "1717     3          4      6              0      1920    98022  47.2313   \n",
       "\n",
       "         long  sqft_living15  sqft_lot15   price  \n",
       "1717 -122.023           2560      425581  700000  "
      ]
     },
     "execution_count": 2156,
     "metadata": {},
     "output_type": "execute_result"
    }
   ],
   "source": [
    "re_df.loc[re_df['sqft_lot'] == 1651359]"
   ]
  },
  {
   "cell_type": "code",
   "execution_count": 2157,
   "id": "7667319e",
   "metadata": {},
   "outputs": [],
   "source": [
    "re_df.at[1717,'sqft_lot'] = 16513.59"
   ]
  },
  {
   "cell_type": "markdown",
   "id": "e86380c4",
   "metadata": {},
   "source": [
    "#### price"
   ]
  },
  {
   "cell_type": "code",
   "execution_count": 2158,
   "id": "a487e55d",
   "metadata": {},
   "outputs": [],
   "source": [
    "re_df = re_df[re_df['price'] < 4000000]"
   ]
  },
  {
   "cell_type": "markdown",
   "id": "ecf71e29",
   "metadata": {},
   "source": [
    "## Plot the Correlation Heatmap"
   ]
  },
  {
   "cell_type": "markdown",
   "id": "c9146fba",
   "metadata": {},
   "source": [
    "re_num = re_df[['sqft_living','sqft_lot','sqft_living15','sqft_lot15','sqft_above','sqft_basement']]\n",
    "\n",
    "corr = re_num.corr()\n",
    "mask = np.zeros_like(corr)\n",
    "mask[np.triu_indices_from(mask)] = True\n",
    "with sns.axes_style(\"white\"):\n",
    "    f, ax = plt.subplots(figsize=(9, 7))\n",
    "    ax = sns.heatmap(corr, mask=mask,cmap='coolwarm', vmin=-1,vmax=1,annot=True, square=True)"
   ]
  },
  {
   "cell_type": "markdown",
   "id": "309516dc",
   "metadata": {},
   "source": [
    "## Split Data into groups"
   ]
  },
  {
   "cell_type": "code",
   "execution_count": 2159,
   "id": "1f05bebc",
   "metadata": {},
   "outputs": [],
   "source": [
    "expensive_zipcodes= [98199, 98119, 98109, 98102, 98105, 98112, 98033, 98039, 98004, 98005, 98040, 98006, 98075]\n",
    "expensive_areas = re_df[re_df['zipcode'].isin(expensive_zipcodes)]"
   ]
  },
  {
   "cell_type": "code",
   "execution_count": 2160,
   "id": "552fefd6",
   "metadata": {},
   "outputs": [],
   "source": [
    "affordable_areas = re_df[~re_df['zipcode'].isin(expensive_zipcodes)]"
   ]
  },
  {
   "cell_type": "markdown",
   "id": "5938960b",
   "metadata": {},
   "source": [
    "## X Y split"
   ]
  },
  {
   "cell_type": "code",
   "execution_count": 2161,
   "id": "22079693",
   "metadata": {},
   "outputs": [],
   "source": [
    "X=expensive_areas.drop(\"price\", axis=1)\n",
    "y=expensive_areas[\"price\"]"
   ]
  },
  {
   "cell_type": "markdown",
   "id": "6e9a3efc",
   "metadata": {},
   "source": [
    "## Data Splitting"
   ]
  },
  {
   "cell_type": "code",
   "execution_count": 2162,
   "id": "a3051d93",
   "metadata": {},
   "outputs": [],
   "source": [
    "X_train, X_test, y_train, y_test=train_test_split(X, y, test_size=.30,random_state=123)"
   ]
  },
  {
   "cell_type": "code",
   "execution_count": 2163,
   "id": "c67cd0be",
   "metadata": {},
   "outputs": [],
   "source": [
    "y_train = y_train.reset_index(drop=True)\n",
    "y_test = y_test.reset_index(drop=True)"
   ]
  },
  {
   "cell_type": "markdown",
   "id": "489db419",
   "metadata": {},
   "source": [
    "## Data Transformation"
   ]
  },
  {
   "cell_type": "markdown",
   "id": "a03c2827",
   "metadata": {},
   "source": [
    "### Hot coding Categorical Variables"
   ]
  },
  {
   "cell_type": "code",
   "execution_count": 2164,
   "id": "54cf7869",
   "metadata": {},
   "outputs": [
    {
     "data": {
      "text/html": [
       "<div>\n",
       "<style scoped>\n",
       "    .dataframe tbody tr th:only-of-type {\n",
       "        vertical-align: middle;\n",
       "    }\n",
       "\n",
       "    .dataframe tbody tr th {\n",
       "        vertical-align: top;\n",
       "    }\n",
       "\n",
       "    .dataframe thead th {\n",
       "        text-align: right;\n",
       "    }\n",
       "</style>\n",
       "<table border=\"1\" class=\"dataframe\">\n",
       "  <thead>\n",
       "    <tr style=\"text-align: right;\">\n",
       "      <th></th>\n",
       "      <th>date</th>\n",
       "      <th>bedrooms</th>\n",
       "      <th>bathrooms</th>\n",
       "      <th>view</th>\n",
       "      <th>floors</th>\n",
       "      <th>waterfront</th>\n",
       "      <th>condition</th>\n",
       "      <th>grade</th>\n",
       "      <th>yr_built</th>\n",
       "      <th>zipcode</th>\n",
       "      <th>lat</th>\n",
       "      <th>long</th>\n",
       "    </tr>\n",
       "  </thead>\n",
       "  <tbody>\n",
       "    <tr>\n",
       "      <th>11440</th>\n",
       "      <td>06/2014</td>\n",
       "      <td>3</td>\n",
       "      <td>1.75</td>\n",
       "      <td>0</td>\n",
       "      <td>1.0</td>\n",
       "      <td>no</td>\n",
       "      <td>3</td>\n",
       "      <td>8</td>\n",
       "      <td>1976</td>\n",
       "      <td>98011</td>\n",
       "      <td>47.7687</td>\n",
       "      <td>-122.223</td>\n",
       "    </tr>\n",
       "    <tr>\n",
       "      <th>2348</th>\n",
       "      <td>11/2014</td>\n",
       "      <td>3</td>\n",
       "      <td>1.00</td>\n",
       "      <td>0</td>\n",
       "      <td>1.0</td>\n",
       "      <td>no</td>\n",
       "      <td>3</td>\n",
       "      <td>6</td>\n",
       "      <td>1959</td>\n",
       "      <td>98008</td>\n",
       "      <td>47.6195</td>\n",
       "      <td>-122.118</td>\n",
       "    </tr>\n",
       "    <tr>\n",
       "      <th>4865</th>\n",
       "      <td>06/2014</td>\n",
       "      <td>2</td>\n",
       "      <td>1.75</td>\n",
       "      <td>2</td>\n",
       "      <td>1.0</td>\n",
       "      <td>no</td>\n",
       "      <td>3</td>\n",
       "      <td>8</td>\n",
       "      <td>1983</td>\n",
       "      <td>98092</td>\n",
       "      <td>47.2645</td>\n",
       "      <td>-122.163</td>\n",
       "    </tr>\n",
       "    <tr>\n",
       "      <th>2218</th>\n",
       "      <td>01/2015</td>\n",
       "      <td>3</td>\n",
       "      <td>1.75</td>\n",
       "      <td>0</td>\n",
       "      <td>1.5</td>\n",
       "      <td>no</td>\n",
       "      <td>3</td>\n",
       "      <td>6</td>\n",
       "      <td>1915</td>\n",
       "      <td>98034</td>\n",
       "      <td>47.7244</td>\n",
       "      <td>-122.222</td>\n",
       "    </tr>\n",
       "    <tr>\n",
       "      <th>4769</th>\n",
       "      <td>06/2014</td>\n",
       "      <td>2</td>\n",
       "      <td>1.75</td>\n",
       "      <td>0</td>\n",
       "      <td>2.0</td>\n",
       "      <td>no</td>\n",
       "      <td>3</td>\n",
       "      <td>8</td>\n",
       "      <td>2014</td>\n",
       "      <td>98029</td>\n",
       "      <td>47.5519</td>\n",
       "      <td>-121.999</td>\n",
       "    </tr>\n",
       "    <tr>\n",
       "      <th>...</th>\n",
       "      <td>...</td>\n",
       "      <td>...</td>\n",
       "      <td>...</td>\n",
       "      <td>...</td>\n",
       "      <td>...</td>\n",
       "      <td>...</td>\n",
       "      <td>...</td>\n",
       "      <td>...</td>\n",
       "      <td>...</td>\n",
       "      <td>...</td>\n",
       "      <td>...</td>\n",
       "      <td>...</td>\n",
       "    </tr>\n",
       "    <tr>\n",
       "      <th>9522</th>\n",
       "      <td>07/2014</td>\n",
       "      <td>4</td>\n",
       "      <td>2.50</td>\n",
       "      <td>0</td>\n",
       "      <td>2.0</td>\n",
       "      <td>no</td>\n",
       "      <td>3</td>\n",
       "      <td>9</td>\n",
       "      <td>2013</td>\n",
       "      <td>98059</td>\n",
       "      <td>47.5019</td>\n",
       "      <td>-122.151</td>\n",
       "    </tr>\n",
       "    <tr>\n",
       "      <th>7422</th>\n",
       "      <td>08/2014</td>\n",
       "      <td>3</td>\n",
       "      <td>1.75</td>\n",
       "      <td>0</td>\n",
       "      <td>1.0</td>\n",
       "      <td>no</td>\n",
       "      <td>4</td>\n",
       "      <td>7</td>\n",
       "      <td>1978</td>\n",
       "      <td>98092</td>\n",
       "      <td>47.3187</td>\n",
       "      <td>-122.180</td>\n",
       "    </tr>\n",
       "    <tr>\n",
       "      <th>20299</th>\n",
       "      <td>09/2014</td>\n",
       "      <td>4</td>\n",
       "      <td>2.50</td>\n",
       "      <td>0</td>\n",
       "      <td>2.0</td>\n",
       "      <td>no</td>\n",
       "      <td>3</td>\n",
       "      <td>9</td>\n",
       "      <td>2014</td>\n",
       "      <td>98001</td>\n",
       "      <td>47.3359</td>\n",
       "      <td>-122.257</td>\n",
       "    </tr>\n",
       "    <tr>\n",
       "      <th>1893</th>\n",
       "      <td>05/2014</td>\n",
       "      <td>4</td>\n",
       "      <td>2.75</td>\n",
       "      <td>0</td>\n",
       "      <td>1.0</td>\n",
       "      <td>no</td>\n",
       "      <td>3</td>\n",
       "      <td>8</td>\n",
       "      <td>1917</td>\n",
       "      <td>98122</td>\n",
       "      <td>47.6053</td>\n",
       "      <td>-122.291</td>\n",
       "    </tr>\n",
       "    <tr>\n",
       "      <th>13571</th>\n",
       "      <td>08/2014</td>\n",
       "      <td>4</td>\n",
       "      <td>1.75</td>\n",
       "      <td>0</td>\n",
       "      <td>1.0</td>\n",
       "      <td>no</td>\n",
       "      <td>4</td>\n",
       "      <td>8</td>\n",
       "      <td>1971</td>\n",
       "      <td>98042</td>\n",
       "      <td>47.3932</td>\n",
       "      <td>-122.120</td>\n",
       "    </tr>\n",
       "  </tbody>\n",
       "</table>\n",
       "<p>5483 rows × 12 columns</p>\n",
       "</div>"
      ],
      "text/plain": [
       "          date  bedrooms  bathrooms  view  floors waterfront  condition  \\\n",
       "11440  06/2014         3       1.75     0     1.0         no          3   \n",
       "2348   11/2014         3       1.00     0     1.0         no          3   \n",
       "4865   06/2014         2       1.75     2     1.0         no          3   \n",
       "2218   01/2015         3       1.75     0     1.5         no          3   \n",
       "4769   06/2014         2       1.75     0     2.0         no          3   \n",
       "...        ...       ...        ...   ...     ...        ...        ...   \n",
       "9522   07/2014         4       2.50     0     2.0         no          3   \n",
       "7422   08/2014         3       1.75     0     1.0         no          4   \n",
       "20299  09/2014         4       2.50     0     2.0         no          3   \n",
       "1893   05/2014         4       2.75     0     1.0         no          3   \n",
       "13571  08/2014         4       1.75     0     1.0         no          4   \n",
       "\n",
       "       grade  yr_built  zipcode      lat     long  \n",
       "11440      8      1976    98011  47.7687 -122.223  \n",
       "2348       6      1959    98008  47.6195 -122.118  \n",
       "4865       8      1983    98092  47.2645 -122.163  \n",
       "2218       6      1915    98034  47.7244 -122.222  \n",
       "4769       8      2014    98029  47.5519 -121.999  \n",
       "...      ...       ...      ...      ...      ...  \n",
       "9522       9      2013    98059  47.5019 -122.151  \n",
       "7422       7      1978    98092  47.3187 -122.180  \n",
       "20299      9      2014    98001  47.3359 -122.257  \n",
       "1893       8      1917    98122  47.6053 -122.291  \n",
       "13571      8      1971    98042  47.3932 -122.120  \n",
       "\n",
       "[5483 rows x 12 columns]"
      ]
     },
     "execution_count": 2164,
     "metadata": {},
     "output_type": "execute_result"
    }
   ],
   "source": [
    "X_train_cat=X_train[['date','bedrooms','bathrooms','view','floors','waterfront','condition','grade','yr_built','zipcode','lat','long']]\n",
    "X_train_cat\n",
    "\n",
    "X_test_cat=X_test[['date','bedrooms','bathrooms','view','floors','waterfront','condition','grade','yr_built','zipcode','lat','long']]\n",
    "X_test_cat"
   ]
  },
  {
   "cell_type": "code",
   "execution_count": 2165,
   "id": "cf5e573d",
   "metadata": {},
   "outputs": [
    {
     "data": {
      "text/html": [
       "<div>\n",
       "<style scoped>\n",
       "    .dataframe tbody tr th:only-of-type {\n",
       "        vertical-align: middle;\n",
       "    }\n",
       "\n",
       "    .dataframe tbody tr th {\n",
       "        vertical-align: top;\n",
       "    }\n",
       "\n",
       "    .dataframe thead th {\n",
       "        text-align: right;\n",
       "    }\n",
       "</style>\n",
       "<table border=\"1\" class=\"dataframe\">\n",
       "  <thead>\n",
       "    <tr style=\"text-align: right;\">\n",
       "      <th></th>\n",
       "      <th>bedrooms_2</th>\n",
       "      <th>bedrooms_3</th>\n",
       "      <th>bedrooms_4</th>\n",
       "      <th>bedrooms_5</th>\n",
       "      <th>bedrooms_6</th>\n",
       "      <th>bedrooms_7</th>\n",
       "      <th>bedrooms_8</th>\n",
       "      <th>bedrooms_9</th>\n",
       "      <th>bathrooms_0.75</th>\n",
       "      <th>bathrooms_1.0</th>\n",
       "      <th>...</th>\n",
       "      <th>date_05/2014_1</th>\n",
       "      <th>date_05/2015_1</th>\n",
       "      <th>date_06/2014_1</th>\n",
       "      <th>date_07/2014_1</th>\n",
       "      <th>date_08/2014_1</th>\n",
       "      <th>date_09/2014_1</th>\n",
       "      <th>date_10/2014_1</th>\n",
       "      <th>date_11/2014_1</th>\n",
       "      <th>date_12/2014_1</th>\n",
       "      <th>waterfront_yes_1</th>\n",
       "    </tr>\n",
       "  </thead>\n",
       "  <tbody>\n",
       "    <tr>\n",
       "      <th>0</th>\n",
       "      <td>0.0</td>\n",
       "      <td>1.0</td>\n",
       "      <td>0.0</td>\n",
       "      <td>0.0</td>\n",
       "      <td>0.0</td>\n",
       "      <td>0.0</td>\n",
       "      <td>0.0</td>\n",
       "      <td>0.0</td>\n",
       "      <td>0.0</td>\n",
       "      <td>0.0</td>\n",
       "      <td>...</td>\n",
       "      <td>0.0</td>\n",
       "      <td>0.0</td>\n",
       "      <td>1.0</td>\n",
       "      <td>0.0</td>\n",
       "      <td>0.0</td>\n",
       "      <td>0.0</td>\n",
       "      <td>0.0</td>\n",
       "      <td>0.0</td>\n",
       "      <td>0.0</td>\n",
       "      <td>0.0</td>\n",
       "    </tr>\n",
       "    <tr>\n",
       "      <th>1</th>\n",
       "      <td>0.0</td>\n",
       "      <td>1.0</td>\n",
       "      <td>0.0</td>\n",
       "      <td>0.0</td>\n",
       "      <td>0.0</td>\n",
       "      <td>0.0</td>\n",
       "      <td>0.0</td>\n",
       "      <td>0.0</td>\n",
       "      <td>0.0</td>\n",
       "      <td>1.0</td>\n",
       "      <td>...</td>\n",
       "      <td>0.0</td>\n",
       "      <td>0.0</td>\n",
       "      <td>0.0</td>\n",
       "      <td>0.0</td>\n",
       "      <td>0.0</td>\n",
       "      <td>0.0</td>\n",
       "      <td>0.0</td>\n",
       "      <td>1.0</td>\n",
       "      <td>0.0</td>\n",
       "      <td>0.0</td>\n",
       "    </tr>\n",
       "    <tr>\n",
       "      <th>2</th>\n",
       "      <td>1.0</td>\n",
       "      <td>0.0</td>\n",
       "      <td>0.0</td>\n",
       "      <td>0.0</td>\n",
       "      <td>0.0</td>\n",
       "      <td>0.0</td>\n",
       "      <td>0.0</td>\n",
       "      <td>0.0</td>\n",
       "      <td>0.0</td>\n",
       "      <td>0.0</td>\n",
       "      <td>...</td>\n",
       "      <td>0.0</td>\n",
       "      <td>0.0</td>\n",
       "      <td>1.0</td>\n",
       "      <td>0.0</td>\n",
       "      <td>0.0</td>\n",
       "      <td>0.0</td>\n",
       "      <td>0.0</td>\n",
       "      <td>0.0</td>\n",
       "      <td>0.0</td>\n",
       "      <td>0.0</td>\n",
       "    </tr>\n",
       "    <tr>\n",
       "      <th>3</th>\n",
       "      <td>0.0</td>\n",
       "      <td>1.0</td>\n",
       "      <td>0.0</td>\n",
       "      <td>0.0</td>\n",
       "      <td>0.0</td>\n",
       "      <td>0.0</td>\n",
       "      <td>0.0</td>\n",
       "      <td>0.0</td>\n",
       "      <td>0.0</td>\n",
       "      <td>0.0</td>\n",
       "      <td>...</td>\n",
       "      <td>0.0</td>\n",
       "      <td>0.0</td>\n",
       "      <td>0.0</td>\n",
       "      <td>0.0</td>\n",
       "      <td>0.0</td>\n",
       "      <td>0.0</td>\n",
       "      <td>0.0</td>\n",
       "      <td>0.0</td>\n",
       "      <td>0.0</td>\n",
       "      <td>0.0</td>\n",
       "    </tr>\n",
       "    <tr>\n",
       "      <th>4</th>\n",
       "      <td>1.0</td>\n",
       "      <td>0.0</td>\n",
       "      <td>0.0</td>\n",
       "      <td>0.0</td>\n",
       "      <td>0.0</td>\n",
       "      <td>0.0</td>\n",
       "      <td>0.0</td>\n",
       "      <td>0.0</td>\n",
       "      <td>0.0</td>\n",
       "      <td>0.0</td>\n",
       "      <td>...</td>\n",
       "      <td>0.0</td>\n",
       "      <td>0.0</td>\n",
       "      <td>1.0</td>\n",
       "      <td>0.0</td>\n",
       "      <td>0.0</td>\n",
       "      <td>0.0</td>\n",
       "      <td>0.0</td>\n",
       "      <td>0.0</td>\n",
       "      <td>0.0</td>\n",
       "      <td>0.0</td>\n",
       "    </tr>\n",
       "    <tr>\n",
       "      <th>...</th>\n",
       "      <td>...</td>\n",
       "      <td>...</td>\n",
       "      <td>...</td>\n",
       "      <td>...</td>\n",
       "      <td>...</td>\n",
       "      <td>...</td>\n",
       "      <td>...</td>\n",
       "      <td>...</td>\n",
       "      <td>...</td>\n",
       "      <td>...</td>\n",
       "      <td>...</td>\n",
       "      <td>...</td>\n",
       "      <td>...</td>\n",
       "      <td>...</td>\n",
       "      <td>...</td>\n",
       "      <td>...</td>\n",
       "      <td>...</td>\n",
       "      <td>...</td>\n",
       "      <td>...</td>\n",
       "      <td>...</td>\n",
       "      <td>...</td>\n",
       "    </tr>\n",
       "    <tr>\n",
       "      <th>5478</th>\n",
       "      <td>0.0</td>\n",
       "      <td>0.0</td>\n",
       "      <td>1.0</td>\n",
       "      <td>0.0</td>\n",
       "      <td>0.0</td>\n",
       "      <td>0.0</td>\n",
       "      <td>0.0</td>\n",
       "      <td>0.0</td>\n",
       "      <td>0.0</td>\n",
       "      <td>0.0</td>\n",
       "      <td>...</td>\n",
       "      <td>0.0</td>\n",
       "      <td>0.0</td>\n",
       "      <td>0.0</td>\n",
       "      <td>1.0</td>\n",
       "      <td>0.0</td>\n",
       "      <td>0.0</td>\n",
       "      <td>0.0</td>\n",
       "      <td>0.0</td>\n",
       "      <td>0.0</td>\n",
       "      <td>0.0</td>\n",
       "    </tr>\n",
       "    <tr>\n",
       "      <th>5479</th>\n",
       "      <td>0.0</td>\n",
       "      <td>1.0</td>\n",
       "      <td>0.0</td>\n",
       "      <td>0.0</td>\n",
       "      <td>0.0</td>\n",
       "      <td>0.0</td>\n",
       "      <td>0.0</td>\n",
       "      <td>0.0</td>\n",
       "      <td>0.0</td>\n",
       "      <td>0.0</td>\n",
       "      <td>...</td>\n",
       "      <td>0.0</td>\n",
       "      <td>0.0</td>\n",
       "      <td>0.0</td>\n",
       "      <td>0.0</td>\n",
       "      <td>1.0</td>\n",
       "      <td>0.0</td>\n",
       "      <td>0.0</td>\n",
       "      <td>0.0</td>\n",
       "      <td>0.0</td>\n",
       "      <td>0.0</td>\n",
       "    </tr>\n",
       "    <tr>\n",
       "      <th>5480</th>\n",
       "      <td>0.0</td>\n",
       "      <td>0.0</td>\n",
       "      <td>1.0</td>\n",
       "      <td>0.0</td>\n",
       "      <td>0.0</td>\n",
       "      <td>0.0</td>\n",
       "      <td>0.0</td>\n",
       "      <td>0.0</td>\n",
       "      <td>0.0</td>\n",
       "      <td>0.0</td>\n",
       "      <td>...</td>\n",
       "      <td>0.0</td>\n",
       "      <td>0.0</td>\n",
       "      <td>0.0</td>\n",
       "      <td>0.0</td>\n",
       "      <td>0.0</td>\n",
       "      <td>1.0</td>\n",
       "      <td>0.0</td>\n",
       "      <td>0.0</td>\n",
       "      <td>0.0</td>\n",
       "      <td>0.0</td>\n",
       "    </tr>\n",
       "    <tr>\n",
       "      <th>5481</th>\n",
       "      <td>0.0</td>\n",
       "      <td>0.0</td>\n",
       "      <td>1.0</td>\n",
       "      <td>0.0</td>\n",
       "      <td>0.0</td>\n",
       "      <td>0.0</td>\n",
       "      <td>0.0</td>\n",
       "      <td>0.0</td>\n",
       "      <td>0.0</td>\n",
       "      <td>0.0</td>\n",
       "      <td>...</td>\n",
       "      <td>1.0</td>\n",
       "      <td>0.0</td>\n",
       "      <td>0.0</td>\n",
       "      <td>0.0</td>\n",
       "      <td>0.0</td>\n",
       "      <td>0.0</td>\n",
       "      <td>0.0</td>\n",
       "      <td>0.0</td>\n",
       "      <td>0.0</td>\n",
       "      <td>0.0</td>\n",
       "    </tr>\n",
       "    <tr>\n",
       "      <th>5482</th>\n",
       "      <td>0.0</td>\n",
       "      <td>0.0</td>\n",
       "      <td>1.0</td>\n",
       "      <td>0.0</td>\n",
       "      <td>0.0</td>\n",
       "      <td>0.0</td>\n",
       "      <td>0.0</td>\n",
       "      <td>0.0</td>\n",
       "      <td>0.0</td>\n",
       "      <td>0.0</td>\n",
       "      <td>...</td>\n",
       "      <td>0.0</td>\n",
       "      <td>0.0</td>\n",
       "      <td>0.0</td>\n",
       "      <td>0.0</td>\n",
       "      <td>1.0</td>\n",
       "      <td>0.0</td>\n",
       "      <td>0.0</td>\n",
       "      <td>0.0</td>\n",
       "      <td>0.0</td>\n",
       "      <td>0.0</td>\n",
       "    </tr>\n",
       "  </tbody>\n",
       "</table>\n",
       "<p>5483 rows × 4040 columns</p>\n",
       "</div>"
      ],
      "text/plain": [
       "      bedrooms_2  bedrooms_3  bedrooms_4  bedrooms_5  bedrooms_6  bedrooms_7  \\\n",
       "0            0.0         1.0         0.0         0.0         0.0         0.0   \n",
       "1            0.0         1.0         0.0         0.0         0.0         0.0   \n",
       "2            1.0         0.0         0.0         0.0         0.0         0.0   \n",
       "3            0.0         1.0         0.0         0.0         0.0         0.0   \n",
       "4            1.0         0.0         0.0         0.0         0.0         0.0   \n",
       "...          ...         ...         ...         ...         ...         ...   \n",
       "5478         0.0         0.0         1.0         0.0         0.0         0.0   \n",
       "5479         0.0         1.0         0.0         0.0         0.0         0.0   \n",
       "5480         0.0         0.0         1.0         0.0         0.0         0.0   \n",
       "5481         0.0         0.0         1.0         0.0         0.0         0.0   \n",
       "5482         0.0         0.0         1.0         0.0         0.0         0.0   \n",
       "\n",
       "      bedrooms_8  bedrooms_9  bathrooms_0.75  bathrooms_1.0  ...  \\\n",
       "0            0.0         0.0             0.0            0.0  ...   \n",
       "1            0.0         0.0             0.0            1.0  ...   \n",
       "2            0.0         0.0             0.0            0.0  ...   \n",
       "3            0.0         0.0             0.0            0.0  ...   \n",
       "4            0.0         0.0             0.0            0.0  ...   \n",
       "...          ...         ...             ...            ...  ...   \n",
       "5478         0.0         0.0             0.0            0.0  ...   \n",
       "5479         0.0         0.0             0.0            0.0  ...   \n",
       "5480         0.0         0.0             0.0            0.0  ...   \n",
       "5481         0.0         0.0             0.0            0.0  ...   \n",
       "5482         0.0         0.0             0.0            0.0  ...   \n",
       "\n",
       "      date_05/2014_1  date_05/2015_1  date_06/2014_1  date_07/2014_1  \\\n",
       "0                0.0             0.0             1.0             0.0   \n",
       "1                0.0             0.0             0.0             0.0   \n",
       "2                0.0             0.0             1.0             0.0   \n",
       "3                0.0             0.0             0.0             0.0   \n",
       "4                0.0             0.0             1.0             0.0   \n",
       "...              ...             ...             ...             ...   \n",
       "5478             0.0             0.0             0.0             1.0   \n",
       "5479             0.0             0.0             0.0             0.0   \n",
       "5480             0.0             0.0             0.0             0.0   \n",
       "5481             1.0             0.0             0.0             0.0   \n",
       "5482             0.0             0.0             0.0             0.0   \n",
       "\n",
       "      date_08/2014_1  date_09/2014_1  date_10/2014_1  date_11/2014_1  \\\n",
       "0                0.0             0.0             0.0             0.0   \n",
       "1                0.0             0.0             0.0             1.0   \n",
       "2                0.0             0.0             0.0             0.0   \n",
       "3                0.0             0.0             0.0             0.0   \n",
       "4                0.0             0.0             0.0             0.0   \n",
       "...              ...             ...             ...             ...   \n",
       "5478             0.0             0.0             0.0             0.0   \n",
       "5479             1.0             0.0             0.0             0.0   \n",
       "5480             0.0             1.0             0.0             0.0   \n",
       "5481             0.0             0.0             0.0             0.0   \n",
       "5482             1.0             0.0             0.0             0.0   \n",
       "\n",
       "      date_12/2014_1  waterfront_yes_1  \n",
       "0                0.0               0.0  \n",
       "1                0.0               0.0  \n",
       "2                0.0               0.0  \n",
       "3                0.0               0.0  \n",
       "4                0.0               0.0  \n",
       "...              ...               ...  \n",
       "5478             0.0               0.0  \n",
       "5479             0.0               0.0  \n",
       "5480             0.0               0.0  \n",
       "5481             0.0               0.0  \n",
       "5482             0.0               0.0  \n",
       "\n",
       "[5483 rows x 4040 columns]"
      ]
     },
     "execution_count": 2165,
     "metadata": {},
     "output_type": "execute_result"
    }
   ],
   "source": [
    "X_train_cat=pd.get_dummies(X_train_cat, drop_first=True)\n",
    "pd.DataFrame(OneHotEncoder(drop='first').fit_transform(X_train_cat).toarray(),\n",
    "columns=OneHotEncoder(drop='first').fit(X_train_cat).get_feature_names(input_features=X_train_cat.columns))\n",
    "\n",
    "X_test_cat=pd.get_dummies(X_test_cat, drop_first=True)\n",
    "pd.DataFrame(OneHotEncoder(drop='first').fit_transform(X_test_cat).toarray(),\n",
    "columns=OneHotEncoder(drop='first').fit(X_test_cat).get_feature_names(input_features=X_test_cat.columns))"
   ]
  },
  {
   "cell_type": "code",
   "execution_count": 2166,
   "id": "707f5adf",
   "metadata": {},
   "outputs": [],
   "source": [
    "X_train_cat = X_train_cat.reset_index(drop=True)\n",
    "X_test_cat = X_test_cat.reset_index(drop=True)"
   ]
  },
  {
   "cell_type": "markdown",
   "id": "7006b949",
   "metadata": {},
   "source": [
    "### Standardize numerical"
   ]
  },
  {
   "cell_type": "code",
   "execution_count": 2167,
   "id": "cf03f651",
   "metadata": {},
   "outputs": [
    {
     "data": {
      "text/html": [
       "<div>\n",
       "<style scoped>\n",
       "    .dataframe tbody tr th:only-of-type {\n",
       "        vertical-align: middle;\n",
       "    }\n",
       "\n",
       "    .dataframe tbody tr th {\n",
       "        vertical-align: top;\n",
       "    }\n",
       "\n",
       "    .dataframe thead th {\n",
       "        text-align: right;\n",
       "    }\n",
       "</style>\n",
       "<table border=\"1\" class=\"dataframe\">\n",
       "  <thead>\n",
       "    <tr style=\"text-align: right;\">\n",
       "      <th></th>\n",
       "      <th>sqft_living</th>\n",
       "      <th>sqft_lot</th>\n",
       "      <th>sqft_living15</th>\n",
       "      <th>sqft_lot15</th>\n",
       "      <th>sqft_basement</th>\n",
       "    </tr>\n",
       "  </thead>\n",
       "  <tbody>\n",
       "    <tr>\n",
       "      <th>11440</th>\n",
       "      <td>1520</td>\n",
       "      <td>8625</td>\n",
       "      <td>2080</td>\n",
       "      <td>9200</td>\n",
       "      <td>0</td>\n",
       "    </tr>\n",
       "    <tr>\n",
       "      <th>2348</th>\n",
       "      <td>940</td>\n",
       "      <td>7811</td>\n",
       "      <td>1180</td>\n",
       "      <td>7490</td>\n",
       "      <td>0</td>\n",
       "    </tr>\n",
       "    <tr>\n",
       "      <th>4865</th>\n",
       "      <td>1490</td>\n",
       "      <td>224334</td>\n",
       "      <td>2350</td>\n",
       "      <td>213879</td>\n",
       "      <td>0</td>\n",
       "    </tr>\n",
       "    <tr>\n",
       "      <th>2218</th>\n",
       "      <td>1850</td>\n",
       "      <td>10920</td>\n",
       "      <td>1510</td>\n",
       "      <td>7871</td>\n",
       "      <td>0</td>\n",
       "    </tr>\n",
       "    <tr>\n",
       "      <th>4769</th>\n",
       "      <td>1210</td>\n",
       "      <td>1040</td>\n",
       "      <td>1210</td>\n",
       "      <td>1090</td>\n",
       "      <td>0</td>\n",
       "    </tr>\n",
       "    <tr>\n",
       "      <th>...</th>\n",
       "      <td>...</td>\n",
       "      <td>...</td>\n",
       "      <td>...</td>\n",
       "      <td>...</td>\n",
       "      <td>...</td>\n",
       "    </tr>\n",
       "    <tr>\n",
       "      <th>9522</th>\n",
       "      <td>2810</td>\n",
       "      <td>6296</td>\n",
       "      <td>2850</td>\n",
       "      <td>6140</td>\n",
       "      <td>0</td>\n",
       "    </tr>\n",
       "    <tr>\n",
       "      <th>7422</th>\n",
       "      <td>1490</td>\n",
       "      <td>8000</td>\n",
       "      <td>1540</td>\n",
       "      <td>8000</td>\n",
       "      <td>290</td>\n",
       "    </tr>\n",
       "    <tr>\n",
       "      <th>20299</th>\n",
       "      <td>2891</td>\n",
       "      <td>6499</td>\n",
       "      <td>2550</td>\n",
       "      <td>8383</td>\n",
       "      <td>0</td>\n",
       "    </tr>\n",
       "    <tr>\n",
       "      <th>1893</th>\n",
       "      <td>2020</td>\n",
       "      <td>2750</td>\n",
       "      <td>1840</td>\n",
       "      <td>4000</td>\n",
       "      <td>1010</td>\n",
       "    </tr>\n",
       "    <tr>\n",
       "      <th>13571</th>\n",
       "      <td>1910</td>\n",
       "      <td>77574</td>\n",
       "      <td>2130</td>\n",
       "      <td>37026</td>\n",
       "      <td>0</td>\n",
       "    </tr>\n",
       "  </tbody>\n",
       "</table>\n",
       "<p>5483 rows × 5 columns</p>\n",
       "</div>"
      ],
      "text/plain": [
       "       sqft_living  sqft_lot  sqft_living15  sqft_lot15  sqft_basement\n",
       "11440         1520      8625           2080        9200              0\n",
       "2348           940      7811           1180        7490              0\n",
       "4865          1490    224334           2350      213879              0\n",
       "2218          1850     10920           1510        7871              0\n",
       "4769          1210      1040           1210        1090              0\n",
       "...            ...       ...            ...         ...            ...\n",
       "9522          2810      6296           2850        6140              0\n",
       "7422          1490      8000           1540        8000            290\n",
       "20299         2891      6499           2550        8383              0\n",
       "1893          2020      2750           1840        4000           1010\n",
       "13571         1910     77574           2130       37026              0\n",
       "\n",
       "[5483 rows x 5 columns]"
      ]
     },
     "execution_count": 2167,
     "metadata": {},
     "output_type": "execute_result"
    }
   ],
   "source": [
    "X_train_num=X_train[['sqft_living','sqft_lot','sqft_living15','sqft_lot15','sqft_basement']]\n",
    "X_train_num\n",
    "\n",
    "X_test_num=X_test[['sqft_living','sqft_lot','sqft_living15','sqft_lot15','sqft_basement']]\n",
    "X_test_num"
   ]
  },
  {
   "cell_type": "code",
   "execution_count": 2168,
   "id": "107a50d2",
   "metadata": {},
   "outputs": [],
   "source": [
    "std_scaler=StandardScaler().fit(X_train_num)   ## finding the parameters (mean, variance from the training set )\n",
    "\n",
    "X_train_scaled=std_scaler.transform(X_train_num)"
   ]
  },
  {
   "cell_type": "code",
   "execution_count": 2169,
   "id": "8ba3086d",
   "metadata": {},
   "outputs": [],
   "source": [
    "X_test_scaled=std_scaler.transform(X_test_num)"
   ]
  },
  {
   "cell_type": "code",
   "execution_count": 2170,
   "id": "f6d36497",
   "metadata": {},
   "outputs": [
    {
     "name": "stdout",
     "output_type": "stream",
     "text": [
      "[[-0.41890892 -0.32458812 -1.0842871  -0.40295635 -0.63363331]\n",
      " [-0.81766198 -0.33618554 -0.95606967 -0.42081659 -0.63363331]\n",
      " [ 0.23359609 -0.13835261 -0.65155329 -0.11697942 -0.63363331]\n",
      " ...\n",
      " [-1.50641726 -0.24704638 -1.46893938 -0.28496512 -0.63363331]\n",
      " [ 0.91268463 -0.18509233  1.89356263  2.02276996 -0.63363331]\n",
      " [-0.15307354 -0.19570969  0.3902133  -0.19619652  0.22144536]]\n",
      "--------\n",
      "[[-0.5518266  -0.16245752  0.29405023 -0.13583387 -0.63363331]\n",
      " [-1.25266531 -0.18145209 -1.14839581 -0.1965516  -0.63363331]\n",
      " [-0.58807688  4.8710815   0.72678405  7.13179355 -0.63363331]\n",
      " ...\n",
      " [ 1.10481111 -0.21206743  1.04732762 -0.16484345 -0.63363331]\n",
      " [ 0.0523447  -0.29954981 -0.09060205 -0.32047256  1.83387943]\n",
      " [-0.08057299  1.44645765  0.37418613  0.85219617 -0.63363331]]\n"
     ]
    }
   ],
   "source": [
    "print(X_train_scaled)\n",
    "print(\"--------\")\n",
    "print(X_test_scaled)"
   ]
  },
  {
   "cell_type": "code",
   "execution_count": 2171,
   "id": "3a48500d",
   "metadata": {},
   "outputs": [],
   "source": [
    "X_train_scaled = pd.DataFrame(X_train_scaled, columns= X_train_num.columns)\n",
    "X_test_scaled = pd.DataFrame(X_test_scaled, columns= X_test_num.columns)"
   ]
  },
  {
   "cell_type": "code",
   "execution_count": 2172,
   "id": "1255675e",
   "metadata": {},
   "outputs": [],
   "source": [
    "X_train_scaled = X_train_scaled.reset_index(drop=True)\n",
    "X_test_scaled = X_test_scaled.reset_index(drop=True)"
   ]
  },
  {
   "cell_type": "markdown",
   "id": "f56baef0",
   "metadata": {},
   "source": [
    "### Quantile Transformer"
   ]
  },
  {
   "cell_type": "code",
   "execution_count": 2173,
   "id": "790ee634",
   "metadata": {},
   "outputs": [],
   "source": [
    "qt = QuantileTransformer(output_distribution=\"normal\").fit(X_train_scaled['sqft_living15'].to_numpy().reshape(-1,1))\n",
    "X_train_scaled['sqft_living15'] = qt.transform(X_train_scaled['sqft_living15'].to_numpy().reshape(-1,1))\n",
    "X_test_scaled['sqft_living15'] = qt.transform(X_test_scaled['sqft_living15'].to_numpy().reshape(-1,1))"
   ]
  },
  {
   "cell_type": "code",
   "execution_count": 2174,
   "id": "8627110d",
   "metadata": {},
   "outputs": [],
   "source": [
    "qt = QuantileTransformer(output_distribution=\"normal\").fit(X_train_scaled['sqft_lot15'].to_numpy().reshape(-1,1))\n",
    "X_train_scaled['sqft_lot15'] = qt.transform(X_train_scaled['sqft_lot15'].to_numpy().reshape(-1,1))\n",
    "X_test_scaled['sqft_lot15'] = qt.transform(X_test_scaled['sqft_lot15'].to_numpy().reshape(-1,1))"
   ]
  },
  {
   "cell_type": "markdown",
   "id": "14891353",
   "metadata": {},
   "source": [
    "qt = QuantileTransformer(output_distribution=\"normal\").fit(y_train.to_numpy().reshape(-1,1))\n",
    "y_train = qt.transform(y_train.to_numpy().reshape(-1,1))\n",
    "y_test = qt.transform(y_test.to_numpy().reshape(-1,1))"
   ]
  },
  {
   "cell_type": "markdown",
   "id": "17d03c54",
   "metadata": {},
   "source": [
    "## Concatination "
   ]
  },
  {
   "cell_type": "code",
   "execution_count": 2175,
   "id": "96f435cc",
   "metadata": {},
   "outputs": [],
   "source": [
    "X_train_con=pd.concat([X_train_scaled,X_train_cat],axis=1)\n",
    "X_test_con=pd.concat([X_test_scaled,X_test_cat],axis=1)"
   ]
  },
  {
   "cell_type": "code",
   "execution_count": 2176,
   "id": "4d7cf84b",
   "metadata": {},
   "outputs": [
    {
     "data": {
      "text/html": [
       "<div>\n",
       "<style scoped>\n",
       "    .dataframe tbody tr th:only-of-type {\n",
       "        vertical-align: middle;\n",
       "    }\n",
       "\n",
       "    .dataframe tbody tr th {\n",
       "        vertical-align: top;\n",
       "    }\n",
       "\n",
       "    .dataframe thead th {\n",
       "        text-align: right;\n",
       "    }\n",
       "</style>\n",
       "<table border=\"1\" class=\"dataframe\">\n",
       "  <thead>\n",
       "    <tr style=\"text-align: right;\">\n",
       "      <th></th>\n",
       "      <th>sqft_living</th>\n",
       "      <th>sqft_lot</th>\n",
       "      <th>sqft_living15</th>\n",
       "      <th>sqft_lot15</th>\n",
       "      <th>sqft_basement</th>\n",
       "      <th>bedrooms</th>\n",
       "      <th>bathrooms</th>\n",
       "      <th>view</th>\n",
       "      <th>floors</th>\n",
       "      <th>condition</th>\n",
       "      <th>...</th>\n",
       "      <th>date_05/2014</th>\n",
       "      <th>date_05/2015</th>\n",
       "      <th>date_06/2014</th>\n",
       "      <th>date_07/2014</th>\n",
       "      <th>date_08/2014</th>\n",
       "      <th>date_09/2014</th>\n",
       "      <th>date_10/2014</th>\n",
       "      <th>date_11/2014</th>\n",
       "      <th>date_12/2014</th>\n",
       "      <th>waterfront_yes</th>\n",
       "    </tr>\n",
       "  </thead>\n",
       "  <tbody>\n",
       "    <tr>\n",
       "      <th>0</th>\n",
       "      <td>-0.418909</td>\n",
       "      <td>-0.324588</td>\n",
       "      <td>-1.310017</td>\n",
       "      <td>-1.750415</td>\n",
       "      <td>-0.633633</td>\n",
       "      <td>3</td>\n",
       "      <td>3.25</td>\n",
       "      <td>0</td>\n",
       "      <td>3.0</td>\n",
       "      <td>3</td>\n",
       "      <td>...</td>\n",
       "      <td>0</td>\n",
       "      <td>0</td>\n",
       "      <td>1</td>\n",
       "      <td>0</td>\n",
       "      <td>0</td>\n",
       "      <td>0</td>\n",
       "      <td>0</td>\n",
       "      <td>0</td>\n",
       "      <td>0</td>\n",
       "      <td>0</td>\n",
       "    </tr>\n",
       "    <tr>\n",
       "      <th>1</th>\n",
       "      <td>-0.817662</td>\n",
       "      <td>-0.336186</td>\n",
       "      <td>-1.077446</td>\n",
       "      <td>-2.408550</td>\n",
       "      <td>-0.633633</td>\n",
       "      <td>3</td>\n",
       "      <td>2.25</td>\n",
       "      <td>0</td>\n",
       "      <td>3.0</td>\n",
       "      <td>3</td>\n",
       "      <td>...</td>\n",
       "      <td>0</td>\n",
       "      <td>0</td>\n",
       "      <td>0</td>\n",
       "      <td>0</td>\n",
       "      <td>0</td>\n",
       "      <td>0</td>\n",
       "      <td>0</td>\n",
       "      <td>0</td>\n",
       "      <td>1</td>\n",
       "      <td>0</td>\n",
       "    </tr>\n",
       "    <tr>\n",
       "      <th>2</th>\n",
       "      <td>0.233596</td>\n",
       "      <td>-0.138353</td>\n",
       "      <td>-0.571638</td>\n",
       "      <td>0.652867</td>\n",
       "      <td>-0.633633</td>\n",
       "      <td>4</td>\n",
       "      <td>2.75</td>\n",
       "      <td>0</td>\n",
       "      <td>1.5</td>\n",
       "      <td>3</td>\n",
       "      <td>...</td>\n",
       "      <td>0</td>\n",
       "      <td>0</td>\n",
       "      <td>0</td>\n",
       "      <td>0</td>\n",
       "      <td>0</td>\n",
       "      <td>1</td>\n",
       "      <td>0</td>\n",
       "      <td>0</td>\n",
       "      <td>0</td>\n",
       "      <td>0</td>\n",
       "    </tr>\n",
       "    <tr>\n",
       "      <th>3</th>\n",
       "      <td>-0.600160</td>\n",
       "      <td>-0.331379</td>\n",
       "      <td>-0.619578</td>\n",
       "      <td>-1.783257</td>\n",
       "      <td>-0.633633</td>\n",
       "      <td>3</td>\n",
       "      <td>2.50</td>\n",
       "      <td>0</td>\n",
       "      <td>3.0</td>\n",
       "      <td>3</td>\n",
       "      <td>...</td>\n",
       "      <td>0</td>\n",
       "      <td>0</td>\n",
       "      <td>0</td>\n",
       "      <td>0</td>\n",
       "      <td>0</td>\n",
       "      <td>0</td>\n",
       "      <td>0</td>\n",
       "      <td>0</td>\n",
       "      <td>0</td>\n",
       "      <td>0</td>\n",
       "    </tr>\n",
       "    <tr>\n",
       "      <th>4</th>\n",
       "      <td>-1.071414</td>\n",
       "      <td>-0.216244</td>\n",
       "      <td>-0.644086</td>\n",
       "      <td>-0.185480</td>\n",
       "      <td>-0.145017</td>\n",
       "      <td>3</td>\n",
       "      <td>1.00</td>\n",
       "      <td>0</td>\n",
       "      <td>1.0</td>\n",
       "      <td>3</td>\n",
       "      <td>...</td>\n",
       "      <td>0</td>\n",
       "      <td>0</td>\n",
       "      <td>0</td>\n",
       "      <td>0</td>\n",
       "      <td>0</td>\n",
       "      <td>0</td>\n",
       "      <td>0</td>\n",
       "      <td>0</td>\n",
       "      <td>0</td>\n",
       "      <td>0</td>\n",
       "    </tr>\n",
       "    <tr>\n",
       "      <th>...</th>\n",
       "      <td>...</td>\n",
       "      <td>...</td>\n",
       "      <td>...</td>\n",
       "      <td>...</td>\n",
       "      <td>...</td>\n",
       "      <td>...</td>\n",
       "      <td>...</td>\n",
       "      <td>...</td>\n",
       "      <td>...</td>\n",
       "      <td>...</td>\n",
       "      <td>...</td>\n",
       "      <td>...</td>\n",
       "      <td>...</td>\n",
       "      <td>...</td>\n",
       "      <td>...</td>\n",
       "      <td>...</td>\n",
       "      <td>...</td>\n",
       "      <td>...</td>\n",
       "      <td>...</td>\n",
       "      <td>...</td>\n",
       "      <td>...</td>\n",
       "    </tr>\n",
       "    <tr>\n",
       "      <th>12787</th>\n",
       "      <td>0.475265</td>\n",
       "      <td>4.718612</td>\n",
       "      <td>1.664082</td>\n",
       "      <td>2.041688</td>\n",
       "      <td>-0.633633</td>\n",
       "      <td>3</td>\n",
       "      <td>2.25</td>\n",
       "      <td>0</td>\n",
       "      <td>2.0</td>\n",
       "      <td>3</td>\n",
       "      <td>...</td>\n",
       "      <td>1</td>\n",
       "      <td>0</td>\n",
       "      <td>0</td>\n",
       "      <td>0</td>\n",
       "      <td>0</td>\n",
       "      <td>0</td>\n",
       "      <td>0</td>\n",
       "      <td>0</td>\n",
       "      <td>0</td>\n",
       "      <td>0</td>\n",
       "    </tr>\n",
       "    <tr>\n",
       "      <th>12788</th>\n",
       "      <td>1.550690</td>\n",
       "      <td>1.781010</td>\n",
       "      <td>1.018778</td>\n",
       "      <td>1.942487</td>\n",
       "      <td>-0.633633</td>\n",
       "      <td>3</td>\n",
       "      <td>2.50</td>\n",
       "      <td>0</td>\n",
       "      <td>2.0</td>\n",
       "      <td>4</td>\n",
       "      <td>...</td>\n",
       "      <td>0</td>\n",
       "      <td>0</td>\n",
       "      <td>0</td>\n",
       "      <td>0</td>\n",
       "      <td>0</td>\n",
       "      <td>1</td>\n",
       "      <td>0</td>\n",
       "      <td>0</td>\n",
       "      <td>0</td>\n",
       "      <td>0</td>\n",
       "    </tr>\n",
       "    <tr>\n",
       "      <th>12789</th>\n",
       "      <td>-1.506417</td>\n",
       "      <td>-0.247046</td>\n",
       "      <td>-2.131682</td>\n",
       "      <td>-0.758004</td>\n",
       "      <td>-0.633633</td>\n",
       "      <td>2</td>\n",
       "      <td>2.75</td>\n",
       "      <td>0</td>\n",
       "      <td>1.0</td>\n",
       "      <td>3</td>\n",
       "      <td>...</td>\n",
       "      <td>0</td>\n",
       "      <td>0</td>\n",
       "      <td>0</td>\n",
       "      <td>0</td>\n",
       "      <td>0</td>\n",
       "      <td>0</td>\n",
       "      <td>0</td>\n",
       "      <td>0</td>\n",
       "      <td>1</td>\n",
       "      <td>0</td>\n",
       "    </tr>\n",
       "    <tr>\n",
       "      <th>12790</th>\n",
       "      <td>0.912685</td>\n",
       "      <td>-0.185092</td>\n",
       "      <td>1.643397</td>\n",
       "      <td>1.964033</td>\n",
       "      <td>-0.633633</td>\n",
       "      <td>6</td>\n",
       "      <td>5.00</td>\n",
       "      <td>0</td>\n",
       "      <td>2.0</td>\n",
       "      <td>3</td>\n",
       "      <td>...</td>\n",
       "      <td>0</td>\n",
       "      <td>0</td>\n",
       "      <td>0</td>\n",
       "      <td>0</td>\n",
       "      <td>0</td>\n",
       "      <td>0</td>\n",
       "      <td>1</td>\n",
       "      <td>0</td>\n",
       "      <td>0</td>\n",
       "      <td>0</td>\n",
       "    </tr>\n",
       "    <tr>\n",
       "      <th>12791</th>\n",
       "      <td>-0.153074</td>\n",
       "      <td>-0.195710</td>\n",
       "      <td>0.553999</td>\n",
       "      <td>-0.021329</td>\n",
       "      <td>0.221445</td>\n",
       "      <td>3</td>\n",
       "      <td>2.50</td>\n",
       "      <td>0</td>\n",
       "      <td>1.0</td>\n",
       "      <td>3</td>\n",
       "      <td>...</td>\n",
       "      <td>0</td>\n",
       "      <td>0</td>\n",
       "      <td>0</td>\n",
       "      <td>0</td>\n",
       "      <td>0</td>\n",
       "      <td>0</td>\n",
       "      <td>0</td>\n",
       "      <td>0</td>\n",
       "      <td>1</td>\n",
       "      <td>0</td>\n",
       "    </tr>\n",
       "  </tbody>\n",
       "</table>\n",
       "<p>12792 rows × 28 columns</p>\n",
       "</div>"
      ],
      "text/plain": [
       "       sqft_living  sqft_lot  sqft_living15  sqft_lot15  sqft_basement  \\\n",
       "0        -0.418909 -0.324588      -1.310017   -1.750415      -0.633633   \n",
       "1        -0.817662 -0.336186      -1.077446   -2.408550      -0.633633   \n",
       "2         0.233596 -0.138353      -0.571638    0.652867      -0.633633   \n",
       "3        -0.600160 -0.331379      -0.619578   -1.783257      -0.633633   \n",
       "4        -1.071414 -0.216244      -0.644086   -0.185480      -0.145017   \n",
       "...            ...       ...            ...         ...            ...   \n",
       "12787     0.475265  4.718612       1.664082    2.041688      -0.633633   \n",
       "12788     1.550690  1.781010       1.018778    1.942487      -0.633633   \n",
       "12789    -1.506417 -0.247046      -2.131682   -0.758004      -0.633633   \n",
       "12790     0.912685 -0.185092       1.643397    1.964033      -0.633633   \n",
       "12791    -0.153074 -0.195710       0.553999   -0.021329       0.221445   \n",
       "\n",
       "       bedrooms  bathrooms  view  floors  condition  ...  date_05/2014  \\\n",
       "0             3       3.25     0     3.0          3  ...             0   \n",
       "1             3       2.25     0     3.0          3  ...             0   \n",
       "2             4       2.75     0     1.5          3  ...             0   \n",
       "3             3       2.50     0     3.0          3  ...             0   \n",
       "4             3       1.00     0     1.0          3  ...             0   \n",
       "...         ...        ...   ...     ...        ...  ...           ...   \n",
       "12787         3       2.25     0     2.0          3  ...             1   \n",
       "12788         3       2.50     0     2.0          4  ...             0   \n",
       "12789         2       2.75     0     1.0          3  ...             0   \n",
       "12790         6       5.00     0     2.0          3  ...             0   \n",
       "12791         3       2.50     0     1.0          3  ...             0   \n",
       "\n",
       "       date_05/2015  date_06/2014  date_07/2014  date_08/2014  date_09/2014  \\\n",
       "0                 0             1             0             0             0   \n",
       "1                 0             0             0             0             0   \n",
       "2                 0             0             0             0             1   \n",
       "3                 0             0             0             0             0   \n",
       "4                 0             0             0             0             0   \n",
       "...             ...           ...           ...           ...           ...   \n",
       "12787             0             0             0             0             0   \n",
       "12788             0             0             0             0             1   \n",
       "12789             0             0             0             0             0   \n",
       "12790             0             0             0             0             0   \n",
       "12791             0             0             0             0             0   \n",
       "\n",
       "       date_10/2014  date_11/2014  date_12/2014  waterfront_yes  \n",
       "0                 0             0             0               0  \n",
       "1                 0             0             1               0  \n",
       "2                 0             0             0               0  \n",
       "3                 0             0             0               0  \n",
       "4                 0             0             0               0  \n",
       "...             ...           ...           ...             ...  \n",
       "12787             0             0             0               0  \n",
       "12788             0             0             0               0  \n",
       "12789             0             0             1               0  \n",
       "12790             1             0             0               0  \n",
       "12791             0             0             1               0  \n",
       "\n",
       "[12792 rows x 28 columns]"
      ]
     },
     "execution_count": 2176,
     "metadata": {},
     "output_type": "execute_result"
    }
   ],
   "source": [
    "X_train_con"
   ]
  },
  {
   "cell_type": "markdown",
   "id": "b4fe6b40",
   "metadata": {},
   "source": [
    "##  Apply Linear Regression"
   ]
  },
  {
   "cell_type": "markdown",
   "id": "78f0ec16",
   "metadata": {},
   "source": [
    "### Modelling using Statsmodels"
   ]
  },
  {
   "cell_type": "code",
   "execution_count": 2177,
   "id": "6ef14eb7",
   "metadata": {},
   "outputs": [
    {
     "name": "stdout",
     "output_type": "stream",
     "text": [
      "                            OLS Regression Results                            \n",
      "==============================================================================\n",
      "Dep. Variable:                  price   R-squared:                       0.740\n",
      "Model:                            OLS   Adj. R-squared:                  0.739\n",
      "Method:                 Least Squares   F-statistic:                     1297.\n",
      "Date:                Tue, 08 Feb 2022   Prob (F-statistic):               0.00\n",
      "Time:                        15:20:42   Log-Likelihood:            -1.6856e+05\n",
      "No. Observations:               12792   AIC:                         3.372e+05\n",
      "Df Residuals:                   12763   BIC:                         3.374e+05\n",
      "Df Model:                          28                                         \n",
      "Covariance Type:            nonrobust                                         \n",
      "==================================================================================\n",
      "                     coef    std err          t      P>|t|      [0.025      0.975]\n",
      "----------------------------------------------------------------------------------\n",
      "const          -8.647e+06    2.5e+06     -3.463      0.001   -1.35e+07   -3.75e+06\n",
      "sqft_living     1.173e+05   2671.552     43.911      0.000    1.12e+05    1.23e+05\n",
      "sqft_lot        1.842e+04   1288.643     14.295      0.000    1.59e+04    2.09e+04\n",
      "sqft_living15   3195.7135   1822.884      1.753      0.080    -377.411    6768.839\n",
      "sqft_lot15     -3.061e+04   1601.070    -19.116      0.000   -3.37e+04   -2.75e+04\n",
      "sqft_basement  -1.488e+04   1583.022     -9.399      0.000    -1.8e+04   -1.18e+04\n",
      "bedrooms       -2.311e+04   1668.560    -13.852      0.000   -2.64e+04   -1.98e+04\n",
      "bathrooms       2.345e+04   2764.677      8.482      0.000     1.8e+04    2.89e+04\n",
      "view            5.859e+04   1880.266     31.161      0.000    5.49e+04    6.23e+04\n",
      "floors         -5375.5356   3316.475     -1.621      0.105   -1.19e+04    1125.253\n",
      "condition       2.514e+04   1947.176     12.910      0.000    2.13e+04     2.9e+04\n",
      "grade           7.729e+04   1842.169     41.956      0.000    7.37e+04    8.09e+04\n",
      "yr_built       -1697.1768     59.973    -28.299      0.000   -1814.733   -1579.620\n",
      "zipcode          -85.2589     28.195     -3.024      0.003    -140.526     -29.992\n",
      "lat             5.146e+05   8466.152     60.778      0.000    4.98e+05    5.31e+05\n",
      "long            3.513e+04   1.06e+04      3.324      0.001    1.44e+04    5.58e+04\n",
      "date_02/2015   -1026.0316   7063.344     -0.145      0.885   -1.49e+04    1.28e+04\n",
      "date_03/2015    1.942e+04   6513.877      2.981      0.003    6651.331    3.22e+04\n",
      "date_04/2015    2.562e+04   6329.016      4.049      0.000    1.32e+04     3.8e+04\n",
      "date_05/2014   -1.135e+04   6577.942     -1.726      0.084   -2.42e+04    1542.695\n",
      "date_05/2015    2.671e+04   8300.460      3.218      0.001    1.04e+04     4.3e+04\n",
      "date_06/2014   -1397.0947   6371.876     -0.219      0.826   -1.39e+04    1.11e+04\n",
      "date_07/2014   -7136.3760   6327.918     -1.128      0.259   -1.95e+04    5267.292\n",
      "date_08/2014   -2984.5477   6498.375     -0.459      0.646   -1.57e+04    9753.241\n",
      "date_09/2014   -6273.9896   6599.290     -0.951      0.342   -1.92e+04    6661.609\n",
      "date_10/2014   -6510.8165   6519.594     -0.999      0.318   -1.93e+04    6268.565\n",
      "date_11/2014   -7254.1418   6845.438     -1.060      0.289   -2.07e+04    6163.943\n",
      "date_12/2014   -1.106e+04   6867.825     -1.610      0.107   -2.45e+04    2406.706\n",
      "waterfront_yes  5.146e+05   1.51e+04     34.056      0.000    4.85e+05    5.44e+05\n",
      "==============================================================================\n",
      "Omnibus:                     8167.913   Durbin-Watson:                   2.007\n",
      "Prob(Omnibus):                  0.000   Jarque-Bera (JB):           417228.055\n",
      "Skew:                           2.415   Prob(JB):                         0.00\n",
      "Kurtosis:                      30.558   Cond. No.                     2.17e+08\n",
      "==============================================================================\n",
      "\n",
      "Notes:\n",
      "[1] Standard Errors assume that the covariance matrix of the errors is correctly specified.\n",
      "[2] The condition number is large, 2.17e+08. This might indicate that there are\n",
      "strong multicollinearity or other numerical problems.\n"
     ]
    },
    {
     "name": "stderr",
     "output_type": "stream",
     "text": [
      "/Users/louisarudow/opt/anaconda3/lib/python3.9/site-packages/statsmodels/tsa/tsatools.py:142: FutureWarning: In a future version of pandas all arguments of concat except for the argument 'objs' will be keyword-only\n",
      "  x = pd.concat(x[::order], 1)\n"
     ]
    }
   ],
   "source": [
    "X_train_const_scaled = sm.add_constant(X_train_con) # adding a constant\n",
    "\n",
    "model = sm.OLS(y_train, X_train_const_scaled).fit()\n",
    "predictions_train = model.predict(X_train_const_scaled) \n",
    "\n",
    "X_test_const_scaled = sm.add_constant(X_test_con) # adding a constant\n",
    "predictions_test = model.predict(X_test_const_scaled) \n",
    "print_model = model.summary()\n",
    "print(print_model)"
   ]
  },
  {
   "cell_type": "code",
   "execution_count": 2178,
   "id": "fcb1c09d",
   "metadata": {},
   "outputs": [
    {
     "data": {
      "text/plain": [
       "0       515417.968314\n",
       "1       221750.694338\n",
       "2       408914.575905\n",
       "3       494879.760659\n",
       "4       407181.586453\n",
       "            ...      \n",
       "5478    586862.336711\n",
       "5479    213891.687917\n",
       "5480    491026.203524\n",
       "5481    591635.369510\n",
       "5482    384286.659575\n",
       "Length: 5483, dtype: float64"
      ]
     },
     "execution_count": 2178,
     "metadata": {},
     "output_type": "execute_result"
    }
   ],
   "source": [
    "predictions_test"
   ]
  },
  {
   "cell_type": "code",
   "execution_count": 2179,
   "id": "6e0e6767",
   "metadata": {},
   "outputs": [
    {
     "name": "stdout",
     "output_type": "stream",
     "text": [
      "0.7394300706729023\n"
     ]
    }
   ],
   "source": [
    "#display adjusted R-squared\n",
    "print(model.rsquared_adj)"
   ]
  },
  {
   "cell_type": "markdown",
   "id": "844f986e",
   "metadata": {},
   "source": [
    "### Modeling using Scikit Learn"
   ]
  },
  {
   "cell_type": "code",
   "execution_count": 2180,
   "id": "f126289e",
   "metadata": {},
   "outputs": [
    {
     "data": {
      "text/plain": [
       "LinearRegression()"
      ]
     },
     "execution_count": 2180,
     "metadata": {},
     "output_type": "execute_result"
    }
   ],
   "source": [
    "model=LinearRegression()    # model\n",
    "model.fit(X_train_con, y_train)   # model train"
   ]
  },
  {
   "cell_type": "code",
   "execution_count": 2181,
   "id": "78776cce",
   "metadata": {},
   "outputs": [
    {
     "data": {
      "text/plain": [
       "array([ 1.17309487e+05,  1.84213517e+04,  3.19571354e+03, -3.06062703e+04,\n",
       "       -1.48786783e+04, -2.31133063e+04,  2.34498189e+04,  5.85915730e+04,\n",
       "       -5.37553559e+03,  2.51385439e+04,  7.72896669e+04, -1.69717682e+03,\n",
       "       -8.52589167e+01,  5.14559423e+05,  3.51286317e+04, -1.02603159e+03,\n",
       "        1.94195060e+04,  2.56243327e+04, -1.13510562e+04,  2.67067483e+04,\n",
       "       -1.39709468e+03, -7.13637596e+03, -2.98454770e+03, -6.27398964e+03,\n",
       "       -6.51081649e+03, -7.25414179e+03, -1.10552599e+04,  5.14618708e+05])"
      ]
     },
     "execution_count": 2181,
     "metadata": {},
     "output_type": "execute_result"
    }
   ],
   "source": [
    "model.coef_"
   ]
  },
  {
   "cell_type": "code",
   "execution_count": 2182,
   "id": "1310d0fe",
   "metadata": {},
   "outputs": [
    {
     "data": {
      "text/plain": [
       "-8646757.227645056"
      ]
     },
     "execution_count": 2182,
     "metadata": {},
     "output_type": "execute_result"
    }
   ],
   "source": [
    "model.intercept_"
   ]
  },
  {
   "cell_type": "markdown",
   "id": "4c27d4b4",
   "metadata": {},
   "source": [
    "Making prediction"
   ]
  },
  {
   "cell_type": "code",
   "execution_count": 2183,
   "id": "47431280",
   "metadata": {},
   "outputs": [],
   "source": [
    "y_pred=model.predict(X_test_con)   # model prediction\n",
    "##y_pred_train=model.predict(X_train_scaled)"
   ]
  },
  {
   "cell_type": "code",
   "execution_count": 2184,
   "id": "871a3611",
   "metadata": {},
   "outputs": [
    {
     "data": {
      "text/plain": [
       "0       366000\n",
       "1       350000\n",
       "2       475000\n",
       "3       257000\n",
       "4       357186\n",
       "         ...  \n",
       "5478    487500\n",
       "5479    203000\n",
       "5480    415000\n",
       "5481    599000\n",
       "5482    390000\n",
       "Name: price, Length: 5483, dtype: int64"
      ]
     },
     "execution_count": 2184,
     "metadata": {},
     "output_type": "execute_result"
    }
   ],
   "source": [
    "y_test"
   ]
  },
  {
   "cell_type": "code",
   "execution_count": 2185,
   "id": "d31d5ce1",
   "metadata": {},
   "outputs": [
    {
     "data": {
      "text/plain": [
       "array([515417.96831137, 221750.69433521, 408914.57590134, ...,\n",
       "       491026.20352131, 591635.36950635, 384286.65957222])"
      ]
     },
     "execution_count": 2185,
     "metadata": {},
     "output_type": "execute_result"
    }
   ],
   "source": [
    "y_pred"
   ]
  },
  {
   "cell_type": "code",
   "execution_count": 2186,
   "id": "70d05f89",
   "metadata": {},
   "outputs": [
    {
     "data": {
      "text/html": [
       "<div>\n",
       "<style scoped>\n",
       "    .dataframe tbody tr th:only-of-type {\n",
       "        vertical-align: middle;\n",
       "    }\n",
       "\n",
       "    .dataframe tbody tr th {\n",
       "        vertical-align: top;\n",
       "    }\n",
       "\n",
       "    .dataframe thead th {\n",
       "        text-align: right;\n",
       "    }\n",
       "</style>\n",
       "<table border=\"1\" class=\"dataframe\">\n",
       "  <thead>\n",
       "    <tr style=\"text-align: right;\">\n",
       "      <th></th>\n",
       "      <th>y_test</th>\n",
       "      <th>y_pred</th>\n",
       "    </tr>\n",
       "  </thead>\n",
       "  <tbody>\n",
       "    <tr>\n",
       "      <th>0</th>\n",
       "      <td>366000</td>\n",
       "      <td>515417.968311</td>\n",
       "    </tr>\n",
       "    <tr>\n",
       "      <th>1</th>\n",
       "      <td>350000</td>\n",
       "      <td>221750.694335</td>\n",
       "    </tr>\n",
       "    <tr>\n",
       "      <th>2</th>\n",
       "      <td>475000</td>\n",
       "      <td>408914.575901</td>\n",
       "    </tr>\n",
       "    <tr>\n",
       "      <th>3</th>\n",
       "      <td>257000</td>\n",
       "      <td>494879.760656</td>\n",
       "    </tr>\n",
       "    <tr>\n",
       "      <th>4</th>\n",
       "      <td>357186</td>\n",
       "      <td>407181.586450</td>\n",
       "    </tr>\n",
       "    <tr>\n",
       "      <th>...</th>\n",
       "      <td>...</td>\n",
       "      <td>...</td>\n",
       "    </tr>\n",
       "    <tr>\n",
       "      <th>5478</th>\n",
       "      <td>487500</td>\n",
       "      <td>586862.336708</td>\n",
       "    </tr>\n",
       "    <tr>\n",
       "      <th>5479</th>\n",
       "      <td>203000</td>\n",
       "      <td>213891.687914</td>\n",
       "    </tr>\n",
       "    <tr>\n",
       "      <th>5480</th>\n",
       "      <td>415000</td>\n",
       "      <td>491026.203521</td>\n",
       "    </tr>\n",
       "    <tr>\n",
       "      <th>5481</th>\n",
       "      <td>599000</td>\n",
       "      <td>591635.369506</td>\n",
       "    </tr>\n",
       "    <tr>\n",
       "      <th>5482</th>\n",
       "      <td>390000</td>\n",
       "      <td>384286.659572</td>\n",
       "    </tr>\n",
       "  </tbody>\n",
       "</table>\n",
       "<p>5483 rows × 2 columns</p>\n",
       "</div>"
      ],
      "text/plain": [
       "      y_test         y_pred\n",
       "0     366000  515417.968311\n",
       "1     350000  221750.694335\n",
       "2     475000  408914.575901\n",
       "3     257000  494879.760656\n",
       "4     357186  407181.586450\n",
       "...      ...            ...\n",
       "5478  487500  586862.336708\n",
       "5479  203000  213891.687914\n",
       "5480  415000  491026.203521\n",
       "5481  599000  591635.369506\n",
       "5482  390000  384286.659572\n",
       "\n",
       "[5483 rows x 2 columns]"
      ]
     },
     "execution_count": 2186,
     "metadata": {},
     "output_type": "execute_result"
    }
   ],
   "source": [
    "result=pd.DataFrame({\"y_test\":y_test,\"y_pred\":y_pred})\n",
    "result"
   ]
  },
  {
   "cell_type": "markdown",
   "id": "0ed86b8f",
   "metadata": {},
   "source": [
    "Linear Regression Train-test split. Standardize the data (after the data split). Apply linear regression. Model Interpretation. Model Validation Model Evaluation: MSE. RMSE. MAE. R2. Adjusted R2. Feature Importance."
   ]
  },
  {
   "cell_type": "code",
   "execution_count": 2187,
   "id": "c38841e0",
   "metadata": {},
   "outputs": [
    {
     "data": {
      "text/plain": [
       "[<matplotlib.lines.Line2D at 0x7fae775c8b20>]"
      ]
     },
     "execution_count": 2187,
     "metadata": {},
     "output_type": "execute_result"
    },
    {
     "data": {
      "image/png": "[encoded data removed]",
      "text/plain": [
       "<Figure size 1008x288 with 3 Axes>"
      ]
     },
     "metadata": {
      "needs_background": "light"
     },
     "output_type": "display_data"
    }
   ],
   "source": [
    "# Make an scatter plot y_pred vs y\n",
    "# What kind of plot you will get if all the all the predictions are ok?\n",
    "# A stright line\n",
    "\n",
    "fig, ax = plt.subplots(1,3,figsize=(14,4))\n",
    "ax[0].plot(y_pred, y_test, 'o')\n",
    "ax[0].set_xlabel(\"y_test\")\n",
    "ax[0].set_ylabel(\"y_pred\")\n",
    "ax[0].set_title(\"Test Set -Predicted vs real\")\n",
    "\n",
    "# Get a histogram of the residuals ie: y - y_pred.  Homoscdasticity\n",
    "# It resembles a normal distribution?\n",
    "ax[1].hist(y_test - y_pred)\n",
    "ax[1].set_xlabel(\"Test y-y_pred\")\n",
    "ax[1].set_title(\"Test Set Residual histogram\")\n",
    "\n",
    "ax[2].plot(y_pred,y_test - y_pred,\"o\")\n",
    "ax[2].set_xlabel(\"predited\")\n",
    "ax[2].set_ylabel(\"residuals\")\n",
    "ax[2].set_title(\"Residuals by Predicted\")\n",
    "ax[2].plot(y_pred,np.zeros(len(y_pred)),linestyle='dashed')"
   ]
  },
  {
   "cell_type": "markdown",
   "id": "cce873a1",
   "metadata": {},
   "source": [
    "#### Error metrics"
   ]
  },
  {
   "cell_type": "code",
   "execution_count": 2188,
   "id": "3ac64b1f",
   "metadata": {},
   "outputs": [
    {
     "name": "stdout",
     "output_type": "stream",
     "text": [
      "16685427594.123154\n",
      "87529.28644884813\n"
     ]
    }
   ],
   "source": [
    "print(mse(y_test,y_pred))\n",
    "print(mae(y_test,y_pred))"
   ]
  },
  {
   "cell_type": "code",
   "execution_count": 2189,
   "id": "3039b5aa",
   "metadata": {},
   "outputs": [
    {
     "data": {
      "text/plain": [
       "0.732304887197972"
      ]
     },
     "execution_count": 2189,
     "metadata": {},
     "output_type": "execute_result"
    }
   ],
   "source": [
    "R2=r2_score(y_test,y_pred)\n",
    "R2"
   ]
  },
  {
   "cell_type": "code",
   "execution_count": 2190,
   "id": "d471f49d",
   "metadata": {},
   "outputs": [
    {
     "data": {
      "text/plain": [
       "17"
      ]
     },
     "execution_count": 2190,
     "metadata": {},
     "output_type": "execute_result"
    }
   ],
   "source": [
    "X_test.shape[1]"
   ]
  },
  {
   "cell_type": "code",
   "execution_count": 2191,
   "id": "993ed017",
   "metadata": {},
   "outputs": [
    {
     "data": {
      "text/plain": [
       "0.7314721668104818"
      ]
     },
     "execution_count": 2191,
     "metadata": {},
     "output_type": "execute_result"
    }
   ],
   "source": [
    "Adj_R2= 1 - (1-R2)*(len(y_test)-1)/(len(y_test)-X_test.shape[1]-1)\n",
    "Adj_R2"
   ]
  },
  {
   "cell_type": "markdown",
   "id": "cb2bb8b2",
   "metadata": {},
   "source": [
    "#### Feature Importance"
   ]
  },
  {
   "cell_type": "code",
   "execution_count": 2192,
   "id": "1e7d9bb0",
   "metadata": {},
   "outputs": [],
   "source": [
    "features_importances = pd.DataFrame(data={\n",
    "    'Attribute': X_train_con.columns,\n",
    "    'Importance': abs(model.coef_)\n",
    "})\n",
    "features_importances = features_importances.sort_values(by='Importance')"
   ]
  },
  {
   "cell_type": "code",
   "execution_count": 2193,
   "id": "b08adec0",
   "metadata": {},
   "outputs": [
    {
     "data": {
      "text/html": [
       "<div>\n",
       "<style scoped>\n",
       "    .dataframe tbody tr th:only-of-type {\n",
       "        vertical-align: middle;\n",
       "    }\n",
       "\n",
       "    .dataframe tbody tr th {\n",
       "        vertical-align: top;\n",
       "    }\n",
       "\n",
       "    .dataframe thead th {\n",
       "        text-align: right;\n",
       "    }\n",
       "</style>\n",
       "<table border=\"1\" class=\"dataframe\">\n",
       "  <thead>\n",
       "    <tr style=\"text-align: right;\">\n",
       "      <th></th>\n",
       "      <th>Attribute</th>\n",
       "      <th>Importance</th>\n",
       "    </tr>\n",
       "  </thead>\n",
       "  <tbody>\n",
       "    <tr>\n",
       "      <th>12</th>\n",
       "      <td>zipcode</td>\n",
       "      <td>85.258917</td>\n",
       "    </tr>\n",
       "    <tr>\n",
       "      <th>15</th>\n",
       "      <td>date_02/2015</td>\n",
       "      <td>1026.031595</td>\n",
       "    </tr>\n",
       "    <tr>\n",
       "      <th>20</th>\n",
       "      <td>date_06/2014</td>\n",
       "      <td>1397.094681</td>\n",
       "    </tr>\n",
       "    <tr>\n",
       "      <th>11</th>\n",
       "      <td>yr_built</td>\n",
       "      <td>1697.176818</td>\n",
       "    </tr>\n",
       "    <tr>\n",
       "      <th>22</th>\n",
       "      <td>date_08/2014</td>\n",
       "      <td>2984.547701</td>\n",
       "    </tr>\n",
       "    <tr>\n",
       "      <th>2</th>\n",
       "      <td>sqft_living15</td>\n",
       "      <td>3195.713544</td>\n",
       "    </tr>\n",
       "    <tr>\n",
       "      <th>8</th>\n",
       "      <td>floors</td>\n",
       "      <td>5375.535591</td>\n",
       "    </tr>\n",
       "    <tr>\n",
       "      <th>23</th>\n",
       "      <td>date_09/2014</td>\n",
       "      <td>6273.989639</td>\n",
       "    </tr>\n",
       "    <tr>\n",
       "      <th>24</th>\n",
       "      <td>date_10/2014</td>\n",
       "      <td>6510.816487</td>\n",
       "    </tr>\n",
       "    <tr>\n",
       "      <th>21</th>\n",
       "      <td>date_07/2014</td>\n",
       "      <td>7136.375960</td>\n",
       "    </tr>\n",
       "    <tr>\n",
       "      <th>25</th>\n",
       "      <td>date_11/2014</td>\n",
       "      <td>7254.141786</td>\n",
       "    </tr>\n",
       "    <tr>\n",
       "      <th>26</th>\n",
       "      <td>date_12/2014</td>\n",
       "      <td>11055.259870</td>\n",
       "    </tr>\n",
       "    <tr>\n",
       "      <th>18</th>\n",
       "      <td>date_05/2014</td>\n",
       "      <td>11351.056249</td>\n",
       "    </tr>\n",
       "    <tr>\n",
       "      <th>4</th>\n",
       "      <td>sqft_basement</td>\n",
       "      <td>14878.678324</td>\n",
       "    </tr>\n",
       "    <tr>\n",
       "      <th>1</th>\n",
       "      <td>sqft_lot</td>\n",
       "      <td>18421.351671</td>\n",
       "    </tr>\n",
       "    <tr>\n",
       "      <th>16</th>\n",
       "      <td>date_03/2015</td>\n",
       "      <td>19419.506049</td>\n",
       "    </tr>\n",
       "    <tr>\n",
       "      <th>5</th>\n",
       "      <td>bedrooms</td>\n",
       "      <td>23113.306320</td>\n",
       "    </tr>\n",
       "    <tr>\n",
       "      <th>6</th>\n",
       "      <td>bathrooms</td>\n",
       "      <td>23449.818941</td>\n",
       "    </tr>\n",
       "    <tr>\n",
       "      <th>9</th>\n",
       "      <td>condition</td>\n",
       "      <td>25138.543908</td>\n",
       "    </tr>\n",
       "    <tr>\n",
       "      <th>17</th>\n",
       "      <td>date_04/2015</td>\n",
       "      <td>25624.332720</td>\n",
       "    </tr>\n",
       "    <tr>\n",
       "      <th>19</th>\n",
       "      <td>date_05/2015</td>\n",
       "      <td>26706.748290</td>\n",
       "    </tr>\n",
       "    <tr>\n",
       "      <th>3</th>\n",
       "      <td>sqft_lot15</td>\n",
       "      <td>30606.270307</td>\n",
       "    </tr>\n",
       "    <tr>\n",
       "      <th>14</th>\n",
       "      <td>long</td>\n",
       "      <td>35128.631703</td>\n",
       "    </tr>\n",
       "    <tr>\n",
       "      <th>7</th>\n",
       "      <td>view</td>\n",
       "      <td>58591.573005</td>\n",
       "    </tr>\n",
       "    <tr>\n",
       "      <th>10</th>\n",
       "      <td>grade</td>\n",
       "      <td>77289.666921</td>\n",
       "    </tr>\n",
       "    <tr>\n",
       "      <th>0</th>\n",
       "      <td>sqft_living</td>\n",
       "      <td>117309.487411</td>\n",
       "    </tr>\n",
       "    <tr>\n",
       "      <th>13</th>\n",
       "      <td>lat</td>\n",
       "      <td>514559.422537</td>\n",
       "    </tr>\n",
       "    <tr>\n",
       "      <th>27</th>\n",
       "      <td>waterfront_yes</td>\n",
       "      <td>514618.708423</td>\n",
       "    </tr>\n",
       "  </tbody>\n",
       "</table>\n",
       "</div>"
      ],
      "text/plain": [
       "         Attribute     Importance\n",
       "12         zipcode      85.258917\n",
       "15    date_02/2015    1026.031595\n",
       "20    date_06/2014    1397.094681\n",
       "11        yr_built    1697.176818\n",
       "22    date_08/2014    2984.547701\n",
       "2    sqft_living15    3195.713544\n",
       "8           floors    5375.535591\n",
       "23    date_09/2014    6273.989639\n",
       "24    date_10/2014    6510.816487\n",
       "21    date_07/2014    7136.375960\n",
       "25    date_11/2014    7254.141786\n",
       "26    date_12/2014   11055.259870\n",
       "18    date_05/2014   11351.056249\n",
       "4    sqft_basement   14878.678324\n",
       "1         sqft_lot   18421.351671\n",
       "16    date_03/2015   19419.506049\n",
       "5         bedrooms   23113.306320\n",
       "6        bathrooms   23449.818941\n",
       "9        condition   25138.543908\n",
       "17    date_04/2015   25624.332720\n",
       "19    date_05/2015   26706.748290\n",
       "3       sqft_lot15   30606.270307\n",
       "14            long   35128.631703\n",
       "7             view   58591.573005\n",
       "10           grade   77289.666921\n",
       "0      sqft_living  117309.487411\n",
       "13             lat  514559.422537\n",
       "27  waterfront_yes  514618.708423"
      ]
     },
     "execution_count": 2193,
     "metadata": {},
     "output_type": "execute_result"
    }
   ],
   "source": [
    "features_importances"
   ]
  },
  {
   "cell_type": "code",
   "execution_count": 2194,
   "id": "803e4d70",
   "metadata": {},
   "outputs": [
    {
     "data": {
      "image/png": "[encoded data removed]",
      "text/plain": [
       "<Figure size 432x288 with 1 Axes>"
      ]
     },
     "metadata": {
      "needs_background": "light"
     },
     "output_type": "display_data"
    }
   ],
   "source": [
    "plt.bar(x=features_importances['Attribute'], height=features_importances['Importance'], color='#087E8B')\n",
    "plt.title('Feature importances obtained from coefficients', size=20)\n",
    "plt.xticks(rotation='vertical')\n",
    "plt.show()"
   ]
  },
  {
   "cell_type": "markdown",
   "id": "7d7157ec",
   "metadata": {},
   "source": [
    "#### Evaluating predictions"
   ]
  },
  {
   "cell_type": "code",
   "execution_count": 2195,
   "id": "2ab9917f",
   "metadata": {},
   "outputs": [
    {
     "data": {
      "text/plain": [
       "87529.28644884795"
      ]
     },
     "execution_count": 2195,
     "metadata": {},
     "output_type": "execute_result"
    }
   ],
   "source": [
    "# MAE: mean absolute error\n",
    "MAE = np.mean( np.abs( y_test - y_pred ) )\n",
    "MAE"
   ]
  },
  {
   "cell_type": "code",
   "execution_count": 2196,
   "id": "94cc093d",
   "metadata": {},
   "outputs": [
    {
     "data": {
      "text/plain": [
       "16685427594.123154"
      ]
     },
     "execution_count": 2196,
     "metadata": {},
     "output_type": "execute_result"
    }
   ],
   "source": [
    "# MSE: mean squared error\n",
    "MSE = np.mean( np.power( y_test - y_pred , 2 ) )\n",
    "MSE"
   ]
  },
  {
   "cell_type": "code",
   "execution_count": 2197,
   "id": "8cde11fc",
   "metadata": {},
   "outputs": [
    {
     "data": {
      "text/plain": [
       "129172.08519693081"
      ]
     },
     "execution_count": 2197,
     "metadata": {},
     "output_type": "execute_result"
    }
   ],
   "source": [
    "# RMSE: root mean squared error\n",
    "RMSE = np.sqrt(MSE)\n",
    "RMSE"
   ]
  },
  {
   "cell_type": "code",
   "execution_count": 2198,
   "id": "ea376ca3",
   "metadata": {
    "scrolled": true
   },
   "outputs": [
    {
     "data": {
      "text/plain": [
       "array([[<AxesSubplot:title={'center':'bedrooms'}>,\n",
       "        <AxesSubplot:title={'center':'bathrooms'}>,\n",
       "        <AxesSubplot:title={'center':'sqft_living'}>,\n",
       "        <AxesSubplot:title={'center':'sqft_lot'}>],\n",
       "       [<AxesSubplot:title={'center':'floors'}>,\n",
       "        <AxesSubplot:title={'center':'view'}>,\n",
       "        <AxesSubplot:title={'center':'condition'}>,\n",
       "        <AxesSubplot:title={'center':'grade'}>],\n",
       "       [<AxesSubplot:title={'center':'sqft_basement'}>,\n",
       "        <AxesSubplot:title={'center':'yr_built'}>,\n",
       "        <AxesSubplot:title={'center':'zipcode'}>,\n",
       "        <AxesSubplot:title={'center':'lat'}>],\n",
       "       [<AxesSubplot:title={'center':'long'}>,\n",
       "        <AxesSubplot:title={'center':'sqft_living15'}>,\n",
       "        <AxesSubplot:title={'center':'sqft_lot15'}>,\n",
       "        <AxesSubplot:title={'center':'price'}>]], dtype=object)"
      ]
     },
     "execution_count": 2198,
     "metadata": {},
     "output_type": "execute_result"
    },
    {
     "data": {
      "image/png": "[encoded data removed]",
      "text/plain": [
       "<Figure size 864x864 with 16 Axes>"
      ]
     },
     "metadata": {
      "needs_background": "light"
     },
     "output_type": "display_data"
    }
   ],
   "source": [
    "re_df.hist(figsize=(12,12))"
   ]
  },
  {
   "cell_type": "code",
   "execution_count": null,
   "id": "ce9ecaef",
   "metadata": {},
   "outputs": [],
   "source": []
  }
 ],
 "metadata": {
  "kernelspec": {
   "display_name": "Python 3.9.7 64-bit ('base': conda)",
   "language": "python",
   "name": "python397jvsc74a57bd0fd728cfbfdf309c58cb1716ce92887498871f2fbed01fb0dfdf39b6c2f09a82b"
  },
  "language_info": {
   "codemirror_mode": {
    "name": "ipython",
    "version": 3
   },
   "file_extension": ".py",
   "mimetype": "text/x-python",
   "name": "python",
   "nbconvert_exporter": "python",
   "pygments_lexer": "ipython3",
   "version": "3.9.7"
  },
  "toc": {
   "base_numbering": 1,
   "nav_menu": {},
   "number_sections": true,
   "sideBar": true,
   "skip_h1_title": true,
   "title_cell": "Table of Contents",
   "title_sidebar": "Contents",
   "toc_cell": false,
   "toc_position": {},
   "toc_section_display": true,
   "toc_window_display": false
  },
  "varInspector": {
   "cols": {
    "lenName": 16,
    "lenType": 16,
    "lenVar": 40
   },
   "kernels_config": {
    "python": {
     "delete_cmd_postfix": "",
     "delete_cmd_prefix": "del ",
     "library": "var_list.py",
     "varRefreshCmd": "print(var_dic_list())"
    },
    "r": {
     "delete_cmd_postfix": ") ",
     "delete_cmd_prefix": "rm(",
     "library": "var_list.r",
     "varRefreshCmd": "cat(var_dic_list()) "
    }
   },
   "types_to_exclude": [
    "module",
    "function",
    "builtin_function_or_method",
    "instance",
    "_Feature"
   ],
   "window_display": false
  }
 },
 "nbformat": 4,
 "nbformat_minor": 5
}
